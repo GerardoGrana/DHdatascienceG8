{
  "cells": [
    {
      "cell_type": "markdown",
      "id": "08b4dd0a",
      "metadata": {},
      "source": [
        "# Aplicación de ML para predecir ubicación de nuevos Puntos de reciclaje\n",
        "## Ciudad de Mendoza\n",
        "\n",
        "### GRUPO 8\n",
        "* Benjamin Berger\n",
        "* Bruno Florio Sehor\n",
        "* Gerardo Graña\n",
        "* Hebe Munini"
      ]
    },
    {
      "cell_type": "markdown",
      "id": "6ba1a90b",
      "metadata": {},
      "source": [
        "Presentación de detalles y resultados finales\n",
        "https://docs.google.com/presentation/d/1sop7FFY0EzIWnD0_ExcNTRC9M86hNef1z3XeX2xgchQ/edit?usp=sharing"
      ]
    },
    {
      "cell_type": "markdown",
      "id": "f001edec",
      "metadata": {},
      "source": [
        "## Importación de librerías"
      ]
    },
    {
      "cell_type": "code",
      "execution_count": 1,
      "id": "a5c8a4aa",
      "metadata": {
        "colab": {
          "base_uri": "https://localhost:8080/"
        },
        "id": "a5c8a4aa",
        "outputId": "7a570dba-1200-456b-da2f-09e94546999b"
      },
      "outputs": [
        {
          "name": "stdout",
          "output_type": "stream",
          "text": [
            "Requirement already satisfied: xgboost in /Users/benjamin/anaconda3/envs/dhdsblend2021/lib/python3.9/site-packages (1.6.2)\n",
            "Requirement already satisfied: numpy in /Users/benjamin/anaconda3/envs/dhdsblend2021/lib/python3.9/site-packages (from xgboost) (1.19.2)\n",
            "Requirement already satisfied: scipy in /Users/benjamin/anaconda3/envs/dhdsblend2021/lib/python3.9/site-packages (from xgboost) (1.5.2)\n"
          ]
        }
      ],
      "source": [
        "!pip install xgboost"
      ]
    },
    {
      "cell_type": "code",
      "execution_count": 2,
      "id": "1838066b",
      "metadata": {
        "id": "1838066b"
      },
      "outputs": [],
      "source": [
        "import numpy as np\n",
        "import pandas as pd\n",
        "import matplotlib.pyplot as plt\n",
        "import seaborn as sns\n",
        "from sklearn.model_selection import train_test_split, GridSearchCV, cross_val_score, StratifiedKFold, RepeatedStratifiedKFold\n",
        "from sklearn.preprocessing import MinMaxScaler\n",
        "from sklearn.metrics import accuracy_score, confusion_matrix, plot_confusion_matrix\n",
        "\n",
        "from sklearn.neighbors import  KNeighborsClassifier\n",
        "from sklearn.ensemble import BaggingClassifier, GradientBoostingClassifier, AdaBoostClassifier\n",
        "from xgboost.sklearn import XGBClassifier\n",
        "\n",
        "from sklearn.svm import LinearSVC\n",
        "from sklearn.svm import SVC\n",
        "from sklearn.linear_model import SGDClassifier\n",
        "from sklearn.tree import DecisionTreeClassifier\n",
        "from sklearn.linear_model import LogisticRegression, LogisticRegressionCV"
      ]
    },
    {
      "cell_type": "markdown",
      "id": "26c3a690",
      "metadata": {},
      "source": [
        "## Preparación de los datos"
      ]
    },
    {
      "cell_type": "code",
      "execution_count": null,
      "id": "39992325",
      "metadata": {},
      "outputs": [],
      "source": [
        "# Conexión a datos\n",
        "\n",
        "PVR_observaciones_375 = pd.read_csv('../Datasets/PVR_observaciones_promedio_cutoff375.csv')\n",
        "PVR_DAM_geodata = pd.read_csv('../Datasets/PVR_DAM_geodata.csv', delimiter= ';')"
      ]
    },
    {
      "cell_type": "markdown",
      "id": "542c9c63",
      "metadata": {},
      "source": [
        "* **PVR_DAM_geodata:** contiene todos los features que entrenarán a los modelos. Dentro de esta tabla, existe la columna **punto_tipo.** Sobre la misma se aplicará un filtrado que permitirá segmentar el dataframe en 2 conjuntos. El primer conjunto (=! 'Intesrsección') contiene todos los puntos que entrenarán al modelo. El segundo conjunto (= 'Intersección') se utilizará con el modelo en producción como prototipo del proyecto.\n",
        "\n",
        "* **PVR_observaciones:** contiene las etiquetas a predecir por los modelos. Estas representan una valoración de los Puntos de Reciclaje como 'aptos' o 'no aptos' según observaciones de campo. PVR_observaciones será parte de un proceso join con PVR_geodata para la construcción del dataframe PRV_train_test."
      ]
    },
    {
      "cell_type": "code",
      "execution_count": 3,
      "id": "0a298182",
      "metadata": {
        "id": "0a298182"
      },
      "outputs": [],
      "source": [
        "def Mergeador_data (data2, data1):\n",
        "    \n",
        "    # Guarda variables en forma global, para llamarlas en cualquier momento\n",
        "    global PVR_train_test, DAM_to_predict, PVR_train_test_copy\n",
        "    \n",
        "    # La funcion elimina los puntos del tipo intersección, además guarda las intersecciones para luego hacer predicciones\n",
        "    DAM_to_predict = data1[data1['punto_tipo'] == 'Intersercción']\n",
        "    PVR_geodata = data1.drop(data1[data1['punto_tipo'] == 'Intersercción'].index)\n",
        "    \n",
        "    PVR_train_test = pd.merge(data2, data1 , how=\"left\", on=[\"ID\"]) \n",
        "    \n",
        "    PVR_train_test.dropna(axis=0, inplace= True)\n",
        "    \n",
        "    # Copia del df con features de interés para representación en interfaz de usuario final (ID, index, x, y, punto_tipo)\n",
        "    PVR_train_test_copy = PVR_train_test.copy()\n",
        "    PVR_train_test.drop(['ID', 'index','x','y', 'punto_tipo', 'radio_censal'], axis=1, inplace= True)  \n",
        "    \n",
        "    PVR_train_test = pd.get_dummies(PVR_train_test, drop_first=True)"
      ]
    },
    {
      "cell_type": "code",
      "execution_count": 4,
      "id": "7d153b3f",
      "metadata": {
        "id": "7d153b3f"
      },
      "outputs": [],
      "source": [
        "# Data merge, construcción de train_test\n",
        "\n",
        "Mergeador_data(PVR_observaciones_375, PVR_DAM_geodata)"
      ]
    },
    {
      "cell_type": "markdown",
      "id": "d40275a3",
      "metadata": {
        "id": "d40275a3"
      },
      "source": [
        "Ahora invocamos la función y creado el dataset hagamos otra que se quede con los mejores features, splitee los datos y nos guarde el dataset para entrenar."
      ]
    },
    {
      "cell_type": "code",
      "execution_count": 9,
      "id": "887ee33d",
      "metadata": {
        "id": "887ee33d"
      },
      "outputs": [],
      "source": [
        "def Preparando_data (data1):\n",
        "    \n",
        "    global x_train, x_test, y_train, y_test\n",
        "        \n",
        "    # Train test split \n",
        "    X = PVR_train_test[PVR_train_test.columns.difference(['valoracion'])]\n",
        "    y = PVR_train_test['valoracion']\n",
        "    x_train, x_test, y_train, y_test = train_test_split(X,y, stratify= y, test_size= 0.3, random_state= 9)\n",
        "    \n",
        "    # Estandarización [OFF]\n",
        "    # x_train_std, x_test_std = MinMaxScaler(x_train, x_test)\n",
        "    \n",
        "    print('La distribucion de etiquetas es: ', y_train.value_counts() / y_train.value_counts().sum())"
      ]
    },
    {
      "cell_type": "code",
      "execution_count": 10,
      "id": "6ba434f8",
      "metadata": {
        "colab": {
          "base_uri": "https://localhost:8080/"
        },
        "id": "6ba434f8",
        "outputId": "6d8f494e-4792-44c0-cb11-6f3eb6695660"
      },
      "outputs": [
        {
          "name": "stdout",
          "output_type": "stream",
          "text": [
            "La distribucion de etiquetas es:  1.0    0.613636\n",
            "0.0    0.386364\n",
            "Name: valoracion, dtype: float64\n"
          ]
        }
      ],
      "source": [
        "Preparando_data(PVR_train_test)"
      ]
    },
    {
      "cell_type": "markdown",
      "id": "da227d4f",
      "metadata": {},
      "source": [
        "## Entrenamiento y optimización de modelos predictivos"
      ]
    },
    {
      "cell_type": "markdown",
      "id": "527ea4d0",
      "metadata": {
        "id": "527ea4d0"
      },
      "source": [
        "### Bagging"
      ]
    },
    {
      "cell_type": "code",
      "execution_count": null,
      "id": "4d62e7e4",
      "metadata": {
        "colab": {
          "base_uri": "https://localhost:8080/"
        },
        "id": "4d62e7e4",
        "outputId": "a552ab3b-b1f1-4124-89ea-78576f67eded"
      },
      "outputs": [],
      "source": [
        "classifier = {\n",
        "    'KNeighbors': KNeighborsClassifier(),\n",
        "    'LinearSCV': LinearSVC(),\n",
        "    'SVC': SVC(),\n",
        "    'SGDC': SGDClassifier(),\n",
        "    'DecisionTree': DecisionTreeClassifier()\n",
        "}\n",
        "\n",
        "for name, estimator in classifier.items():\n",
        "    bag_class = BaggingClassifier(\n",
        "        base_estimator=estimator, n_estimators=5).fit(x_train, y_train)\n",
        "    bag_pred = bag_class.predict(x_test)\n",
        "\n",
        "    print('Accuracy Bagging with {}:'.format(\n",
        "        name), accuracy_score(bag_pred, y_test))\n",
        "    print('')\n"
      ]
    },
    {
      "cell_type": "markdown",
      "id": "edaa3ab9",
      "metadata": {
        "id": "edaa3ab9"
      },
      "source": [
        "### Boosting"
      ]
    },
    {
      "cell_type": "code",
      "execution_count": null,
      "id": "ac565486",
      "metadata": {
        "colab": {
          "base_uri": "https://localhost:8080/"
        },
        "id": "ac565486",
        "outputId": "3e112cb0-0aa2-46ff-9af9-35c2f4fd221c"
      },
      "outputs": [],
      "source": [
        "cv = StratifiedKFold(n_splits=5, random_state=41, shuffle=True)\n",
        "\n",
        "params = {\n",
        "    \"n_estimators\": [50, 100, 500],\n",
        "    \"max_depth\": [1, 2, 3, 4],\n",
        "    \"learning_rate\": [0.05, 0.075, 0.1, 0.25, 0.5, 0.75, 1],\n",
        "}\n",
        "\n",
        "params2 = {\n",
        "    \"n_estimators\": [50, 100, 500],\n",
        "    \"learning_rate\": [0.05, 0.075, 0.1, 0.25, 0.5, 0.75, 1],\n",
        "}\n",
        "\n",
        "# XG Boost\n",
        "\n",
        "model_xg = XGBClassifier(n_jobs=-1, use_label_encoder=False)\n",
        "\n",
        "xgb = GridSearchCV(model_xg, param_grid=params,\n",
        "                   cv=cv, verbose=1, n_jobs=-1)\n",
        "\n",
        "xgb.fit(x_train, y_train)\n",
        "\n",
        "# Gradient Boosting\n",
        "\n",
        "model_gb = GradientBoostingClassifier()\n",
        "\n",
        "gb = GridSearchCV(model_gb, param_grid=params, cv=cv, verbose=1, n_jobs=-1)\n",
        "\n",
        "gb.fit(x_train, y_train)\n",
        "\n",
        "# Ada Boost\n",
        "\n",
        "model_adb = AdaBoostClassifier()\n",
        "\n",
        "adb = GridSearchCV(model_adb, param_grid=params2,\n",
        "                   cv=cv, verbose=1, n_jobs=-1)\n",
        "\n",
        "adb.fit(x_train, y_train)\n"
      ]
    },
    {
      "cell_type": "markdown",
      "id": "76766341",
      "metadata": {},
      "source": [
        "## Evaluación de modelos"
      ]
    },
    {
      "cell_type": "markdown",
      "id": "6xlCv8WX5MyK",
      "metadata": {
        "id": "6xlCv8WX5MyK"
      },
      "source": [
        "### Mejores parámetros y matrices de confusión"
      ]
    },
    {
      "cell_type": "code",
      "execution_count": 13,
      "id": "RJzPw5PNAGAK",
      "metadata": {
        "id": "RJzPw5PNAGAK"
      },
      "outputs": [],
      "source": [
        "classifiers = [AdaBoostClassifier(learning_rate=1, n_estimators=500),\n",
        "               GradientBoostingClassifier(\n",
        "                   learning_rate=0.75, max_depth=1, n_estimators=100),\n",
        "               XGBClassifier(learning_rate=0.75, max_depth=3, n_estimators=50)]\n",
        "for cls in classifiers:\n",
        "    cls.fit(x_train, y_train)\n"
      ]
    },
    {
      "cell_type": "code",
      "execution_count": null,
      "id": "hS0rSi4MA0bT",
      "metadata": {
        "colab": {
          "base_uri": "https://localhost:8080/",
          "height": 853
        },
        "id": "hS0rSi4MA0bT",
        "outputId": "66fb5178-f49a-4529-b5ac-5c5e64c8a2fa"
      },
      "outputs": [],
      "source": [
        "fig, axes = plt.subplots(nrows=2, ncols=2, figsize=(15, 10))\n",
        "\n",
        "for cls, ax in zip(classifiers, axes.flatten()):\n",
        "    plot_confusion_matrix(cls,\n",
        "                          x_test,\n",
        "                          y_test,\n",
        "                          ax=ax,\n",
        "                          cmap='Blues',\n",
        "                          display_labels=['No Apto', 'Apto'])\n",
        "    ax.title.set_text(type(cls).__name__)\n",
        "plt.tight_layout()\n",
        "plt.show()\n"
      ]
    },
    {
      "cell_type": "markdown",
      "id": "4tEcBq7W5UXs",
      "metadata": {
        "id": "4tEcBq7W5UXs"
      },
      "source": [
        "### Rendimiento para los modelos con cross validation"
      ]
    },
    {
      "cell_type": "code",
      "execution_count": 15,
      "id": "8ec5cece",
      "metadata": {
        "id": "8ec5cece"
      },
      "outputs": [],
      "source": [
        "def evaluar_rendimiento(modelo, nombre, X, y, cv):\n",
        "    s = cross_val_score(modelo, X, y, cv=cv, n_jobs=-1)\n",
        "    print(\"Rendimiento de {}:\\t{:0.3} ± {:0.3}\".format(\n",
        "        nombre, s.mean().round(3), s.std().round(3)))"
      ]
    },
    {
      "cell_type": "code",
      "execution_count": 16,
      "id": "0b65ef0c",
      "metadata": {
        "colab": {
          "base_uri": "https://localhost:8080/"
        },
        "id": "0b65ef0c",
        "outputId": "5ed34f09-91ef-4dc9-9b77-485f2fdb152e"
      },
      "outputs": [
        {
          "name": "stdout",
          "output_type": "stream",
          "text": [
            "Rendimiento de XG Boost:\t0.728 ± 0.051\n"
          ]
        }
      ],
      "source": [
        "evaluar_rendimiento(xgb.best_estimator_,\"XG Boost\", x_train, y_train, cv)"
      ]
    },
    {
      "cell_type": "markdown",
      "id": "dP9c-scWGY47",
      "metadata": {
        "id": "dP9c-scWGY47"
      },
      "source": [
        "**Mejor rendimiento**"
      ]
    },
    {
      "cell_type": "code",
      "execution_count": 17,
      "id": "beeea889",
      "metadata": {
        "colab": {
          "base_uri": "https://localhost:8080/"
        },
        "id": "beeea889",
        "outputId": "5889e6de-063c-499e-8cb6-fceb91e4a47c"
      },
      "outputs": [
        {
          "name": "stdout",
          "output_type": "stream",
          "text": [
            "Rendimiento de Gradient Boosting:\t0.753 ± 0.106\n"
          ]
        }
      ],
      "source": [
        "evaluar_rendimiento(gb.best_estimator_,\n",
        "                    \"Gradient Boosting\", x_train, y_train, cv)\n"
      ]
    },
    {
      "cell_type": "code",
      "execution_count": 18,
      "id": "a1c9e387",
      "metadata": {
        "colab": {
          "base_uri": "https://localhost:8080/"
        },
        "id": "a1c9e387",
        "outputId": "3354f45e-3f79-4e99-df69-5ed712440dc9"
      },
      "outputs": [
        {
          "name": "stdout",
          "output_type": "stream",
          "text": [
            "Rendimiento de Ada Boost:\t0.683 ± 0.126\n"
          ]
        }
      ],
      "source": [
        "evaluar_rendimiento(adb.best_estimator_,\"Ada Boost\", x_train, y_train, cv)"
      ]
    },
    {
      "cell_type": "markdown",
      "id": "cQ0IOKp2JLjc",
      "metadata": {
        "id": "cQ0IOKp2JLjc"
      },
      "source": [
        "## Predicciones"
      ]
    },
    {
      "cell_type": "markdown",
      "id": "8QNb0JxbqUFo",
      "metadata": {
        "id": "8QNb0JxbqUFo"
      },
      "source": [
        "Se eliminan los features que no necesitamos para hacer las predicciones sobre el dataframe DAM_to_predict que contiene los cruces de calles de toda la ciudad."
      ]
    },
    {
      "cell_type": "markdown",
      "id": "9b5ad457",
      "metadata": {},
      "source": [
        "### Preparación de los datos"
      ]
    },
    {
      "cell_type": "code",
      "execution_count": null,
      "id": "5VyUACnvm2CS",
      "metadata": {
        "colab": {
          "base_uri": "https://localhost:8080/"
        },
        "id": "5VyUACnvm2CS",
        "outputId": "4e778fd1-cf5e-4f7f-88f1-c25b5745c586"
      },
      "outputs": [],
      "source": [
        "# Selección de features y dummies\n",
        "\n",
        "DAM_to_predict.dropna(axis=0, inplace=True)\n",
        "DAM_to_predict.drop(DAM_to_predict[DAM_to_predict['microzonificacion']=='Especial Parque Gral. San Marti­n'].index, inplace=True)\n",
        "DAM_to_predict.drop(DAM_to_predict[DAM_to_predict['microzonificacion']=='Especial UNCuyo'].index, inplace=True)\n",
        "DAM_to_predict.drop(DAM_to_predict[DAM_to_predict['microzonificacion']=='Residencial de uso controlado'].index, inplace=True)\n",
        "DAM_to_predict.drop(DAM_to_predict[DAM_to_predict['microzonificacion']=='Residencial piedemonte'].index, inplace=True)\n",
        "DAM_to_predict.drop(DAM_to_predict[DAM_to_predict['microzonificacion']=='Area de Seguridad'].index, inplace=True)\n",
        "DAM_to_predict.drop(DAM_to_predict[DAM_to_predict['microzonificacion']=='Especial Ex-Aeroparque'].index, inplace=True)\n",
        "DAM_to_predict.drop(DAM_to_predict[DAM_to_predict['microzonificacion']=='Especial Ejercito'].index, inplace=True)\n",
        "DAM_to_predict.drop(DAM_to_predict[DAM_to_predict['microzonificacion']=='Especial Club San Ceferino'].index, inplace=True)\n",
        "DAM_to_predict.drop(DAM_to_predict[DAM_to_predict['microzonificacion']=='Natural de amortiguacion'].index, inplace=True)\n",
        "DAM_to_predict.drop(DAM_to_predict[DAM_to_predict['microzonificacion']=='Zona de inundacion de dique'].index, inplace=True)\n",
        "\n",
        "DAM_to_predict_final = DAM_to_predict.copy()\n",
        "DAM_to_predict.drop(['ID', 'index','x','y', 'punto_tipo','radio_censal'], axis=1, inplace=True)\n",
        "data = pd.get_dummies(DAM_to_predict, drop_first=True)"
      ]
    },
    {
      "cell_type": "markdown",
      "id": "70e37160",
      "metadata": {},
      "source": [
        "### Predicciones"
      ]
    },
    {
      "cell_type": "code",
      "execution_count": 20,
      "id": "IZZYW-N3oIrh",
      "metadata": {
        "colab": {
          "base_uri": "https://localhost:8080/"
        },
        "id": "IZZYW-N3oIrh",
        "outputId": "e06b9048-3169-400d-87b9-f617725b091a"
      },
      "outputs": [
        {
          "name": "stdout",
          "output_type": "stream",
          "text": [
            "        0\n",
            "0     1.0\n",
            "1     1.0\n",
            "2     1.0\n",
            "3     1.0\n",
            "4     1.0\n",
            "...   ...\n",
            "1843  1.0\n",
            "1844  1.0\n",
            "1845  0.0\n",
            "1846  1.0\n",
            "1847  1.0\n",
            "\n",
            "[1848 rows x 1 columns]\n",
            "0.0    1014\n",
            "1.0     834\n",
            "dtype: int64\n"
          ]
        },
        {
          "name": "stderr",
          "output_type": "stream",
          "text": [
            "/Users/benjamin/anaconda3/envs/dhdsblend2021/lib/python3.9/site-packages/sklearn/base.py:493: FutureWarning: The feature names should match those that were passed during fit. Starting version 1.2, an error will be raised.\n",
            "Feature names must be in the same order as they were in fit.\n",
            "\n",
            "  warnings.warn(message, FutureWarning)\n"
          ]
        }
      ],
      "source": [
        "Predicciones = gb.best_estimator_.predict(data)\n",
        "\n",
        "print(pd.DataFrame(Predicciones))\n",
        "print(pd.DataFrame(Predicciones).value_counts())"
      ]
    },
    {
      "cell_type": "code",
      "execution_count": 21,
      "id": "3fcafec1",
      "metadata": {},
      "outputs": [],
      "source": [
        "# Incorporación de las predicciones al dataframe final\n",
        "\n",
        "DAM_to_predict_final['clasificacion'] = Predicciones\n",
        "DAM_to_predict_final['clasificacion'] = Predicciones"
      ]
    },
    {
      "cell_type": "markdown",
      "id": "5dac294b",
      "metadata": {},
      "source": [
        "## Output API"
      ]
    },
    {
      "cell_type": "code",
      "execution_count": 22,
      "id": "978bd8aa",
      "metadata": {},
      "outputs": [],
      "source": [
        "# Preparación de datos de salida para API web\n",
        " \n",
        "DAM_to_predict_final.to_csv(\"../Data/PVR_DAM_all.csv\", index=False, encoding='utf-8-sig')"
      ]
    }
  ],
  "metadata": {
    "colab": {
      "collapsed_sections": [],
      "provenance": []
    },
    "kernelspec": {
      "display_name": "Python 3.9.7 ('base')",
      "language": "python",
      "name": "python3"
    },
    "language_info": {
      "codemirror_mode": {
        "name": "ipython",
        "version": 3
      },
      "file_extension": ".py",
      "mimetype": "text/x-python",
      "name": "python",
      "nbconvert_exporter": "python",
      "pygments_lexer": "ipython3",
      "version": "3.9.7"
    },
    "vscode": {
      "interpreter": {
        "hash": "ad2bdc8ecc057115af97d19610ffacc2b4e99fae6737bb82f5d7fb13d2f2c186"
      }
    }
  },
  "nbformat": 4,
  "nbformat_minor": 5
}
