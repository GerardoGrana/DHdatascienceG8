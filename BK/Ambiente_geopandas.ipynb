{
 "cells": [
  {
   "cell_type": "markdown",
   "metadata": {},
   "source": [
    "# Setup\n",
    "\n",
    "Para trabajar con geopandas debemos crear un **nuevo ambiente** en Anaconda e instalar algunas bibliotecas siguiendo estas instrucciones:\n",
    "\n",
    "Desde Anaconda Prompt en Windows, y desde la terminal en Linux o Mac vamos a ejeutar una a una esats lineas:\n",
    "\n",
    "<code>conda create --yes --name dhdsblend2021_geopandas python=3.7</code>\n",
    "\n",
    "<code>conda activate dhdsblend2021_geopandas</code>\n",
    "\n",
    "<code>conda install jupyterlab=2.2.6</code>\n",
    "\n",
    "<code>conda install -c conda-forge pyproj=2.4.2.post1</code>\n",
    "\n",
    "<code>conda install -c conda-forge descartes=1.1.0</code>\n",
    "\n",
    "<code>conda install -c conda-forge geopandas=0.8.1</code>\n",
    "\n",
    "<code>conda install -c conda-forge geopy=2.0.0</code>\n",
    "\n",
    "Una vez instaladas las bibliotecas, **cerramos jupyter lab**, y volvemos a **iniciarlo desde el ambiente recién creado: dhdsblend2021_geopandas**\n",
    "\n",
    "Después de hacer esto, los import de la siguiente celda deberán funcionar sin dar error."
   ]
  },
  {
   "cell_type": "markdown",
   "metadata": {},
   "source": []
  }
 ],
 "metadata": {
  "language_info": {
   "name": "python"
  },
  "orig_nbformat": 4
 },
 "nbformat": 4,
 "nbformat_minor": 2
}
