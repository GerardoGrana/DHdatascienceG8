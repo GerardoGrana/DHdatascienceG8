{
 "cells": [
  {
   "cell_type": "code",
   "execution_count": 3,
   "id": "6ec97324",
   "metadata": {},
   "outputs": [],
   "source": [
    "#Librerias\n",
    "import pandas as pd\n",
    "import numpy as np\n",
    "import matplotlib.pyplot as plt\n",
    "from sklearn.neighbors import KNeighborsClassifier\n",
    "from sklearn.model_selection import train_test_split, KFold, cross_val_score, StratifiedKFold\n",
    "from sklearn.preprocessing import StandardScaler\n",
    "from sklearn.metrics import accuracy_score\n",
    "from sklearn.preprocessing import MinMaxScaler\n",
    "from sklearn.preprocessing import RobustScaler\n",
    "from sklearn.model_selection import GridSearchCV"
   ]
  },
  {
   "cell_type": "code",
   "execution_count": 11,
   "id": "ad049f91",
   "metadata": {},
   "outputs": [],
   "source": [
    "#Levantamos el df_final2 y df_final_alternativo\n",
    "df_final2 = pd.read_csv('df_final2.csv')\n",
    "df_final_alternativo = pd.read_csv('df_final_alternativo.csv')"
   ]
  },
  {
   "cell_type": "code",
   "execution_count": 12,
   "id": "afbe9d06",
   "metadata": {},
   "outputs": [],
   "source": [
    "#Generamos el X y el target\n",
    "#X = df_final2.drop(['target'], axis = 1)\n",
    "#y = df_final2['target']\n",
    "\n",
    "#Generamos el X y el target\n",
    "Xa = df_final_alternativo.drop(['ClasificacionNum2', 'ID'], axis = 1)\n",
    "ya = df_final_alternativo['ClasificacionNum2']\n",
    "\n",
    "#Divimos en train y en test\n",
    "Xa_train, Xa_test, ya_train, ya_test = train_test_split(Xa,ya, stratify=ya, test_size= 0.25, random_state=10)\n",
    "\n",
    "#Estandarizamos con MinMax\n",
    "scaler = MinMaxScaler()\n",
    "\n",
    "Xa_train_std = scaler.fit_transform(Xa_train)\n",
    "Xa_test_std = scaler.fit_transform(Xa_test)"
   ]
  },
  {
   "cell_type": "code",
   "execution_count": 6,
   "id": "262f956f",
   "metadata": {},
   "outputs": [],
   "source": [
    "#Dividimos en train y en test\n",
    "#X_train, X_test, y_train, y_test = train_test_split(X,y, stratify=y, test_size= 0.25)"
   ]
  },
  {
   "cell_type": "code",
   "execution_count": 7,
   "id": "cadf86e5",
   "metadata": {},
   "outputs": [],
   "source": [
    "#Estandarizamos las variables usando 3 formas diferentes\n",
    "\n",
    "#scaler = StandardScaler()\n",
    "#scaler2 = RobustScaler()\n",
    "#scaler3 = MinMaxScaler()\n",
    "\n",
    "#Standard\n",
    "#X_train_std = scaler.fit_transform(X_train)\n",
    "#X_test_std = scaler.fit_transform(X_test)\n",
    "\n",
    "#Robust\n",
    "#X_train_std_robust = scaler2.fit_transform(X_train)\n",
    "#X_test_std_robust = scaler2.fit_transform(X_test)\n",
    "\n",
    "#MinMax\n",
    "#X_train_std_mM = scaler3.fit_transform(X_train)\n",
    "#X_test_std_mM = scaler3.fit_transform(X_test)"
   ]
  },
  {
   "cell_type": "code",
   "execution_count": 14,
   "id": "7d4cdd3e",
   "metadata": {},
   "outputs": [
    {
     "name": "stdout",
     "output_type": "stream",
     "text": [
      "Best leaf_size: 1\n",
      "Best p: 1\n",
      "Best n_neighbors: 14\n"
     ]
    }
   ],
   "source": [
    "#Con GridSearch buscamos los mejores hiperparámetros\n",
    "\n",
    "leaf_size = list(range(1,50))\n",
    "n_neighbors = list(range(1,30))\n",
    "p=[1,2]\n",
    "\n",
    "#Hacemos un diccionario\n",
    "\n",
    "hyperparameters = dict(leaf_size=leaf_size, n_neighbors=n_neighbors, p=p)\n",
    "\n",
    "#Instanciamos el modelo de KNN\n",
    "knn = KNeighborsClassifier()\n",
    "\n",
    "#Usamos GridSearch\n",
    "clf = GridSearchCV(knn, hyperparameters, cv=10)\n",
    "\n",
    "#Ajustamos el modelo\n",
    "best_model = clf.fit(Xa_train_std,ya_train)\n",
    "\n",
    "#Pinteamos los mejores hiperparámetros\n",
    "print('Best leaf_size:', best_model.best_estimator_.get_params()['leaf_size'])\n",
    "print('Best p:', best_model.best_estimator_.get_params()['p'])\n",
    "print('Best n_neighbors:', best_model.best_estimator_.get_params()['n_neighbors'])"
   ]
  },
  {
   "cell_type": "code",
   "execution_count": 15,
   "id": "593ff6c0",
   "metadata": {},
   "outputs": [
    {
     "name": "stdout",
     "output_type": "stream",
     "text": [
      "Los scores obtenidos son [0.73333333 0.7        0.66666667 0.73333333 0.63333333 0.86666667\n",
      " 0.73333333 0.66666667 0.65517241 0.62068966 0.72413793 0.72413793\n",
      " 0.75862069 0.75862069 0.72413793 0.62068966 0.75862069 0.72413793\n",
      " 0.72413793 0.72413793]\n",
      "El promedio es :0.7125287356321838\n",
      "La desviación es :0.056139630200122206\n"
     ]
    }
   ],
   "source": [
    "#Instanciamos con los mejores hiperparámetros y hacemos cross validation\n",
    "knn = KNeighborsClassifier (leaf_size= best_model.best_estimator_.get_params()['leaf_size'], p= best_model.best_estimator_.get_params()['p'] , n_neighbors= best_model.best_estimator_.get_params()['n_neighbors'])\n",
    "stratifiedkf=StratifiedKFold(n_splits=20)\n",
    "score=cross_val_score(knn,Xa_train_std,ya_train,cv=stratifiedkf)\n",
    "\n",
    "print(\"Los scores obtenidos son {}\".format(score))\n",
    "print(\"El promedio es :{}\".format(score.mean()))\n",
    "print(\"La desviación es :{}\".format(np.std(score)))"
   ]
  },
  {
   "cell_type": "code",
   "execution_count": null,
   "id": "6f15df16",
   "metadata": {},
   "outputs": [],
   "source": [
    "knn.fit(X_train_std_mM, y_train)\n",
    "y_pred = knn.predict(X_test_std_mM)\n",
    "y_pred"
   ]
  }
 ],
 "metadata": {
  "kernelspec": {
   "display_name": "Python 3 (ipykernel)",
   "language": "python",
   "name": "python3"
  },
  "language_info": {
   "codemirror_mode": {
    "name": "ipython",
    "version": 3
   },
   "file_extension": ".py",
   "mimetype": "text/x-python",
   "name": "python",
   "nbconvert_exporter": "python",
   "pygments_lexer": "ipython3",
   "version": "3.9.12"
  }
 },
 "nbformat": 4,
 "nbformat_minor": 5
}
