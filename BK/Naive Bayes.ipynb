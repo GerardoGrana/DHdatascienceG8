{
 "cells": [
  {
   "cell_type": "code",
   "execution_count": 1,
   "id": "725dc06d",
   "metadata": {},
   "outputs": [],
   "source": [
    "#Librerias\n",
    "import numpy as np\n",
    "import pandas as pd\n",
    "from sklearn.model_selection import RepeatedStratifiedKFold\n",
    "from sklearn.model_selection import GridSearchCV\n",
    "from sklearn.naive_bayes import GaussianNB\n",
    "from sklearn.model_selection import train_test_split, KFold, cross_val_score, StratifiedKFold\n",
    "from sklearn.preprocessing import MinMaxScaler"
   ]
  },
  {
   "cell_type": "code",
   "execution_count": 2,
   "id": "c2e71ac2",
   "metadata": {},
   "outputs": [],
   "source": [
    "#Levantamos el df_final2\n",
    "df_final2 = pd.read_csv('df_final2.csv')\n",
    "\n",
    "#Generamos el X y el target\n",
    "X = df_final2.drop(['target'], axis = 1)\n",
    "y = df_final2['target']\n",
    "\n",
    "#Divimos en train y en test\n",
    "X_train, X_test, y_train, y_test = train_test_split(X,y, stratify=y, test_size= 0.25)\n",
    "\n",
    "#Estandarizamos con MinMax\n",
    "scaler = MinMaxScaler()\n",
    "\n",
    "X_train_std = scaler.fit_transform(X_train)\n",
    "X_test_std = scaler.fit_transform(X_test)"
   ]
  },
  {
   "cell_type": "code",
   "execution_count": 2,
   "id": "6b907075",
   "metadata": {},
   "outputs": [],
   "source": [
    "#Hagamos NB con el data set alternativo\n",
    "\n",
    "#Levantamos el df_final_alternativo\n",
    "df_final_alternativo = pd.read_csv('df_final_alternativo.csv')\n",
    "\n",
    "#Generamos el X y el target\n",
    "Xa = df_final_alternativo.drop(['ClasificacionNum2', 'ID'], axis = 1)\n",
    "ya = df_final_alternativo['ClasificacionNum2']\n",
    "\n",
    "#Divimos en train y en test\n",
    "Xa_train, Xa_test, ya_train, ya_test = train_test_split(Xa,ya, stratify=ya, test_size= 0.25, random_state=10)\n",
    "\n",
    "#Estandarizamos con MinMax\n",
    "scaler = MinMaxScaler()\n",
    "\n",
    "Xa_train_std = scaler.fit_transform(Xa_train)\n",
    "Xa_test_std = scaler.fit_transform(Xa_test)"
   ]
  },
  {
   "cell_type": "code",
   "execution_count": 4,
   "id": "3686ab56",
   "metadata": {},
   "outputs": [
    {
     "name": "stdout",
     "output_type": "stream",
     "text": [
      "Fitting 20 folds for each of 100 candidates, totalling 2000 fits\n",
      "GaussianNB(var_smoothing=0.08111308307896872)\n"
     ]
    }
   ],
   "source": [
    "#Instanciamos el modelo y buscamos el mejor hiperparámetro\n",
    "GB = GaussianNB()\n",
    "\n",
    "param_grid_nb = {\n",
    "    'var_smoothing': np.logspace(0,-9, num=100)\n",
    "}\n",
    "\n",
    "nbModel_grid = GridSearchCV(estimator=GaussianNB(), param_grid=param_grid_nb, verbose=1, cv=20, n_jobs=-1)\n",
    "nbModel_grid.fit(Xa_train, ya_train)\n",
    "print(nbModel_grid.best_estimator_)"
   ]
  },
  {
   "cell_type": "code",
   "execution_count": 8,
   "id": "2c18607e",
   "metadata": {},
   "outputs": [
    {
     "name": "stdout",
     "output_type": "stream",
     "text": [
      "Los scores obtenidos son [0.7        0.56666667 0.63333333 0.66666667 0.73333333 0.76666667\n",
      " 0.7        0.8        0.5862069  0.65517241 0.72413793 0.5862069\n",
      " 0.75862069 0.62068966 0.68965517 0.62068966 0.68965517 0.68965517\n",
      " 0.68965517 0.72413793]\n",
      "El promedio es :0.6800574712643679\n",
      "La desviacion es :0.0618271951574584\n"
     ]
    }
   ],
   "source": [
    "#Usando el mejor hiperparámetro instanciamos el modelo, ajustamos y predecimos usando cross validation\n",
    "GB = nbModel_grid.best_estimator_\n",
    "stratifiedkf=StratifiedKFold(n_splits=20)\n",
    "score=cross_val_score(GB,Xa_train_std,ya_train,cv=stratifiedkf)\n",
    "\n",
    "print(\"Los scores obtenidos son {}\".format(score))\n",
    "print(\"El promedio es :{}\".format(score.mean()))\n",
    "print(\"La desviacion es :{}\".format(np.std(score)))"
   ]
  }
 ],
 "metadata": {
  "kernelspec": {
   "display_name": "Python 3 (ipykernel)",
   "language": "python",
   "name": "python3"
  },
  "language_info": {
   "codemirror_mode": {
    "name": "ipython",
    "version": 3
   },
   "file_extension": ".py",
   "mimetype": "text/x-python",
   "name": "python",
   "nbconvert_exporter": "python",
   "pygments_lexer": "ipython3",
   "version": "3.9.12"
  }
 },
 "nbformat": 4,
 "nbformat_minor": 5
}
