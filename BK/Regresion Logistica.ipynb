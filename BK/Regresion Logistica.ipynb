{
 "cells": [
  {
   "cell_type": "code",
   "execution_count": 1,
   "id": "33eeef94",
   "metadata": {},
   "outputs": [],
   "source": [
    "#Librerias\n",
    "import numpy as np\n",
    "import pandas as pd\n",
    "import matplotlib.pyplot as plt\n",
    "from sklearn.model_selection import RepeatedStratifiedKFold, StratifiedKFold\n",
    "from sklearn.model_selection import GridSearchCV\n",
    "from sklearn.linear_model import LogisticRegression\n",
    "from sklearn.model_selection import train_test_split, KFold, cross_val_score\n",
    "from sklearn.preprocessing import MinMaxScaler\n",
    "from sklearn.metrics import accuracy_score, confusion_matrix\n",
    "import seaborn as sns"
   ]
  },
  {
   "cell_type": "code",
   "execution_count": 106,
   "id": "e3f8bc81",
   "metadata": {},
   "outputs": [],
   "source": [
    "#Levantamos el df_final2\n",
    "df_final2 = pd.read_csv('df_final2.csv')\n",
    "\n",
    "#Generamos el X y el target\n",
    "X = df_final2.drop(['target'], axis = 1)\n",
    "y = df_final2['target']\n",
    "\n",
    "#Divimos en train y en test\n",
    "X_train, X_test, y_train, y_test = train_test_split(X,y, stratify=y, test_size= 0.25)\n",
    "\n",
    "#Estandarizamos con MinMax\n",
    "scaler = MinMaxScaler()\n",
    "\n",
    "X_train_std = scaler.fit_transform(X_train)\n",
    "X_test_std = scaler.fit_transform(X_test)"
   ]
  },
  {
   "cell_type": "code",
   "execution_count": 63,
   "id": "c2c7d441",
   "metadata": {},
   "outputs": [],
   "source": [
    "# Buscamos los mejores hiperparametros\n",
    "\n",
    "#model = LogisticRegression()\n",
    "#solvers = ['newton-cg', 'lbfgs', 'liblinear']\n",
    "#penalty = ['l2']\n",
    "#c_values = [100, 10, 1.0, 0.1, 0.01]\n",
    "\n",
    "# Defnimos una grilla con GridSearch\n",
    "\n",
    "#grid = dict(solver=solvers,penalty=penalty,C=c_values)\n",
    "#cv = RepeatedStratifiedKFold(n_splits=5, n_repeats=3, random_state=999)\n",
    "#grid_search = GridSearchCV(estimator=model, param_grid=grid, n_jobs=-1, cv=cv, scoring='accuracy',error_score=0)\n",
    "#grid_result = grid_search.fit(X_train_std, y_train)\n",
    "\n",
    "# Vemos los resultados\n",
    "\n",
    "#print(\"Best: %f using %s\" % (grid_result.best_score_, grid_result.best_params_))\n",
    "#means = grid_result.cv_results_['mean_test_score']\n",
    "#stds = grid_result.cv_results_['std_test_score']\n",
    "#params = grid_result.cv_results_['params']\n",
    "#for mean, stdev, param in zip(means, stds, params):\n",
    "    #print(\"%f (%f) with: %r\" % (mean, stdev, param))"
   ]
  },
  {
   "cell_type": "code",
   "execution_count": 107,
   "id": "bdbfd07f",
   "metadata": {},
   "outputs": [
    {
     "data": {
      "text/plain": [
       "LogisticRegression(C=10, solver='liblinear')"
      ]
     },
     "execution_count": 107,
     "metadata": {},
     "output_type": "execute_result"
    }
   ],
   "source": [
    "#Instanciamos el modelo y los ajustamos a los datos de entrenamiento\n",
    "model = LogisticRegression(C=10, penalty = 'l2', solver= 'liblinear')\n",
    "model.fit(X_train_std, y_train)"
   ]
  },
  {
   "cell_type": "code",
   "execution_count": 108,
   "id": "356ccd56",
   "metadata": {},
   "outputs": [
    {
     "name": "stdout",
     "output_type": "stream",
     "text": [
      "[22. 22. 22. 22. 22. 22. 22. 21. 22. 22. 22. 22. 32. 21. 32. 22. 22. 22.\n",
      " 22. 22. 22. 32. 32. 22. 22. 22. 22. 22. 22. 22. 22. 22. 22. 21. 21. 22.\n",
      " 22. 22. 22. 22. 22. 22. 22. 22. 21. 22. 22. 22. 22. 22. 22. 22. 22. 22.\n",
      " 22. 22. 22. 22. 22. 22. 22. 22. 22. 22. 22. 22. 22. 22. 32. 32. 22. 22.\n",
      " 22. 21. 21. 21. 22. 22. 22. 21. 22. 22. 22. 22. 32. 21. 22. 32. 22. 22.\n",
      " 32. 22. 22. 22. 22. 21. 22. 22. 22. 22. 22. 22. 22. 22. 22. 22. 21. 32.\n",
      " 22. 22. 21. 22. 22. 22. 32. 32. 22. 22. 22. 22. 22. 22. 22. 22. 22. 32.\n",
      " 22. 21. 22. 22. 22. 22. 22. 22. 22. 22. 21. 22. 22. 22. 22. 22. 22. 22.\n",
      " 22. 22. 21. 32. 21. 21. 22. 22. 22. 22. 22. 22. 22. 22. 22. 22. 22. 32.\n",
      " 22. 21. 22. 22. 22. 22. 21. 22. 22. 22. 22. 22. 22. 22. 22. 21. 22. 22.\n",
      " 22. 21. 22. 22. 22. 22. 21. 22. 22. 22. 22. 22. 21. 22. 22. 22. 22. 22.]\n",
      "\n",
      "Score:  0.4494949494949495\n"
     ]
    }
   ],
   "source": [
    "#Para UN solo fold\n",
    "#Hacemos las predicciones necesarias\n",
    "y_pred = model.predict(X_test_std)\n",
    "print(y_pred)\n",
    "#Evaluamos el score\n",
    "print('')\n",
    "print('Score: ', accuracy_score(y_test, y_pred))"
   ]
  },
  {
   "cell_type": "code",
   "execution_count": 109,
   "id": "422a3996",
   "metadata": {},
   "outputs": [
    {
     "name": "stderr",
     "output_type": "stream",
     "text": [
      "C:\\Users\\DataScience\\anaconda3\\lib\\site-packages\\sklearn\\model_selection\\_split.py:676: UserWarning: The least populated class in y has only 6 members, which is less than n_splits=20.\n",
      "  warnings.warn(\n"
     ]
    },
    {
     "name": "stdout",
     "output_type": "stream",
     "text": [
      "Los scores obtenidos son [0.43333333 0.56666667 0.5        0.5        0.43333333 0.4\n",
      " 0.4        0.43333333 0.46666667 0.53333333 0.4        0.36666667\n",
      " 0.3        0.55172414 0.4137931  0.34482759 0.51724138 0.44827586\n",
      " 0.48275862 0.44827586]\n",
      "El promedio es :0.4470114942528737\n"
     ]
    }
   ],
   "source": [
    "#Generalizamos para 20 folds\n",
    "stratifiedkf=StratifiedKFold(n_splits=20)\n",
    "score=cross_val_score(model,X_train_std,y_train,cv=stratifiedkf)\n",
    "print(\"Los scores obtenidos son {}\".format(score))\n",
    "print(\"El promedio es :{}\".format(score.mean()))"
   ]
  },
  {
   "cell_type": "code",
   "execution_count": 110,
   "id": "2021cf09",
   "metadata": {},
   "outputs": [
    {
     "data": {
      "text/plain": [
       "array([[ 1.28795918,  1.07277981,  0.56604613, -0.48790473, -1.41047053,\n",
       "        -0.30963287, -1.98844272, -1.47538855,  0.43239714, -1.85245632,\n",
       "         0.7415656 , -0.01604877, -0.77491416,  1.24460423,  0.4374237 ,\n",
       "         0.60164594,  0.35988215, -0.86640318,  0.05038989,  0.99726056,\n",
       "        -1.43235619,  1.73911545, -1.31925399, -0.22627612, -0.05756771,\n",
       "        -0.92128848, -0.24614467, -0.95985287, -2.54068611, -0.65708116,\n",
       "        -0.06146721, -1.6807022 ],\n",
       "       [ 1.24386946,  0.7798201 , -0.51284333, -2.578149  , -0.47427579,\n",
       "        -0.01829357,  2.05722091,  2.35557642, -1.20565749, -0.1736549 ,\n",
       "        -0.24931311, -0.87671834,  1.55942102, -1.35410553,  1.27294944,\n",
       "        -0.81559564,  0.29917221, -0.2087757 , -1.70910725,  2.16529269,\n",
       "        -0.62631889,  0.98458939,  0.03410669,  0.04709617,  0.74837483,\n",
       "        -0.13296846, -1.32386408, -0.13353408, -0.20274884, -1.90016633,\n",
       "        -1.1691098 , -1.23656229],\n",
       "       [-1.13673554, -0.19256897,  0.57109176,  2.17288699, -0.93853396,\n",
       "        -3.67473355, -0.31965794, -2.10248697, -1.06488459,  3.43400839,\n",
       "        -0.60004424, -0.73796012,  1.18219895,  2.61851437, -1.86435185,\n",
       "         1.1505497 ,  0.42812347, -0.4156462 ,  0.42629862,  1.70637402,\n",
       "        -0.43725034, -1.04998   , -1.4114077 , -0.69260378,  0.19224714,\n",
       "        -0.03393098,  0.63528966, -0.03589294,  0.42190213,  3.47439983,\n",
       "         0.5048688 ,  0.15767411],\n",
       "       [-1.4015014 , -1.23616473, -0.06061609,  0.7730415 , -0.05563317,\n",
       "         0.47441452, -0.07457456,  0.32586273,  1.86505809, -1.47955064,\n",
       "        -1.0698705 ,  1.32956625, -0.47377464, -0.1381115 , -1.06608429,\n",
       "        -0.14487452,  0.43843635,  0.80848551, -0.37933206, -1.08468279,\n",
       "        -0.26200851,  0.96020074,  0.82677317, -0.03529171, -1.40999998,\n",
       "        -1.28645413, -0.67954458,  1.06063221, -0.37850432, -0.37653043,\n",
       "        -0.40723242, -2.26356653],\n",
       "       [-0.81285822,  1.05476331, -0.17352565, -1.6170525 ,  0.63270832,\n",
       "         1.18830886, -0.41683584, -0.49892779,  1.33240841, -2.82473327,\n",
       "         2.12455729,  1.41126215, -0.96670936, -1.70831114,  1.19408224,\n",
       "        -0.23975772,  0.34205031, -0.17309057,  0.55355806, -3.43304876,\n",
       "        -0.1394933 , -0.27613651,  0.1155359 ,  0.44644493, -1.15954934,\n",
       "         0.2600805 , -0.13886523, -0.14950232,  0.68686599, -1.74431998,\n",
       "        -0.5882688 ,  1.07306622],\n",
       "       [ 0.30010006, -1.44727388, -0.31985561,  2.35931858,  1.29348835,\n",
       "         1.5259614 , -1.92836521,  0.71154984,  0.15209072,  1.35784208,\n",
       "        -2.69981504, -0.33067537, -1.68702004,  0.49986594,  0.49045358,\n",
       "        -0.33513962, -1.61516702,  1.80275764,  0.53522091, -1.01538844,\n",
       "        -0.49519877, -0.40917989,  0.94447306,  0.30263107, -1.736029  ,\n",
       "        -0.6426494 ,  0.22609526, -0.53602232, -0.98426566, -0.44572611,\n",
       "         0.82541635,  1.95893052]])"
      ]
     },
     "execution_count": 110,
     "metadata": {},
     "output_type": "execute_result"
    }
   ],
   "source": [
    "model.coef_"
   ]
  },
  {
   "cell_type": "code",
   "execution_count": 112,
   "id": "55e264d4",
   "metadata": {},
   "outputs": [],
   "source": [
    "def make_confusion_matrix(cf,\n",
    "                          group_names=None,\n",
    "                          categories='auto',\n",
    "                          count=True,\n",
    "                          percent=True,\n",
    "                          cbar=True,\n",
    "                          xyticks=True,\n",
    "                          xyplotlabels=True,\n",
    "                          sum_stats=True,\n",
    "                          figsize=None,\n",
    "                          cmap='Greens',\n",
    "                          title=None):\n",
    "    '''\n",
    "    This function will make a pretty plot of an sklearn Confusion Matrix cm using a Seaborn heatmap visualization.\n",
    "    Arguments\n",
    "    ---------\n",
    "    cf:            confusion matrix to be passed in\n",
    "    group_names:   List of strings that represent the labels row by row to be shown in each square.\n",
    "    categories:    List of strings containing the categories to be displayed on the x,y axis. Default is 'auto'\n",
    "    count:         If True, show the raw number in the confusion matrix. Default is True.\n",
    "    normalize:     If True, show the proportions for each category. Default is True.\n",
    "    cbar:          If True, show the color bar. The cbar values are based off the values in the confusion matrix.\n",
    "                   Default is True.\n",
    "    xyticks:       If True, show x and y ticks. Default is True.\n",
    "    xyplotlabels:  If True, show 'True Label' and 'Predicted Label' on the figure. Default is True.\n",
    "    sum_stats:     If True, display summary statistics below the figure. Default is True.\n",
    "    figsize:       Tuple representing the figure size. Default will be the matplotlib rcParams value.\n",
    "    cmap:          Colormap of the values displayed from matplotlib.pyplot.cm. Default is 'Blues'\n",
    "                   See http://matplotlib.org/examples/color/colormaps_reference.html\n",
    "                   \n",
    "    title:         Title for the heatmap. Default is None.\n",
    "    '''\n",
    "\n",
    "\n",
    "    # CODE TO GENERATE TEXT INSIDE EACH SQUARE\n",
    "    blanks = ['' for i in range(cf.size)]\n",
    "\n",
    "    if group_names and len(group_names)==cf.size:\n",
    "        group_labels = [\"{}\\n\".format(value) for value in group_names]\n",
    "    else:\n",
    "        group_labels = blanks\n",
    "\n",
    "    if count:\n",
    "        group_counts = [\"{0:0.0f}\\n\".format(value) for value in cf.flatten()]\n",
    "    else:\n",
    "        group_counts = blanks\n",
    "\n",
    "    if percent:\n",
    "        group_percentages = [\"{0:.2%}\".format(value) for value in cf.flatten()/np.sum(cf)]\n",
    "    else:\n",
    "        group_percentages = blanks\n",
    "\n",
    "    box_labels = [f\"{v1}{v2}{v3}\".strip() for v1, v2, v3 in zip(group_labels,group_counts,group_percentages)]\n",
    "    box_labels = np.asarray(box_labels).reshape(cf.shape[0],cf.shape[1])\n",
    "\n",
    "\n",
    "    # CODE TO GENERATE SUMMARY STATISTICS & TEXT FOR SUMMARY STATS\n",
    "    if sum_stats:\n",
    "        #Accuracy is sum of diagonal divided by total observations\n",
    "        accuracy  = np.trace(cf) / float(np.sum(cf))\n",
    "\n",
    "        #if it is a binary confusion matrix, show some more stats\n",
    "        if len(cf)==2:\n",
    "            #Metrics for Binary Confusion Matrices\n",
    "            precision = cf[1,1] / sum(cf[:,1])\n",
    "            recall    = cf[1,1] / sum(cf[1,:])\n",
    "            f1_score  = 2*precision*recall / (precision + recall)\n",
    "            stats_text = \"\\n\\nAccuracy={:0.3f}\\nPrecision={:0.3f}\\nRecall={:0.3f}\\nF1 Score={:0.3f}\".format(\n",
    "                accuracy,precision,recall,f1_score)\n",
    "        else:\n",
    "            stats_text = \"\\n\\nAccuracy={:0.3f}\".format(accuracy)\n",
    "    else:\n",
    "        stats_text = \"\"\n",
    "\n",
    "\n",
    "    # SET FIGURE PARAMETERS ACCORDING TO OTHER ARGUMENTS\n",
    "    if figsize==None:\n",
    "        #Get default figure size if not set\n",
    "        figsize = plt.rcParams.get('figure.figsize')\n",
    "\n",
    "    if xyticks==False:\n",
    "        #Do not show categories if xyticks is False\n",
    "        categories=False\n",
    "\n",
    "\n",
    "    # MAKE THE HEATMAP VISUALIZATION\n",
    "    plt.figure(figsize=figsize)\n",
    "    sns.heatmap(cf,annot=box_labels,fmt=\"\",cmap=cmap,cbar=cbar,xticklabels=categories,yticklabels=categories)\n",
    "\n",
    "    if xyplotlabels:\n",
    "        plt.ylabel('True label', color= 'white')\n",
    "        plt.xlabel('Predicted label' + stats_text, color= 'white')\n",
    "    else:\n",
    "        plt.xlabel(stats_text)\n",
    "    \n",
    "    if title:\n",
    "        plt.title(title)"
   ]
  },
  {
   "cell_type": "code",
   "execution_count": 111,
   "id": "8100e5b0",
   "metadata": {},
   "outputs": [],
   "source": [
    "cf_matrix = confusion_matrix(y_test, y_pred)"
   ]
  },
  {
   "cell_type": "code",
   "execution_count": 129,
   "id": "4df2f348",
   "metadata": {},
   "outputs": [
    {
     "data": {
      "image/png": "[encoded data removed]",
      "text/plain": [
       "<Figure size 576x432 with 1 Axes>"
      ]
     },
     "metadata": {
      "needs_background": "light"
     },
     "output_type": "display_data"
    }
   ],
   "source": [
    "make_confusion_matrix(cf_matrix, categories= [11,21,22,31,32,33] , figsize=(8,6), cbar=False)"
   ]
  },
  {
   "cell_type": "code",
   "execution_count": 71,
   "id": "553dddfb",
   "metadata": {},
   "outputs": [],
   "source": [
    "################################################################################################################################"
   ]
  },
  {
   "cell_type": "code",
   "execution_count": 108,
   "id": "93537d4b",
   "metadata": {},
   "outputs": [],
   "source": [
    "#Hagamos regresion logística con el data set alternativo\n",
    "\n",
    "#Levantamos el df_final_alternativo\n",
    "df_final_alternativo = pd.read_csv('df_final_alternativo.csv')\n",
    "\n",
    "#Generamos el X y el target\n",
    "Xa = df_final_alternativo.drop(['ClasificacionNum2', 'ID'], axis = 1)\n",
    "ya = df_final_alternativo['ClasificacionNum2']\n",
    "\n",
    "#Divimos en train y en test\n",
    "Xa_train, Xa_test, ya_train, ya_test = train_test_split(Xa,ya, stratify=ya, test_size= 0.25)\n",
    "\n",
    "#Estandarizamos con MinMax\n",
    "scaler = MinMaxScaler()\n",
    "\n",
    "Xa_train_std = scaler.fit_transform(Xa_train)\n",
    "Xa_test_std = scaler.fit_transform(Xa_test)"
   ]
  },
  {
   "cell_type": "code",
   "execution_count": 60,
   "id": "c3037acc",
   "metadata": {},
   "outputs": [
    {
     "name": "stdout",
     "output_type": "stream",
     "text": [
      "Best: 0.745996 using {'C': 1.0, 'penalty': 'l2', 'solver': 'liblinear'}\n",
      "0.744387 (0.076984) with: {'C': 100, 'penalty': 'l2', 'solver': 'newton-cg'}\n",
      "0.743257 (0.076182) with: {'C': 100, 'penalty': 'l2', 'solver': 'lbfgs'}\n",
      "0.744387 (0.076984) with: {'C': 100, 'penalty': 'l2', 'solver': 'liblinear'}\n",
      "0.741590 (0.069548) with: {'C': 10, 'penalty': 'l2', 'solver': 'newton-cg'}\n",
      "0.741590 (0.069548) with: {'C': 10, 'penalty': 'l2', 'solver': 'lbfgs'}\n",
      "0.743276 (0.069548) with: {'C': 10, 'penalty': 'l2', 'solver': 'liblinear'}\n",
      "0.738563 (0.067349) with: {'C': 1.0, 'penalty': 'l2', 'solver': 'newton-cg'}\n",
      "0.738563 (0.067349) with: {'C': 1.0, 'penalty': 'l2', 'solver': 'lbfgs'}\n",
      "0.745996 (0.073688) with: {'C': 1.0, 'penalty': 'l2', 'solver': 'liblinear'}\n",
      "0.732261 (0.059891) with: {'C': 0.1, 'penalty': 'l2', 'solver': 'newton-cg'}\n",
      "0.732261 (0.059891) with: {'C': 0.1, 'penalty': 'l2', 'solver': 'lbfgs'}\n",
      "0.737989 (0.060565) with: {'C': 0.1, 'penalty': 'l2', 'solver': 'liblinear'}\n",
      "0.689904 (0.011469) with: {'C': 0.01, 'penalty': 'l2', 'solver': 'newton-cg'}\n",
      "0.689904 (0.011469) with: {'C': 0.01, 'penalty': 'l2', 'solver': 'lbfgs'}\n",
      "0.690460 (0.009182) with: {'C': 0.01, 'penalty': 'l2', 'solver': 'liblinear'}\n"
     ]
    }
   ],
   "source": [
    "# Buscamos los mejores hiperparametros\n",
    "\n",
    "modelo = LogisticRegression()\n",
    "solvers = ['newton-cg', 'lbfgs', 'liblinear']\n",
    "penalty = ['l2']\n",
    "c_values = [100, 10, 1.0, 0.1, 0.01]\n",
    "\n",
    "# Defnimos una grilla con GridSearch\n",
    "\n",
    "grid = dict(solver=solvers,penalty=penalty,C=c_values)\n",
    "cv = RepeatedStratifiedKFold(n_splits=20, n_repeats=3, random_state=999)\n",
    "grid_search = GridSearchCV(estimator=modelo, param_grid=grid, n_jobs=-1, cv=cv, scoring='accuracy',error_score=0)\n",
    "grid_result = grid_search.fit(Xa_train_std, ya_train)\n",
    "\n",
    "# Vemos los resultados\n",
    "\n",
    "print(\"Best: %f using %s\" % (grid_result.best_score_, grid_result.best_params_))\n",
    "means = grid_result.cv_results_['mean_test_score']\n",
    "stds = grid_result.cv_results_['std_test_score']\n",
    "params = grid_result.cv_results_['params']\n",
    "for mean, stdev, param in zip(means, stds, params):\n",
    "    print(\"%f (%f) with: %r\" % (mean, stdev, param))"
   ]
  },
  {
   "cell_type": "code",
   "execution_count": 109,
   "id": "df4a1c88",
   "metadata": {},
   "outputs": [
    {
     "data": {
      "text/plain": [
       "LogisticRegression(C=10, solver='liblinear')"
      ]
     },
     "execution_count": 109,
     "metadata": {},
     "output_type": "execute_result"
    }
   ],
   "source": [
    "#Instanciamos el modelo y los ajustamos a los datos de entrenamiento\n",
    "modelo = LogisticRegression(C=10, penalty = 'l2', solver= 'liblinear')\n",
    "modelo.fit(Xa_train_std, ya_train)"
   ]
  },
  {
   "cell_type": "code",
   "execution_count": 110,
   "id": "fe0d84cd",
   "metadata": {},
   "outputs": [
    {
     "name": "stdout",
     "output_type": "stream",
     "text": [
      "[0 0 0 0 0 0 0 0 0 0 0 1 0 0 1 0 0 0 0 0 0 0 0 0 1 0 0 0 0 0 0 0 0 0 1 0 0\n",
      " 0 0 1 0 1 0 0 0 0 1 0 0 0 0 0 1 0 0 0 0 0 1 0 0 0 0 0 0 0 0 0 0 0 1 0 0 0\n",
      " 0 0 0 0 0 1 0 0 1 0 0 1 1 1 1 0 0 0 0 0 1 1 0 0 0 0 0 1 0 0 0 0 0 0 1 0 0\n",
      " 0 0 0 0 1 0 0 0 0 0 1 1 0 1 1 0 0 1 0 0 0 1 1 0 0 0 0 0 0 1 0 1 0 0 0 0 0\n",
      " 0 0 1 0 0 0 0 0 0 0 0 0 0 1 0 0 1 1 1 0 1 0 0 0 0 1 0 1 1 0 0 1 1 1 1 0 0\n",
      " 0 0 1 0 0 0 0 0 0 0 1]\n",
      "\n",
      "Score:  0.75\n"
     ]
    }
   ],
   "source": [
    "#Para UN solo fold\n",
    "#Hacemos las predicciones necesarias\n",
    "ya_pred = modelo.predict(Xa_test_std)\n",
    "print(ya_pred)\n",
    "#Evaluamos el score\n",
    "print('')\n",
    "print('Score: ', accuracy_score(ya_test, ya_pred))"
   ]
  },
  {
   "cell_type": "code",
   "execution_count": 111,
   "id": "486cb3d0",
   "metadata": {},
   "outputs": [
    {
     "name": "stdout",
     "output_type": "stream",
     "text": [
      "Los scores obtenidos son [0.73333333 0.6        0.8        0.7        0.8        0.7\n",
      " 0.86666667 0.8        0.79310345 0.79310345 0.62068966 0.72413793\n",
      " 0.82758621 0.79310345 0.82758621 0.72413793 0.75862069 0.72413793\n",
      " 0.86206897 0.79310345]\n",
      "El promedio es :0.7620689655172415\n",
      "La desviacion estandar es : 0.069572995035871\n"
     ]
    }
   ],
   "source": [
    "#Generalizamos para 20 folds\n",
    "stratifiedkf=StratifiedKFold(n_splits=20)\n",
    "score=cross_val_score(modelo,Xa_train_std,ya_train,cv=stratifiedkf)\n",
    "print(\"Los scores obtenidos son {}\".format(score))\n",
    "print(\"El promedio es :{}\".format(score.mean()))\n",
    "print(\"La desviacion estandar es :\", np.std(score))"
   ]
  },
  {
   "cell_type": "code",
   "execution_count": 113,
   "id": "03909246",
   "metadata": {},
   "outputs": [],
   "source": [
    "cf_matrix_a = confusion_matrix(ya_pred,ya_test)"
   ]
  },
  {
   "cell_type": "code",
   "execution_count": 114,
   "id": "d7f9bdc5",
   "metadata": {},
   "outputs": [
    {
     "data": {
      "image/png": "[encoded data removed]",
      "text/plain": [
       "<Figure size 576x432 with 1 Axes>"
      ]
     },
     "metadata": {
      "needs_background": "light"
     },
     "output_type": "display_data"
    }
   ],
   "source": [
    "make_confusion_matrix(cf_matrix_a, categories= ['No_Apto', 'Apto'] , figsize=(8,6), cbar=False)"
   ]
  },
  {
   "cell_type": "code",
   "execution_count": 115,
   "id": "61454038",
   "metadata": {},
   "outputs": [],
   "source": [
    "y_pred_proba = modelo.predict_proba(Xa_test_std)"
   ]
  },
  {
   "cell_type": "code",
   "execution_count": 116,
   "id": "acb6046f",
   "metadata": {},
   "outputs": [
    {
     "data": {
      "text/plain": [
       "(196, 2)"
      ]
     },
     "metadata": {},
     "output_type": "display_data"
    },
    {
     "data": {
      "text/plain": [
       "array([[0.50918943, 0.49081057],\n",
       "       [0.96803903, 0.03196097],\n",
       "       [0.65055044, 0.34944956],\n",
       "       [0.70919803, 0.29080197],\n",
       "       [0.52559513, 0.47440487],\n",
       "       [0.93017988, 0.06982012],\n",
       "       [0.58909844, 0.41090156],\n",
       "       [0.59603566, 0.40396434],\n",
       "       [0.9367362 , 0.0632638 ],\n",
       "       [0.89702296, 0.10297704],\n",
       "       [0.92915927, 0.07084073],\n",
       "       [0.44606157, 0.55393843],\n",
       "       [0.67497896, 0.32502104],\n",
       "       [0.96800058, 0.03199942],\n",
       "       [0.27288883, 0.72711117],\n",
       "       [0.88459933, 0.11540067],\n",
       "       [0.89272781, 0.10727219],\n",
       "       [0.76841348, 0.23158652],\n",
       "       [0.62399819, 0.37600181],\n",
       "       [0.5842773 , 0.4157227 ],\n",
       "       [0.59603566, 0.40396434],\n",
       "       [0.96002194, 0.03997806],\n",
       "       [0.86772882, 0.13227118],\n",
       "       [0.62399819, 0.37600181],\n",
       "       [0.42372464, 0.57627536],\n",
       "       [0.85856903, 0.14143097],\n",
       "       [0.83791849, 0.16208151],\n",
       "       [0.52412666, 0.47587334],\n",
       "       [0.91924702, 0.08075298],\n",
       "       [0.62417125, 0.37582875],\n",
       "       [0.56809301, 0.43190699],\n",
       "       [0.94964496, 0.05035504],\n",
       "       [0.9211273 , 0.0788727 ],\n",
       "       [0.62399819, 0.37600181],\n",
       "       [0.34227961, 0.65772039],\n",
       "       [0.60846043, 0.39153957],\n",
       "       [0.92801026, 0.07198974],\n",
       "       [0.92822281, 0.07177719],\n",
       "       [0.65561726, 0.34438274],\n",
       "       [0.37610814, 0.62389186],\n",
       "       [0.86772882, 0.13227118],\n",
       "       [0.49739933, 0.50260067],\n",
       "       [0.70919803, 0.29080197],\n",
       "       [0.55413106, 0.44586894],\n",
       "       [0.81480191, 0.18519809],\n",
       "       [0.96803903, 0.03196097],\n",
       "       [0.35986931, 0.64013069],\n",
       "       [0.74334555, 0.25665445],\n",
       "       [0.68785363, 0.31214637],\n",
       "       [0.85422773, 0.14577227],\n",
       "       [0.59603566, 0.40396434],\n",
       "       [0.76223847, 0.23776153],\n",
       "       [0.39492964, 0.60507036],\n",
       "       [0.88418314, 0.11581686],\n",
       "       [0.69230143, 0.30769857],\n",
       "       [0.68524119, 0.31475881],\n",
       "       [0.58909844, 0.41090156],\n",
       "       [0.6578224 , 0.3421776 ],\n",
       "       [0.45954833, 0.54045167],\n",
       "       [0.93523589, 0.06476411],\n",
       "       [0.76629597, 0.23370403],\n",
       "       [0.50918943, 0.49081057],\n",
       "       [0.55413106, 0.44586894],\n",
       "       [0.6534182 , 0.3465818 ],\n",
       "       [0.8141076 , 0.1858924 ],\n",
       "       [0.91682842, 0.08317158],\n",
       "       [0.78441878, 0.21558122],\n",
       "       [0.93794734, 0.06205266],\n",
       "       [0.97001103, 0.02998897],\n",
       "       [0.88525888, 0.11474112],\n",
       "       [0.45954833, 0.54045167],\n",
       "       [0.8363011 , 0.1636989 ],\n",
       "       [0.86825331, 0.13174669],\n",
       "       [0.55725157, 0.44274843],\n",
       "       [0.56318516, 0.43681484],\n",
       "       [0.59603566, 0.40396434],\n",
       "       [0.68319875, 0.31680125],\n",
       "       [0.9076362 , 0.0923638 ],\n",
       "       [0.65055044, 0.34944956],\n",
       "       [0.00517803, 0.99482197],\n",
       "       [0.68896628, 0.31103372],\n",
       "       [0.64015464, 0.35984536],\n",
       "       [0.44606157, 0.55393843],\n",
       "       [0.88169394, 0.11830606],\n",
       "       [0.67497896, 0.32502104],\n",
       "       [0.30349273, 0.69650727],\n",
       "       [0.42372464, 0.57627536],\n",
       "       [0.39492964, 0.60507036],\n",
       "       [0.48117912, 0.51882088],\n",
       "       [0.80219506, 0.19780494],\n",
       "       [0.6578224 , 0.3421776 ],\n",
       "       [0.68524119, 0.31475881],\n",
       "       [0.94964496, 0.05035504],\n",
       "       [0.96205638, 0.03794362],\n",
       "       [0.46358614, 0.53641386],\n",
       "       [0.48904081, 0.51095919],\n",
       "       [0.56318516, 0.43681484],\n",
       "       [0.76629597, 0.23370403],\n",
       "       [0.68785363, 0.31214637],\n",
       "       [0.71852471, 0.28147529],\n",
       "       [0.62417125, 0.37582875],\n",
       "       [0.39439384, 0.60560616],\n",
       "       [0.56809301, 0.43190699],\n",
       "       [0.56809301, 0.43190699],\n",
       "       [0.59994146, 0.40005854],\n",
       "       [0.96803903, 0.03196097],\n",
       "       [0.91778712, 0.08221288],\n",
       "       [0.92837453, 0.07162547],\n",
       "       [0.37610814, 0.62389186],\n",
       "       [0.56018732, 0.43981268],\n",
       "       [0.79159466, 0.20840534],\n",
       "       [0.55725157, 0.44274843],\n",
       "       [0.78441878, 0.21558122],\n",
       "       [0.52673635, 0.47326365],\n",
       "       [0.68592792, 0.31407208],\n",
       "       [0.31697002, 0.68302998],\n",
       "       [0.86705151, 0.13294849],\n",
       "       [0.97035415, 0.02964585],\n",
       "       [0.59716843, 0.40283157],\n",
       "       [0.52673635, 0.47326365],\n",
       "       [0.64288244, 0.35711756],\n",
       "       [0.42628223, 0.57371777],\n",
       "       [0.348315  , 0.651685  ],\n",
       "       [0.85018312, 0.14981688],\n",
       "       [0.46358614, 0.53641386],\n",
       "       [0.17727471, 0.82272529],\n",
       "       [0.89141368, 0.10858632],\n",
       "       [0.92801026, 0.07198974],\n",
       "       [0.48904081, 0.51095919],\n",
       "       [0.80219506, 0.19780494],\n",
       "       [0.97821567, 0.02178433],\n",
       "       [0.92837453, 0.07162547],\n",
       "       [0.1132324 , 0.8867676 ],\n",
       "       [0.37610814, 0.62389186],\n",
       "       [0.92479446, 0.07520554],\n",
       "       [0.95156703, 0.04843297],\n",
       "       [0.59716843, 0.40283157],\n",
       "       [0.88293036, 0.11706964],\n",
       "       [0.96803903, 0.03196097],\n",
       "       [0.64015464, 0.35984536],\n",
       "       [0.49739933, 0.50260067],\n",
       "       [0.62399819, 0.37600181],\n",
       "       [0.42372464, 0.57627536],\n",
       "       [0.79354471, 0.20645529],\n",
       "       [0.59994146, 0.40005854],\n",
       "       [0.8342972 , 0.1657028 ],\n",
       "       [0.58909844, 0.41090156],\n",
       "       [0.52673635, 0.47326365],\n",
       "       [0.79354471, 0.20645529],\n",
       "       [0.76629597, 0.23370403],\n",
       "       [0.08952183, 0.91047817],\n",
       "       [0.79354471, 0.20645529],\n",
       "       [0.92573826, 0.07426174],\n",
       "       [0.91682842, 0.08317158],\n",
       "       [0.52559513, 0.47440487],\n",
       "       [0.55413106, 0.44586894],\n",
       "       [0.97799996, 0.02200004],\n",
       "       [0.84680828, 0.15319172],\n",
       "       [0.55413106, 0.44586894],\n",
       "       [0.74334555, 0.25665445],\n",
       "       [0.68592792, 0.31407208],\n",
       "       [0.39439384, 0.60560616],\n",
       "       [0.90420747, 0.09579253],\n",
       "       [0.97042688, 0.02957312],\n",
       "       [0.34660383, 0.65339617],\n",
       "       [0.42628223, 0.57371777],\n",
       "       [0.26151973, 0.73848027],\n",
       "       [0.94964496, 0.05035504],\n",
       "       [0.21904099, 0.78095901],\n",
       "       [0.97001103, 0.02998897],\n",
       "       [0.93017988, 0.06982012],\n",
       "       [0.9076362 , 0.0923638 ],\n",
       "       [0.59994146, 0.40005854],\n",
       "       [0.26319043, 0.73680957],\n",
       "       [0.64288244, 0.35711756],\n",
       "       [0.42628223, 0.57371777],\n",
       "       [0.28890424, 0.71109576],\n",
       "       [0.73186844, 0.26813156],\n",
       "       [0.96205638, 0.03794362],\n",
       "       [0.07267635, 0.92732365],\n",
       "       [0.34227961, 0.65772039],\n",
       "       [0.45954833, 0.54045167],\n",
       "       [0.09908482, 0.90091518],\n",
       "       [0.97035415, 0.02964585],\n",
       "       [0.76104814, 0.23895186],\n",
       "       [0.97821567, 0.02178433],\n",
       "       [0.97799996, 0.02200004],\n",
       "       [0.42372464, 0.57627536],\n",
       "       [0.76841348, 0.23158652],\n",
       "       [0.90420747, 0.09579253],\n",
       "       [0.56018732, 0.43981268],\n",
       "       [0.93017988, 0.06982012],\n",
       "       [0.88349838, 0.11650162],\n",
       "       [0.80219506, 0.19780494],\n",
       "       [0.86825331, 0.13174669],\n",
       "       [0.08078662, 0.91921338]])"
      ]
     },
     "metadata": {},
     "output_type": "display_data"
    }
   ],
   "source": [
    "display(y_pred_proba.shape, y_pred_proba)"
   ]
  },
  {
   "cell_type": "code",
   "execution_count": 117,
   "id": "22485e92",
   "metadata": {},
   "outputs": [
    {
     "data": {
      "text/plain": [
       "0    117\n",
       "1     79\n",
       "dtype: int64"
      ]
     },
     "execution_count": 117,
     "metadata": {},
     "output_type": "execute_result"
    }
   ],
   "source": [
    "# Pertenencia a partir de las probabilidades\n",
    "pd.Series(y_pred_proba[:,1]>0.4).astype(int).value_counts()\n",
    "#0 no apto, 1 apto"
   ]
  },
  {
   "cell_type": "code",
   "execution_count": 118,
   "id": "c5fb9ad5",
   "metadata": {},
   "outputs": [
    {
     "data": {
      "text/plain": [
       "0    151\n",
       "1     45\n",
       "dtype: int64"
      ]
     },
     "execution_count": 118,
     "metadata": {},
     "output_type": "execute_result"
    }
   ],
   "source": [
    "# Pertenencia calculada a partir del método .predict()\n",
    "pd.Series(ya_pred).value_counts()"
   ]
  },
  {
   "cell_type": "code",
   "execution_count": 119,
   "id": "9fe3c785",
   "metadata": {},
   "outputs": [
    {
     "data": {
      "image/png": "[encoded data removed]",
      "text/plain": [
       "<Figure size 432x288 with 1 Axes>"
      ]
     },
     "metadata": {
      "needs_background": "light"
     },
     "output_type": "display_data"
    }
   ],
   "source": [
    "# Nos quedamos con la columna que tiene la probabilidad positiva de cada caso\n",
    "y_probs_logit_left = y_pred_proba[:,1]\n",
    "\n",
    "# Generamos un histograma de esa columna\n",
    "plt.hist(y_probs_logit_left, bins=15)\n",
    "plt.xlim(0,1)\n",
    "plt.xlabel('Probabilidades')\n",
    "plt.ylabel('Frecuencia')\n",
    "plt.show()"
   ]
  },
  {
   "cell_type": "code",
   "execution_count": 120,
   "id": "5e043160",
   "metadata": {},
   "outputs": [],
   "source": [
    "#Cambiamos el umbral a 0.4\n",
    "ya_pred_logit = (y_probs_logit_left > 0.22).astype(int)\n",
    "cf_matrix_a_logit = confusion_matrix(ya_pred_logit,ya_test)"
   ]
  },
  {
   "cell_type": "code",
   "execution_count": 121,
   "id": "9437acb5",
   "metadata": {},
   "outputs": [
    {
     "data": {
      "text/plain": [
       "array([1, 0, 1, 1, 1, 0, 1, 1, 0, 0, 0, 1, 1, 0, 1, 0, 0, 1, 1, 1, 1, 0,\n",
       "       0, 1, 1, 0, 0, 1, 0, 1, 1, 0, 0, 1, 1, 1, 0, 0, 1, 1, 0, 1, 1, 1,\n",
       "       0, 0, 1, 1, 1, 0, 1, 1, 1, 0, 1, 1, 1, 1, 1, 0, 1, 1, 1, 1, 0, 0,\n",
       "       0, 0, 0, 0, 1, 0, 0, 1, 1, 1, 1, 0, 1, 1, 1, 1, 1, 0, 1, 1, 1, 1,\n",
       "       1, 0, 1, 1, 0, 0, 1, 1, 1, 1, 1, 1, 1, 1, 1, 1, 1, 0, 0, 0, 1, 1,\n",
       "       0, 1, 0, 1, 1, 1, 0, 0, 1, 1, 1, 1, 1, 0, 1, 1, 0, 0, 1, 0, 0, 0,\n",
       "       1, 1, 0, 0, 1, 0, 0, 1, 1, 1, 1, 0, 1, 0, 1, 1, 0, 1, 1, 0, 0, 0,\n",
       "       1, 1, 0, 0, 1, 1, 1, 1, 0, 0, 1, 1, 1, 0, 1, 0, 0, 0, 1, 1, 1, 1,\n",
       "       1, 1, 0, 1, 1, 1, 1, 0, 1, 0, 0, 1, 1, 0, 1, 0, 0, 0, 0, 1])"
      ]
     },
     "execution_count": 121,
     "metadata": {},
     "output_type": "execute_result"
    }
   ],
   "source": [
    "ya_pred_logit"
   ]
  },
  {
   "cell_type": "code",
   "execution_count": 122,
   "id": "3ce0ab6a",
   "metadata": {},
   "outputs": [
    {
     "name": "stdout",
     "output_type": "stream",
     "text": [
      "Matrix Original\n"
     ]
    },
    {
     "data": {
      "text/plain": [
       "array([[119,  32],\n",
       "       [ 17,  28]], dtype=int64)"
      ]
     },
     "metadata": {},
     "output_type": "display_data"
    },
    {
     "name": "stdout",
     "output_type": "stream",
     "text": [
      "\n",
      "Nueva Matrix\n"
     ]
    },
    {
     "data": {
      "text/plain": [
       "array([[71,  5],\n",
       "       [65, 55]], dtype=int64)"
      ]
     },
     "metadata": {},
     "output_type": "display_data"
    }
   ],
   "source": [
    "print('Matrix Original')\n",
    "display(confusion_matrix(ya_pred,ya_test))\n",
    "print('')\n",
    "print('Nueva Matrix')\n",
    "display(confusion_matrix(ya_pred_logit,ya_test))"
   ]
  },
  {
   "cell_type": "code",
   "execution_count": 123,
   "id": "2813725c",
   "metadata": {},
   "outputs": [
    {
     "data": {
      "image/png": "[encoded data removed]",
      "text/plain": [
       "<Figure size 576x432 with 1 Axes>"
      ]
     },
     "metadata": {
      "needs_background": "light"
     },
     "output_type": "display_data"
    }
   ],
   "source": [
    "make_confusion_matrix(cf_matrix_a_logit, categories= ['No_Apto','Apto'] , figsize=(8,6), cbar=False)"
   ]
  },
  {
   "cell_type": "code",
   "execution_count": 124,
   "id": "a5271261",
   "metadata": {},
   "outputs": [
    {
     "data": {
      "text/plain": [
       "array([[-0.32354605,  3.55710998, -0.12657234, -0.40911841, -0.21352072,\n",
       "         0.81530662,  3.81286003, -0.04855901, -0.13160725,  0.66739191,\n",
       "        -1.54875175,  0.93036392,  1.21506747, -2.68299535, -0.83075104,\n",
       "        -1.87380783, -0.48902766, -0.90901603,  0.14969153, -0.03602885,\n",
       "        -2.98456156,  0.28625996,  0.38034839, -0.5553255 ,  0.69961586,\n",
       "        -1.42899266, -0.14744412, -0.29449568,  0.25663931,  0.30921083,\n",
       "        -2.14171513,  0.9803167 ,  0.27919732]])"
      ]
     },
     "execution_count": 124,
     "metadata": {},
     "output_type": "execute_result"
    }
   ],
   "source": [
    "modelo.coef_"
   ]
  },
  {
   "cell_type": "code",
   "execution_count": 125,
   "id": "6fedafb4",
   "metadata": {},
   "outputs": [],
   "source": [
    "from sklearn.metrics import roc_curve\n",
    "fpr_log,tpr_log,thr_log = roc_curve(ya_test, y_pred_proba[:,1])"
   ]
  },
  {
   "cell_type": "code",
   "execution_count": 126,
   "id": "2a26ada6",
   "metadata": {},
   "outputs": [
    {
     "data": {
      "image/png": "[encoded data removed]",
      "text/plain": [
       "<Figure size 432x288 with 1 Axes>"
      ]
     },
     "metadata": {
      "needs_background": "light"
     },
     "output_type": "display_data"
    }
   ],
   "source": [
    "df = pd.DataFrame(dict(fpr=fpr_log, tpr=tpr_log, thr = thr_log))\n",
    "\n",
    "plt.axis([0, 1.01, 0, 1.01])\n",
    "plt.xlabel('1 - Specificty')\n",
    "plt.ylabel('TPR / Sensitivity')\n",
    "plt.title('ROC Curve')\n",
    "plt.plot(df['fpr'],df['tpr'])\n",
    "plt.plot(np.arange(0,1, step =0.01), np.arange(0,1, step =0.01))\n",
    "plt.show()"
   ]
  },
  {
   "cell_type": "code",
   "execution_count": 127,
   "id": "8d533870",
   "metadata": {},
   "outputs": [
    {
     "name": "stdout",
     "output_type": "stream",
     "text": [
      "AUC= 0.8040441176470589\n"
     ]
    }
   ],
   "source": [
    "from sklearn.metrics import auc\n",
    "print('AUC=', auc(fpr_log, tpr_log))"
   ]
  }
 ],
 "metadata": {
  "kernelspec": {
   "display_name": "Python 3 (ipykernel)",
   "language": "python",
   "name": "python3"
  },
  "language_info": {
   "codemirror_mode": {
    "name": "ipython",
    "version": 3
   },
   "file_extension": ".py",
   "mimetype": "text/x-python",
   "name": "python",
   "nbconvert_exporter": "python",
   "pygments_lexer": "ipython3",
   "version": "3.9.12"
  }
 },
 "nbformat": 4,
 "nbformat_minor": 5
}
