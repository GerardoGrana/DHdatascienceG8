{
 "cells": [
  {
   "cell_type": "code",
   "execution_count": 1,
   "id": "6ec97324",
   "metadata": {},
   "outputs": [],
   "source": [
    "#Librerias\n",
    "import pandas as pd\n",
    "import numpy as np\n",
    "import matplotlib.pyplot as plt\n",
    "from sklearn.neighbors import KNeighborsClassifier\n",
    "from sklearn.model_selection import train_test_split, KFold, cross_val_score, StratifiedKFold\n",
    "from sklearn.preprocessing import StandardScaler\n",
    "from sklearn.metrics import accuracy_score\n",
    "from sklearn.preprocessing import MinMaxScaler\n",
    "from sklearn.preprocessing import RobustScaler\n",
    "from sklearn.model_selection import GridSearchCV"
   ]
  },
  {
   "cell_type": "code",
   "execution_count": 2,
   "id": "ad049f91",
   "metadata": {},
   "outputs": [],
   "source": [
    "#Levantamos el df_final2\n",
    "df_final2 = pd.read_csv('df_final2.csv')"
   ]
  },
  {
   "cell_type": "code",
   "execution_count": 3,
   "id": "afbe9d06",
   "metadata": {},
   "outputs": [],
   "source": [
    "#Generamos el X y el target\n",
    "X = df_final2.drop(['target'], axis = 1)\n",
    "y = df_final2['target']"
   ]
  },
  {
   "cell_type": "code",
   "execution_count": 4,
   "id": "262f956f",
   "metadata": {},
   "outputs": [],
   "source": [
    "#Dividimos en train y en test\n",
    "X_train, X_test, y_train, y_test = train_test_split(X,y, stratify=y, test_size= 0.25)"
   ]
  },
  {
   "cell_type": "code",
   "execution_count": 5,
   "id": "cadf86e5",
   "metadata": {},
   "outputs": [],
   "source": [
    "#Estandarizamos las variables usando 3 formas diferentes\n",
    "\n",
    "scaler = StandardScaler()\n",
    "scaler2 = RobustScaler()\n",
    "scaler3 = MinMaxScaler()\n",
    "\n",
    "#Standard\n",
    "X_train_std = scaler.fit_transform(X_train)\n",
    "X_test_std = scaler.fit_transform(X_test)\n",
    "\n",
    "#Robust\n",
    "X_train_std_robust = scaler2.fit_transform(X_train)\n",
    "X_test_std_robust = scaler2.fit_transform(X_test)\n",
    "\n",
    "#MinMax\n",
    "X_train_std_mM = scaler3.fit_transform(X_train)\n",
    "X_test_std_mM = scaler3.fit_transform(X_test)"
   ]
  },
  {
   "cell_type": "code",
   "execution_count": 6,
   "id": "7d4cdd3e",
   "metadata": {},
   "outputs": [
    {
     "name": "stderr",
     "output_type": "stream",
     "text": [
      "C:\\Users\\DataScience\\anaconda3\\lib\\site-packages\\sklearn\\model_selection\\_split.py:676: UserWarning: The least populated class in y has only 6 members, which is less than n_splits=10.\n",
      "  warnings.warn(\n"
     ]
    },
    {
     "name": "stdout",
     "output_type": "stream",
     "text": [
      "Best leaf_size: 1\n",
      "Best p: 2\n",
      "Best n_neighbors: 27\n"
     ]
    }
   ],
   "source": [
    "#Con GridSearch buscamos los mejores hiperparámetros\n",
    "\n",
    "leaf_size = list(range(1,50))\n",
    "n_neighbors = list(range(1,30))\n",
    "p=[1,2]\n",
    "\n",
    "#Hacemos un diccionario\n",
    "\n",
    "hyperparameters = dict(leaf_size=leaf_size, n_neighbors=n_neighbors, p=p)\n",
    "\n",
    "#Instanciamos el modelo de KNN\n",
    "knn = KNeighborsClassifier()\n",
    "\n",
    "#Usamos GridSearch\n",
    "clf = GridSearchCV(knn, hyperparameters, cv=10)\n",
    "\n",
    "#Ajustamos el modelo\n",
    "best_model = clf.fit(X_train_std_mM,y_train)\n",
    "\n",
    "#Pinteamos los mejores hiperparámetros\n",
    "print('Best leaf_size:', best_model.best_estimator_.get_params()['leaf_size'])\n",
    "print('Best p:', best_model.best_estimator_.get_params()['p'])\n",
    "print('Best n_neighbors:', best_model.best_estimator_.get_params()['n_neighbors'])"
   ]
  },
  {
   "cell_type": "code",
   "execution_count": 23,
   "id": "593ff6c0",
   "metadata": {},
   "outputs": [
    {
     "name": "stdout",
     "output_type": "stream",
     "text": [
      "Los scores obtenidos son [0.47058824 0.41176471 0.49579832 0.48305085 0.37288136]\n",
      "El promedio es :0.4468166927788064\n"
     ]
    }
   ],
   "source": [
    "#Instanciamos con los mejores hiperparámetros y hacemos cross validation\n",
    "knn = KNeighborsClassifier (leaf_size= best_model.best_estimator_.get_params()['leaf_size'], p= best_model.best_estimator_.get_params()['p'] , n_neighbors= best_model.best_estimator_.get_params()['n_neighbors'])\n",
    "stratifiedkf=StratifiedKFold(n_splits=5)\n",
    "score=cross_val_score(knn,X_train_std_mM,y_train,cv=stratifiedkf)\n",
    "\n",
    "print(\"Los scores obtenidos son {}\".format(score))\n",
    "print(\"El promedio es :{}\".format(score.mean()))"
   ]
  },
  {
   "cell_type": "code",
   "execution_count": 27,
   "id": "6f15df16",
   "metadata": {},
   "outputs": [
    {
     "data": {
      "text/plain": [
       "array([22., 22., 22., 22., 32., 22., 22., 22., 22., 22., 21., 22., 22.,\n",
       "       22., 22., 22., 22., 21., 21., 22., 22., 22., 22., 22., 21., 22.,\n",
       "       22., 22., 22., 21., 22., 21., 22., 22., 21., 22., 22., 21., 22.,\n",
       "       22., 22., 22., 32., 21., 22., 22., 21., 22., 21., 22., 22., 21.,\n",
       "       21., 21., 22., 22., 22., 22., 21., 22., 22., 22., 22., 22., 21.,\n",
       "       21., 22., 22., 21., 22., 22., 21., 22., 22., 21., 22., 22., 22.,\n",
       "       22., 21., 21., 22., 22., 32., 21., 22., 21., 21., 22., 22., 22.,\n",
       "       21., 22., 22., 22., 21., 21., 22., 22., 22., 22., 22., 22., 22.,\n",
       "       21., 22., 22., 22., 22., 21., 22., 21., 22., 22., 22., 22., 21.,\n",
       "       22., 22., 22., 21., 22., 22., 21., 22., 22., 22., 32., 21., 21.,\n",
       "       22., 22., 22., 22., 22., 22., 22., 22., 21., 21., 22., 22., 21.,\n",
       "       22., 22., 21., 21., 21., 21., 22., 21., 21., 21., 22., 22., 21.,\n",
       "       21., 21., 22., 22., 22., 22., 22., 21., 22., 21., 22., 22., 22.,\n",
       "       22., 21., 21., 21., 21., 22., 32., 21., 22., 22., 21., 21., 22.,\n",
       "       21., 22., 22., 32., 22., 22., 22., 22., 22., 22., 21., 22., 22.,\n",
       "       22., 32., 21.])"
      ]
     },
     "execution_count": 27,
     "metadata": {},
     "output_type": "execute_result"
    }
   ],
   "source": [
    "knn.fit(X_train_std_mM, y_train)\n",
    "y_pred = knn.predict(X_test_std_mM)\n",
    "y_pred"
   ]
  }
 ],
 "metadata": {
  "kernelspec": {
   "display_name": "Python 3 (ipykernel)",
   "language": "python",
   "name": "python3"
  },
  "language_info": {
   "codemirror_mode": {
    "name": "ipython",
    "version": 3
   },
   "file_extension": ".py",
   "mimetype": "text/x-python",
   "name": "python",
   "nbconvert_exporter": "python",
   "pygments_lexer": "ipython3",
   "version": "3.9.12"
  }
 },
 "nbformat": 4,
 "nbformat_minor": 5
}
