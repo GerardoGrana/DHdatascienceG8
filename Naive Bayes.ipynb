{
 "cells": [
  {
   "cell_type": "code",
   "execution_count": 11,
   "id": "725dc06d",
   "metadata": {},
   "outputs": [],
   "source": [
    "#Librerias\n",
    "import numpy as np\n",
    "import pandas as pd\n",
    "from sklearn.model_selection import RepeatedStratifiedKFold\n",
    "from sklearn.model_selection import GridSearchCV\n",
    "from sklearn.naive_bayes import GaussianNB\n",
    "from sklearn.model_selection import train_test_split, KFold, cross_val_score, StratifiedKFold\n",
    "from sklearn.preprocessing import MinMaxScaler"
   ]
  },
  {
   "cell_type": "code",
   "execution_count": 2,
   "id": "c2e71ac2",
   "metadata": {},
   "outputs": [],
   "source": [
    "#Levantamos el df_final2\n",
    "df_final2 = pd.read_csv('df_final2.csv')\n",
    "\n",
    "#Generamos el X y el target\n",
    "X = df_final2.drop(['target'], axis = 1)\n",
    "y = df_final2['target']\n",
    "\n",
    "#Divimos en train y en test\n",
    "X_train, X_test, y_train, y_test = train_test_split(X,y, stratify=y, test_size= 0.25)\n",
    "\n",
    "#Estandarizamos con MinMax\n",
    "scaler = MinMaxScaler()\n",
    "\n",
    "X_train_std = scaler.fit_transform(X_train)\n",
    "X_test_std = scaler.fit_transform(X_test)"
   ]
  },
  {
   "cell_type": "code",
   "execution_count": 6,
   "id": "3686ab56",
   "metadata": {},
   "outputs": [
    {
     "name": "stdout",
     "output_type": "stream",
     "text": [
      "Fitting 10 folds for each of 100 candidates, totalling 1000 fits\n"
     ]
    },
    {
     "name": "stderr",
     "output_type": "stream",
     "text": [
      "C:\\Users\\DataScience\\anaconda3\\lib\\site-packages\\sklearn\\model_selection\\_split.py:676: UserWarning: The least populated class in y has only 6 members, which is less than n_splits=10.\n",
      "  warnings.warn(\n"
     ]
    },
    {
     "name": "stdout",
     "output_type": "stream",
     "text": [
      "GaussianNB(var_smoothing=1.0)\n"
     ]
    }
   ],
   "source": [
    "#Instanciamos el modelo y buscamos el mejor hiperparámetro\n",
    "GB = GaussianNB()\n",
    "\n",
    "param_grid_nb = {\n",
    "    'var_smoothing': np.logspace(0,-9, num=100)\n",
    "}\n",
    "\n",
    "nbModel_grid = GridSearchCV(estimator=GaussianNB(), param_grid=param_grid_nb, verbose=1, cv=10, n_jobs=-1)\n",
    "nbModel_grid.fit(X_train_std, y_train)\n",
    "print(nbModel_grid.best_estimator_)"
   ]
  },
  {
   "cell_type": "code",
   "execution_count": 12,
   "id": "2c18607e",
   "metadata": {},
   "outputs": [
    {
     "name": "stdout",
     "output_type": "stream",
     "text": [
      "Los scores obtenidos son [0.42016807 0.40336134 0.34453782 0.37288136 0.38135593]\n",
      "El promedio es :0.3844609030052698\n"
     ]
    }
   ],
   "source": [
    "#Usando el mejor hiperparámetro instanciamos el modelo, ajustamos y predecimos usando cross validation\n",
    "GB = nbModel_grid.best_estimator_\n",
    "stratifiedkf=StratifiedKFold(n_splits=5)\n",
    "score=cross_val_score(GB,X_train_std,y_train,cv=stratifiedkf)\n",
    "\n",
    "print(\"Los scores obtenidos son {}\".format(score))\n",
    "print(\"El promedio es :{}\".format(score.mean()))"
   ]
  }
 ],
 "metadata": {
  "kernelspec": {
   "display_name": "Python 3 (ipykernel)",
   "language": "python",
   "name": "python3"
  },
  "language_info": {
   "codemirror_mode": {
    "name": "ipython",
    "version": 3
   },
   "file_extension": ".py",
   "mimetype": "text/x-python",
   "name": "python",
   "nbconvert_exporter": "python",
   "pygments_lexer": "ipython3",
   "version": "3.9.12"
  }
 },
 "nbformat": 4,
 "nbformat_minor": 5
}
