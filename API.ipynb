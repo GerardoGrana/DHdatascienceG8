{
 "cells": [
  {
   "cell_type": "code",
   "execution_count": 126,
   "metadata": {},
   "outputs": [],
   "source": [
    "import pandas as pd\n",
    "from flask import  Flask, request, jsonify, render_template\n",
    "from flask_cors import CORS, cross_origin\n",
    "import json"
   ]
  },
  {
   "cell_type": "code",
   "execution_count": 127,
   "metadata": {},
   "outputs": [],
   "source": [
    "app = Flask('Nuesta API')\n",
    "cors = CORS(app)\n",
    "app.config['CORS_HEADERS'] = 'Content-Type'"
   ]
  },
  {
   "cell_type": "code",
   "execution_count": 128,
   "metadata": {},
   "outputs": [],
   "source": [
    "df = pd.read_csv('./Data/PVR_DAM_all.csv')\n",
    "dam = df[df['punto_tipo'] == 'Intersercción']\n",
    "pvr = df[df['punto_tipo'] != 'Intersercción']"
   ]
  },
  {
   "cell_type": "code",
   "execution_count": 129,
   "metadata": {},
   "outputs": [],
   "source": [
    "def find_closest(df, x, y):\n",
    "    dist = (df['x'] - x).abs() + (df['y'] - y).abs()\n",
    "    return df.loc[dist.idxmin()]"
   ]
  },
  {
   "cell_type": "code",
   "execution_count": 130,
   "metadata": {},
   "outputs": [],
   "source": [
    "@app.route('/predict',methods=['POST'])\n",
    "@cross_origin()\n",
    "def predict():\n",
    "    data = request.get_json(force=True)\n",
    "    predict = find_closest(dam, float(data['lng']), float(data['lat']))\n",
    "    return predict.to_json()\n"
   ]
  },
  {
   "cell_type": "code",
   "execution_count": 131,
   "metadata": {},
   "outputs": [],
   "source": [
    "@app.route('/damero',methods=['GET'])\n",
    "@cross_origin()\n",
    "def damero():\n",
    "    return dam.to_json(orient = 'records')"
   ]
  },
  {
   "cell_type": "code",
   "execution_count": 132,
   "metadata": {},
   "outputs": [],
   "source": [
    "@app.route('/pvr',methods=['GET'])\n",
    "@cross_origin()\n",
    "def pvrendpoint():\n",
    "    return pvr.to_json(orient = 'records')"
   ]
  },
  {
   "cell_type": "code",
   "execution_count": 133,
   "metadata": {},
   "outputs": [
    {
     "name": "stdout",
     "output_type": "stream",
     "text": [
      " * Serving Flask app \"Nuesta API\" (lazy loading)\n",
      " * Environment: production\n",
      "\u001b[31m   WARNING: This is a development server. Do not use it in a production deployment.\u001b[0m\n",
      "\u001b[2m   Use a production WSGI server instead.\u001b[0m\n",
      " * Debug mode: off\n"
     ]
    },
    {
     "name": "stderr",
     "output_type": "stream",
     "text": [
      " * Running on all addresses.\n",
      "   WARNING: This is a development server. Do not use it in a production deployment.\n",
      " * Running on http://192.168.0.68:5009/ (Press CTRL+C to quit)\n",
      "127.0.0.1 - - [13/Sep/2022 00:02:04] \"GET /damero HTTP/1.1\" 200 -\n",
      "127.0.0.1 - - [13/Sep/2022 00:02:19] \"GET /damero HTTP/1.1\" 200 -\n",
      "127.0.0.1 - - [13/Sep/2022 00:02:21] \"OPTIONS /predict HTTP/1.1\" 200 -\n",
      "127.0.0.1 - - [13/Sep/2022 00:02:21] \"POST /predict HTTP/1.1\" 400 -\n",
      "127.0.0.1 - - [13/Sep/2022 00:02:22] \"POST /predict HTTP/1.1\" 400 -\n",
      "127.0.0.1 - - [13/Sep/2022 00:02:24] \"POST /predict HTTP/1.1\" 400 -\n",
      "127.0.0.1 - - [13/Sep/2022 00:02:41] \"GET /damero HTTP/1.1\" 200 -\n",
      "127.0.0.1 - - [13/Sep/2022 00:02:51] \"OPTIONS /predict HTTP/1.1\" 200 -\n",
      "127.0.0.1 - - [13/Sep/2022 00:02:51] \"POST /predict HTTP/1.1\" 400 -\n",
      "127.0.0.1 - - [13/Sep/2022 00:02:52] \"POST /predict HTTP/1.1\" 400 -\n",
      "127.0.0.1 - - [13/Sep/2022 00:03:13] \"GET /damero HTTP/1.1\" 200 -\n",
      "127.0.0.1 - - [13/Sep/2022 00:03:14] \"OPTIONS /predict HTTP/1.1\" 200 -\n",
      "127.0.0.1 - - [13/Sep/2022 00:03:14] \"POST /predict HTTP/1.1\" 400 -\n",
      "127.0.0.1 - - [13/Sep/2022 00:03:36] \"OPTIONS /predict HTTP/1.1\" 200 -\n",
      "127.0.0.1 - - [13/Sep/2022 00:03:36] \"POST /predict HTTP/1.1\" 400 -\n",
      "127.0.0.1 - - [13/Sep/2022 00:03:49] \"GET /damero HTTP/1.1\" 200 -\n",
      "127.0.0.1 - - [13/Sep/2022 00:03:56] \"OPTIONS /predict HTTP/1.1\" 200 -\n",
      "127.0.0.1 - - [13/Sep/2022 00:03:56] \"POST /predict HTTP/1.1\" 400 -\n",
      "127.0.0.1 - - [13/Sep/2022 00:04:25] \"GET /damero HTTP/1.1\" 200 -\n",
      "127.0.0.1 - - [13/Sep/2022 00:04:32] \"OPTIONS /predict HTTP/1.1\" 200 -\n",
      "127.0.0.1 - - [13/Sep/2022 00:04:32] \"POST /predict HTTP/1.1\" 200 -\n",
      "127.0.0.1 - - [13/Sep/2022 00:04:35] \"POST /predict HTTP/1.1\" 200 -\n",
      "127.0.0.1 - - [13/Sep/2022 00:04:36] \"POST /predict HTTP/1.1\" 200 -\n",
      "127.0.0.1 - - [13/Sep/2022 00:04:38] \"OPTIONS /predict HTTP/1.1\" 200 -\n",
      "127.0.0.1 - - [13/Sep/2022 00:04:38] \"POST /predict HTTP/1.1\" 200 -\n",
      "127.0.0.1 - - [13/Sep/2022 00:04:56] \"GET /damero HTTP/1.1\" 200 -\n",
      "127.0.0.1 - - [13/Sep/2022 00:05:06] \"GET /damero HTTP/1.1\" 200 -\n",
      "127.0.0.1 - - [13/Sep/2022 00:05:07] \"OPTIONS /predict HTTP/1.1\" 200 -\n",
      "127.0.0.1 - - [13/Sep/2022 00:05:07] \"POST /predict HTTP/1.1\" 200 -\n",
      "127.0.0.1 - - [13/Sep/2022 00:05:08] \"POST /predict HTTP/1.1\" 200 -\n",
      "127.0.0.1 - - [13/Sep/2022 00:05:09] \"POST /predict HTTP/1.1\" 200 -\n",
      "127.0.0.1 - - [13/Sep/2022 00:05:14] \"OPTIONS /predict HTTP/1.1\" 200 -\n",
      "127.0.0.1 - - [13/Sep/2022 00:05:14] \"POST /predict HTTP/1.1\" 200 -\n",
      "127.0.0.1 - - [13/Sep/2022 00:05:19] \"POST /predict HTTP/1.1\" 200 -\n",
      "127.0.0.1 - - [13/Sep/2022 00:05:19] \"POST /predict HTTP/1.1\" 200 -\n",
      "127.0.0.1 - - [13/Sep/2022 00:05:21] \"OPTIONS /predict HTTP/1.1\" 200 -\n",
      "127.0.0.1 - - [13/Sep/2022 00:05:21] \"POST /predict HTTP/1.1\" 200 -\n",
      "127.0.0.1 - - [13/Sep/2022 00:05:28] \"OPTIONS /predict HTTP/1.1\" 200 -\n",
      "127.0.0.1 - - [13/Sep/2022 00:05:28] \"POST /predict HTTP/1.1\" 200 -\n",
      "127.0.0.1 - - [13/Sep/2022 00:05:30] \"POST /predict HTTP/1.1\" 200 -\n",
      "127.0.0.1 - - [13/Sep/2022 00:05:31] \"POST /predict HTTP/1.1\" 200 -\n",
      "127.0.0.1 - - [13/Sep/2022 00:05:33] \"OPTIONS /predict HTTP/1.1\" 200 -\n",
      "127.0.0.1 - - [13/Sep/2022 00:05:33] \"POST /predict HTTP/1.1\" 200 -\n",
      "127.0.0.1 - - [13/Sep/2022 00:05:35] \"POST /predict HTTP/1.1\" 200 -\n",
      "127.0.0.1 - - [13/Sep/2022 00:05:38] \"POST /predict HTTP/1.1\" 200 -\n",
      "127.0.0.1 - - [13/Sep/2022 00:05:40] \"OPTIONS /predict HTTP/1.1\" 200 -\n",
      "127.0.0.1 - - [13/Sep/2022 00:05:40] \"POST /predict HTTP/1.1\" 200 -\n",
      "127.0.0.1 - - [13/Sep/2022 00:05:41] \"POST /predict HTTP/1.1\" 200 -\n",
      "127.0.0.1 - - [13/Sep/2022 00:05:42] \"POST /predict HTTP/1.1\" 200 -\n",
      "127.0.0.1 - - [13/Sep/2022 00:05:45] \"OPTIONS /predict HTTP/1.1\" 200 -\n",
      "127.0.0.1 - - [13/Sep/2022 00:05:45] \"POST /predict HTTP/1.1\" 200 -\n",
      "127.0.0.1 - - [13/Sep/2022 00:05:52] \"OPTIONS /predict HTTP/1.1\" 200 -\n",
      "127.0.0.1 - - [13/Sep/2022 00:05:52] \"POST /predict HTTP/1.1\" 200 -\n"
     ]
    }
   ],
   "source": [
    "app.run(host='0.0.0.0', port=5009)"
   ]
  }
 ],
 "metadata": {
  "kernelspec": {
   "display_name": "Python 3.8.12 ('dhdsblend2021')",
   "language": "python",
   "name": "python3"
  },
  "language_info": {
   "codemirror_mode": {
    "name": "ipython",
    "version": 3
   },
   "file_extension": ".py",
   "mimetype": "text/x-python",
   "name": "python",
   "nbconvert_exporter": "python",
   "pygments_lexer": "ipython3",
   "version": "3.8.12"
  },
  "orig_nbformat": 4,
  "vscode": {
   "interpreter": {
    "hash": "5cac649d55c518045b8abef44fc10842f54363cf20fcd57b8c5b62a0494a5550"
   }
  }
 },
 "nbformat": 4,
 "nbformat_minor": 2
}
