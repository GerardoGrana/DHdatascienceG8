{
 "cells": [
  {
   "cell_type": "code",
   "execution_count": null,
   "metadata": {},
   "outputs": [],
   "source": [
    "import pandas as pd\n",
    "import geopandas as gpd\n",
    "import matplotlib.pyplot as plt\n",
    "import descartes\n",
    "import openpyxl as op"
   ]
  },
  {
   "cell_type": "code",
   "execution_count": null,
   "metadata": {},
   "outputs": [],
   "source": [
    "# Importar datos de puntos verdes y damero\n",
    "path1= 'Dim_PV-R GIS_Uso.xlsx'\n",
    "\n",
    "# puntos verdes\n",
    "pvgis= pd.read_excel(path1, 'PV_R_GIS')\n",
    "\n",
    "# damero\n",
    "damerogis= pd.read_excel(path1,'Damero_GIS')"
   ]
  },
  {
   "cell_type": "code",
   "execution_count": null,
   "metadata": {},
   "outputs": [],
   "source": [
    "#Realizar join de damero con las mejores predicciones de todos los modelos"
   ]
  },
  {
   "cell_type": "code",
   "execution_count": null,
   "metadata": {},
   "outputs": [],
   "source": [
    "# Seleccionar columnas de interés ID y coordenadas en ambos\n",
    "pv = pvgis[['ID', 'Y_WGS', 'X_WGS', 'PuntoTipo']] # Incorporar columna con la clasificación\n",
    "damero = damerogis[['Índice', 'x_wgs', 'y_wgs']] # Incorporar columna con la predicción\n",
    "\n",
    "# Renombrar columnas, ordenar y crear PuntoTipo\n",
    "damero.columns = ['ID', 'X_WGS', 'Y_WGS']\n",
    "damero[['ID', 'Y_WGS', 'X_WGS']]\n",
    "damero['PuntoTipo'] = 'Esquina'\n",
    "\n",
    "# Unir dataframes\n",
    "pv_damero = pd.concat([pv, damero])\n",
    "\n",
    "pv_damero"
   ]
  },
  {
   "cell_type": "code",
   "execution_count": null,
   "metadata": {},
   "outputs": [],
   "source": [
    "#Crear geodataframes\n",
    "geometria = gpd.points_from_xy(pv_damero.X_WGS, pv_damero.Y_WGS)\n",
    "\n",
    "pv_damero_geo = gpd.GeoDataFrame(pv_damero, geometry= geometria)\n",
    "\n",
    "pv_damero_geo\n"
   ]
  },
  {
   "cell_type": "code",
   "execution_count": null,
   "metadata": {},
   "outputs": [],
   "source": [
    "#Visualizar geodataframe\n",
    "\n",
    "ax = pv_damero_geo.plot(color='black', edgecolor='white')\n",
    "pv_damero_geo.plot(ax=ax, color='blue')\n",
    "\n",
    "plt.show()"
   ]
  }
 ],
 "metadata": {
  "language_info": {
   "name": "python"
  },
  "orig_nbformat": 4
 },
 "nbformat": 4,
 "nbformat_minor": 2
}
