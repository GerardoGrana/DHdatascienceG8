{
 "cells": [
  {
   "cell_type": "code",
   "execution_count": 1,
   "metadata": {},
   "outputs": [
    {
     "ename": "ModuleNotFoundError",
     "evalue": "No module named 'geopandas'",
     "output_type": "error",
     "traceback": [
      "\u001b[1;31m---------------------------------------------------------------------------\u001b[0m",
      "\u001b[1;31mModuleNotFoundError\u001b[0m                       Traceback (most recent call last)",
      "Input \u001b[1;32mIn [1]\u001b[0m, in \u001b[0;36m<cell line: 2>\u001b[1;34m()\u001b[0m\n\u001b[0;32m      1\u001b[0m \u001b[38;5;28;01mimport\u001b[39;00m \u001b[38;5;21;01mpandas\u001b[39;00m \u001b[38;5;28;01mas\u001b[39;00m \u001b[38;5;21;01mpd\u001b[39;00m\n\u001b[1;32m----> 2\u001b[0m \u001b[38;5;28;01mimport\u001b[39;00m \u001b[38;5;21;01mgeopandas\u001b[39;00m \u001b[38;5;28;01mas\u001b[39;00m \u001b[38;5;21;01mgpd\u001b[39;00m\n\u001b[0;32m      3\u001b[0m \u001b[38;5;28;01mimport\u001b[39;00m \u001b[38;5;21;01mmatplotlib\u001b[39;00m\u001b[38;5;21;01m.\u001b[39;00m\u001b[38;5;21;01mpyplot\u001b[39;00m \u001b[38;5;28;01mas\u001b[39;00m \u001b[38;5;21;01mplt\u001b[39;00m\n\u001b[0;32m      4\u001b[0m \u001b[38;5;28;01mimport\u001b[39;00m \u001b[38;5;21;01mdescartes\u001b[39;00m\n",
      "\u001b[1;31mModuleNotFoundError\u001b[0m: No module named 'geopandas'"
     ]
    }
   ],
   "source": [
    "import pandas as pd\n",
    "import geopandas as gpd\n",
    "import matplotlib.pyplot as plt\n",
    "import descartes\n",
    "import openpyxl as op"
   ]
  },
  {
   "cell_type": "code",
   "execution_count": null,
   "metadata": {},
   "outputs": [],
   "source": [
    "# Importar datos de puntos verdes y damero\n",
    "path1= 'Dim_PV-R GIS_Uso.xlsx'\n",
    "\n",
    "# puntos verdes\n",
    "pvgis= pd.read_excel(path1, 'PV_R_GIS')\n",
    "\n",
    "# damero\n",
    "damerogis= pd.read_excel(path1,'Damero_GIS')"
   ]
  },
  {
   "cell_type": "code",
   "execution_count": null,
   "metadata": {},
   "outputs": [],
   "source": [
    "#Realizar join de damero con las mejores predicciones de todos los modelos"
   ]
  },
  {
   "cell_type": "code",
   "execution_count": null,
   "metadata": {},
   "outputs": [],
   "source": [
    "# Seleccionar columnas de interés ID y coordenadas en ambos\n",
    "pv = pvgis[['ID', 'Y_WGS', 'X_WGS', 'PuntoTipo']] # Incorporar columna con la clasificación\n",
    "damero = damerogis[['Índice', 'x_wgs', 'y_wgs']] # Incorporar columna con la predicción\n",
    "\n",
    "# Renombrar columnas, ordenar y crear PuntoTipo\n",
    "damero.columns = ['ID', 'X_WGS', 'Y_WGS']\n",
    "damero[['ID', 'Y_WGS', 'X_WGS']]\n",
    "damero['PuntoTipo'] = 'Esquina'\n",
    "\n",
    "# Unir dataframes\n",
    "pv_damero = pd.concat([pv, damero])\n",
    "\n",
    "pv_damero"
   ]
  },
  {
   "cell_type": "code",
   "execution_count": null,
   "metadata": {},
   "outputs": [],
   "source": [
    "#Crear geodataframes\n",
    "geometria = gpd.points_from_xy(pv_damero.X_WGS, pv_damero.Y_WGS)\n",
    "\n",
    "pv_damero_geo = gpd.GeoDataFrame(pv_damero, geometry= geometria)\n",
    "\n",
    "pv_damero_geo\n"
   ]
  },
  {
   "cell_type": "code",
   "execution_count": null,
   "metadata": {},
   "outputs": [],
   "source": [
    "#Visualizar geodataframe\n",
    "\n",
    "ax = pv_damero_geo.plot(color='black', edgecolor='white')\n",
    "pv_damero_geo.plot(ax=ax, color='blue')\n",
    "\n",
    "plt.show()"
   ]
  }
 ],
 "metadata": {
  "kernelspec": {
   "display_name": "Python 3.8.9 64-bit",
   "language": "python",
   "name": "python3"
  },
  "language_info": {
   "codemirror_mode": {
    "name": "ipython",
    "version": 3
   },
   "file_extension": ".py",
   "mimetype": "text/x-python",
   "name": "python",
   "nbconvert_exporter": "python",
   "pygments_lexer": "ipython3",
   "version": "3.8.9"
  },
  "vscode": {
   "interpreter": {
    "hash": "31f2aee4e71d21fbe5cf8b01ff0e069b9275f58929596ceb00d14d90e3e16cd6"
   }
  }
 },
 "nbformat": 4,
 "nbformat_minor": 2
}
