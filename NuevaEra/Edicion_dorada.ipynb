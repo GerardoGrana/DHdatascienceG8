{
  "cells": [
    {
      "cell_type": "code",
      "execution_count": 1,
      "id": "a5c8a4aa",
      "metadata": {
        "colab": {
          "base_uri": "https://localhost:8080/"
        },
        "id": "a5c8a4aa",
        "outputId": "7a570dba-1200-456b-da2f-09e94546999b"
      },
      "outputs": [
        {
          "name": "stdout",
          "output_type": "stream",
          "text": [
            "Requirement already satisfied: xgboost in /Users/benjamin/anaconda3/envs/dhdsblend2021/lib/python3.9/site-packages (1.6.2)\n",
            "Requirement already satisfied: numpy in /Users/benjamin/anaconda3/envs/dhdsblend2021/lib/python3.9/site-packages (from xgboost) (1.19.2)\n",
            "Requirement already satisfied: scipy in /Users/benjamin/anaconda3/envs/dhdsblend2021/lib/python3.9/site-packages (from xgboost) (1.5.2)\n"
          ]
        }
      ],
      "source": [
        "!pip install xgboost"
      ]
    },
    {
      "cell_type": "code",
      "execution_count": 2,
      "id": "1838066b",
      "metadata": {
        "id": "1838066b"
      },
      "outputs": [],
      "source": [
        "#Librerias\n",
        "import numpy as np\n",
        "import pandas as pd\n",
        "import matplotlib.pyplot as plt\n",
        "import seaborn as sns\n",
        "from sklearn.model_selection import train_test_split, GridSearchCV, cross_val_score, StratifiedKFold, RepeatedStratifiedKFold\n",
        "from sklearn.preprocessing import MinMaxScaler\n",
        "from sklearn.metrics import accuracy_score, confusion_matrix, plot_confusion_matrix\n",
        "\n",
        "from sklearn.neighbors import  KNeighborsClassifier\n",
        "from sklearn.ensemble import BaggingClassifier, GradientBoostingClassifier, AdaBoostClassifier\n",
        "from xgboost.sklearn import XGBClassifier\n",
        "\n",
        "from sklearn.svm import LinearSVC\n",
        "from sklearn.svm import SVC\n",
        "from sklearn.linear_model import SGDClassifier\n",
        "from sklearn.tree import DecisionTreeClassifier\n",
        "from sklearn.linear_model import LogisticRegression, LogisticRegressionCV"
      ]
    },
    {
      "cell_type": "markdown",
      "id": "d79b86df",
      "metadata": {
        "id": "d79b86df"
      },
      "source": [
        "Vamos a definir una funcion (Mergeador_data) que tome el dataset de las observaciones y el dataset de DAM_GEODATA, haga un merge y se quede con los features de los que luego analizaremos la varianza"
      ]
    },
    {
      "cell_type": "code",
      "execution_count": 3,
      "id": "0a298182",
      "metadata": {
        "id": "0a298182"
      },
      "outputs": [],
      "source": [
        "#Traemos los data frames\n",
        "\n",
        "PVR_observaciones_18 = pd.read_csv('../Datasets/PVR_observaciones_promedio_cutoff18.csv')\n",
        "PVR_observaciones_375 = pd.read_csv('../Datasets/PVR_observaciones_promedio_cutoff375.csv')\n",
        "PVR_observaciones = pd.read_csv('../Datasets/PVR_Obs_Cutoff.csv', delimiter= ';')\n",
        "PVR_DAM_geodata = pd.read_csv('../Datasets/PVR_DAM_geodata.csv', delimiter= ';')\n",
        "\n",
        "def Mergeador_data (data2, data1):\n",
        "    \n",
        "    #Guardamos las variables en forma global, para llamarlas en cualquier momento\n",
        "    global PVR_train_test, DAM_to_predict, PVR_train_test_copy\n",
        "    \n",
        "    #La funcion elimina los puntos del tipo intersección, Además guarda las intersecciones para luego hacer predicciones\n",
        "    DAM_to_predict = data1[data1['punto_tipo'] == 'Intersercción']\n",
        "    PVR_geodata = data1.drop(data1[data1['punto_tipo'] == 'Intersercción'].index)\n",
        "    \n",
        "    PVR_train_test = pd.merge(data2, data1 , how=\"left\", on=[\"ID\"]) \n",
        "    \n",
        "    #Una vez que tenemos el PVR_train_test final, vamos a eliminar sus nulls\n",
        "    PVR_train_test.dropna(axis=0, inplace= True)\n",
        "    \n",
        "    #Dejamos los features de ID, index, x, y, punto_tipo solo para las predicciones\n",
        "    PVR_train_test_copy = PVR_train_test.copy()\n",
        "    PVR_train_test.drop(['ID', 'index','x','y', 'punto_tipo', 'radio_censal'], axis=1, inplace= True)  \n",
        "    \n",
        "    #Hacemos dummies\n",
        "    PVR_train_test = pd.get_dummies(PVR_train_test, drop_first=True)"
      ]
    },
    {
      "cell_type": "code",
      "execution_count": 4,
      "id": "7d153b3f",
      "metadata": {
        "id": "7d153b3f"
      },
      "outputs": [],
      "source": [
        "#Invocamos al mergeador\n",
        "Mergeador_data(PVR_observaciones_375, PVR_DAM_geodata)"
      ]
    },
    {
      "cell_type": "code",
      "execution_count": 5,
      "id": "9xQYS9gXi0jQ",
      "metadata": {
        "colab": {
          "base_uri": "https://localhost:8080/",
          "height": 505
        },
        "id": "9xQYS9gXi0jQ",
        "outputId": "a8120523-5cff-4048-ab36-50cd8a30f85c"
      },
      "outputs": [
        {
          "data": {
            "text/html": [
              "<div>\n",
              "<style scoped>\n",
              "    .dataframe tbody tr th:only-of-type {\n",
              "        vertical-align: middle;\n",
              "    }\n",
              "\n",
              "    .dataframe tbody tr th {\n",
              "        vertical-align: top;\n",
              "    }\n",
              "\n",
              "    .dataframe thead th {\n",
              "        text-align: right;\n",
              "    }\n",
              "</style>\n",
              "<table border=\"1\" class=\"dataframe\">\n",
              "  <thead>\n",
              "    <tr style=\"text-align: right;\">\n",
              "      <th></th>\n",
              "      <th>valoracion</th>\n",
              "      <th>poblacion</th>\n",
              "      <th>hogares</th>\n",
              "      <th>desocupado</th>\n",
              "      <th>0-14</th>\n",
              "      <th>65_mas</th>\n",
              "      <th>inicial</th>\n",
              "      <th>primario</th>\n",
              "      <th>egb</th>\n",
              "      <th>secundario</th>\n",
              "      <th>...</th>\n",
              "      <th>NoLee_ni_e</th>\n",
              "      <th>hacinamiento</th>\n",
              "      <th>sin_agua</th>\n",
              "      <th>sin_cloaca</th>\n",
              "      <th>densidad_comercial</th>\n",
              "      <th>microzonificacion_Comercial</th>\n",
              "      <th>microzonificacion_Residencial suburbano</th>\n",
              "      <th>microzonificacion_Residencial urbano</th>\n",
              "      <th>macrozonificacion_Interfaz</th>\n",
              "      <th>macrozonificacion_Urbano</th>\n",
              "    </tr>\n",
              "  </thead>\n",
              "  <tbody>\n",
              "    <tr>\n",
              "      <th>0</th>\n",
              "      <td>0.0</td>\n",
              "      <td>848.0</td>\n",
              "      <td>259.0</td>\n",
              "      <td>39.0</td>\n",
              "      <td>190.0</td>\n",
              "      <td>97.0</td>\n",
              "      <td>35.0</td>\n",
              "      <td>124.0</td>\n",
              "      <td>80.0</td>\n",
              "      <td>180.0</td>\n",
              "      <td>...</td>\n",
              "      <td>40.0</td>\n",
              "      <td>1.0</td>\n",
              "      <td>0.0</td>\n",
              "      <td>23.0</td>\n",
              "      <td>0.0</td>\n",
              "      <td>0</td>\n",
              "      <td>0</td>\n",
              "      <td>1</td>\n",
              "      <td>0</td>\n",
              "      <td>1</td>\n",
              "    </tr>\n",
              "    <tr>\n",
              "      <th>1</th>\n",
              "      <td>1.0</td>\n",
              "      <td>620.0</td>\n",
              "      <td>215.0</td>\n",
              "      <td>17.0</td>\n",
              "      <td>101.0</td>\n",
              "      <td>103.0</td>\n",
              "      <td>16.0</td>\n",
              "      <td>79.0</td>\n",
              "      <td>42.0</td>\n",
              "      <td>156.0</td>\n",
              "      <td>...</td>\n",
              "      <td>22.0</td>\n",
              "      <td>1.0</td>\n",
              "      <td>0.0</td>\n",
              "      <td>0.0</td>\n",
              "      <td>7.0</td>\n",
              "      <td>0</td>\n",
              "      <td>0</td>\n",
              "      <td>1</td>\n",
              "      <td>0</td>\n",
              "      <td>1</td>\n",
              "    </tr>\n",
              "    <tr>\n",
              "      <th>2</th>\n",
              "      <td>1.0</td>\n",
              "      <td>519.0</td>\n",
              "      <td>245.0</td>\n",
              "      <td>9.0</td>\n",
              "      <td>65.0</td>\n",
              "      <td>132.0</td>\n",
              "      <td>11.0</td>\n",
              "      <td>73.0</td>\n",
              "      <td>12.0</td>\n",
              "      <td>119.0</td>\n",
              "      <td>...</td>\n",
              "      <td>14.0</td>\n",
              "      <td>0.0</td>\n",
              "      <td>0.0</td>\n",
              "      <td>0.0</td>\n",
              "      <td>5.0</td>\n",
              "      <td>1</td>\n",
              "      <td>0</td>\n",
              "      <td>0</td>\n",
              "      <td>0</td>\n",
              "      <td>0</td>\n",
              "    </tr>\n",
              "    <tr>\n",
              "      <th>3</th>\n",
              "      <td>1.0</td>\n",
              "      <td>519.0</td>\n",
              "      <td>245.0</td>\n",
              "      <td>9.0</td>\n",
              "      <td>65.0</td>\n",
              "      <td>132.0</td>\n",
              "      <td>11.0</td>\n",
              "      <td>73.0</td>\n",
              "      <td>12.0</td>\n",
              "      <td>119.0</td>\n",
              "      <td>...</td>\n",
              "      <td>14.0</td>\n",
              "      <td>0.0</td>\n",
              "      <td>0.0</td>\n",
              "      <td>0.0</td>\n",
              "      <td>5.0</td>\n",
              "      <td>1</td>\n",
              "      <td>0</td>\n",
              "      <td>0</td>\n",
              "      <td>0</td>\n",
              "      <td>0</td>\n",
              "    </tr>\n",
              "    <tr>\n",
              "      <th>4</th>\n",
              "      <td>1.0</td>\n",
              "      <td>664.0</td>\n",
              "      <td>268.0</td>\n",
              "      <td>21.0</td>\n",
              "      <td>104.0</td>\n",
              "      <td>120.0</td>\n",
              "      <td>16.0</td>\n",
              "      <td>103.0</td>\n",
              "      <td>12.0</td>\n",
              "      <td>154.0</td>\n",
              "      <td>...</td>\n",
              "      <td>18.0</td>\n",
              "      <td>2.0</td>\n",
              "      <td>2.0</td>\n",
              "      <td>0.0</td>\n",
              "      <td>2.0</td>\n",
              "      <td>1</td>\n",
              "      <td>0</td>\n",
              "      <td>0</td>\n",
              "      <td>0</td>\n",
              "      <td>0</td>\n",
              "    </tr>\n",
              "    <tr>\n",
              "      <th>...</th>\n",
              "      <td>...</td>\n",
              "      <td>...</td>\n",
              "      <td>...</td>\n",
              "      <td>...</td>\n",
              "      <td>...</td>\n",
              "      <td>...</td>\n",
              "      <td>...</td>\n",
              "      <td>...</td>\n",
              "      <td>...</td>\n",
              "      <td>...</td>\n",
              "      <td>...</td>\n",
              "      <td>...</td>\n",
              "      <td>...</td>\n",
              "      <td>...</td>\n",
              "      <td>...</td>\n",
              "      <td>...</td>\n",
              "      <td>...</td>\n",
              "      <td>...</td>\n",
              "      <td>...</td>\n",
              "      <td>...</td>\n",
              "      <td>...</td>\n",
              "    </tr>\n",
              "    <tr>\n",
              "      <th>74</th>\n",
              "      <td>1.0</td>\n",
              "      <td>876.0</td>\n",
              "      <td>287.0</td>\n",
              "      <td>39.0</td>\n",
              "      <td>157.0</td>\n",
              "      <td>125.0</td>\n",
              "      <td>23.0</td>\n",
              "      <td>229.0</td>\n",
              "      <td>59.0</td>\n",
              "      <td>261.0</td>\n",
              "      <td>...</td>\n",
              "      <td>35.0</td>\n",
              "      <td>3.0</td>\n",
              "      <td>0.0</td>\n",
              "      <td>1.0</td>\n",
              "      <td>9.0</td>\n",
              "      <td>0</td>\n",
              "      <td>0</td>\n",
              "      <td>1</td>\n",
              "      <td>0</td>\n",
              "      <td>1</td>\n",
              "    </tr>\n",
              "    <tr>\n",
              "      <th>75</th>\n",
              "      <td>1.0</td>\n",
              "      <td>528.0</td>\n",
              "      <td>188.0</td>\n",
              "      <td>11.0</td>\n",
              "      <td>87.0</td>\n",
              "      <td>102.0</td>\n",
              "      <td>16.0</td>\n",
              "      <td>40.0</td>\n",
              "      <td>24.0</td>\n",
              "      <td>82.0</td>\n",
              "      <td>...</td>\n",
              "      <td>16.0</td>\n",
              "      <td>0.0</td>\n",
              "      <td>0.0</td>\n",
              "      <td>0.0</td>\n",
              "      <td>10.0</td>\n",
              "      <td>0</td>\n",
              "      <td>0</td>\n",
              "      <td>1</td>\n",
              "      <td>0</td>\n",
              "      <td>1</td>\n",
              "    </tr>\n",
              "    <tr>\n",
              "      <th>76</th>\n",
              "      <td>0.0</td>\n",
              "      <td>1190.0</td>\n",
              "      <td>351.0</td>\n",
              "      <td>23.0</td>\n",
              "      <td>208.0</td>\n",
              "      <td>113.0</td>\n",
              "      <td>43.0</td>\n",
              "      <td>76.0</td>\n",
              "      <td>103.0</td>\n",
              "      <td>141.0</td>\n",
              "      <td>...</td>\n",
              "      <td>44.0</td>\n",
              "      <td>0.0</td>\n",
              "      <td>66.0</td>\n",
              "      <td>3.0</td>\n",
              "      <td>2.0</td>\n",
              "      <td>0</td>\n",
              "      <td>1</td>\n",
              "      <td>0</td>\n",
              "      <td>1</td>\n",
              "      <td>0</td>\n",
              "    </tr>\n",
              "    <tr>\n",
              "      <th>77</th>\n",
              "      <td>1.0</td>\n",
              "      <td>784.0</td>\n",
              "      <td>305.0</td>\n",
              "      <td>27.0</td>\n",
              "      <td>106.0</td>\n",
              "      <td>122.0</td>\n",
              "      <td>18.0</td>\n",
              "      <td>116.0</td>\n",
              "      <td>26.0</td>\n",
              "      <td>194.0</td>\n",
              "      <td>...</td>\n",
              "      <td>23.0</td>\n",
              "      <td>1.0</td>\n",
              "      <td>5.0</td>\n",
              "      <td>0.0</td>\n",
              "      <td>11.0</td>\n",
              "      <td>0</td>\n",
              "      <td>0</td>\n",
              "      <td>1</td>\n",
              "      <td>0</td>\n",
              "      <td>1</td>\n",
              "    </tr>\n",
              "    <tr>\n",
              "      <th>78</th>\n",
              "      <td>1.0</td>\n",
              "      <td>452.0</td>\n",
              "      <td>169.0</td>\n",
              "      <td>24.0</td>\n",
              "      <td>49.0</td>\n",
              "      <td>92.0</td>\n",
              "      <td>8.0</td>\n",
              "      <td>55.0</td>\n",
              "      <td>19.0</td>\n",
              "      <td>102.0</td>\n",
              "      <td>...</td>\n",
              "      <td>8.0</td>\n",
              "      <td>0.0</td>\n",
              "      <td>0.0</td>\n",
              "      <td>0.0</td>\n",
              "      <td>16.0</td>\n",
              "      <td>0</td>\n",
              "      <td>0</td>\n",
              "      <td>1</td>\n",
              "      <td>0</td>\n",
              "      <td>1</td>\n",
              "    </tr>\n",
              "  </tbody>\n",
              "</table>\n",
              "<p>63 rows × 25 columns</p>\n",
              "</div>"
            ],
            "text/plain": [
              "    valoracion  poblacion  hogares  desocupado   0-14  65_mas  inicial  \\\n",
              "0          0.0      848.0    259.0        39.0  190.0    97.0     35.0   \n",
              "1          1.0      620.0    215.0        17.0  101.0   103.0     16.0   \n",
              "2          1.0      519.0    245.0         9.0   65.0   132.0     11.0   \n",
              "3          1.0      519.0    245.0         9.0   65.0   132.0     11.0   \n",
              "4          1.0      664.0    268.0        21.0  104.0   120.0     16.0   \n",
              "..         ...        ...      ...         ...    ...     ...      ...   \n",
              "74         1.0      876.0    287.0        39.0  157.0   125.0     23.0   \n",
              "75         1.0      528.0    188.0        11.0   87.0   102.0     16.0   \n",
              "76         0.0     1190.0    351.0        23.0  208.0   113.0     43.0   \n",
              "77         1.0      784.0    305.0        27.0  106.0   122.0     18.0   \n",
              "78         1.0      452.0    169.0        24.0   49.0    92.0      8.0   \n",
              "\n",
              "    primario    egb  secundario  ...  NoLee_ni_e  hacinamiento  sin_agua  \\\n",
              "0      124.0   80.0       180.0  ...        40.0           1.0       0.0   \n",
              "1       79.0   42.0       156.0  ...        22.0           1.0       0.0   \n",
              "2       73.0   12.0       119.0  ...        14.0           0.0       0.0   \n",
              "3       73.0   12.0       119.0  ...        14.0           0.0       0.0   \n",
              "4      103.0   12.0       154.0  ...        18.0           2.0       2.0   \n",
              "..       ...    ...         ...  ...         ...           ...       ...   \n",
              "74     229.0   59.0       261.0  ...        35.0           3.0       0.0   \n",
              "75      40.0   24.0        82.0  ...        16.0           0.0       0.0   \n",
              "76      76.0  103.0       141.0  ...        44.0           0.0      66.0   \n",
              "77     116.0   26.0       194.0  ...        23.0           1.0       5.0   \n",
              "78      55.0   19.0       102.0  ...         8.0           0.0       0.0   \n",
              "\n",
              "    sin_cloaca  densidad_comercial  microzonificacion_Comercial  \\\n",
              "0         23.0                 0.0                            0   \n",
              "1          0.0                 7.0                            0   \n",
              "2          0.0                 5.0                            1   \n",
              "3          0.0                 5.0                            1   \n",
              "4          0.0                 2.0                            1   \n",
              "..         ...                 ...                          ...   \n",
              "74         1.0                 9.0                            0   \n",
              "75         0.0                10.0                            0   \n",
              "76         3.0                 2.0                            0   \n",
              "77         0.0                11.0                            0   \n",
              "78         0.0                16.0                            0   \n",
              "\n",
              "    microzonificacion_Residencial suburbano  \\\n",
              "0                                         0   \n",
              "1                                         0   \n",
              "2                                         0   \n",
              "3                                         0   \n",
              "4                                         0   \n",
              "..                                      ...   \n",
              "74                                        0   \n",
              "75                                        0   \n",
              "76                                        1   \n",
              "77                                        0   \n",
              "78                                        0   \n",
              "\n",
              "    microzonificacion_Residencial urbano  macrozonificacion_Interfaz  \\\n",
              "0                                      1                           0   \n",
              "1                                      1                           0   \n",
              "2                                      0                           0   \n",
              "3                                      0                           0   \n",
              "4                                      0                           0   \n",
              "..                                   ...                         ...   \n",
              "74                                     1                           0   \n",
              "75                                     1                           0   \n",
              "76                                     0                           1   \n",
              "77                                     1                           0   \n",
              "78                                     1                           0   \n",
              "\n",
              "    macrozonificacion_Urbano  \n",
              "0                          1  \n",
              "1                          1  \n",
              "2                          0  \n",
              "3                          0  \n",
              "4                          0  \n",
              "..                       ...  \n",
              "74                         1  \n",
              "75                         1  \n",
              "76                         0  \n",
              "77                         1  \n",
              "78                         1  \n",
              "\n",
              "[63 rows x 25 columns]"
            ]
          },
          "execution_count": 5,
          "metadata": {},
          "output_type": "execute_result"
        }
      ],
      "source": [
        "PVR_train_test"
      ]
    },
    {
      "cell_type": "code",
      "execution_count": 6,
      "id": "c231cba9",
      "metadata": {
        "colab": {
          "base_uri": "https://localhost:8080/",
          "height": 1000
        },
        "id": "c231cba9",
        "outputId": "a4d1e729-48d8-4f13-b218-80756d1058b7"
      },
      "outputs": [
        {
          "data": {
            "image/png": "[encoded data removed]",
            "text/plain": [
              "<Figure size 3000x3000 with 1 Axes>"
            ]
          },
          "metadata": {},
          "output_type": "display_data"
        }
      ],
      "source": [
        "#Visualizacion de outliers\n",
        "\n",
        "plt.rcParams[\"figure.figsize\"] = [30, 30]\n",
        "plt.rcParams[\"figure.autolayout\"] = True\n",
        "\n",
        "ax = PVR_train_test[['poblacion','hogares', 'desocupado', '0-14', '65_mas', 'inicial', 'primario', 'egb', 'secundario', 'polimodal', 'superior', 'universitario', 'post_universitario', 'lee_y _esc', 'NoLee_ni_e',\n",
        "       'hacinamiento', 'sin_agua', 'sin_cloaca', 'densidad_comercial', ]].plot(kind='box')\n",
        "plt.xticks(fontsize=12)\n",
        "plt.yticks(fontsize=20)\n",
        "\n",
        "plt.show()"
      ]
    },
    {
      "cell_type": "code",
      "execution_count": 7,
      "id": "72a05eae",
      "metadata": {
        "id": "72a05eae"
      },
      "outputs": [],
      "source": [
        "def detect_outliers_iqr(data):\n",
        "    outlier=[]\n",
        "\n",
        "    data = sorted(data)\n",
        "    q1= np.percentile(data,25)\n",
        "    q3= np.percentile(data,75)\n",
        "        \n",
        "    IQR= q3-q1\n",
        "    \n",
        "    lwr_bound= q1 - (1.5*IQR)\n",
        "    upr_bound = q3 + (1.5*IQR)\n",
        "        \n",
        "    \n",
        "    for j in data:\n",
        "        if (j<lwr_bound or j>upr_bound):\n",
        "            outlier.append(j)\n",
        "    \n",
        "    return outlier"
      ]
    },
    {
      "cell_type": "code",
      "execution_count": 8,
      "id": "17abe55e",
      "metadata": {
        "colab": {
          "base_uri": "https://localhost:8080/"
        },
        "id": "17abe55e",
        "outputId": "50c54302-05ff-4b00-e68b-3c6f3e42e666"
      },
      "outputs": [
        {
          "data": {
            "text/plain": [
              "[59.0, 72.0, 80.0, 103.0, 140.0]"
            ]
          },
          "execution_count": 8,
          "metadata": {},
          "output_type": "execute_result"
        }
      ],
      "source": [
        "outlier = detect_outliers_iqr(PVR_train_test['egb'])\n",
        "outlier"
      ]
    },
    {
      "cell_type": "markdown",
      "id": "d40275a3",
      "metadata": {
        "id": "d40275a3"
      },
      "source": [
        "Ahora invocamos la función y creado el dataset hagamos otra que se quede con los mejores features, splitee los datos y nos guarde el dataset para entrenar."
      ]
    },
    {
      "cell_type": "code",
      "execution_count": 9,
      "id": "887ee33d",
      "metadata": {
        "id": "887ee33d"
      },
      "outputs": [],
      "source": [
        "def Preparando_data (data1):\n",
        "    \n",
        "    global x_train, x_test, y_train, y_test\n",
        "    \n",
        "    #Aca colocamos la seleccion de los mejores features \n",
        "    \n",
        "    #Separamos el X y el target\n",
        "    \n",
        "    X = PVR_train_test[PVR_train_test.columns.difference(['valoracion'])]\n",
        "    #X = PVR_train_test[['0-14', 'densidad_comercial', 'universitario', 'post_universitario', '65_mas']]\n",
        "    y = PVR_train_test['valoracion']\n",
        "    \n",
        "    #Splieteamos\n",
        "    x_train, x_test, y_train, y_test = train_test_split(X,y, stratify= y, test_size= 0.3, random_state= 9)\n",
        "    \n",
        "    #Estandarizamos los datos (lo dejamos muteado)\n",
        "    #x_train_std, x_test_std = MinMaxScaler(x_train, x_test)\n",
        "    \n",
        "    print('La distribucion de etiquetas es: ', y_train.value_counts() / y_train.value_counts().sum())\n",
        "    \n",
        "       "
      ]
    },
    {
      "cell_type": "code",
      "execution_count": 10,
      "id": "6ba434f8",
      "metadata": {
        "colab": {
          "base_uri": "https://localhost:8080/"
        },
        "id": "6ba434f8",
        "outputId": "6d8f494e-4792-44c0-cb11-6f3eb6695660"
      },
      "outputs": [
        {
          "name": "stdout",
          "output_type": "stream",
          "text": [
            "La distribucion de etiquetas es:  1.0    0.613636\n",
            "0.0    0.386364\n",
            "Name: valoracion, dtype: float64\n"
          ]
        }
      ],
      "source": [
        "#Generamos los datos para darle de comer al modelo\n",
        "Preparando_data(PVR_train_test)"
      ]
    },
    {
      "cell_type": "markdown",
      "id": "527ea4d0",
      "metadata": {
        "id": "527ea4d0"
      },
      "source": [
        "# Bagging"
      ]
    },
    {
      "cell_type": "code",
      "execution_count": 11,
      "id": "4d62e7e4",
      "metadata": {
        "colab": {
          "base_uri": "https://localhost:8080/"
        },
        "id": "4d62e7e4",
        "outputId": "a552ab3b-b1f1-4124-89ea-78576f67eded"
      },
      "outputs": [
        {
          "name": "stdout",
          "output_type": "stream",
          "text": [
            "Accuracy Bagging with KNeighbors: 0.5263157894736842\n",
            "\n",
            "Accuracy Bagging with LinearSCV: 0.3684210526315789\n",
            "\n",
            "Accuracy Bagging with SVC: 0.5789473684210527\n",
            "\n",
            "Accuracy Bagging with SGDC: 0.5789473684210527\n",
            "\n",
            "Accuracy Bagging with DecisionTree: 0.5789473684210527\n",
            "\n"
          ]
        },
        {
          "name": "stderr",
          "output_type": "stream",
          "text": [
            "/Users/benjamin/anaconda3/envs/dhdsblend2021/lib/python3.9/site-packages/sklearn/svm/_base.py:1225: ConvergenceWarning: Liblinear failed to converge, increase the number of iterations.\n",
            "  warnings.warn(\n",
            "/Users/benjamin/anaconda3/envs/dhdsblend2021/lib/python3.9/site-packages/sklearn/svm/_base.py:1225: ConvergenceWarning: Liblinear failed to converge, increase the number of iterations.\n",
            "  warnings.warn(\n",
            "/Users/benjamin/anaconda3/envs/dhdsblend2021/lib/python3.9/site-packages/sklearn/svm/_base.py:1225: ConvergenceWarning: Liblinear failed to converge, increase the number of iterations.\n",
            "  warnings.warn(\n",
            "/Users/benjamin/anaconda3/envs/dhdsblend2021/lib/python3.9/site-packages/sklearn/svm/_base.py:1225: ConvergenceWarning: Liblinear failed to converge, increase the number of iterations.\n",
            "  warnings.warn(\n",
            "/Users/benjamin/anaconda3/envs/dhdsblend2021/lib/python3.9/site-packages/sklearn/svm/_base.py:1225: ConvergenceWarning: Liblinear failed to converge, increase the number of iterations.\n",
            "  warnings.warn(\n"
          ]
        }
      ],
      "source": [
        "classifier = {\n",
        "    'KNeighbors': KNeighborsClassifier(),\n",
        "    'LinearSCV': LinearSVC(),\n",
        "    'SVC': SVC(),\n",
        "    'SGDC': SGDClassifier(),\n",
        "    'DecisionTree': DecisionTreeClassifier()\n",
        "}\n",
        "\n",
        "for name, estimator in classifier.items():\n",
        "    bag_class = BaggingClassifier(\n",
        "        base_estimator=estimator, n_estimators=5).fit(x_train, y_train)\n",
        "    bag_pred = bag_class.predict(x_test)\n",
        "\n",
        "    print('Accuracy Bagging with {}:'.format(\n",
        "        name), accuracy_score(bag_pred, y_test))\n",
        "    print('')\n"
      ]
    },
    {
      "cell_type": "markdown",
      "id": "edaa3ab9",
      "metadata": {
        "id": "edaa3ab9"
      },
      "source": [
        "# Boosting"
      ]
    },
    {
      "cell_type": "code",
      "execution_count": 12,
      "id": "ac565486",
      "metadata": {
        "colab": {
          "base_uri": "https://localhost:8080/"
        },
        "id": "ac565486",
        "outputId": "3e112cb0-0aa2-46ff-9af9-35c2f4fd221c"
      },
      "outputs": [
        {
          "name": "stdout",
          "output_type": "stream",
          "text": [
            "Fitting 5 folds for each of 84 candidates, totalling 420 fits\n",
            "Fitting 5 folds for each of 84 candidates, totalling 420 fits\n",
            "Fitting 5 folds for each of 21 candidates, totalling 105 fits\n"
          ]
        },
        {
          "data": {
            "text/html": [
              "<style>#sk-container-id-1 {color: black;background-color: white;}#sk-container-id-1 pre{padding: 0;}#sk-container-id-1 div.sk-toggleable {background-color: white;}#sk-container-id-1 label.sk-toggleable__label {cursor: pointer;display: block;width: 100%;margin-bottom: 0;padding: 0.3em;box-sizing: border-box;text-align: center;}#sk-container-id-1 label.sk-toggleable__label-arrow:before {content: \"▸\";float: left;margin-right: 0.25em;color: #696969;}#sk-container-id-1 label.sk-toggleable__label-arrow:hover:before {color: black;}#sk-container-id-1 div.sk-estimator:hover label.sk-toggleable__label-arrow:before {color: black;}#sk-container-id-1 div.sk-toggleable__content {max-height: 0;max-width: 0;overflow: hidden;text-align: left;background-color: #f0f8ff;}#sk-container-id-1 div.sk-toggleable__content pre {margin: 0.2em;color: black;border-radius: 0.25em;background-color: #f0f8ff;}#sk-container-id-1 input.sk-toggleable__control:checked~div.sk-toggleable__content {max-height: 200px;max-width: 100%;overflow: auto;}#sk-container-id-1 input.sk-toggleable__control:checked~label.sk-toggleable__label-arrow:before {content: \"▾\";}#sk-container-id-1 div.sk-estimator input.sk-toggleable__control:checked~label.sk-toggleable__label {background-color: #d4ebff;}#sk-container-id-1 div.sk-label input.sk-toggleable__control:checked~label.sk-toggleable__label {background-color: #d4ebff;}#sk-container-id-1 input.sk-hidden--visually {border: 0;clip: rect(1px 1px 1px 1px);clip: rect(1px, 1px, 1px, 1px);height: 1px;margin: -1px;overflow: hidden;padding: 0;position: absolute;width: 1px;}#sk-container-id-1 div.sk-estimator {font-family: monospace;background-color: #f0f8ff;border: 1px dotted black;border-radius: 0.25em;box-sizing: border-box;margin-bottom: 0.5em;}#sk-container-id-1 div.sk-estimator:hover {background-color: #d4ebff;}#sk-container-id-1 div.sk-parallel-item::after {content: \"\";width: 100%;border-bottom: 1px solid gray;flex-grow: 1;}#sk-container-id-1 div.sk-label:hover label.sk-toggleable__label {background-color: #d4ebff;}#sk-container-id-1 div.sk-serial::before {content: \"\";position: absolute;border-left: 1px solid gray;box-sizing: border-box;top: 0;bottom: 0;left: 50%;z-index: 0;}#sk-container-id-1 div.sk-serial {display: flex;flex-direction: column;align-items: center;background-color: white;padding-right: 0.2em;padding-left: 0.2em;position: relative;}#sk-container-id-1 div.sk-item {position: relative;z-index: 1;}#sk-container-id-1 div.sk-parallel {display: flex;align-items: stretch;justify-content: center;background-color: white;position: relative;}#sk-container-id-1 div.sk-item::before, #sk-container-id-1 div.sk-parallel-item::before {content: \"\";position: absolute;border-left: 1px solid gray;box-sizing: border-box;top: 0;bottom: 0;left: 50%;z-index: -1;}#sk-container-id-1 div.sk-parallel-item {display: flex;flex-direction: column;z-index: 1;position: relative;background-color: white;}#sk-container-id-1 div.sk-parallel-item:first-child::after {align-self: flex-end;width: 50%;}#sk-container-id-1 div.sk-parallel-item:last-child::after {align-self: flex-start;width: 50%;}#sk-container-id-1 div.sk-parallel-item:only-child::after {width: 0;}#sk-container-id-1 div.sk-dashed-wrapped {border: 1px dashed gray;margin: 0 0.4em 0.5em 0.4em;box-sizing: border-box;padding-bottom: 0.4em;background-color: white;}#sk-container-id-1 div.sk-label label {font-family: monospace;font-weight: bold;display: inline-block;line-height: 1.2em;}#sk-container-id-1 div.sk-label-container {text-align: center;}#sk-container-id-1 div.sk-container {/* jupyter's `normalize.less` sets `[hidden] { display: none; }` but bootstrap.min.css set `[hidden] { display: none !important; }` so we also need the `!important` here to be able to override the default hidden behavior on the sphinx rendered scikit-learn.org. See: https://github.com/scikit-learn/scikit-learn/issues/21755 */display: inline-block !important;position: relative;}#sk-container-id-1 div.sk-text-repr-fallback {display: none;}</style><div id=\"sk-container-id-1\" class=\"sk-top-container\"><div class=\"sk-text-repr-fallback\"><pre>GridSearchCV(cv=StratifiedKFold(n_splits=5, random_state=41, shuffle=True),\n",
              "             estimator=AdaBoostClassifier(), n_jobs=-1,\n",
              "             param_grid={&#x27;learning_rate&#x27;: [0.05, 0.075, 0.1, 0.25, 0.5, 0.75,\n",
              "                                           1],\n",
              "                         &#x27;n_estimators&#x27;: [50, 100, 500]},\n",
              "             verbose=1)</pre><b>In a Jupyter environment, please rerun this cell to show the HTML representation or trust the notebook. <br />On GitHub, the HTML representation is unable to render, please try loading this page with nbviewer.org.</b></div><div class=\"sk-container\" hidden><div class=\"sk-item sk-dashed-wrapped\"><div class=\"sk-label-container\"><div class=\"sk-label sk-toggleable\"><input class=\"sk-toggleable__control sk-hidden--visually\" id=\"sk-estimator-id-1\" type=\"checkbox\" ><label for=\"sk-estimator-id-1\" class=\"sk-toggleable__label sk-toggleable__label-arrow\">GridSearchCV</label><div class=\"sk-toggleable__content\"><pre>GridSearchCV(cv=StratifiedKFold(n_splits=5, random_state=41, shuffle=True),\n",
              "             estimator=AdaBoostClassifier(), n_jobs=-1,\n",
              "             param_grid={&#x27;learning_rate&#x27;: [0.05, 0.075, 0.1, 0.25, 0.5, 0.75,\n",
              "                                           1],\n",
              "                         &#x27;n_estimators&#x27;: [50, 100, 500]},\n",
              "             verbose=1)</pre></div></div></div><div class=\"sk-parallel\"><div class=\"sk-parallel-item\"><div class=\"sk-item\"><div class=\"sk-label-container\"><div class=\"sk-label sk-toggleable\"><input class=\"sk-toggleable__control sk-hidden--visually\" id=\"sk-estimator-id-2\" type=\"checkbox\" ><label for=\"sk-estimator-id-2\" class=\"sk-toggleable__label sk-toggleable__label-arrow\">estimator: AdaBoostClassifier</label><div class=\"sk-toggleable__content\"><pre>AdaBoostClassifier()</pre></div></div></div><div class=\"sk-serial\"><div class=\"sk-item\"><div class=\"sk-estimator sk-toggleable\"><input class=\"sk-toggleable__control sk-hidden--visually\" id=\"sk-estimator-id-3\" type=\"checkbox\" ><label for=\"sk-estimator-id-3\" class=\"sk-toggleable__label sk-toggleable__label-arrow\">AdaBoostClassifier</label><div class=\"sk-toggleable__content\"><pre>AdaBoostClassifier()</pre></div></div></div></div></div></div></div></div></div></div>"
            ],
            "text/plain": [
              "GridSearchCV(cv=StratifiedKFold(n_splits=5, random_state=41, shuffle=True),\n",
              "             estimator=AdaBoostClassifier(), n_jobs=-1,\n",
              "             param_grid={'learning_rate': [0.05, 0.075, 0.1, 0.25, 0.5, 0.75,\n",
              "                                           1],\n",
              "                         'n_estimators': [50, 100, 500]},\n",
              "             verbose=1)"
            ]
          },
          "execution_count": 12,
          "metadata": {},
          "output_type": "execute_result"
        }
      ],
      "source": [
        "cv = StratifiedKFold(n_splits=5, random_state=41, shuffle=True)\n",
        "\n",
        "params = {\n",
        "    \"n_estimators\": [50, 100, 500],\n",
        "    \"max_depth\": [1, 2, 3, 4],\n",
        "    \"learning_rate\": [0.05, 0.075, 0.1, 0.25, 0.5, 0.75, 1],\n",
        "}\n",
        "\n",
        "params2 = {\n",
        "    \"n_estimators\": [50, 100, 500],\n",
        "    \"learning_rate\": [0.05, 0.075, 0.1, 0.25, 0.5, 0.75, 1],\n",
        "}\n",
        "\n",
        "# XG Boost\n",
        "\n",
        "model_xg = XGBClassifier(n_jobs=-1, use_label_encoder=False)\n",
        "\n",
        "xgb = GridSearchCV(model_xg, param_grid=params,\n",
        "                   cv=cv, verbose=1, n_jobs=-1)\n",
        "\n",
        "xgb.fit(x_train, y_train)\n",
        "\n",
        "# Gradient Boosting\n",
        "\n",
        "model_gb = GradientBoostingClassifier()\n",
        "\n",
        "gb = GridSearchCV(model_gb, param_grid=params, cv=cv, verbose=1, n_jobs=-1)\n",
        "\n",
        "gb.fit(x_train, y_train)\n",
        "\n",
        "# Ada Boost\n",
        "\n",
        "model_adb = AdaBoostClassifier()\n",
        "\n",
        "adb = GridSearchCV(model_adb, param_grid=params2,\n",
        "                   cv=cv, verbose=1, n_jobs=-1)\n",
        "\n",
        "adb.fit(x_train, y_train)\n"
      ]
    },
    {
      "cell_type": "markdown",
      "id": "6xlCv8WX5MyK",
      "metadata": {
        "id": "6xlCv8WX5MyK"
      },
      "source": [
        "# Mejores parámetros y matrices de confusión"
      ]
    },
    {
      "cell_type": "code",
      "execution_count": 13,
      "id": "RJzPw5PNAGAK",
      "metadata": {
        "id": "RJzPw5PNAGAK"
      },
      "outputs": [],
      "source": [
        "classifiers = [AdaBoostClassifier(learning_rate=1, n_estimators=500),\n",
        "               GradientBoostingClassifier(\n",
        "                   learning_rate=0.75, max_depth=1, n_estimators=100),\n",
        "               XGBClassifier(learning_rate=0.75, max_depth=3, n_estimators=50)]\n",
        "for cls in classifiers:\n",
        "    cls.fit(x_train, y_train)\n"
      ]
    },
    {
      "cell_type": "code",
      "execution_count": 14,
      "id": "hS0rSi4MA0bT",
      "metadata": {
        "colab": {
          "base_uri": "https://localhost:8080/",
          "height": 853
        },
        "id": "hS0rSi4MA0bT",
        "outputId": "66fb5178-f49a-4529-b5ac-5c5e64c8a2fa"
      },
      "outputs": [
        {
          "name": "stderr",
          "output_type": "stream",
          "text": [
            "/Users/benjamin/anaconda3/envs/dhdsblend2021/lib/python3.9/site-packages/sklearn/utils/deprecation.py:87: FutureWarning: Function plot_confusion_matrix is deprecated; Function `plot_confusion_matrix` is deprecated in 1.0 and will be removed in 1.2. Use one of the class methods: ConfusionMatrixDisplay.from_predictions or ConfusionMatrixDisplay.from_estimator.\n",
            "  warnings.warn(msg, category=FutureWarning)\n",
            "/Users/benjamin/anaconda3/envs/dhdsblend2021/lib/python3.9/site-packages/sklearn/utils/deprecation.py:87: FutureWarning: Function plot_confusion_matrix is deprecated; Function `plot_confusion_matrix` is deprecated in 1.0 and will be removed in 1.2. Use one of the class methods: ConfusionMatrixDisplay.from_predictions or ConfusionMatrixDisplay.from_estimator.\n",
            "  warnings.warn(msg, category=FutureWarning)\n",
            "/Users/benjamin/anaconda3/envs/dhdsblend2021/lib/python3.9/site-packages/sklearn/utils/deprecation.py:87: FutureWarning: Function plot_confusion_matrix is deprecated; Function `plot_confusion_matrix` is deprecated in 1.0 and will be removed in 1.2. Use one of the class methods: ConfusionMatrixDisplay.from_predictions or ConfusionMatrixDisplay.from_estimator.\n",
            "  warnings.warn(msg, category=FutureWarning)\n"
          ]
        },
        {
          "data": {
            "image/png": "[encoded data removed]",
            "text/plain": [
              "<Figure size 1500x1000 with 7 Axes>"
            ]
          },
          "metadata": {},
          "output_type": "display_data"
        }
      ],
      "source": [
        "fig, axes = plt.subplots(nrows=2, ncols=2, figsize=(15, 10))\n",
        "\n",
        "for cls, ax in zip(classifiers, axes.flatten()):\n",
        "    plot_confusion_matrix(cls,\n",
        "                          x_test,\n",
        "                          y_test,\n",
        "                          ax=ax,\n",
        "                          cmap='Blues',\n",
        "                          display_labels=['No Apto', 'Apto'])\n",
        "    ax.title.set_text(type(cls).__name__)\n",
        "plt.tight_layout()\n",
        "plt.show()\n"
      ]
    },
    {
      "cell_type": "markdown",
      "id": "4tEcBq7W5UXs",
      "metadata": {
        "id": "4tEcBq7W5UXs"
      },
      "source": [
        "# Rendimiento para los modelos con cross validation"
      ]
    },
    {
      "cell_type": "code",
      "execution_count": 15,
      "id": "8ec5cece",
      "metadata": {
        "id": "8ec5cece"
      },
      "outputs": [],
      "source": [
        "def evaluar_rendimiento(modelo, nombre, X, y, cv):\n",
        "    s = cross_val_score(modelo, X, y, cv=cv, n_jobs=-1)\n",
        "    print(\"Rendimiento de {}:\\t{:0.3} ± {:0.3}\".format(\n",
        "        nombre, s.mean().round(3), s.std().round(3)))\n"
      ]
    },
    {
      "cell_type": "code",
      "execution_count": 16,
      "id": "0b65ef0c",
      "metadata": {
        "colab": {
          "base_uri": "https://localhost:8080/"
        },
        "id": "0b65ef0c",
        "outputId": "5ed34f09-91ef-4dc9-9b77-485f2fdb152e"
      },
      "outputs": [
        {
          "name": "stdout",
          "output_type": "stream",
          "text": [
            "Rendimiento de XG Boost:\t0.728 ± 0.051\n"
          ]
        }
      ],
      "source": [
        "evaluar_rendimiento(xgb.best_estimator_,\"XG Boost\", x_train, y_train, cv)"
      ]
    },
    {
      "cell_type": "markdown",
      "id": "dP9c-scWGY47",
      "metadata": {
        "id": "dP9c-scWGY47"
      },
      "source": [
        "**Mejor rendimiento por el momento**"
      ]
    },
    {
      "cell_type": "code",
      "execution_count": 17,
      "id": "beeea889",
      "metadata": {
        "colab": {
          "base_uri": "https://localhost:8080/"
        },
        "id": "beeea889",
        "outputId": "5889e6de-063c-499e-8cb6-fceb91e4a47c"
      },
      "outputs": [
        {
          "name": "stdout",
          "output_type": "stream",
          "text": [
            "Rendimiento de Gradient Boosting:\t0.753 ± 0.106\n"
          ]
        }
      ],
      "source": [
        "evaluar_rendimiento(gb.best_estimator_,\n",
        "                    \"Gradient Boosting\", x_train, y_train, cv)\n"
      ]
    },
    {
      "cell_type": "code",
      "execution_count": 18,
      "id": "a1c9e387",
      "metadata": {
        "colab": {
          "base_uri": "https://localhost:8080/"
        },
        "id": "a1c9e387",
        "outputId": "3354f45e-3f79-4e99-df69-5ed712440dc9"
      },
      "outputs": [
        {
          "name": "stdout",
          "output_type": "stream",
          "text": [
            "Rendimiento de Ada Boost:\t0.683 ± 0.126\n"
          ]
        }
      ],
      "source": [
        "evaluar_rendimiento(adb.best_estimator_,\"Ada Boost\", x_train, y_train, cv)"
      ]
    },
    {
      "cell_type": "markdown",
      "id": "cQ0IOKp2JLjc",
      "metadata": {
        "id": "cQ0IOKp2JLjc"
      },
      "source": [
        "# Predicciones para las esquinas"
      ]
    },
    {
      "cell_type": "markdown",
      "id": "8QNb0JxbqUFo",
      "metadata": {
        "id": "8QNb0JxbqUFo"
      },
      "source": [
        "Eliminamos los features que no necesitamos para hacer las predicciones"
      ]
    },
    {
      "cell_type": "code",
      "execution_count": 19,
      "id": "5VyUACnvm2CS",
      "metadata": {
        "colab": {
          "base_uri": "https://localhost:8080/"
        },
        "id": "5VyUACnvm2CS",
        "outputId": "4e778fd1-cf5e-4f7f-88f1-c25b5745c586"
      },
      "outputs": [
        {
          "name": "stderr",
          "output_type": "stream",
          "text": [
            "<ipython-input-19-4989c14372fa>:1: SettingWithCopyWarning: \n",
            "A value is trying to be set on a copy of a slice from a DataFrame\n",
            "\n",
            "See the caveats in the documentation: https://pandas.pydata.org/pandas-docs/stable/user_guide/indexing.html#returning-a-view-versus-a-copy\n",
            "  DAM_to_predict.dropna(axis=0, inplace=True)\n",
            "<ipython-input-19-4989c14372fa>:2: SettingWithCopyWarning: \n",
            "A value is trying to be set on a copy of a slice from a DataFrame\n",
            "\n",
            "See the caveats in the documentation: https://pandas.pydata.org/pandas-docs/stable/user_guide/indexing.html#returning-a-view-versus-a-copy\n",
            "  DAM_to_predict.drop(DAM_to_predict[DAM_to_predict['microzonificacion']=='Especial Parque Gral. San Marti­n'].index, inplace=True)\n",
            "<ipython-input-19-4989c14372fa>:3: SettingWithCopyWarning: \n",
            "A value is trying to be set on a copy of a slice from a DataFrame\n",
            "\n",
            "See the caveats in the documentation: https://pandas.pydata.org/pandas-docs/stable/user_guide/indexing.html#returning-a-view-versus-a-copy\n",
            "  DAM_to_predict.drop(DAM_to_predict[DAM_to_predict['microzonificacion']=='Especial UNCuyo'].index, inplace=True)\n",
            "<ipython-input-19-4989c14372fa>:4: SettingWithCopyWarning: \n",
            "A value is trying to be set on a copy of a slice from a DataFrame\n",
            "\n",
            "See the caveats in the documentation: https://pandas.pydata.org/pandas-docs/stable/user_guide/indexing.html#returning-a-view-versus-a-copy\n",
            "  DAM_to_predict.drop(DAM_to_predict[DAM_to_predict['microzonificacion']=='Residencial de uso controlado'].index, inplace=True)\n",
            "<ipython-input-19-4989c14372fa>:5: SettingWithCopyWarning: \n",
            "A value is trying to be set on a copy of a slice from a DataFrame\n",
            "\n",
            "See the caveats in the documentation: https://pandas.pydata.org/pandas-docs/stable/user_guide/indexing.html#returning-a-view-versus-a-copy\n",
            "  DAM_to_predict.drop(DAM_to_predict[DAM_to_predict['microzonificacion']=='Residencial piedemonte'].index, inplace=True)\n",
            "<ipython-input-19-4989c14372fa>:6: SettingWithCopyWarning: \n",
            "A value is trying to be set on a copy of a slice from a DataFrame\n",
            "\n",
            "See the caveats in the documentation: https://pandas.pydata.org/pandas-docs/stable/user_guide/indexing.html#returning-a-view-versus-a-copy\n",
            "  DAM_to_predict.drop(DAM_to_predict[DAM_to_predict['microzonificacion']=='Area de Seguridad'].index, inplace=True)\n",
            "<ipython-input-19-4989c14372fa>:7: SettingWithCopyWarning: \n",
            "A value is trying to be set on a copy of a slice from a DataFrame\n",
            "\n",
            "See the caveats in the documentation: https://pandas.pydata.org/pandas-docs/stable/user_guide/indexing.html#returning-a-view-versus-a-copy\n",
            "  DAM_to_predict.drop(DAM_to_predict[DAM_to_predict['microzonificacion']=='Especial Ex-Aeroparque'].index, inplace=True)\n",
            "<ipython-input-19-4989c14372fa>:8: SettingWithCopyWarning: \n",
            "A value is trying to be set on a copy of a slice from a DataFrame\n",
            "\n",
            "See the caveats in the documentation: https://pandas.pydata.org/pandas-docs/stable/user_guide/indexing.html#returning-a-view-versus-a-copy\n",
            "  DAM_to_predict.drop(DAM_to_predict[DAM_to_predict['microzonificacion']=='Especial Ejercito'].index, inplace=True)\n",
            "<ipython-input-19-4989c14372fa>:9: SettingWithCopyWarning: \n",
            "A value is trying to be set on a copy of a slice from a DataFrame\n",
            "\n",
            "See the caveats in the documentation: https://pandas.pydata.org/pandas-docs/stable/user_guide/indexing.html#returning-a-view-versus-a-copy\n",
            "  DAM_to_predict.drop(DAM_to_predict[DAM_to_predict['microzonificacion']=='Especial Club San Ceferino'].index, inplace=True)\n",
            "<ipython-input-19-4989c14372fa>:10: SettingWithCopyWarning: \n",
            "A value is trying to be set on a copy of a slice from a DataFrame\n",
            "\n",
            "See the caveats in the documentation: https://pandas.pydata.org/pandas-docs/stable/user_guide/indexing.html#returning-a-view-versus-a-copy\n",
            "  DAM_to_predict.drop(DAM_to_predict[DAM_to_predict['microzonificacion']=='Natural de amortiguacion'].index, inplace=True)\n",
            "<ipython-input-19-4989c14372fa>:11: SettingWithCopyWarning: \n",
            "A value is trying to be set on a copy of a slice from a DataFrame\n",
            "\n",
            "See the caveats in the documentation: https://pandas.pydata.org/pandas-docs/stable/user_guide/indexing.html#returning-a-view-versus-a-copy\n",
            "  DAM_to_predict.drop(DAM_to_predict[DAM_to_predict['microzonificacion']=='Zona de inundacion de dique'].index, inplace=True)\n",
            "<ipython-input-19-4989c14372fa>:14: SettingWithCopyWarning: \n",
            "A value is trying to be set on a copy of a slice from a DataFrame\n",
            "\n",
            "See the caveats in the documentation: https://pandas.pydata.org/pandas-docs/stable/user_guide/indexing.html#returning-a-view-versus-a-copy\n",
            "  DAM_to_predict.drop(['ID', 'index','x','y', 'punto_tipo','radio_censal'], axis=1, inplace=True)\n"
          ]
        }
      ],
      "source": [
        "\n",
        "DAM_to_predict.dropna(axis=0, inplace=True)\n",
        "DAM_to_predict.drop(DAM_to_predict[DAM_to_predict['microzonificacion']=='Especial Parque Gral. San Marti­n'].index, inplace=True)\n",
        "DAM_to_predict.drop(DAM_to_predict[DAM_to_predict['microzonificacion']=='Especial UNCuyo'].index, inplace=True)\n",
        "DAM_to_predict.drop(DAM_to_predict[DAM_to_predict['microzonificacion']=='Residencial de uso controlado'].index, inplace=True)\n",
        "DAM_to_predict.drop(DAM_to_predict[DAM_to_predict['microzonificacion']=='Residencial piedemonte'].index, inplace=True)\n",
        "DAM_to_predict.drop(DAM_to_predict[DAM_to_predict['microzonificacion']=='Area de Seguridad'].index, inplace=True)\n",
        "DAM_to_predict.drop(DAM_to_predict[DAM_to_predict['microzonificacion']=='Especial Ex-Aeroparque'].index, inplace=True)\n",
        "DAM_to_predict.drop(DAM_to_predict[DAM_to_predict['microzonificacion']=='Especial Ejercito'].index, inplace=True)\n",
        "DAM_to_predict.drop(DAM_to_predict[DAM_to_predict['microzonificacion']=='Especial Club San Ceferino'].index, inplace=True)\n",
        "DAM_to_predict.drop(DAM_to_predict[DAM_to_predict['microzonificacion']=='Natural de amortiguacion'].index, inplace=True)\n",
        "DAM_to_predict.drop(DAM_to_predict[DAM_to_predict['microzonificacion']=='Zona de inundacion de dique'].index, inplace=True)\n",
        "DAM_to_predict_final = DAM_to_predict.copy()\n",
        "\n",
        "DAM_to_predict.drop(['ID', 'index','x','y', 'punto_tipo','radio_censal'], axis=1, inplace=True)\n",
        "\n",
        "#Hacemos las dummies\n",
        "data = pd.get_dummies(DAM_to_predict, drop_first=True)"
      ]
    },
    {
      "cell_type": "markdown",
      "id": "rSaS1AXXqYu0",
      "metadata": {
        "id": "rSaS1AXXqYu0"
      },
      "source": [
        "Predecimos para todas las esquinas"
      ]
    },
    {
      "cell_type": "code",
      "execution_count": 20,
      "id": "IZZYW-N3oIrh",
      "metadata": {
        "colab": {
          "base_uri": "https://localhost:8080/"
        },
        "id": "IZZYW-N3oIrh",
        "outputId": "e06b9048-3169-400d-87b9-f617725b091a"
      },
      "outputs": [
        {
          "name": "stdout",
          "output_type": "stream",
          "text": [
            "        0\n",
            "0     1.0\n",
            "1     1.0\n",
            "2     1.0\n",
            "3     1.0\n",
            "4     1.0\n",
            "...   ...\n",
            "1843  1.0\n",
            "1844  1.0\n",
            "1845  0.0\n",
            "1846  1.0\n",
            "1847  1.0\n",
            "\n",
            "[1848 rows x 1 columns]\n",
            "0.0    1014\n",
            "1.0     834\n",
            "dtype: int64\n"
          ]
        },
        {
          "name": "stderr",
          "output_type": "stream",
          "text": [
            "/Users/benjamin/anaconda3/envs/dhdsblend2021/lib/python3.9/site-packages/sklearn/base.py:493: FutureWarning: The feature names should match those that were passed during fit. Starting version 1.2, an error will be raised.\n",
            "Feature names must be in the same order as they were in fit.\n",
            "\n",
            "  warnings.warn(message, FutureWarning)\n"
          ]
        }
      ],
      "source": [
        "Predicciones = gb.best_estimator_.predict(data)\n",
        "\n",
        "print(pd.DataFrame(Predicciones))\n",
        "print(pd.DataFrame(Predicciones).value_counts())"
      ]
    },
    {
      "cell_type": "code",
      "execution_count": 21,
      "id": "3fcafec1",
      "metadata": {},
      "outputs": [],
      "source": [
        "DAM_to_predict_final['clasificacion'] = Predicciones\n",
        "DAM_to_predict_final['clasificacion'] = Predicciones\n"
      ]
    },
    {
      "cell_type": "code",
      "execution_count": 22,
      "id": "978bd8aa",
      "metadata": {},
      "outputs": [],
      "source": [
        "DAM_to_predict_final.to_csv(\"../Data/PVR_DAM_all.csv\", index=False, encoding='utf-8-sig')"
      ]
    },
    {
      "cell_type": "code",
      "execution_count": null,
      "id": "f183c8b8",
      "metadata": {},
      "outputs": [],
      "source": []
    },
    {
      "cell_type": "code",
      "execution_count": null,
      "id": "52b9feb8",
      "metadata": {},
      "outputs": [],
      "source": []
    }
  ],
  "metadata": {
    "colab": {
      "collapsed_sections": [],
      "provenance": []
    },
    "kernelspec": {
      "display_name": "Python 3.9.11 ('dhdsblend2021')",
      "language": "python",
      "name": "python3"
    },
    "language_info": {
      "codemirror_mode": {
        "name": "ipython",
        "version": 3
      },
      "file_extension": ".py",
      "mimetype": "text/x-python",
      "name": "python",
      "nbconvert_exporter": "python",
      "pygments_lexer": "ipython3",
      "version": "3.9.11"
    },
    "vscode": {
      "interpreter": {
        "hash": "5cac649d55c518045b8abef44fc10842f54363cf20fcd57b8c5b62a0494a5550"
      }
    }
  },
  "nbformat": 4,
  "nbformat_minor": 5
}
