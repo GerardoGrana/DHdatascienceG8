{
 "cells": [
  {
   "cell_type": "code",
   "execution_count": 1,
   "id": "9464366e",
   "metadata": {},
   "outputs": [],
   "source": [
    "#Librerias\n",
    "import numpy as np\n",
    "import pandas as pd\n",
    "import matplotlib.pyplot as plt\n",
    "from sklearn.model_selection import RepeatedStratifiedKFold, StratifiedKFold\n",
    "from sklearn.model_selection import GridSearchCV\n",
    "from sklearn.linear_model import LogisticRegression\n",
    "from sklearn.model_selection import train_test_split, KFold, cross_val_score\n",
    "from sklearn.preprocessing import MinMaxScaler\n",
    "from sklearn.metrics import accuracy_score, confusion_matrix\n",
    "import seaborn as sns"
   ]
  },
  {
   "cell_type": "code",
   "execution_count": 4,
   "id": "dc13f62b",
   "metadata": {},
   "outputs": [],
   "source": [
    "#Hagamos regresion logística con el data set FINAL\n",
    "\n",
    "#Levantamos el df_final_alternativo_2\n",
    "df_final_alternativo_2 = pd.read_csv('df_final_alternativo_2.csv')\n",
    "\n",
    "#Generamos el X y el target\n",
    "Xa = df_final_alternativo_2.drop(['ClasificacionNum2','ID'], axis = 1)\n",
    "ya = df_final_alternativo_2['ClasificacionNum2']\n",
    "\n",
    "#Divimos en train y en test\n",
    "Xa_train, Xa_test, ya_train, ya_test = train_test_split(Xa,ya, stratify=ya, test_size= 0.25)\n",
    "\n",
    "#Estandarizamos con MinMax\n",
    "scaler = MinMaxScaler()\n",
    "\n",
    "Xa_train_std = scaler.fit_transform(Xa_train)\n",
    "Xa_test_std = scaler.fit_transform(Xa_test)"
   ]
  },
  {
   "cell_type": "code",
   "execution_count": 31,
   "id": "84bb0f8a",
   "metadata": {},
   "outputs": [
    {
     "name": "stdout",
     "output_type": "stream",
     "text": [
      "Best: 0.764516 using {'C': 10, 'penalty': 'l2', 'solver': 'liblinear'}\n",
      "0.756882 (0.071119) with: {'C': 100, 'penalty': 'l2', 'solver': 'newton-cg'}\n",
      "0.758548 (0.072281) with: {'C': 100, 'penalty': 'l2', 'solver': 'lbfgs'}\n",
      "0.755824 (0.070328) with: {'C': 100, 'penalty': 'l2', 'solver': 'liblinear'}\n",
      "0.763423 (0.067838) with: {'C': 10, 'penalty': 'l2', 'solver': 'newton-cg'}\n",
      "0.763423 (0.067838) with: {'C': 10, 'penalty': 'l2', 'solver': 'lbfgs'}\n",
      "0.764516 (0.064167) with: {'C': 10, 'penalty': 'l2', 'solver': 'liblinear'}\n",
      "0.760556 (0.064918) with: {'C': 1.0, 'penalty': 'l2', 'solver': 'newton-cg'}\n",
      "0.760556 (0.064918) with: {'C': 1.0, 'penalty': 'l2', 'solver': 'lbfgs'}\n",
      "0.761685 (0.066353) with: {'C': 1.0, 'penalty': 'l2', 'solver': 'liblinear'}\n",
      "0.737867 (0.060040) with: {'C': 0.1, 'penalty': 'l2', 'solver': 'newton-cg'}\n",
      "0.737867 (0.060040) with: {'C': 0.1, 'penalty': 'l2', 'solver': 'lbfgs'}\n",
      "0.741685 (0.057915) with: {'C': 0.1, 'penalty': 'l2', 'solver': 'liblinear'}\n",
      "0.699839 (0.012004) with: {'C': 0.01, 'penalty': 'l2', 'solver': 'newton-cg'}\n",
      "0.699839 (0.012004) with: {'C': 0.01, 'penalty': 'l2', 'solver': 'lbfgs'}\n",
      "0.699839 (0.012004) with: {'C': 0.01, 'penalty': 'l2', 'solver': 'liblinear'}\n"
     ]
    }
   ],
   "source": [
    "# Buscamos los mejores hiperparametros\n",
    "\n",
    "modelo = LogisticRegression()\n",
    "solvers = ['newton-cg', 'lbfgs', 'liblinear']\n",
    "penalty = ['l2']\n",
    "c_values = [100, 10, 1.0, 0.1, 0.01]\n",
    "\n",
    "# Defnimos una grilla con GridSearch\n",
    "\n",
    "grid = dict(solver=solvers,penalty=penalty,C=c_values)\n",
    "cv = RepeatedStratifiedKFold(n_splits=20, n_repeats=3, random_state=999)\n",
    "grid_search = GridSearchCV(estimator=modelo, param_grid=grid, n_jobs=-1, cv=cv, scoring='accuracy',error_score=0)\n",
    "grid_result = grid_search.fit(Xa_train_std, ya_train)\n",
    "\n",
    "# Vemos los resultados\n",
    "\n",
    "print(\"Best: %f using %s\" % (grid_result.best_score_, grid_result.best_params_))\n",
    "means = grid_result.cv_results_['mean_test_score']\n",
    "stds = grid_result.cv_results_['std_test_score']\n",
    "params = grid_result.cv_results_['params']\n",
    "for mean, stdev, param in zip(means, stds, params):\n",
    "    print(\"%f (%f) with: %r\" % (mean, stdev, param))"
   ]
  },
  {
   "cell_type": "code",
   "execution_count": 32,
   "id": "b3d378e2",
   "metadata": {},
   "outputs": [],
   "source": [
    "def make_confusion_matrix(cf,\n",
    "                          group_names=None,\n",
    "                          categories='auto',\n",
    "                          count=True,\n",
    "                          percent=True,\n",
    "                          cbar=True,\n",
    "                          xyticks=True,\n",
    "                          xyplotlabels=True,\n",
    "                          sum_stats=True,\n",
    "                          figsize=None,\n",
    "                          cmap='Oranges',\n",
    "                          title=None):\n",
    "    '''\n",
    "    This function will make a pretty plot of an sklearn Confusion Matrix cm using a Seaborn heatmap visualization.\n",
    "    Arguments\n",
    "    ---------\n",
    "    cf:            confusion matrix to be passed in\n",
    "    group_names:   List of strings that represent the labels row by row to be shown in each square.\n",
    "    categories:    List of strings containing the categories to be displayed on the x,y axis. Default is 'auto'\n",
    "    count:         If True, show the raw number in the confusion matrix. Default is True.\n",
    "    normalize:     If True, show the proportions for each category. Default is True.\n",
    "    cbar:          If True, show the color bar. The cbar values are based off the values in the confusion matrix.\n",
    "                   Default is True.\n",
    "    xyticks:       If True, show x and y ticks. Default is True.\n",
    "    xyplotlabels:  If True, show 'True Label' and 'Predicted Label' on the figure. Default is True.\n",
    "    sum_stats:     If True, display summary statistics below the figure. Default is True.\n",
    "    figsize:       Tuple representing the figure size. Default will be the matplotlib rcParams value.\n",
    "    cmap:          Colormap of the values displayed from matplotlib.pyplot.cm. Default is 'Blues'\n",
    "                   See http://matplotlib.org/examples/color/colormaps_reference.html\n",
    "                   \n",
    "    title:         Title for the heatmap. Default is None.\n",
    "    '''\n",
    "\n",
    "\n",
    "    # CODE TO GENERATE TEXT INSIDE EACH SQUARE\n",
    "    blanks = ['' for i in range(cf.size)]\n",
    "\n",
    "    if group_names and len(group_names)==cf.size:\n",
    "        group_labels = [\"{}\\n\".format(value) for value in group_names]\n",
    "    else:\n",
    "        group_labels = blanks\n",
    "\n",
    "    if count:\n",
    "        group_counts = [\"{0:0.0f}\\n\".format(value) for value in cf.flatten()]\n",
    "    else:\n",
    "        group_counts = blanks\n",
    "\n",
    "    if percent:\n",
    "        group_percentages = [\"{0:.2%}\".format(value) for value in cf.flatten()/np.sum(cf)]\n",
    "    else:\n",
    "        group_percentages = blanks\n",
    "\n",
    "    box_labels = [f\"{v1}{v2}{v3}\".strip() for v1, v2, v3 in zip(group_labels,group_counts,group_percentages)]\n",
    "    box_labels = np.asarray(box_labels).reshape(cf.shape[0],cf.shape[1])\n",
    "\n",
    "\n",
    "    # CODE TO GENERATE SUMMARY STATISTICS & TEXT FOR SUMMARY STATS\n",
    "    if sum_stats:\n",
    "        #Accuracy is sum of diagonal divided by total observations\n",
    "        accuracy  = np.trace(cf) / float(np.sum(cf))\n",
    "\n",
    "        #if it is a binary confusion matrix, show some more stats\n",
    "        if len(cf)==2:\n",
    "            #Metrics for Binary Confusion Matrices\n",
    "            precision = cf[1,1] / sum(cf[:,1])\n",
    "            recall    = cf[1,1] / sum(cf[1,:])\n",
    "            f1_score  = 2*precision*recall / (precision + recall)\n",
    "            stats_text = \"\\n\\nAccuracy={:0.3f}\\nPrecision={:0.3f}\\nRecall={:0.3f}\\nF1 Score={:0.3f}\".format(\n",
    "                accuracy,precision,recall,f1_score)\n",
    "        else:\n",
    "            stats_text = \"\\n\\nAccuracy={:0.3f}\".format(accuracy)\n",
    "    else:\n",
    "        stats_text = \"\"\n",
    "\n",
    "\n",
    "    # SET FIGURE PARAMETERS ACCORDING TO OTHER ARGUMENTS\n",
    "    if figsize==None:\n",
    "        #Get default figure size if not set\n",
    "        figsize = plt.rcParams.get('figure.figsize')\n",
    "\n",
    "    if xyticks==False:\n",
    "        #Do not show categories if xyticks is False\n",
    "        categories=False\n",
    "\n",
    "\n",
    "    # MAKE THE HEATMAP VISUALIZATION\n",
    "    plt.figure(figsize=figsize)\n",
    "    sns.heatmap(cf,annot=box_labels,fmt=\"\",cmap=cmap,cbar=cbar,xticklabels=categories,yticklabels=categories)\n",
    "\n",
    "    if xyplotlabels:\n",
    "        plt.ylabel('True label')\n",
    "        plt.xlabel('Predicted label' + stats_text)\n",
    "    else:\n",
    "        plt.xlabel(stats_text)\n",
    "    \n",
    "    if title:\n",
    "        plt.title(title)"
   ]
  },
  {
   "cell_type": "code",
   "execution_count": 33,
   "id": "2559c7f1",
   "metadata": {},
   "outputs": [
    {
     "data": {
      "text/plain": [
       "LogisticRegression(C=10, solver='liblinear')"
      ]
     },
     "execution_count": 33,
     "metadata": {},
     "output_type": "execute_result"
    }
   ],
   "source": [
    "#Instanciamos el modelo y los ajustamos a los datos de entrenamiento\n",
    "modelo = LogisticRegression(C=10, penalty = 'l2', solver= 'liblinear')\n",
    "modelo.fit(Xa_train_std, ya_train)"
   ]
  },
  {
   "cell_type": "code",
   "execution_count": 34,
   "id": "7acd36c3",
   "metadata": {},
   "outputs": [
    {
     "name": "stdout",
     "output_type": "stream",
     "text": [
      "[1 0 0 0 0 0 1 0 0 0 1 0 1 0 0 0 0 0 0 0 0 0 0 0 0 0 0 0 0 0 0 0 0 0 0 1 0\n",
      " 0 0 0 0 0 0 0 0 1 1 0 0 0 0 0 0 0 0 0 1 0 1 0 0 0 0 0 1 0 0 0 0 1 0 0 0 0\n",
      " 1 0 0 1 0 0 0 0 1 0 0 0 0 0 1 0 0 0 1 0 0 0 0 1 0 0 0 0 0 0 0 0 1 0 0 0 0\n",
      " 0 0 0 0 0 0 0 0 0 0 0 1 0 0 0 1 0 0 0 0 0 0 0 1 1 0 0 0 1 0 1 0 0 0 0 1 0\n",
      " 0 0 1 0 0 0 0 0 0 0 0 0 0 1 0 0 0 0 0 0 0 0 0 0 1 0 0 0 0 0 0 0 0 1 0 1 0\n",
      " 0 0 0 1 0 1 1 0 1 0 0 0 0 0 0 0 0 0 0 0]\n",
      "\n",
      "Score:  0.7902439024390244\n"
     ]
    }
   ],
   "source": [
    "#Para UN solo fold\n",
    "#Hacemos las predicciones necesarias\n",
    "ya_pred = modelo.predict(Xa_test_std)\n",
    "print(ya_pred)\n",
    "#Evaluamos el score\n",
    "print('')\n",
    "print('Score: ', accuracy_score(ya_test, ya_pred))"
   ]
  },
  {
   "cell_type": "code",
   "execution_count": 35,
   "id": "76d1d596",
   "metadata": {},
   "outputs": [
    {
     "name": "stdout",
     "output_type": "stream",
     "text": [
      "Los scores obtenidos son [0.82258065 0.83870968 0.79032258 0.73770492 0.80327869 0.81967213\n",
      " 0.75409836 0.70491803 0.67213115 0.70491803]\n",
      "El promedio es :0.7648334214701216\n"
     ]
    }
   ],
   "source": [
    "#Generalizamos para 20 folds\n",
    "stratifiedkf=StratifiedKFold(n_splits=10)\n",
    "score=cross_val_score(modelo,Xa_train_std,ya_train,cv=stratifiedkf)\n",
    "print(\"Los scores obtenidos son {}\".format(score))\n",
    "print(\"El promedio es :{}\".format(score.mean()))"
   ]
  },
  {
   "cell_type": "code",
   "execution_count": 36,
   "id": "6ac98a38",
   "metadata": {},
   "outputs": [],
   "source": [
    "cf_matrix_a = confusion_matrix(ya_pred,ya_test)"
   ]
  },
  {
   "cell_type": "code",
   "execution_count": 37,
   "id": "f94d0f3c",
   "metadata": {},
   "outputs": [
    {
     "data": {
      "image/png": "[encoded data removed]",
      "text/plain": [
       "<Figure size 576x432 with 1 Axes>"
      ]
     },
     "metadata": {
      "needs_background": "light"
     },
     "output_type": "display_data"
    }
   ],
   "source": [
    "make_confusion_matrix(cf_matrix_a, categories= ['No_Apto', 'Apto'] , figsize=(8,6), cbar=False)"
   ]
  },
  {
   "cell_type": "code",
   "execution_count": 38,
   "id": "0e438797",
   "metadata": {},
   "outputs": [],
   "source": [
    "y_pred_proba = modelo.predict_proba(Xa_test_std)"
   ]
  },
  {
   "cell_type": "code",
   "execution_count": 39,
   "id": "3fc1437d",
   "metadata": {},
   "outputs": [
    {
     "data": {
      "text/plain": [
       "(205, 2)"
      ]
     },
     "metadata": {},
     "output_type": "display_data"
    },
    {
     "data": {
      "text/plain": [
       "array([[0.15259833, 0.84740167],\n",
       "       [0.92817441, 0.07182559],\n",
       "       [0.86692105, 0.13307895],\n",
       "       [0.95959393, 0.04040607],\n",
       "       [0.79766573, 0.20233427],\n",
       "       [0.76722839, 0.23277161],\n",
       "       [0.347858  , 0.652142  ],\n",
       "       [0.53534121, 0.46465879],\n",
       "       [0.95998766, 0.04001234],\n",
       "       [0.93913509, 0.06086491],\n",
       "       [0.26156298, 0.73843702],\n",
       "       [0.58284417, 0.41715583],\n",
       "       [0.49745525, 0.50254475],\n",
       "       [0.96092472, 0.03907528],\n",
       "       [0.9745161 , 0.0254839 ],\n",
       "       [0.95228399, 0.04771601],\n",
       "       [0.85333025, 0.14666975],\n",
       "       [0.79499285, 0.20500715],\n",
       "       [0.7974671 , 0.2025329 ],\n",
       "       [0.7144076 , 0.2855924 ],\n",
       "       [0.98104014, 0.01895986],\n",
       "       [0.8882952 , 0.1117048 ],\n",
       "       [0.54868665, 0.45131335],\n",
       "       [0.93141816, 0.06858184],\n",
       "       [0.53534121, 0.46465879],\n",
       "       [0.59001416, 0.40998584],\n",
       "       [0.93581425, 0.06418575],\n",
       "       [0.94156562, 0.05843438],\n",
       "       [0.77077922, 0.22922078],\n",
       "       [0.79707697, 0.20292303],\n",
       "       [0.95084549, 0.04915451],\n",
       "       [0.96092472, 0.03907528],\n",
       "       [0.96247907, 0.03752093],\n",
       "       [0.92992252, 0.07007748],\n",
       "       [0.78049648, 0.21950352],\n",
       "       [0.38157512, 0.61842488],\n",
       "       [0.59566656, 0.40433344],\n",
       "       [0.78889268, 0.21110732],\n",
       "       [0.94156562, 0.05843438],\n",
       "       [0.92817441, 0.07182559],\n",
       "       [0.903541  , 0.096459  ],\n",
       "       [0.96092472, 0.03907528],\n",
       "       [0.54868665, 0.45131335],\n",
       "       [0.6558467 , 0.3441533 ],\n",
       "       [0.94032216, 0.05967784],\n",
       "       [0.14502213, 0.85497787],\n",
       "       [0.18099634, 0.81900366],\n",
       "       [0.79022734, 0.20977266],\n",
       "       [0.76859467, 0.23140533],\n",
       "       [0.95509566, 0.04490434],\n",
       "       [0.84819263, 0.15180737],\n",
       "       [0.76574378, 0.23425622],\n",
       "       [0.79766573, 0.20233427],\n",
       "       [0.58592524, 0.41407476],\n",
       "       [0.59566656, 0.40433344],\n",
       "       [0.8545881 , 0.1454119 ],\n",
       "       [0.2678906 , 0.7321094 ],\n",
       "       [0.56659117, 0.43340883],\n",
       "       [0.2678906 , 0.7321094 ],\n",
       "       [0.97344664, 0.02655336],\n",
       "       [0.65552852, 0.34447148],\n",
       "       [0.67608456, 0.32391544],\n",
       "       [0.67389811, 0.32610189],\n",
       "       [0.79076803, 0.20923197],\n",
       "       [0.38806987, 0.61193013],\n",
       "       [0.94032216, 0.05967784],\n",
       "       [0.90910474, 0.09089526],\n",
       "       [0.96247907, 0.03752093],\n",
       "       [0.96065641, 0.03934359],\n",
       "       [0.05162688, 0.94837312],\n",
       "       [0.8945276 , 0.1054724 ],\n",
       "       [0.72194869, 0.27805131],\n",
       "       [0.78049648, 0.21950352],\n",
       "       [0.97275033, 0.02724967],\n",
       "       [0.08880795, 0.91119205],\n",
       "       [0.67098754, 0.32901246],\n",
       "       [0.70064781, 0.29935219],\n",
       "       [0.38806987, 0.61193013],\n",
       "       [0.93375133, 0.06624867],\n",
       "       [0.60585162, 0.39414838],\n",
       "       [0.67608456, 0.32391544],\n",
       "       [0.97695181, 0.02304819],\n",
       "       [0.05162688, 0.94837312],\n",
       "       [0.67389811, 0.32610189],\n",
       "       [0.8545881 , 0.1454119 ],\n",
       "       [0.79022734, 0.20977266],\n",
       "       [0.93581425, 0.06418575],\n",
       "       [0.97344664, 0.02655336],\n",
       "       [0.36963305, 0.63036695],\n",
       "       [0.68415867, 0.31584133],\n",
       "       [0.59566656, 0.40433344],\n",
       "       [0.76859467, 0.23140533],\n",
       "       [0.49745525, 0.50254475],\n",
       "       [0.59009513, 0.40990487],\n",
       "       [0.84926421, 0.15073579],\n",
       "       [0.58982284, 0.41017716],\n",
       "       [0.67784116, 0.32215884],\n",
       "       [0.0757662 , 0.9242338 ],\n",
       "       [0.903541  , 0.096459  ],\n",
       "       [0.98104014, 0.01895986],\n",
       "       [0.66510635, 0.33489365],\n",
       "       [0.80058855, 0.19941145],\n",
       "       [0.90910474, 0.09089526],\n",
       "       [0.94032216, 0.05967784],\n",
       "       [0.78049648, 0.21950352],\n",
       "       [0.62750548, 0.37249452],\n",
       "       [0.38942278, 0.61057722],\n",
       "       [0.74829476, 0.25170524],\n",
       "       [0.96286774, 0.03713226],\n",
       "       [0.93913509, 0.06086491],\n",
       "       [0.60585162, 0.39414838],\n",
       "       [0.79233424, 0.20766576],\n",
       "       [0.84926421, 0.15073579],\n",
       "       [0.58284417, 0.41715583],\n",
       "       [0.95998766, 0.04001234],\n",
       "       [0.94156562, 0.05843438],\n",
       "       [0.78958721, 0.21041279],\n",
       "       [0.54868665, 0.45131335],\n",
       "       [0.59566656, 0.40433344],\n",
       "       [0.79766573, 0.20233427],\n",
       "       [0.93913509, 0.06086491],\n",
       "       [0.94710898, 0.05289102],\n",
       "       [0.46085328, 0.53914672],\n",
       "       [0.98104014, 0.01895986],\n",
       "       [0.75263567, 0.24736433],\n",
       "       [0.59566656, 0.40433344],\n",
       "       [0.47374993, 0.52625007],\n",
       "       [0.87230355, 0.12769645],\n",
       "       [0.79076803, 0.20923197],\n",
       "       [0.94411718, 0.05588282],\n",
       "       [0.76722839, 0.23277161],\n",
       "       [0.65552852, 0.34447148],\n",
       "       [0.79766573, 0.20233427],\n",
       "       [0.74326672, 0.25673328],\n",
       "       [0.44144927, 0.55855073],\n",
       "       [0.10987292, 0.89012708],\n",
       "       [0.7144076 , 0.2855924 ],\n",
       "       [0.96247907, 0.03752093],\n",
       "       [0.51215677, 0.48784323],\n",
       "       [0.47205873, 0.52794127],\n",
       "       [0.87448396, 0.12551604],\n",
       "       [0.44144927, 0.55855073],\n",
       "       [0.94411718, 0.05588282],\n",
       "       [0.79076803, 0.20923197],\n",
       "       [0.94211848, 0.05788152],\n",
       "       [0.90219284, 0.09780716],\n",
       "       [0.46085328, 0.53914672],\n",
       "       [0.78500629, 0.21499371],\n",
       "       [0.8154444 , 0.1845556 ],\n",
       "       [0.67069792, 0.32930208],\n",
       "       [0.45140715, 0.54859285],\n",
       "       [0.93192949, 0.06807051],\n",
       "       [0.94411718, 0.05588282],\n",
       "       [0.84582722, 0.15417278],\n",
       "       [0.54534915, 0.45465085],\n",
       "       [0.733477  , 0.266523  ],\n",
       "       [0.733477  , 0.266523  ],\n",
       "       [0.56624505, 0.43375495],\n",
       "       [0.60950664, 0.39049336],\n",
       "       [0.67389811, 0.32610189],\n",
       "       [0.94290552, 0.05709448],\n",
       "       [0.1811136 , 0.8188864 ],\n",
       "       [0.75263567, 0.24736433],\n",
       "       [0.51215677, 0.48784323],\n",
       "       [0.76859467, 0.23140533],\n",
       "       [0.95629321, 0.04370679],\n",
       "       [0.71234383, 0.28765617],\n",
       "       [0.90219284, 0.09780716],\n",
       "       [0.903541  , 0.096459  ],\n",
       "       [0.75263567, 0.24736433],\n",
       "       [0.9604983 , 0.0395017 ],\n",
       "       [0.58592524, 0.41407476],\n",
       "       [0.45140715, 0.54859285],\n",
       "       [0.95998766, 0.04001234],\n",
       "       [0.56624505, 0.43375495],\n",
       "       [0.60950664, 0.39049336],\n",
       "       [0.95856879, 0.04143121],\n",
       "       [0.56586541, 0.43413459],\n",
       "       [0.94032216, 0.05967784],\n",
       "       [0.97695181, 0.02304819],\n",
       "       [0.63230183, 0.36769817],\n",
       "       [0.45140715, 0.54859285],\n",
       "       [0.78889268, 0.21110732],\n",
       "       [0.47374993, 0.52625007],\n",
       "       [0.68415867, 0.31584133],\n",
       "       [0.58221664, 0.41778336],\n",
       "       [0.66510635, 0.33489365],\n",
       "       [0.67389811, 0.32610189],\n",
       "       [0.03287339, 0.96712661],\n",
       "       [0.89480607, 0.10519393],\n",
       "       [0.45140715, 0.54859285],\n",
       "       [0.49745525, 0.50254475],\n",
       "       [0.79940584, 0.20059416],\n",
       "       [0.47374993, 0.52625007],\n",
       "       [0.60950664, 0.39049336],\n",
       "       [0.79707697, 0.20292303],\n",
       "       [0.7974671 , 0.2025329 ],\n",
       "       [0.67389811, 0.32610189],\n",
       "       [0.733477  , 0.266523  ],\n",
       "       [0.97344664, 0.02655336],\n",
       "       [0.67389811, 0.32610189],\n",
       "       [0.67608456, 0.32391544],\n",
       "       [0.95856879, 0.04143121],\n",
       "       [0.972771  , 0.027229  ],\n",
       "       [0.79076803, 0.20923197]])"
      ]
     },
     "metadata": {},
     "output_type": "display_data"
    }
   ],
   "source": [
    "display(y_pred_proba.shape, y_pred_proba)"
   ]
  },
  {
   "cell_type": "code",
   "execution_count": 55,
   "id": "ba27e751",
   "metadata": {},
   "outputs": [],
   "source": [
    "# Nos quedamos con la columna que tiene la probabilidad positiva de cada caso\n",
    "y_probs_logit_left = y_pred_proba[:,1]\n",
    "\n",
    "#Cambiamos el umbral\n",
    "ya_pred_logit = (y_probs_logit_left > 0.25).astype(int)\n",
    "cf_matrix_a_logit = confusion_matrix(ya_pred_logit,ya_test)"
   ]
  },
  {
   "cell_type": "code",
   "execution_count": 56,
   "id": "7cab321a",
   "metadata": {},
   "outputs": [
    {
     "name": "stdout",
     "output_type": "stream",
     "text": [
      "Matrix Original\n"
     ]
    },
    {
     "data": {
      "text/plain": [
       "array([[136,  35],\n",
       "       [  8,  26]], dtype=int64)"
      ]
     },
     "metadata": {},
     "output_type": "display_data"
    },
    {
     "name": "stdout",
     "output_type": "stream",
     "text": [
      "\n",
      "Nueva Matrix\n"
     ]
    },
    {
     "data": {
      "text/plain": [
       "array([[95, 15],\n",
       "       [49, 46]], dtype=int64)"
      ]
     },
     "metadata": {},
     "output_type": "display_data"
    }
   ],
   "source": [
    "print('Matrix Original')\n",
    "display(confusion_matrix(ya_pred,ya_test))\n",
    "print('')\n",
    "print('Nueva Matrix')\n",
    "display(confusion_matrix(ya_pred_logit,ya_test))"
   ]
  },
  {
   "cell_type": "code",
   "execution_count": 57,
   "id": "3590d0f2",
   "metadata": {},
   "outputs": [
    {
     "data": {
      "image/png": "[encoded data removed]",
      "text/plain": [
       "<Figure size 576x432 with 1 Axes>"
      ]
     },
     "metadata": {
      "needs_background": "light"
     },
     "output_type": "display_data"
    }
   ],
   "source": [
    "make_confusion_matrix(cf_matrix_a_logit, categories= ['No_Apto','Apto'] , figsize=(8,6), cbar=False)"
   ]
  },
  {
   "cell_type": "code",
   "execution_count": 46,
   "id": "28256801",
   "metadata": {},
   "outputs": [],
   "source": [
    "from sklearn.metrics import roc_curve\n",
    "fpr_log,tpr_log,thr_log = roc_curve(ya_test, y_pred_proba[:,1])"
   ]
  },
  {
   "cell_type": "code",
   "execution_count": 47,
   "id": "e59bcc91",
   "metadata": {},
   "outputs": [
    {
     "data": {
      "image/png": "[encoded data removed]",
      "text/plain": [
       "<Figure size 432x288 with 1 Axes>"
      ]
     },
     "metadata": {
      "needs_background": "light"
     },
     "output_type": "display_data"
    }
   ],
   "source": [
    "df = pd.DataFrame(dict(fpr=fpr_log, tpr=tpr_log, thr = thr_log))\n",
    "\n",
    "plt.axis([0, 1.01, 0, 1.01])\n",
    "plt.xlabel('1 - Specificty')\n",
    "plt.ylabel('TPR / Sensitivity')\n",
    "plt.title('ROC Curve')\n",
    "plt.plot(df['fpr'],df['tpr'])\n",
    "plt.plot(np.arange(0,1, step =0.01), np.arange(0,1, step =0.01))\n",
    "plt.show()"
   ]
  },
  {
   "cell_type": "code",
   "execution_count": 48,
   "id": "1d7f0dec",
   "metadata": {},
   "outputs": [
    {
     "name": "stdout",
     "output_type": "stream",
     "text": [
      "AUC= 0.8052140255009107\n"
     ]
    }
   ],
   "source": [
    "from sklearn.metrics import auc\n",
    "print('AUC=', auc(fpr_log, tpr_log))"
   ]
  }
 ],
 "metadata": {
  "kernelspec": {
   "display_name": "Python 3 (ipykernel)",
   "language": "python",
   "name": "python3"
  },
  "language_info": {
   "codemirror_mode": {
    "name": "ipython",
    "version": 3
   },
   "file_extension": ".py",
   "mimetype": "text/x-python",
   "name": "python",
   "nbconvert_exporter": "python",
   "pygments_lexer": "ipython3",
   "version": "3.8.13"
  }
 },
 "nbformat": 4,
 "nbformat_minor": 5
}
