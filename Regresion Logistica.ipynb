{
 "cells": [
  {
   "cell_type": "code",
   "execution_count": 1,
   "id": "33eeef94",
   "metadata": {},
   "outputs": [],
   "source": [
    "#Librerias\n",
    "import numpy as np\n",
    "import pandas as pd\n",
    "import matplotlib.pyplot as plt\n",
    "from sklearn.model_selection import RepeatedStratifiedKFold, StratifiedKFold\n",
    "from sklearn.model_selection import GridSearchCV\n",
    "from sklearn.linear_model import LogisticRegression\n",
    "from sklearn.model_selection import train_test_split, KFold, cross_val_score\n",
    "from sklearn.preprocessing import MinMaxScaler\n",
    "from sklearn.metrics import accuracy_score, confusion_matrix\n",
    "import seaborn as sns"
   ]
  },
  {
   "cell_type": "code",
   "execution_count": 62,
   "id": "e3f8bc81",
   "metadata": {},
   "outputs": [],
   "source": [
    "#Levantamos el df_final2\n",
    "df_final2 = pd.read_csv('df_final2.csv')\n",
    "\n",
    "#Generamos el X y el target\n",
    "X = df_final2.drop(['target'], axis = 1)\n",
    "y = df_final2['target']\n",
    "\n",
    "#Divimos en train y en test\n",
    "X_train, X_test, y_train, y_test = train_test_split(X,y, stratify=y, test_size= 0.25)\n",
    "\n",
    "#Estandarizamos con MinMax\n",
    "scaler = MinMaxScaler()\n",
    "\n",
    "X_train_std = scaler.fit_transform(X_train)\n",
    "X_test_std = scaler.fit_transform(X_test)"
   ]
  },
  {
   "cell_type": "code",
   "execution_count": 63,
   "id": "c2c7d441",
   "metadata": {},
   "outputs": [],
   "source": [
    "# Buscamos los mejores hiperparametros\n",
    "\n",
    "#model = LogisticRegression()\n",
    "#solvers = ['newton-cg', 'lbfgs', 'liblinear']\n",
    "#penalty = ['l2']\n",
    "#c_values = [100, 10, 1.0, 0.1, 0.01]\n",
    "\n",
    "# Defnimos una grilla con GridSearch\n",
    "\n",
    "#grid = dict(solver=solvers,penalty=penalty,C=c_values)\n",
    "#cv = RepeatedStratifiedKFold(n_splits=5, n_repeats=3, random_state=999)\n",
    "#grid_search = GridSearchCV(estimator=model, param_grid=grid, n_jobs=-1, cv=cv, scoring='accuracy',error_score=0)\n",
    "#grid_result = grid_search.fit(X_train_std, y_train)\n",
    "\n",
    "# Vemos los resultados\n",
    "\n",
    "#print(\"Best: %f using %s\" % (grid_result.best_score_, grid_result.best_params_))\n",
    "#means = grid_result.cv_results_['mean_test_score']\n",
    "#stds = grid_result.cv_results_['std_test_score']\n",
    "#params = grid_result.cv_results_['params']\n",
    "#for mean, stdev, param in zip(means, stds, params):\n",
    "    #print(\"%f (%f) with: %r\" % (mean, stdev, param))"
   ]
  },
  {
   "cell_type": "code",
   "execution_count": 64,
   "id": "bdbfd07f",
   "metadata": {},
   "outputs": [
    {
     "data": {
      "text/plain": [
       "LogisticRegression(C=10, solver='liblinear')"
      ]
     },
     "execution_count": 64,
     "metadata": {},
     "output_type": "execute_result"
    }
   ],
   "source": [
    "#Instanciamos el modelo y los ajustamos a los datos de entrenamiento\n",
    "model = LogisticRegression(C=10, penalty = 'l2', solver= 'liblinear')\n",
    "model.fit(X_train_std, y_train)"
   ]
  },
  {
   "cell_type": "code",
   "execution_count": 65,
   "id": "356ccd56",
   "metadata": {},
   "outputs": [
    {
     "name": "stdout",
     "output_type": "stream",
     "text": [
      "[22. 22. 22. 33. 22. 21. 21. 21. 22. 22. 22. 22. 22. 22. 22. 22. 22. 22.\n",
      " 22. 22. 22. 22. 22. 22. 22. 21. 32. 22. 22. 22. 22. 22. 22. 22. 32. 22.\n",
      " 22. 22. 21. 21. 22. 22. 22. 21. 22. 22. 21. 22. 22. 22. 22. 31. 22. 22.\n",
      " 22. 22. 22. 22. 22. 22. 32. 22. 22. 22. 22. 21. 22. 21. 22. 22. 22. 22.\n",
      " 21. 22. 22. 21. 21. 22. 22. 22. 22. 22. 22. 22. 22. 22. 22. 22. 21. 22.\n",
      " 22. 22. 22. 22. 22. 22. 22. 22. 22. 21. 32. 21. 22. 21. 22. 22. 22. 22.\n",
      " 21. 22. 22. 22. 21. 22. 22. 22. 22. 21. 22. 22. 22. 22. 32. 22. 22. 22.\n",
      " 22. 22. 22. 22. 22. 22. 22. 22. 22. 22. 21. 22. 22. 22. 22. 22. 21. 21.\n",
      " 21. 22. 22. 21. 22. 22. 22. 22. 32. 22. 22. 21. 22. 22. 22. 21. 21. 21.\n",
      " 22. 21. 22. 22. 22. 22. 22. 21. 21. 22. 32. 21. 22. 22. 22. 22. 21. 22.\n",
      " 22. 22. 32. 22. 22. 22. 22. 22. 22. 22. 21. 21. 22. 32. 22. 22. 21. 22.]\n",
      "\n",
      "Score:  0.4595959595959596\n"
     ]
    }
   ],
   "source": [
    "#Para UN solo fold\n",
    "#Hacemos las predicciones necesarias\n",
    "y_pred = model.predict(X_test_std)\n",
    "print(y_pred)\n",
    "#Evaluamos el score\n",
    "print('')\n",
    "print('Score: ', accuracy_score(y_test, y_pred))"
   ]
  },
  {
   "cell_type": "code",
   "execution_count": 66,
   "id": "422a3996",
   "metadata": {},
   "outputs": [
    {
     "name": "stderr",
     "output_type": "stream",
     "text": [
      "C:\\Users\\DataScience\\anaconda3\\lib\\site-packages\\sklearn\\model_selection\\_split.py:676: UserWarning: The least populated class in y has only 6 members, which is less than n_splits=20.\n",
      "  warnings.warn(\n"
     ]
    },
    {
     "name": "stdout",
     "output_type": "stream",
     "text": [
      "Los scores obtenidos son [0.43333333 0.33333333 0.4        0.4        0.46666667 0.3\n",
      " 0.5        0.33333333 0.36666667 0.43333333 0.36666667 0.46666667\n",
      " 0.43333333 0.4137931  0.48275862 0.37931034 0.4137931  0.4137931\n",
      " 0.51724138 0.5862069 ]\n",
      "El promedio es :0.42201149425287354\n"
     ]
    }
   ],
   "source": [
    "#Generalizamos para 20 folds\n",
    "stratifiedkf=StratifiedKFold(n_splits=20)\n",
    "score=cross_val_score(model,X_train_std,y_train,cv=stratifiedkf)\n",
    "print(\"Los scores obtenidos son {}\".format(score))\n",
    "print(\"El promedio es :{}\".format(score.mean()))"
   ]
  },
  {
   "cell_type": "code",
   "execution_count": 67,
   "id": "2021cf09",
   "metadata": {},
   "outputs": [
    {
     "data": {
      "text/plain": [
       "array([[ 1.73638956,  1.38445619,  0.97012795, -0.52076142, -1.96065443,\n",
       "        -0.42901445, -1.2079663 , -1.8241272 ,  0.84699549, -1.73456135,\n",
       "         1.09784693,  0.14670172, -0.89761015,  1.69477812,  1.3102586 ,\n",
       "         1.04210033,  0.19005314, -0.12156141, -0.22233599,  1.30724345,\n",
       "        -2.08828409,  1.11929633, -1.41769792,  0.27814051,  0.15373989,\n",
       "        -2.35115373, -0.07156029, -0.83876326, -2.54509877, -0.39563604,\n",
       "        -0.16893956, -1.53653045],\n",
       "       [ 0.15779509,  1.01160523, -0.35656941, -2.58948196, -0.55941311,\n",
       "        -0.53575304,  2.31088366,  2.36749323, -2.49074399, -0.06676836,\n",
       "         0.28544964, -0.11665906,  0.556709  , -0.83411735,  1.87229545,\n",
       "        -0.6692475 ,  1.06555995, -1.1601636 , -1.43664117,  1.25803436,\n",
       "         0.01792243,  0.89767746, -0.0741532 , -0.79504374,  0.65014594,\n",
       "        -0.16013316, -1.47714204,  0.1071627 , -0.26076326, -0.99063344,\n",
       "        -1.92665309, -1.15507299],\n",
       "       [-1.09430379, -0.01885317,  0.39506136,  2.20458007, -0.67959277,\n",
       "        -3.80778143, -0.98475827, -1.8041582 ,  0.44065576,  3.12927504,\n",
       "        -0.88845318, -0.83697268,  0.87927718,  1.32683177, -0.56388007,\n",
       "         0.7525941 ,  0.54284104, -0.02515568,  0.4155444 ,  1.56919416,\n",
       "        -0.62308128, -0.62513022, -1.13034567,  0.20472326,  0.34326301,\n",
       "         0.01849541,  0.61502879, -0.10278375,  0.45264144,  2.0886198 ,\n",
       "         0.18736401, -0.01929473],\n",
       "       [-1.27917321, -1.01354393,  0.21921184,  1.28478884, -1.23887016,\n",
       "         1.28322112,  0.26533664, -0.40661838,  1.63327084, -0.37935834,\n",
       "         0.40443145,  0.29699407, -0.84994522, -0.12203101, -1.33096214,\n",
       "         0.16914136,  0.00692631,  2.2072077 , -0.24296428, -0.50023374,\n",
       "        -0.82441262, -0.00638522, -0.6548285 , -1.1485182 , -1.08684686,\n",
       "        -2.32694517, -0.45330169,  1.62008026, -0.05507185, -0.03868509,\n",
       "        -0.17321805, -1.97059071],\n",
       "       [-0.11321794,  0.52353748,  0.04336828, -2.185575  ,  0.22146301,\n",
       "         1.31343371, -0.3058551 , -0.67388007,  0.80671465, -3.41313135,\n",
       "         1.00601456,  2.19505033,  1.34122289, -0.44392825,  0.02834265,\n",
       "         0.11874317, -0.03906376, -1.13667001, -0.06981704, -2.89758218,\n",
       "        -0.3599601 , -0.60711826,  0.45533383, -0.54657568, -1.26402723,\n",
       "         0.25374195,  0.05588432, -0.34966599,  0.50354281, -1.09563126,\n",
       "        -0.25087714,  1.21939336],\n",
       "       [ 0.39335524, -1.60861318, -0.67003529,  1.81563047,  1.63498299,\n",
       "         1.08308332, -1.71184261,  0.94801171, -0.0414358 ,  1.2311755 ,\n",
       "        -1.95249555, -1.42862497, -1.68773392, -0.32015431,  0.41643552,\n",
       "        -0.69511975, -0.73865764,  2.26204848,  0.93744218, -1.46599122,\n",
       "        -0.56530568, -0.07571227,  0.8290825 ,  1.43609349, -1.69897587,\n",
       "        -0.35204558,  0.14733702, -0.4118212 , -0.76832808, -0.83108296,\n",
       "         1.24169199,  1.98259175]])"
      ]
     },
     "execution_count": 67,
     "metadata": {},
     "output_type": "execute_result"
    }
   ],
   "source": [
    "model.coef_"
   ]
  },
  {
   "cell_type": "code",
   "execution_count": 22,
   "id": "55e264d4",
   "metadata": {},
   "outputs": [],
   "source": [
    "def make_confusion_matrix(cf,\n",
    "                          group_names=None,\n",
    "                          categories='auto',\n",
    "                          count=True,\n",
    "                          percent=True,\n",
    "                          cbar=True,\n",
    "                          xyticks=True,\n",
    "                          xyplotlabels=True,\n",
    "                          sum_stats=True,\n",
    "                          figsize=None,\n",
    "                          cmap='Oranges',\n",
    "                          title=None):\n",
    "    '''\n",
    "    This function will make a pretty plot of an sklearn Confusion Matrix cm using a Seaborn heatmap visualization.\n",
    "    Arguments\n",
    "    ---------\n",
    "    cf:            confusion matrix to be passed in\n",
    "    group_names:   List of strings that represent the labels row by row to be shown in each square.\n",
    "    categories:    List of strings containing the categories to be displayed on the x,y axis. Default is 'auto'\n",
    "    count:         If True, show the raw number in the confusion matrix. Default is True.\n",
    "    normalize:     If True, show the proportions for each category. Default is True.\n",
    "    cbar:          If True, show the color bar. The cbar values are based off the values in the confusion matrix.\n",
    "                   Default is True.\n",
    "    xyticks:       If True, show x and y ticks. Default is True.\n",
    "    xyplotlabels:  If True, show 'True Label' and 'Predicted Label' on the figure. Default is True.\n",
    "    sum_stats:     If True, display summary statistics below the figure. Default is True.\n",
    "    figsize:       Tuple representing the figure size. Default will be the matplotlib rcParams value.\n",
    "    cmap:          Colormap of the values displayed from matplotlib.pyplot.cm. Default is 'Blues'\n",
    "                   See http://matplotlib.org/examples/color/colormaps_reference.html\n",
    "                   \n",
    "    title:         Title for the heatmap. Default is None.\n",
    "    '''\n",
    "\n",
    "\n",
    "    # CODE TO GENERATE TEXT INSIDE EACH SQUARE\n",
    "    blanks = ['' for i in range(cf.size)]\n",
    "\n",
    "    if group_names and len(group_names)==cf.size:\n",
    "        group_labels = [\"{}\\n\".format(value) for value in group_names]\n",
    "    else:\n",
    "        group_labels = blanks\n",
    "\n",
    "    if count:\n",
    "        group_counts = [\"{0:0.0f}\\n\".format(value) for value in cf.flatten()]\n",
    "    else:\n",
    "        group_counts = blanks\n",
    "\n",
    "    if percent:\n",
    "        group_percentages = [\"{0:.2%}\".format(value) for value in cf.flatten()/np.sum(cf)]\n",
    "    else:\n",
    "        group_percentages = blanks\n",
    "\n",
    "    box_labels = [f\"{v1}{v2}{v3}\".strip() for v1, v2, v3 in zip(group_labels,group_counts,group_percentages)]\n",
    "    box_labels = np.asarray(box_labels).reshape(cf.shape[0],cf.shape[1])\n",
    "\n",
    "\n",
    "    # CODE TO GENERATE SUMMARY STATISTICS & TEXT FOR SUMMARY STATS\n",
    "    if sum_stats:\n",
    "        #Accuracy is sum of diagonal divided by total observations\n",
    "        accuracy  = np.trace(cf) / float(np.sum(cf))\n",
    "\n",
    "        #if it is a binary confusion matrix, show some more stats\n",
    "        if len(cf)==2:\n",
    "            #Metrics for Binary Confusion Matrices\n",
    "            precision = cf[1,1] / sum(cf[:,1])\n",
    "            recall    = cf[1,1] / sum(cf[1,:])\n",
    "            f1_score  = 2*precision*recall / (precision + recall)\n",
    "            stats_text = \"\\n\\nAccuracy={:0.3f}\\nPrecision={:0.3f}\\nRecall={:0.3f}\\nF1 Score={:0.3f}\".format(\n",
    "                accuracy,precision,recall,f1_score)\n",
    "        else:\n",
    "            stats_text = \"\\n\\nAccuracy={:0.3f}\".format(accuracy)\n",
    "    else:\n",
    "        stats_text = \"\"\n",
    "\n",
    "\n",
    "    # SET FIGURE PARAMETERS ACCORDING TO OTHER ARGUMENTS\n",
    "    if figsize==None:\n",
    "        #Get default figure size if not set\n",
    "        figsize = plt.rcParams.get('figure.figsize')\n",
    "\n",
    "    if xyticks==False:\n",
    "        #Do not show categories if xyticks is False\n",
    "        categories=False\n",
    "\n",
    "\n",
    "    # MAKE THE HEATMAP VISUALIZATION\n",
    "    plt.figure(figsize=figsize)\n",
    "    sns.heatmap(cf,annot=box_labels,fmt=\"\",cmap=cmap,cbar=cbar,xticklabels=categories,yticklabels=categories)\n",
    "\n",
    "    if xyplotlabels:\n",
    "        plt.ylabel('True label')\n",
    "        plt.xlabel('Predicted label' + stats_text)\n",
    "    else:\n",
    "        plt.xlabel(stats_text)\n",
    "    \n",
    "    if title:\n",
    "        plt.title(title)"
   ]
  },
  {
   "cell_type": "code",
   "execution_count": 69,
   "id": "8100e5b0",
   "metadata": {},
   "outputs": [],
   "source": [
    "cf_matrix = confusion_matrix(y_test, y_pred)"
   ]
  },
  {
   "cell_type": "code",
   "execution_count": 70,
   "id": "4df2f348",
   "metadata": {},
   "outputs": [
    {
     "data": {
      "image/png": "[encoded data removed]",
      "text/plain": [
       "<Figure size 576x432 with 1 Axes>"
      ]
     },
     "metadata": {
      "needs_background": "light"
     },
     "output_type": "display_data"
    }
   ],
   "source": [
    "make_confusion_matrix(cf_matrix, categories= [11,21,22,31,32,33] , figsize=(8,6), cbar=False)"
   ]
  },
  {
   "cell_type": "code",
   "execution_count": 71,
   "id": "553dddfb",
   "metadata": {},
   "outputs": [],
   "source": [
    "################################################################################################################################"
   ]
  },
  {
   "cell_type": "code",
   "execution_count": 15,
   "id": "93537d4b",
   "metadata": {},
   "outputs": [],
   "source": [
    "#Hagamos regresion logística con el data set alternativo\n",
    "\n",
    "#Levantamos el df_final_alternativo\n",
    "df_final_alternativo = pd.read_csv('df_final_alternativo.csv')\n",
    "\n",
    "#Generamos el X y el target\n",
    "Xa = df_final_alternativo.drop(['ClasificacionNum2'], axis = 1)\n",
    "ya = df_final_alternativo['ClasificacionNum2']\n",
    "\n",
    "#Divimos en train y en test\n",
    "Xa_train, Xa_test, ya_train, ya_test = train_test_split(Xa,ya, stratify=ya, test_size= 0.25)\n",
    "\n",
    "#Estandarizamos con MinMax\n",
    "scaler = MinMaxScaler()\n",
    "\n",
    "Xa_train_std = scaler.fit_transform(Xa_train)\n",
    "Xa_test_std = scaler.fit_transform(Xa_test)"
   ]
  },
  {
   "cell_type": "code",
   "execution_count": 4,
   "id": "c3037acc",
   "metadata": {},
   "outputs": [
    {
     "name": "stdout",
     "output_type": "stream",
     "text": [
      "Best: 0.765996 using {'C': 1.0, 'penalty': 'l2', 'solver': 'newton-cg'}\n",
      "0.762625 (0.068897) with: {'C': 100, 'penalty': 'l2', 'solver': 'newton-cg'}\n",
      "0.760900 (0.067962) with: {'C': 100, 'penalty': 'l2', 'solver': 'lbfgs'}\n",
      "0.762625 (0.067813) with: {'C': 100, 'penalty': 'l2', 'solver': 'liblinear'}\n",
      "0.760900 (0.068291) with: {'C': 10, 'penalty': 'l2', 'solver': 'newton-cg'}\n",
      "0.760900 (0.068291) with: {'C': 10, 'penalty': 'l2', 'solver': 'lbfgs'}\n",
      "0.764253 (0.067028) with: {'C': 10, 'penalty': 'l2', 'solver': 'liblinear'}\n",
      "0.765996 (0.062456) with: {'C': 1.0, 'penalty': 'l2', 'solver': 'newton-cg'}\n",
      "0.765996 (0.062456) with: {'C': 1.0, 'penalty': 'l2', 'solver': 'lbfgs'}\n",
      "0.753487 (0.065581) with: {'C': 1.0, 'penalty': 'l2', 'solver': 'liblinear'}\n",
      "0.754464 (0.055602) with: {'C': 0.1, 'penalty': 'l2', 'solver': 'newton-cg'}\n",
      "0.754464 (0.055602) with: {'C': 0.1, 'penalty': 'l2', 'solver': 'lbfgs'}\n",
      "0.754981 (0.058400) with: {'C': 0.1, 'penalty': 'l2', 'solver': 'liblinear'}\n",
      "0.689330 (0.010568) with: {'C': 0.01, 'penalty': 'l2', 'solver': 'newton-cg'}\n",
      "0.689330 (0.010568) with: {'C': 0.01, 'penalty': 'l2', 'solver': 'lbfgs'}\n",
      "0.690460 (0.009182) with: {'C': 0.01, 'penalty': 'l2', 'solver': 'liblinear'}\n"
     ]
    }
   ],
   "source": [
    "# Buscamos los mejores hiperparametros\n",
    "\n",
    "modelo = LogisticRegression()\n",
    "solvers = ['newton-cg', 'lbfgs', 'liblinear']\n",
    "penalty = ['l2']\n",
    "c_values = [100, 10, 1.0, 0.1, 0.01]\n",
    "\n",
    "# Defnimos una grilla con GridSearch\n",
    "\n",
    "grid = dict(solver=solvers,penalty=penalty,C=c_values)\n",
    "cv = RepeatedStratifiedKFold(n_splits=20, n_repeats=3, random_state=999)\n",
    "grid_search = GridSearchCV(estimator=modelo, param_grid=grid, n_jobs=-1, cv=cv, scoring='accuracy',error_score=0)\n",
    "grid_result = grid_search.fit(Xa_train_std, ya_train)\n",
    "\n",
    "# Vemos los resultados\n",
    "\n",
    "print(\"Best: %f using %s\" % (grid_result.best_score_, grid_result.best_params_))\n",
    "means = grid_result.cv_results_['mean_test_score']\n",
    "stds = grid_result.cv_results_['std_test_score']\n",
    "params = grid_result.cv_results_['params']\n",
    "for mean, stdev, param in zip(means, stds, params):\n",
    "    print(\"%f (%f) with: %r\" % (mean, stdev, param))"
   ]
  },
  {
   "cell_type": "code",
   "execution_count": 5,
   "id": "df4a1c88",
   "metadata": {},
   "outputs": [
    {
     "data": {
      "text/plain": [
       "LogisticRegression(C=1, solver='newton-cg')"
      ]
     },
     "execution_count": 5,
     "metadata": {},
     "output_type": "execute_result"
    }
   ],
   "source": [
    "#Instanciamos el modelo y los ajustamos a los datos de entrenamiento\n",
    "modelo = LogisticRegression(C=1, penalty = 'l2', solver= 'newton-cg')\n",
    "modelo.fit(Xa_train_std, ya_train)"
   ]
  },
  {
   "cell_type": "code",
   "execution_count": 16,
   "id": "fe0d84cd",
   "metadata": {},
   "outputs": [
    {
     "name": "stdout",
     "output_type": "stream",
     "text": [
      "[1 0 0 0 0 1 0 0 0 0 0 0 0 1 0 0 0 0 0 0 0 0 0 0 0 0 0 0 0 0 0 0 0 0 0 0 0\n",
      " 0 0 0 0 1 0 0 0 0 0 0 0 0 0 0 0 0 1 1 0 0 1 0 0 0 0 0 0 0 0 1 0 1 0 0 0 0\n",
      " 0 0 0 0 0 0 0 0 1 1 1 1 0 0 0 0 1 0 1 0 0 0 0 0 0 0 0 0 0 0 0 0 1 0 0 0 0\n",
      " 0 0 0 0 0 0 1 1 0 0 1 0 1 0 0 0 0 0 0 0 0 0 0 1 0 0 0 0 1 0 0 0 1 0 1 0 0\n",
      " 1 0 0 0 0 0 0 1 0 0 0 0 1 0 0 0 0 0 1 0 0 0 0 0 0 0 1 1 0 0 1 0 0 0 1 0 0\n",
      " 0 0 1 0 0 0 0 0 0 0 0]\n",
      "\n",
      "Score:  0.7908163265306123\n"
     ]
    }
   ],
   "source": [
    "#Para UN solo fold\n",
    "#Hacemos las predicciones necesarias\n",
    "ya_pred = modelo.predict(Xa_test_std)\n",
    "print(ya_pred)\n",
    "#Evaluamos el score\n",
    "print('')\n",
    "print('Score: ', accuracy_score(ya_test, ya_pred))"
   ]
  },
  {
   "cell_type": "code",
   "execution_count": 18,
   "id": "486cb3d0",
   "metadata": {},
   "outputs": [
    {
     "name": "stdout",
     "output_type": "stream",
     "text": [
      "Los scores obtenidos son [0.86666667 0.8        0.83333333 0.83333333 0.7        0.83333333\n",
      " 0.76666667 0.76666667 0.72413793 0.68965517 0.65517241 0.65517241\n",
      " 0.79310345 0.75862069 0.65517241 0.79310345 0.82758621 0.65517241\n",
      " 0.79310345 0.72413793]\n",
      "El promedio es :0.756206896551724\n"
     ]
    }
   ],
   "source": [
    "#Generalizamos para 20 folds\n",
    "stratifiedkf=StratifiedKFold(n_splits=20)\n",
    "score=cross_val_score(modelo,Xa_train_std,ya_train,cv=stratifiedkf)\n",
    "print(\"Los scores obtenidos son {}\".format(score))\n",
    "print(\"El promedio es :{}\".format(score.mean()))"
   ]
  },
  {
   "cell_type": "code",
   "execution_count": 20,
   "id": "03909246",
   "metadata": {},
   "outputs": [],
   "source": [
    "cf_matrix_a = confusion_matrix(ya_pred,ya_test)"
   ]
  },
  {
   "cell_type": "code",
   "execution_count": 23,
   "id": "d7f9bdc5",
   "metadata": {},
   "outputs": [
    {
     "data": {
      "image/png": "[encoded data removed]",
      "text/plain": [
       "<Figure size 576x432 with 1 Axes>"
      ]
     },
     "metadata": {
      "needs_background": "light"
     },
     "output_type": "display_data"
    }
   ],
   "source": [
    "make_confusion_matrix(cf_matrix_a, categories= ['No_Apto', 'Apto'] , figsize=(8,6), cbar=False)"
   ]
  },
  {
   "cell_type": "code",
   "execution_count": 24,
   "id": "61454038",
   "metadata": {},
   "outputs": [],
   "source": [
    "y_pred_proba = modelo.predict_proba(Xa_test_std)"
   ]
  },
  {
   "cell_type": "code",
   "execution_count": 25,
   "id": "acb6046f",
   "metadata": {},
   "outputs": [
    {
     "data": {
      "text/plain": [
       "(196, 2)"
      ]
     },
     "metadata": {},
     "output_type": "display_data"
    },
    {
     "data": {
      "text/plain": [
       "array([[0.42715847, 0.57284153],\n",
       "       [0.71863308, 0.28136692],\n",
       "       [0.75590416, 0.24409584],\n",
       "       [0.7176917 , 0.2823083 ],\n",
       "       [0.6812731 , 0.3187269 ],\n",
       "       [0.26398673, 0.73601327],\n",
       "       [0.94098441, 0.05901559],\n",
       "       [0.8614691 , 0.1385309 ],\n",
       "       [0.56021273, 0.43978727],\n",
       "       [0.96971404, 0.03028596],\n",
       "       [0.60958408, 0.39041592],\n",
       "       [0.89711217, 0.10288783],\n",
       "       [0.6426534 , 0.3573466 ],\n",
       "       [0.48319563, 0.51680437],\n",
       "       [0.8104012 , 0.1895988 ],\n",
       "       [0.5759396 , 0.4240604 ],\n",
       "       [0.83554206, 0.16445794],\n",
       "       [0.71261524, 0.28738476],\n",
       "       [0.87913632, 0.12086368],\n",
       "       [0.95760796, 0.04239204],\n",
       "       [0.68282492, 0.31717508],\n",
       "       [0.68819736, 0.31180264],\n",
       "       [0.62540987, 0.37459013],\n",
       "       [0.55889319, 0.44110681],\n",
       "       [0.88223992, 0.11776008],\n",
       "       [0.67138113, 0.32861887],\n",
       "       [0.51756261, 0.48243739],\n",
       "       [0.53432944, 0.46567056],\n",
       "       [0.95338574, 0.04661426],\n",
       "       [0.58659137, 0.41340863],\n",
       "       [0.86711153, 0.13288847],\n",
       "       [0.7176917 , 0.2823083 ],\n",
       "       [0.6426534 , 0.3573466 ],\n",
       "       [0.55003037, 0.44996963],\n",
       "       [0.53432944, 0.46567056],\n",
       "       [0.62872951, 0.37127049],\n",
       "       [0.95760796, 0.04239204],\n",
       "       [0.79704499, 0.20295501],\n",
       "       [0.51283883, 0.48716117],\n",
       "       [0.87913632, 0.12086368],\n",
       "       [0.89951773, 0.10048227],\n",
       "       [0.49666369, 0.50333631],\n",
       "       [0.63485595, 0.36514405],\n",
       "       [0.63485595, 0.36514405],\n",
       "       [0.75590416, 0.24409584],\n",
       "       [0.7463097 , 0.2536903 ],\n",
       "       [0.79704499, 0.20295501],\n",
       "       [0.88937133, 0.11062867],\n",
       "       [0.92758202, 0.07241798],\n",
       "       [0.72889402, 0.27110598],\n",
       "       [0.97545002, 0.02454998],\n",
       "       [0.8852807 , 0.1147193 ],\n",
       "       [0.69678762, 0.30321238],\n",
       "       [0.89951773, 0.10048227],\n",
       "       [0.49666369, 0.50333631],\n",
       "       [0.17243148, 0.82756852],\n",
       "       [0.95616506, 0.04383494],\n",
       "       [0.87488928, 0.12511072],\n",
       "       [0.17490298, 0.82509702],\n",
       "       [0.89711217, 0.10288783],\n",
       "       [0.88298135, 0.11701865],\n",
       "       [0.61270039, 0.38729961],\n",
       "       [0.80903131, 0.19096869],\n",
       "       [0.87488928, 0.12511072],\n",
       "       [0.77423143, 0.22576857],\n",
       "       [0.71261524, 0.28738476],\n",
       "       [0.5059074 , 0.4940926 ],\n",
       "       [0.39298331, 0.60701669],\n",
       "       [0.59468338, 0.40531662],\n",
       "       [0.25281795, 0.74718205],\n",
       "       [0.52186148, 0.47813852],\n",
       "       [0.96154571, 0.03845429],\n",
       "       [0.8855318 , 0.1144682 ],\n",
       "       [0.69678762, 0.30321238],\n",
       "       [0.96154571, 0.03845429],\n",
       "       [0.79704499, 0.20295501],\n",
       "       [0.79426167, 0.20573833],\n",
       "       [0.96971404, 0.03028596],\n",
       "       [0.648721  , 0.351279  ],\n",
       "       [0.96185224, 0.03814776],\n",
       "       [0.77423143, 0.22576857],\n",
       "       [0.62596927, 0.37403073],\n",
       "       [0.3058965 , 0.6941035 ],\n",
       "       [0.22706225, 0.77293775],\n",
       "       [0.39298331, 0.60701669],\n",
       "       [0.42715847, 0.57284153],\n",
       "       [0.93806871, 0.06193129],\n",
       "       [0.79888526, 0.20111474],\n",
       "       [0.87913632, 0.12086368],\n",
       "       [0.94835385, 0.05164615],\n",
       "       [0.48319563, 0.51680437],\n",
       "       [0.7463097 , 0.2536903 ],\n",
       "       [0.3058965 , 0.6941035 ],\n",
       "       [0.52381602, 0.47618398],\n",
       "       [0.80613781, 0.19386219],\n",
       "       [0.59468338, 0.40531662],\n",
       "       [0.61270039, 0.38729961],\n",
       "       [0.82924707, 0.17075293],\n",
       "       [0.95653621, 0.04346379],\n",
       "       [0.9220706 , 0.0779294 ],\n",
       "       [0.52381602, 0.47618398],\n",
       "       [0.6426534 , 0.3573466 ],\n",
       "       [0.59440347, 0.40559653],\n",
       "       [0.58659137, 0.41340863],\n",
       "       [0.55889319, 0.44110681],\n",
       "       [0.87611174, 0.12388826],\n",
       "       [0.42850253, 0.57149747],\n",
       "       [0.95537793, 0.04462207],\n",
       "       [0.59468338, 0.40531662],\n",
       "       [0.68819736, 0.31180264],\n",
       "       [0.61587757, 0.38412243],\n",
       "       [0.5759396 , 0.4240604 ],\n",
       "       [0.79704499, 0.20295501],\n",
       "       [0.60039713, 0.39960287],\n",
       "       [0.7176917 , 0.2823083 ],\n",
       "       [0.89195406, 0.10804594],\n",
       "       [0.648721  , 0.351279  ],\n",
       "       [0.17603647, 0.82396353],\n",
       "       [0.17490298, 0.82509702],\n",
       "       [0.81285587, 0.18714413],\n",
       "       [0.62764319, 0.37235681],\n",
       "       [0.15595   , 0.84405   ],\n",
       "       [0.98518369, 0.01481631],\n",
       "       [0.21726642, 0.78273358],\n",
       "       [0.648721  , 0.351279  ],\n",
       "       [0.97109553, 0.02890447],\n",
       "       [0.92813104, 0.07186896],\n",
       "       [0.8614691 , 0.1385309 ],\n",
       "       [0.7463097 , 0.2536903 ],\n",
       "       [0.61270039, 0.38729961],\n",
       "       [0.81285587, 0.18714413],\n",
       "       [0.79888526, 0.20111474],\n",
       "       [0.96154571, 0.03845429],\n",
       "       [0.8280014 , 0.1719986 ],\n",
       "       [0.46442032, 0.53557968],\n",
       "       [0.84550213, 0.15449787],\n",
       "       [0.59468338, 0.40531662],\n",
       "       [0.83981544, 0.16018456],\n",
       "       [0.5759396 , 0.4240604 ],\n",
       "       [0.21058065, 0.78941935],\n",
       "       [0.7810064 , 0.2189936 ],\n",
       "       [0.96950317, 0.03049683],\n",
       "       [0.80613781, 0.19386219],\n",
       "       [0.33527055, 0.66472945],\n",
       "       [0.86289721, 0.13710279],\n",
       "       [0.09018979, 0.90981021],\n",
       "       [0.72436597, 0.27563403],\n",
       "       [0.9751698 , 0.0248302 ],\n",
       "       [0.25558808, 0.74441192],\n",
       "       [0.62596927, 0.37403073],\n",
       "       [0.82924707, 0.17075293],\n",
       "       [0.83788074, 0.16211926],\n",
       "       [0.60958408, 0.39041592],\n",
       "       [0.91670521, 0.08329479],\n",
       "       [0.7810064 , 0.2189936 ],\n",
       "       [0.3058965 , 0.6941035 ],\n",
       "       [0.88532001, 0.11467999],\n",
       "       [0.64044288, 0.35955712],\n",
       "       [0.8855318 , 0.1144682 ],\n",
       "       [0.93652094, 0.06347906],\n",
       "       [0.25558808, 0.74441192],\n",
       "       [0.93262881, 0.06737119],\n",
       "       [0.84550213, 0.15449787],\n",
       "       [0.71114751, 0.28885249],\n",
       "       [0.59440347, 0.40559653],\n",
       "       [0.92813104, 0.07186896],\n",
       "       [0.36746507, 0.63253493],\n",
       "       [0.60066   , 0.39934   ],\n",
       "       [0.84056018, 0.15943982],\n",
       "       [0.92813104, 0.07186896],\n",
       "       [0.84424229, 0.15575771],\n",
       "       [0.62872951, 0.37127049],\n",
       "       [0.96403117, 0.03596883],\n",
       "       [0.71261524, 0.28738476],\n",
       "       [0.36746507, 0.63253493],\n",
       "       [0.42850253, 0.57149747],\n",
       "       [0.72889402, 0.27110598],\n",
       "       [0.95760796, 0.04239204],\n",
       "       [0.3058965 , 0.6941035 ],\n",
       "       [0.80903131, 0.19096869],\n",
       "       [0.60039713, 0.39960287],\n",
       "       [0.84550213, 0.15449787],\n",
       "       [0.19354207, 0.80645793],\n",
       "       [0.62872951, 0.37127049],\n",
       "       [0.72198494, 0.27801506],\n",
       "       [0.76923242, 0.23076758],\n",
       "       [0.88223992, 0.11776008],\n",
       "       [0.3058965 , 0.6941035 ],\n",
       "       [0.6812731 , 0.3187269 ],\n",
       "       [0.64666994, 0.35333006],\n",
       "       [0.6340314 , 0.3659686 ],\n",
       "       [0.97109553, 0.02890447],\n",
       "       [0.5917585 , 0.4082415 ],\n",
       "       [0.68282492, 0.31717508],\n",
       "       [0.77423143, 0.22576857],\n",
       "       [0.90253117, 0.09746883]])"
      ]
     },
     "metadata": {},
     "output_type": "display_data"
    }
   ],
   "source": [
    "display(y_pred_proba.shape, y_pred_proba)"
   ]
  },
  {
   "cell_type": "code",
   "execution_count": 37,
   "id": "22485e92",
   "metadata": {},
   "outputs": [
    {
     "data": {
      "text/plain": [
       "0    139\n",
       "1     57\n",
       "dtype: int64"
      ]
     },
     "execution_count": 37,
     "metadata": {},
     "output_type": "execute_result"
    }
   ],
   "source": [
    "# Pertenencia a partir de las probabilidades\n",
    "pd.Series(y_pred_proba[:,1]>0.4).astype(int).value_counts()\n",
    "#0 no apto, 1 apto"
   ]
  },
  {
   "cell_type": "code",
   "execution_count": 38,
   "id": "c5fb9ad5",
   "metadata": {},
   "outputs": [
    {
     "data": {
      "text/plain": [
       "0    163\n",
       "1     33\n",
       "dtype: int64"
      ]
     },
     "execution_count": 38,
     "metadata": {},
     "output_type": "execute_result"
    }
   ],
   "source": [
    "# Pertenencia calculada a partir del método .predict()\n",
    "pd.Series(ya_pred).value_counts()"
   ]
  },
  {
   "cell_type": "code",
   "execution_count": 30,
   "id": "9fe3c785",
   "metadata": {},
   "outputs": [
    {
     "data": {
      "image/png": "[encoded data removed]",
      "text/plain": [
       "<Figure size 432x288 with 1 Axes>"
      ]
     },
     "metadata": {
      "needs_background": "light"
     },
     "output_type": "display_data"
    }
   ],
   "source": [
    "# Nos quedamos con la columna que tiene la probabilidad positiva de cada caso\n",
    "y_probs_logit_left = y_pred_proba[:,1]\n",
    "\n",
    "# Generamos un histograma de esa columna\n",
    "plt.hist(y_probs_logit_left, bins=15)\n",
    "plt.xlim(0,1)\n",
    "plt.xlabel('Probabilidades')\n",
    "plt.ylabel('Frecuencia')\n",
    "plt.show()"
   ]
  },
  {
   "cell_type": "code",
   "execution_count": 150,
   "id": "5e043160",
   "metadata": {},
   "outputs": [],
   "source": [
    "#Cambiamos el umbral a 0.4\n",
    "ya_pred_logit = (y_probs_logit_left > 0.25).astype(int)\n",
    "cf_matrix_a_logit = confusion_matrix(ya_pred_logit,ya_test)"
   ]
  },
  {
   "cell_type": "code",
   "execution_count": 151,
   "id": "9437acb5",
   "metadata": {},
   "outputs": [
    {
     "data": {
      "text/plain": [
       "array([1, 1, 0, 1, 1, 1, 0, 0, 1, 0, 1, 0, 1, 1, 0, 1, 0, 1, 0, 0, 1, 1,\n",
       "       1, 1, 0, 1, 1, 1, 0, 1, 0, 1, 1, 1, 1, 1, 0, 0, 1, 0, 0, 1, 1, 1,\n",
       "       0, 1, 0, 0, 0, 1, 0, 0, 1, 0, 1, 1, 0, 0, 1, 0, 0, 1, 0, 0, 0, 1,\n",
       "       1, 1, 1, 1, 1, 0, 0, 1, 0, 0, 0, 0, 1, 0, 0, 1, 1, 1, 1, 1, 0, 0,\n",
       "       0, 0, 1, 1, 1, 1, 0, 1, 1, 0, 0, 0, 1, 1, 1, 1, 1, 0, 1, 0, 1, 1,\n",
       "       1, 1, 0, 1, 1, 0, 1, 1, 1, 0, 1, 1, 0, 1, 1, 0, 0, 0, 1, 1, 0, 0,\n",
       "       0, 0, 1, 0, 1, 0, 1, 1, 0, 0, 0, 1, 0, 1, 1, 0, 1, 1, 0, 0, 1, 0,\n",
       "       0, 1, 0, 1, 0, 0, 1, 0, 0, 1, 1, 0, 1, 1, 0, 0, 0, 1, 0, 1, 1, 1,\n",
       "       1, 0, 1, 0, 1, 0, 1, 1, 1, 0, 0, 1, 1, 1, 1, 0, 1, 1, 0, 0])"
      ]
     },
     "execution_count": 151,
     "metadata": {},
     "output_type": "execute_result"
    }
   ],
   "source": [
    "ya_pred_logit"
   ]
  },
  {
   "cell_type": "code",
   "execution_count": 152,
   "id": "3ce0ab6a",
   "metadata": {},
   "outputs": [
    {
     "name": "stdout",
     "output_type": "stream",
     "text": [
      "Matrix Original\n"
     ]
    },
    {
     "data": {
      "text/plain": [
       "array([[129,  34],\n",
       "       [  7,  26]], dtype=int64)"
      ]
     },
     "metadata": {},
     "output_type": "display_data"
    },
    {
     "name": "stdout",
     "output_type": "stream",
     "text": [
      "\n",
      "Nueva Matrix\n"
     ]
    },
    {
     "data": {
      "text/plain": [
       "array([[81,  7],\n",
       "       [55, 53]], dtype=int64)"
      ]
     },
     "metadata": {},
     "output_type": "display_data"
    }
   ],
   "source": [
    "print('Matrix Original')\n",
    "display(confusion_matrix(ya_pred,ya_test))\n",
    "print('')\n",
    "print('Nueva Matrix')\n",
    "display(confusion_matrix(ya_pred_logit,ya_test))"
   ]
  },
  {
   "cell_type": "code",
   "execution_count": 153,
   "id": "2813725c",
   "metadata": {},
   "outputs": [
    {
     "data": {
      "image/png": "[encoded data removed]",
      "text/plain": [
       "<Figure size 576x432 with 1 Axes>"
      ]
     },
     "metadata": {
      "needs_background": "light"
     },
     "output_type": "display_data"
    }
   ],
   "source": [
    "make_confusion_matrix(cf_matrix_a_logit, categories= ['No_Apto','Apto'] , figsize=(8,6), cbar=False)"
   ]
  },
  {
   "cell_type": "code",
   "execution_count": 154,
   "id": "a5271261",
   "metadata": {},
   "outputs": [
    {
     "data": {
      "text/plain": [
       "array([[-0.10062225,  3.27754255, -0.16244488,  0.09041464, -0.01650085,\n",
       "        -0.33139506,  0.61462007,  0.00690604,  0.00519458,  0.53688738,\n",
       "        -0.51710485,  0.73376939,  0.62546135, -0.4804606 , -0.25917798,\n",
       "        -0.52467601,  0.05906408,  0.19271361,  0.52656016,  0.06704814,\n",
       "        -1.10836868,  0.22011981,  0.32641581,  0.25633861, -0.30240474,\n",
       "        -0.90478186,  0.22051043,  0.07917532,  0.60509557, -0.12190474,\n",
       "        -0.37416073,  0.14505331,  0.56298231]])"
      ]
     },
     "execution_count": 154,
     "metadata": {},
     "output_type": "execute_result"
    }
   ],
   "source": [
    "modelo.coef_"
   ]
  },
  {
   "cell_type": "code",
   "execution_count": 155,
   "id": "6fedafb4",
   "metadata": {},
   "outputs": [],
   "source": [
    "from sklearn.metrics import roc_curve\n",
    "fpr_log,tpr_log,thr_log = roc_curve(ya_test, y_pred_proba[:,1])"
   ]
  },
  {
   "cell_type": "code",
   "execution_count": 156,
   "id": "2a26ada6",
   "metadata": {},
   "outputs": [
    {
     "data": {
      "image/png": "[encoded data removed]",
      "text/plain": [
       "<Figure size 432x288 with 1 Axes>"
      ]
     },
     "metadata": {
      "needs_background": "light"
     },
     "output_type": "display_data"
    }
   ],
   "source": [
    "df = pd.DataFrame(dict(fpr=fpr_log, tpr=tpr_log, thr = thr_log))\n",
    "\n",
    "plt.axis([0, 1.01, 0, 1.01])\n",
    "plt.xlabel('1 - Specificty')\n",
    "plt.ylabel('TPR / Sensitivity')\n",
    "plt.title('ROC Curve')\n",
    "plt.plot(df['fpr'],df['tpr'])\n",
    "plt.plot(np.arange(0,1, step =0.01), np.arange(0,1, step =0.01))\n",
    "plt.show()"
   ]
  },
  {
   "cell_type": "code",
   "execution_count": 157,
   "id": "8d533870",
   "metadata": {},
   "outputs": [
    {
     "name": "stdout",
     "output_type": "stream",
     "text": [
      "AUC= 0.8342524509803921\n"
     ]
    }
   ],
   "source": [
    "from sklearn.metrics import auc\n",
    "print('AUC=', auc(fpr_log, tpr_log))"
   ]
  }
 ],
 "metadata": {
  "kernelspec": {
   "display_name": "Python 3 (ipykernel)",
   "language": "python",
   "name": "python3"
  },
  "language_info": {
   "codemirror_mode": {
    "name": "ipython",
    "version": 3
   },
   "file_extension": ".py",
   "mimetype": "text/x-python",
   "name": "python",
   "nbconvert_exporter": "python",
   "pygments_lexer": "ipython3",
   "version": "3.9.12"
  }
 },
 "nbformat": 4,
 "nbformat_minor": 5
}
