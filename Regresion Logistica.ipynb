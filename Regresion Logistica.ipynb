{
 "cells": [
  {
   "cell_type": "code",
   "execution_count": 89,
   "id": "33eeef94",
   "metadata": {},
   "outputs": [],
   "source": [
    "#Librerias\n",
    "import numpy as np\n",
    "import pandas as pd\n",
    "import matplotlib.pyplot as plt\n",
    "from sklearn.model_selection import RepeatedStratifiedKFold, StratifiedKFold\n",
    "from sklearn.model_selection import GridSearchCV\n",
    "from sklearn.linear_model import LogisticRegression\n",
    "from sklearn.model_selection import train_test_split, KFold, cross_val_score\n",
    "from sklearn.preprocessing import MinMaxScaler\n",
    "from sklearn.metrics import accuracy_score, confusion_matrix\n",
    "import seaborn as sns"
   ]
  },
  {
   "cell_type": "code",
   "execution_count": 55,
   "id": "e3f8bc81",
   "metadata": {},
   "outputs": [],
   "source": [
    "#Levantamos el df_final2\n",
    "df_final2 = pd.read_csv('df_final2.csv')\n",
    "\n",
    "#Generamos el X y el target\n",
    "X = df_final2.drop(['target'], axis = 1)\n",
    "y = df_final2['target']\n",
    "\n",
    "#Divimos en train y en test\n",
    "X_train, X_test, y_train, y_test = train_test_split(X,y, stratify=y, test_size= 0.25)\n",
    "\n",
    "#Estandarizamos con MinMax\n",
    "scaler = MinMaxScaler()\n",
    "\n",
    "X_train_std = scaler.fit_transform(X_train)\n",
    "X_test_std = scaler.fit_transform(X_test)"
   ]
  },
  {
   "cell_type": "code",
   "execution_count": 70,
   "id": "c2c7d441",
   "metadata": {},
   "outputs": [],
   "source": [
    "# Buscamos los mejores hiperparametros\n",
    "\n",
    "#model = LogisticRegression()\n",
    "#solvers = ['newton-cg', 'lbfgs', 'liblinear']\n",
    "#penalty = ['l2']\n",
    "#c_values = [100, 10, 1.0, 0.1, 0.01]\n",
    "\n",
    "# Defnimos una grilla con GridSearch\n",
    "\n",
    "#grid = dict(solver=solvers,penalty=penalty,C=c_values)\n",
    "#cv = RepeatedStratifiedKFold(n_splits=5, n_repeats=3, random_state=999)\n",
    "#grid_search = GridSearchCV(estimator=model, param_grid=grid, n_jobs=-1, cv=cv, scoring='accuracy',error_score=0)\n",
    "#grid_result = grid_search.fit(X_train_std, y_train)\n",
    "\n",
    "# Vemos los resultados\n",
    "\n",
    "#print(\"Best: %f using %s\" % (grid_result.best_score_, grid_result.best_params_))\n",
    "#means = grid_result.cv_results_['mean_test_score']\n",
    "#stds = grid_result.cv_results_['std_test_score']\n",
    "#params = grid_result.cv_results_['params']\n",
    "#for mean, stdev, param in zip(means, stds, params):\n",
    "    #print(\"%f (%f) with: %r\" % (mean, stdev, param))"
   ]
  },
  {
   "cell_type": "code",
   "execution_count": 56,
   "id": "bdbfd07f",
   "metadata": {},
   "outputs": [
    {
     "data": {
      "text/plain": [
       "LogisticRegression(C=10, solver='liblinear')"
      ]
     },
     "execution_count": 56,
     "metadata": {},
     "output_type": "execute_result"
    }
   ],
   "source": [
    "#Instanciamos el modelo y los ajustamos a los datos de entrenamiento\n",
    "model = LogisticRegression(C=10, penalty = 'l2', solver= 'liblinear')\n",
    "model.fit(X_train_std, y_train)"
   ]
  },
  {
   "cell_type": "code",
   "execution_count": 68,
   "id": "356ccd56",
   "metadata": {},
   "outputs": [
    {
     "name": "stdout",
     "output_type": "stream",
     "text": [
      "[32. 22. 21. 22. 21. 32. 22. 32. 22. 22. 21. 22. 21. 22. 21. 22. 21. 22.\n",
      " 21. 32. 22. 21. 21. 21. 22. 21. 22. 21. 22. 22. 21. 21. 22. 22. 22. 21.\n",
      " 32. 22. 22. 32. 22. 21. 22. 22. 22. 22. 21. 22. 22. 32. 22. 22. 22. 22.\n",
      " 22. 21. 22. 21. 22. 32. 22. 32. 32. 32. 32. 32. 21. 32. 22. 32. 32. 21.\n",
      " 21. 21. 21. 22. 22. 32. 22. 22. 22. 22. 22. 22. 22. 32. 22. 22. 21. 32.\n",
      " 32. 22. 32. 21. 21. 22. 22. 22. 22. 22. 32. 32. 21. 21. 22. 21. 22. 22.\n",
      " 22. 21. 21. 21. 22. 22. 32. 21. 32. 21. 22. 22. 32. 21. 21. 32. 32. 22.\n",
      " 22. 21. 32. 21. 22. 22. 22. 22. 22. 22. 22. 21. 32. 32. 22. 22. 32. 22.\n",
      " 22. 22. 22. 22. 21. 22. 21. 22. 22. 21. 32. 22. 21. 32. 32. 21. 32. 22.\n",
      " 21. 21. 22. 21. 22. 22. 32. 32. 22. 22. 22. 21. 22. 22. 22. 21. 22. 22.\n",
      " 21. 21. 21. 21. 22. 22. 21. 22. 21. 21. 32. 21. 21. 21. 21. 21. 21. 22.]\n",
      "\n",
      "Score:  0.43434343434343436\n"
     ]
    }
   ],
   "source": [
    "#Para UN solo fold\n",
    "#Hacemos las predicciones necesarias\n",
    "y_pred = model.predict(X_test_std)\n",
    "print(y_pred)\n",
    "#Evaluamos el score\n",
    "print('')\n",
    "print('Score: ', accuracy_score(y_test, y_pred))"
   ]
  },
  {
   "cell_type": "code",
   "execution_count": 69,
   "id": "422a3996",
   "metadata": {},
   "outputs": [
    {
     "name": "stderr",
     "output_type": "stream",
     "text": [
      "C:\\Users\\DataScience\\anaconda3\\lib\\site-packages\\sklearn\\model_selection\\_split.py:676: UserWarning: The least populated class in y has only 6 members, which is less than n_splits=20.\n",
      "  warnings.warn(\n"
     ]
    },
    {
     "name": "stdout",
     "output_type": "stream",
     "text": [
      "Los scores obtenidos son [0.4        0.46666667 0.3        0.4        0.43333333 0.5\n",
      " 0.3        0.46666667 0.43333333 0.5        0.53333333 0.6\n",
      " 0.5        0.37931034 0.34482759 0.48275862 0.37931034 0.44827586\n",
      " 0.44827586 0.65517241]\n",
      "El promedio es :0.4485632183908046\n"
     ]
    }
   ],
   "source": [
    "#Generalizamos para 20 folds\n",
    "stratifiedkf=StratifiedKFold(n_splits=20)\n",
    "score=cross_val_score(model,X_train_std,y_train,cv=stratifiedkf)\n",
    "print(\"Los scores obtenidos son {}\".format(score))\n",
    "print(\"El promedio es :{}\".format(score.mean()))"
   ]
  },
  {
   "cell_type": "code",
   "execution_count": 75,
   "id": "2021cf09",
   "metadata": {},
   "outputs": [
    {
     "name": "stdout",
     "output_type": "stream",
     "text": [
      "[[ 2.11173742  1.77529451  1.04297418 -1.10421017 -1.88964916 -0.66499926\n",
      "  -0.84084033 -1.70825091  1.12530378 -1.99436696  1.13657693  1.61901482\n",
      "  -1.12630448  1.65729266  1.0407433   1.10024371  0.31948023  1.05105177\n",
      "  -0.4113094   1.30183256 -2.39369877  0.39412381 -1.46789627 -0.12352175\n",
      "  -0.06022317 -1.06800098 -0.96670693 -1.11673447 -2.48102705 -0.25362343\n",
      "  -0.06305978 -1.4014787 ]\n",
      " [ 1.1842816   1.18287407 -0.63965656 -1.99769286 -0.03718663 -1.48434419\n",
      "   2.20075931  2.51745967 -3.84190284 -0.48201602  0.94995792  0.3386151\n",
      "   0.62765343 -1.00532999  0.98589671 -0.97466002  1.35738645 -0.64301714\n",
      "  -0.90786606  2.10042705 -0.78805311  0.71212175  0.73452087 -0.60334646\n",
      "   0.67960601 -0.17241518 -1.41849164  0.04589751 -0.64079353 -1.77916631\n",
      "  -1.09060564 -1.08936543]\n",
      " [-1.31725419 -0.17167887  0.26796717  1.90462791 -1.63134449 -2.85150119\n",
      "  -0.61441595 -2.64543503 -0.14942523  3.4750669  -1.13999165 -1.17476101\n",
      "   2.45418581  0.95857846  0.0582946   0.58453339  0.87327243  0.41057909\n",
      "   0.56517627  1.6120517  -0.48674607 -1.00431848 -1.15113022 -0.2045651\n",
      "   0.30089848  0.02268678  0.63841556 -0.11931239  0.6909133   2.56562648\n",
      "  -0.60711233  0.14436534]\n",
      " [-1.9725718  -1.89830366  0.10130999  0.52363759 -0.31180551  0.02556039\n",
      "   0.16292944 -0.25566343  1.12474499 -1.12866971 -1.15676429  1.04576921\n",
      "  -0.25969335  0.72209066 -0.74806316  0.17473615 -0.24871808  1.57145204\n",
      "  -0.22759088 -0.80234111  0.28085896  1.07495186  0.5269106  -1.9058991\n",
      "  -1.36402263 -1.36613328 -0.7906368   1.17083703  0.03361332 -0.05202158\n",
      "  -0.0710493  -0.82078296]\n",
      " [-0.99325593  1.21663079  0.04885433 -0.38699289  1.72714362  1.99120989\n",
      "  -1.01898043  0.02481509  1.33979475 -2.3828272   1.92346105  1.37796398\n",
      "  -2.74297924 -0.39469617 -1.11247412  0.12583046 -0.47487246 -1.11300839\n",
      "  -0.2319657  -4.22105889  0.23099074 -0.34904857 -0.46079461  0.64134681\n",
      "  -1.31886093  0.12690253  0.04635609 -0.14197521  0.4199831  -1.44378058\n",
      "  -0.39801533  0.58372823]\n",
      " [-0.11569236 -1.39802111 -0.12366059  1.6388822   0.68057257  1.3482477\n",
      "  -1.04129621  0.26063759  0.51630533  1.09610302 -1.57185934 -1.15528967\n",
      "  -1.87499469  0.41131579  0.88204457 -0.11547416 -0.76203346  0.46826344\n",
      "   0.61106278 -0.71770544 -0.79535789 -0.30968914 -0.02291033  1.24196585\n",
      "  -1.50763912 -0.09018427  0.0554267  -0.94490326 -0.43456759 -0.34327091\n",
      "   0.99061431  2.05945879]]\n"
     ]
    }
   ],
   "source": [
    "model.coef_"
   ]
  },
  {
   "cell_type": "code",
   "execution_count": 97,
   "id": "55e264d4",
   "metadata": {},
   "outputs": [],
   "source": [
    "def make_confusion_matrix(cf,\n",
    "                          group_names=None,\n",
    "                          categories='auto',\n",
    "                          count=True,\n",
    "                          percent=True,\n",
    "                          cbar=True,\n",
    "                          xyticks=True,\n",
    "                          xyplotlabels=True,\n",
    "                          sum_stats=True,\n",
    "                          figsize=None,\n",
    "                          cmap='Oranges',\n",
    "                          title=None):\n",
    "    '''\n",
    "    This function will make a pretty plot of an sklearn Confusion Matrix cm using a Seaborn heatmap visualization.\n",
    "    Arguments\n",
    "    ---------\n",
    "    cf:            confusion matrix to be passed in\n",
    "    group_names:   List of strings that represent the labels row by row to be shown in each square.\n",
    "    categories:    List of strings containing the categories to be displayed on the x,y axis. Default is 'auto'\n",
    "    count:         If True, show the raw number in the confusion matrix. Default is True.\n",
    "    normalize:     If True, show the proportions for each category. Default is True.\n",
    "    cbar:          If True, show the color bar. The cbar values are based off the values in the confusion matrix.\n",
    "                   Default is True.\n",
    "    xyticks:       If True, show x and y ticks. Default is True.\n",
    "    xyplotlabels:  If True, show 'True Label' and 'Predicted Label' on the figure. Default is True.\n",
    "    sum_stats:     If True, display summary statistics below the figure. Default is True.\n",
    "    figsize:       Tuple representing the figure size. Default will be the matplotlib rcParams value.\n",
    "    cmap:          Colormap of the values displayed from matplotlib.pyplot.cm. Default is 'Blues'\n",
    "                   See http://matplotlib.org/examples/color/colormaps_reference.html\n",
    "                   \n",
    "    title:         Title for the heatmap. Default is None.\n",
    "    '''\n",
    "\n",
    "\n",
    "    # CODE TO GENERATE TEXT INSIDE EACH SQUARE\n",
    "    blanks = ['' for i in range(cf.size)]\n",
    "\n",
    "    if group_names and len(group_names)==cf.size:\n",
    "        group_labels = [\"{}\\n\".format(value) for value in group_names]\n",
    "    else:\n",
    "        group_labels = blanks\n",
    "\n",
    "    if count:\n",
    "        group_counts = [\"{0:0.0f}\\n\".format(value) for value in cf.flatten()]\n",
    "    else:\n",
    "        group_counts = blanks\n",
    "\n",
    "    if percent:\n",
    "        group_percentages = [\"{0:.2%}\".format(value) for value in cf.flatten()/np.sum(cf)]\n",
    "    else:\n",
    "        group_percentages = blanks\n",
    "\n",
    "    box_labels = [f\"{v1}{v2}{v3}\".strip() for v1, v2, v3 in zip(group_labels,group_counts,group_percentages)]\n",
    "    box_labels = np.asarray(box_labels).reshape(cf.shape[0],cf.shape[1])\n",
    "\n",
    "\n",
    "    # CODE TO GENERATE SUMMARY STATISTICS & TEXT FOR SUMMARY STATS\n",
    "    if sum_stats:\n",
    "        #Accuracy is sum of diagonal divided by total observations\n",
    "        accuracy  = np.trace(cf) / float(np.sum(cf))\n",
    "\n",
    "        #if it is a binary confusion matrix, show some more stats\n",
    "        if len(cf)==2:\n",
    "            #Metrics for Binary Confusion Matrices\n",
    "            precision = cf[1,1] / sum(cf[:,1])\n",
    "            recall    = cf[1,1] / sum(cf[1,:])\n",
    "            f1_score  = 2*precision*recall / (precision + recall)\n",
    "            stats_text = \"\\n\\nAccuracy={:0.3f}\\nPrecision={:0.3f}\\nRecall={:0.3f}\\nF1 Score={:0.3f}\".format(\n",
    "                accuracy,precision,recall,f1_score)\n",
    "        else:\n",
    "            stats_text = \"\\n\\nAccuracy={:0.3f}\".format(accuracy)\n",
    "    else:\n",
    "        stats_text = \"\"\n",
    "\n",
    "\n",
    "    # SET FIGURE PARAMETERS ACCORDING TO OTHER ARGUMENTS\n",
    "    if figsize==None:\n",
    "        #Get default figure size if not set\n",
    "        figsize = plt.rcParams.get('figure.figsize')\n",
    "\n",
    "    if xyticks==False:\n",
    "        #Do not show categories if xyticks is False\n",
    "        categories=False\n",
    "\n",
    "\n",
    "    # MAKE THE HEATMAP VISUALIZATION\n",
    "    plt.figure(figsize=figsize)\n",
    "    sns.heatmap(cf,annot=box_labels,fmt=\"\",cmap=cmap,cbar=cbar,xticklabels=categories,yticklabels=categories)\n",
    "\n",
    "    if xyplotlabels:\n",
    "        plt.ylabel('True label')\n",
    "        plt.xlabel('Predicted label' + stats_text)\n",
    "    else:\n",
    "        plt.xlabel(stats_text)\n",
    "    \n",
    "    if title:\n",
    "        plt.title(title)"
   ]
  },
  {
   "cell_type": "code",
   "execution_count": null,
   "id": "8100e5b0",
   "metadata": {},
   "outputs": [],
   "source": [
    "cf_matrix = confusion_matrix(y_test, y_pred)"
   ]
  },
  {
   "cell_type": "code",
   "execution_count": 112,
   "id": "4df2f348",
   "metadata": {},
   "outputs": [
    {
     "data": {
      "image/png": "[encoded data removed]",
      "text/plain": [
       "<Figure size 576x432 with 1 Axes>"
      ]
     },
     "metadata": {
      "needs_background": "light"
     },
     "output_type": "display_data"
    }
   ],
   "source": [
    "make_confusion_matrix(cf_matrix, categories= [11,21,22,31,32,33] , figsize=(8,6), cbar=False)"
   ]
  },
  {
   "cell_type": "code",
   "execution_count": null,
   "id": "553dddfb",
   "metadata": {},
   "outputs": [],
   "source": [
    "################################################################################################################################"
   ]
  },
  {
   "cell_type": "code",
   "execution_count": 118,
   "id": "93537d4b",
   "metadata": {},
   "outputs": [],
   "source": [
    "#Hagamos regresion logística con el data set alternativo\n",
    "#Levantamos el df_final2\n",
    "df_final_alternativo = pd.read_csv('df_final_alternativo.csv')\n",
    "\n",
    "#Generamos el X y el target\n",
    "Xa = df_final_alternativo.drop(['ClasificacionNum2'], axis = 1)\n",
    "ya = df_final_alternativo['ClasificacionNum2']\n",
    "\n",
    "#Divimos en train y en test\n",
    "Xa_train, Xa_test, ya_train, ya_test = train_test_split(Xa,ya, stratify=ya, test_size= 0.25)\n",
    "\n",
    "#Estandarizamos con MinMax\n",
    "scaler = MinMaxScaler()\n",
    "\n",
    "Xa_train_std = scaler.fit_transform(Xa_train)\n",
    "Xa_test_std = scaler.fit_transform(Xa_test)"
   ]
  },
  {
   "cell_type": "code",
   "execution_count": 119,
   "id": "c3037acc",
   "metadata": {},
   "outputs": [
    {
     "name": "stdout",
     "output_type": "stream",
     "text": [
      "Best: 0.752006 using {'C': 100, 'penalty': 'l2', 'solver': 'liblinear'}\n",
      "0.745274 (0.028197) with: {'C': 100, 'penalty': 'l2', 'solver': 'newton-cg'}\n",
      "0.745829 (0.029810) with: {'C': 100, 'penalty': 'l2', 'solver': 'lbfgs'}\n",
      "0.752006 (0.033039) with: {'C': 100, 'penalty': 'l2', 'solver': 'liblinear'}\n",
      "0.749751 (0.033597) with: {'C': 10, 'penalty': 'l2', 'solver': 'newton-cg'}\n",
      "0.750301 (0.031684) with: {'C': 10, 'penalty': 'l2', 'solver': 'lbfgs'}\n",
      "0.750311 (0.029620) with: {'C': 10, 'penalty': 'l2', 'solver': 'liblinear'}\n",
      "0.751431 (0.032823) with: {'C': 1.0, 'penalty': 'l2', 'solver': 'newton-cg'}\n",
      "0.751431 (0.032823) with: {'C': 1.0, 'penalty': 'l2', 'solver': 'lbfgs'}\n",
      "0.740763 (0.027780) with: {'C': 1.0, 'penalty': 'l2', 'solver': 'liblinear'}\n",
      "0.727290 (0.025635) with: {'C': 0.1, 'penalty': 'l2', 'solver': 'newton-cg'}\n",
      "0.727290 (0.025635) with: {'C': 0.1, 'penalty': 'l2', 'solver': 'lbfgs'}\n",
      "0.731221 (0.025176) with: {'C': 0.1, 'penalty': 'l2', 'solver': 'liblinear'}\n",
      "0.695281 (0.014536) with: {'C': 0.01, 'penalty': 'l2', 'solver': 'newton-cg'}\n",
      "0.695281 (0.014536) with: {'C': 0.01, 'penalty': 'l2', 'solver': 'lbfgs'}\n",
      "0.683507 (0.003570) with: {'C': 0.01, 'penalty': 'l2', 'solver': 'liblinear'}\n"
     ]
    }
   ],
   "source": [
    "# Buscamos los mejores hiperparametros\n",
    "\n",
    "modelo = LogisticRegression()\n",
    "solvers = ['newton-cg', 'lbfgs', 'liblinear']\n",
    "penalty = ['l2']\n",
    "c_values = [100, 10, 1.0, 0.1, 0.01]\n",
    "\n",
    "# Defnimos una grilla con GridSearch\n",
    "\n",
    "grid = dict(solver=solvers,penalty=penalty,C=c_values)\n",
    "cv = RepeatedStratifiedKFold(n_splits=5, n_repeats=3, random_state=999)\n",
    "grid_search = GridSearchCV(estimator=modelo, param_grid=grid, n_jobs=-1, cv=cv, scoring='accuracy',error_score=0)\n",
    "grid_result = grid_search.fit(Xa_train_std, ya_train)\n",
    "\n",
    "# Vemos los resultados\n",
    "\n",
    "print(\"Best: %f using %s\" % (grid_result.best_score_, grid_result.best_params_))\n",
    "means = grid_result.cv_results_['mean_test_score']\n",
    "stds = grid_result.cv_results_['std_test_score']\n",
    "params = grid_result.cv_results_['params']\n",
    "for mean, stdev, param in zip(means, stds, params):\n",
    "    print(\"%f (%f) with: %r\" % (mean, stdev, param))"
   ]
  },
  {
   "cell_type": "code",
   "execution_count": 120,
   "id": "df4a1c88",
   "metadata": {},
   "outputs": [
    {
     "data": {
      "text/plain": [
       "LogisticRegression(C=100, solver='liblinear')"
      ]
     },
     "execution_count": 120,
     "metadata": {},
     "output_type": "execute_result"
    }
   ],
   "source": [
    "#Instanciamos el modelo y los ajustamos a los datos de entrenamiento\n",
    "modelo = LogisticRegression(C=100, penalty = 'l2', solver= 'liblinear')\n",
    "modelo.fit(Xa_train_std, ya_train)"
   ]
  },
  {
   "cell_type": "code",
   "execution_count": 122,
   "id": "fe0d84cd",
   "metadata": {},
   "outputs": [
    {
     "name": "stdout",
     "output_type": "stream",
     "text": [
      "[20 20 20 20 30 20 30 20 20 20 20 20 20 20 20 20 30 20 20 30 20 20 20 20\n",
      " 30 20 30 20 20 20 20 20 20 20 20 30 20 30 20 30 20 20 30 20 20 20 20 20\n",
      " 20 20 20 30 20 20 20 20 20 20 30 20 20 20 30 20 20 20 20 30 30 20 20 30\n",
      " 20 20 20 20 20 30 20 20 30 20 20 20 30 20 30 20 30 20 20 20 20 20 20 20\n",
      " 20 20 20 20 20 20 20 20 30 20 20 20 20 20 20 20 30 20 20 20 30 20 30 30\n",
      " 20 20 20 20 30 20 20 30 20 20 20 20 20 30 30 20 30 20 30 20 20 20 30 20\n",
      " 20 20 20 20 20 20 30 30 20 20 20 30 20 20 20 20 30 20 20 20 20 30 20 20\n",
      " 20 20 20 20 20 30 20 20 20 30 20 20 30 20 20 20 30 20 30 20 20 20 20 20\n",
      " 20 20 20 20 20 20 20]\n",
      "\n",
      "Score:  0.7386934673366834\n"
     ]
    }
   ],
   "source": [
    "#Para UN solo fold\n",
    "#Hacemos las predicciones necesarias\n",
    "ya_pred = modelo.predict(Xa_test_std)\n",
    "print(ya_pred)\n",
    "#Evaluamos el score\n",
    "print('')\n",
    "print('Score: ', accuracy_score(ya_test, ya_pred))"
   ]
  },
  {
   "cell_type": "code",
   "execution_count": 123,
   "id": "486cb3d0",
   "metadata": {},
   "outputs": [
    {
     "name": "stderr",
     "output_type": "stream",
     "text": [
      "C:\\Users\\DataScience\\anaconda3\\lib\\site-packages\\sklearn\\model_selection\\_split.py:676: UserWarning: The least populated class in y has only 7 members, which is less than n_splits=20.\n",
      "  warnings.warn(\n"
     ]
    },
    {
     "name": "stdout",
     "output_type": "stream",
     "text": [
      "Los scores obtenidos son [0.73333333 0.76666667 0.73333333 0.83333333 0.73333333 0.76666667\n",
      " 0.7        0.8        0.7        0.73333333 0.7        0.7\n",
      " 0.73333333 0.8        0.68965517 0.75862069 0.79310345 0.79310345\n",
      " 0.75862069 0.75862069]\n",
      "El promedio es :0.7492528735632182\n"
     ]
    }
   ],
   "source": [
    "#Generalizamos para 20 folds\n",
    "stratifiedkf=StratifiedKFold(n_splits=20)\n",
    "score=cross_val_score(modelo,Xa_train_std,ya_train,cv=stratifiedkf)\n",
    "print(\"Los scores obtenidos son {}\".format(score))\n",
    "print(\"El promedio es :{}\".format(score.mean()))"
   ]
  },
  {
   "cell_type": "code",
   "execution_count": 129,
   "id": "03909246",
   "metadata": {},
   "outputs": [],
   "source": [
    "cf_matrix_a = confusion_matrix(ya_pred,ya_test)"
   ]
  },
  {
   "cell_type": "code",
   "execution_count": 130,
   "id": "d7f9bdc5",
   "metadata": {},
   "outputs": [
    {
     "data": {
      "image/png": "[encoded data removed]",
      "text/plain": [
       "<Figure size 576x432 with 1 Axes>"
      ]
     },
     "metadata": {
      "needs_background": "light"
     },
     "output_type": "display_data"
    }
   ],
   "source": [
    "make_confusion_matrix(cf_matrix_a, categories= [10,20,30] , figsize=(8,6), cbar=False)"
   ]
  }
 ],
 "metadata": {
  "kernelspec": {
   "display_name": "Python 3 (ipykernel)",
   "language": "python",
   "name": "python3"
  },
  "language_info": {
   "codemirror_mode": {
    "name": "ipython",
    "version": 3
   },
   "file_extension": ".py",
   "mimetype": "text/x-python",
   "name": "python",
   "nbconvert_exporter": "python",
   "pygments_lexer": "ipython3",
   "version": "3.9.12"
  }
 },
 "nbformat": 4,
 "nbformat_minor": 5
}
