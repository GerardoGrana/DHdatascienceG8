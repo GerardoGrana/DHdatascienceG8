{
 "cells": [
  {
   "cell_type": "code",
   "execution_count": 3,
   "id": "33eeef94",
   "metadata": {},
   "outputs": [],
   "source": [
    "#Librerias\n",
    "import pandas as pd\n",
    "from sklearn.model_selection import RepeatedStratifiedKFold\n",
    "from sklearn.model_selection import GridSearchCV\n",
    "from sklearn.linear_model import LogisticRegression\n",
    "from sklearn.model_selection import train_test_split, KFold, cross_val_score\n",
    "from sklearn.preprocessing import MinMaxScaler"
   ]
  },
  {
   "cell_type": "code",
   "execution_count": 6,
   "id": "e3f8bc81",
   "metadata": {},
   "outputs": [],
   "source": [
    "#Levantamos el df_final2\n",
    "df_final2 = pd.read_csv('df_final2.csv')\n",
    "\n",
    "#Generamos el X y el target\n",
    "X = df_final2.drop(['target'], axis = 1)\n",
    "y = df_final2['target']\n",
    "\n",
    "#Divimos en train y en test\n",
    "X_train, X_test, y_train, y_test = train_test_split(X,y, stratify=y, test_size= 0.25)\n",
    "\n",
    "#Estandarizamos con MinMax\n",
    "scaler = MinMaxScaler()\n",
    "\n",
    "X_train_std = scaler.fit_transform(X_train)\n",
    "X_test_std = scaler.fit_transform(X_test)"
   ]
  },
  {
   "cell_type": "code",
   "execution_count": 8,
   "id": "c2c7d441",
   "metadata": {},
   "outputs": [
    {
     "name": "stdout",
     "output_type": "stream",
     "text": [
      "Best: 0.436775 using {'C': 0.1, 'penalty': 'l2', 'solver': 'newton-cg'}\n",
      "0.422167 (0.035169) with: {'C': 100, 'penalty': 'l2', 'solver': 'newton-cg'}\n",
      "0.418203 (0.032504) with: {'C': 100, 'penalty': 'l2', 'solver': 'lbfgs'}\n",
      "0.423283 (0.036133) with: {'C': 100, 'penalty': 'l2', 'solver': 'liblinear'}\n",
      "0.424384 (0.034577) with: {'C': 10, 'penalty': 'l2', 'solver': 'newton-cg'}\n",
      "0.423254 (0.034995) with: {'C': 10, 'penalty': 'l2', 'solver': 'lbfgs'}\n",
      "0.431686 (0.034339) with: {'C': 10, 'penalty': 'l2', 'solver': 'liblinear'}\n",
      "0.426634 (0.029512) with: {'C': 1.0, 'penalty': 'l2', 'solver': 'newton-cg'}\n",
      "0.426634 (0.029512) with: {'C': 1.0, 'penalty': 'l2', 'solver': 'lbfgs'}\n",
      "0.428320 (0.026846) with: {'C': 1.0, 'penalty': 'l2', 'solver': 'liblinear'}\n",
      "0.436775 (0.024058) with: {'C': 0.1, 'penalty': 'l2', 'solver': 'newton-cg'}\n",
      "0.436775 (0.024058) with: {'C': 0.1, 'penalty': 'l2', 'solver': 'lbfgs'}\n",
      "0.433955 (0.018947) with: {'C': 0.1, 'penalty': 'l2', 'solver': 'liblinear'}\n",
      "0.426663 (0.005466) with: {'C': 0.01, 'penalty': 'l2', 'solver': 'newton-cg'}\n",
      "0.426663 (0.005466) with: {'C': 0.01, 'penalty': 'l2', 'solver': 'lbfgs'}\n",
      "0.426663 (0.005466) with: {'C': 0.01, 'penalty': 'l2', 'solver': 'liblinear'}\n"
     ]
    }
   ],
   "source": [
    "# define models and parameters\n",
    "model = LogisticRegression()\n",
    "solvers = ['newton-cg', 'lbfgs', 'liblinear']\n",
    "penalty = ['l2']\n",
    "c_values = [100, 10, 1.0, 0.1, 0.01]\n",
    "\n",
    "# define grid search\n",
    "grid = dict(solver=solvers,penalty=penalty,C=c_values)\n",
    "cv = RepeatedStratifiedKFold(n_splits=5, n_repeats=3, random_state=999)\n",
    "grid_search = GridSearchCV(estimator=model, param_grid=grid, n_jobs=-1, cv=cv, scoring='accuracy',error_score=0)\n",
    "grid_result = grid_search.fit(X_train_std, y_train)\n",
    "\n",
    "# summarize results\n",
    "print(\"Best: %f using %s\" % (grid_result.best_score_, grid_result.best_params_))\n",
    "means = grid_result.cv_results_['mean_test_score']\n",
    "stds = grid_result.cv_results_['std_test_score']\n",
    "params = grid_result.cv_results_['params']\n",
    "for mean, stdev, param in zip(means, stds, params):\n",
    "    print(\"%f (%f) with: %r\" % (mean, stdev, param))"
   ]
  }
 ],
 "metadata": {
  "kernelspec": {
   "display_name": "Python 3 (ipykernel)",
   "language": "python",
   "name": "python3"
  },
  "language_info": {
   "codemirror_mode": {
    "name": "ipython",
    "version": 3
   },
   "file_extension": ".py",
   "mimetype": "text/x-python",
   "name": "python",
   "nbconvert_exporter": "python",
   "pygments_lexer": "ipython3",
   "version": "3.9.12"
  }
 },
 "nbformat": 4,
 "nbformat_minor": 5
}
