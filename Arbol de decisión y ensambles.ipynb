{
 "cells": [
  {
   "cell_type": "code",
   "execution_count": 1,
   "id": "e1172192",
   "metadata": {},
   "outputs": [],
   "source": [
    "#Importamos librerias base\n",
    "import pandas as pd\n",
    "import numpy as np\n",
    "import seaborn as sns\n",
    "import matplotlib.pyplot as plt\n",
    "import seaborn as sns\n",
    "\n",
    "#Importamos el modelo de clasificación y las métricas\n",
    "from sklearn import tree\n",
    "from sklearn.metrics import accuracy_score, confusion_matrix\n",
    "from sklearn.model_selection import train_test_split, GridSearchCV, StratifiedKFold\n",
    "from sklearn.preprocessing import MinMaxScaler, OneHotEncoder\n",
    "\n",
    "#Para la visualización\n",
    "import graphviz \n",
    "import pydotplus\n",
    "from IPython.display import Image"
   ]
  },
  {
   "cell_type": "code",
   "execution_count": 20,
   "id": "7986fd13",
   "metadata": {},
   "outputs": [],
   "source": [
    "#Traemos el DataFrame\n",
    "data = pd.read_csv('PVR_train_test.csv')"
   ]
  },
  {
   "cell_type": "code",
   "execution_count": 3,
   "id": "819fc4a0",
   "metadata": {},
   "outputs": [
    {
     "name": "stdout",
     "output_type": "stream",
     "text": [
      "<class 'pandas.core.frame.DataFrame'>\n",
      "RangeIndex: 805 entries, 0 to 804\n",
      "Data columns (total 11 columns):\n",
      " #   Column                            Non-Null Count  Dtype  \n",
      "---  ------                            --------------  -----  \n",
      " 0   CantidadNum                       805 non-null    float64\n",
      " 1   desocupados                       805 non-null    float64\n",
      " 2   0-14                              805 non-null    float64\n",
      " 3   65_mas                            805 non-null    float64\n",
      " 4   hacinamiento                      805 non-null    float64\n",
      " 5   densidad_comercios                805 non-null    float64\n",
      " 6   Target_NoApto                     805 non-null    int64  \n",
      " 7   TipoResiduo_Papel                 805 non-null    int64  \n",
      " 8   TipoResiduo_Plástico              805 non-null    int64  \n",
      " 9   TipoResiduo_Vidrio, Metal, Tetra  805 non-null    int64  \n",
      " 10  punto_tipo_Rulero                 805 non-null    int64  \n",
      "dtypes: float64(6), int64(5)\n",
      "memory usage: 69.3 KB\n"
     ]
    }
   ],
   "source": [
    "data.info()"
   ]
  },
  {
   "cell_type": "code",
   "execution_count": 21,
   "id": "1ab930ed",
   "metadata": {},
   "outputs": [],
   "source": [
    "#Generamos el x y el target\n",
    "\n",
    "X= data.drop(['Target_NoApto'], axis = 1)\n",
    "y= data['Target_NoApto']"
   ]
  },
  {
   "cell_type": "code",
   "execution_count": 22,
   "id": "544032ca",
   "metadata": {},
   "outputs": [
    {
     "name": "stdout",
     "output_type": "stream",
     "text": [
      "Chequeamos tamaños:\n",
      "\n",
      "Tamaño del train: (603, 10) (603,) En %:  0.7490683229813665\n",
      "Tamaño del test:  (202, 10) (202,) En %:  0.25093167701863356\n",
      "\n",
      "Chequeamos stratify:\n",
      "\n",
      "1    0.693201\n",
      "0    0.306799\n",
      "Name: Target_NoApto, dtype: float64\n",
      "1    0.693069\n",
      "0    0.306931\n",
      "Name: Target_NoApto, dtype: float64\n"
     ]
    }
   ],
   "source": [
    "#Hacemos el train_test_split\n",
    "X_train, X_test, y_train, y_test = train_test_split(X,y, test_size= 0.25, stratify=y, random_state= 99)\n",
    "\n",
    "#Resultados\n",
    "print('Chequeamos tamaños:')\n",
    "print('')\n",
    "print('Tamaño del train:', X_train.shape, y_train.shape, 'En %: ', X_train.shape[0]/X.shape[0])\n",
    "print('Tamaño del test: ', X_test.shape, y_test.shape, 'En %: ', X_test.shape[0]/X.shape[0] )\n",
    "print('')\n",
    "print('Chequeamos stratify:')\n",
    "print('')\n",
    "print(y_train.value_counts()/y_train.shape[0])\n",
    "print(y_test.value_counts()/y_test.shape[0])"
   ]
  },
  {
   "cell_type": "code",
   "execution_count": 7,
   "id": "0081611b",
   "metadata": {},
   "outputs": [],
   "source": [
    "#Reescalamos la variable X\n",
    "#Scaler = MinMaxScaler()\n",
    "#X_train = Scaler.fit_transform(X_train)\n",
    "#X_test = Scaler.fit_transform(X_test)"
   ]
  },
  {
   "cell_type": "markdown",
   "id": "7bbe4d4b",
   "metadata": {},
   "source": [
    "Quizás podemos utilizar las herramientas de undersampling / oversampling para homogeneizar las etiquetas"
   ]
  },
  {
   "cell_type": "code",
   "execution_count": 49,
   "id": "6a09e77f",
   "metadata": {},
   "outputs": [],
   "source": [
    "#Inicializamos el modelo\n",
    "clftree = tree.DecisionTreeClassifier()"
   ]
  },
  {
   "cell_type": "code",
   "execution_count": 50,
   "id": "d10d8ab3",
   "metadata": {},
   "outputs": [],
   "source": [
    "#Hagamos un GridSearch con esta grilla\n",
    "params_grid = { \"criterion\" : [\"gini\", \"entropy\"],\n",
    "                \"min_samples_leaf\": [5,10,15,20,None], \n",
    "                \"max_depth\" : [1,2,3,4,5,6,8,9,10,11,12,13,14,None],\n",
    "                \"min_samples_split\": [2, 3, 4,None]}"
   ]
  },
  {
   "cell_type": "code",
   "execution_count": 51,
   "id": "d54e1177",
   "metadata": {},
   "outputs": [],
   "source": [
    "grid_search = GridSearchCV(clftree, params_grid,\n",
    "                           n_jobs=-1, scoring='accuracy', cv= 10)"
   ]
  },
  {
   "cell_type": "code",
   "execution_count": 52,
   "id": "adf30c61",
   "metadata": {},
   "outputs": [
    {
     "data": {
      "text/plain": [
       "GridSearchCV(cv=10, estimator=DecisionTreeClassifier(), n_jobs=-1,\n",
       "             param_grid={'criterion': ['gini', 'entropy'],\n",
       "                         'max_depth': [1, 2, 3, 4, 5, 6, 8, 9, 10, 11, 12, 13,\n",
       "                                       14, None],\n",
       "                         'min_samples_leaf': [5, 10, 15, 20, None],\n",
       "                         'min_samples_split': [2, 3, 4, None]},\n",
       "             scoring='accuracy')"
      ]
     },
     "execution_count": 52,
     "metadata": {},
     "output_type": "execute_result"
    }
   ],
   "source": [
    "grid_search.fit(X_train, y_train)"
   ]
  },
  {
   "cell_type": "code",
   "execution_count": 53,
   "id": "8394e54d",
   "metadata": {},
   "outputs": [
    {
     "data": {
      "text/plain": [
       "{'criterion': 'gini',\n",
       " 'max_depth': 4,\n",
       " 'min_samples_leaf': 20,\n",
       " 'min_samples_split': 2}"
      ]
     },
     "execution_count": 53,
     "metadata": {},
     "output_type": "execute_result"
    }
   ],
   "source": [
    "grid_search.best_params_"
   ]
  },
  {
   "cell_type": "code",
   "execution_count": 54,
   "id": "87158b87",
   "metadata": {},
   "outputs": [
    {
     "data": {
      "text/plain": [
       "DecisionTreeClassifier(max_depth=4, min_samples_leaf=20)"
      ]
     },
     "execution_count": 54,
     "metadata": {},
     "output_type": "execute_result"
    }
   ],
   "source": [
    "cv_clf = grid_search.best_estimator_\n",
    "cv_clf"
   ]
  },
  {
   "cell_type": "code",
   "execution_count": 55,
   "id": "ef02ea76",
   "metadata": {},
   "outputs": [
    {
     "data": {
      "text/html": [
       "<div>\n",
       "<style scoped>\n",
       "    .dataframe tbody tr th:only-of-type {\n",
       "        vertical-align: middle;\n",
       "    }\n",
       "\n",
       "    .dataframe tbody tr th {\n",
       "        vertical-align: top;\n",
       "    }\n",
       "\n",
       "    .dataframe thead th {\n",
       "        text-align: right;\n",
       "    }\n",
       "</style>\n",
       "<table border=\"1\" class=\"dataframe\">\n",
       "  <thead>\n",
       "    <tr style=\"text-align: right;\">\n",
       "      <th></th>\n",
       "      <th>atributo</th>\n",
       "      <th>importancia</th>\n",
       "    </tr>\n",
       "  </thead>\n",
       "  <tbody>\n",
       "    <tr>\n",
       "      <th>0</th>\n",
       "      <td>CantidadNum</td>\n",
       "      <td>0.726363</td>\n",
       "    </tr>\n",
       "    <tr>\n",
       "      <th>2</th>\n",
       "      <td>0-14</td>\n",
       "      <td>0.116721</td>\n",
       "    </tr>\n",
       "    <tr>\n",
       "      <th>6</th>\n",
       "      <td>TipoResiduo_Papel</td>\n",
       "      <td>0.070804</td>\n",
       "    </tr>\n",
       "    <tr>\n",
       "      <th>8</th>\n",
       "      <td>TipoResiduo_Vidrio, Metal, Tetra</td>\n",
       "      <td>0.050357</td>\n",
       "    </tr>\n",
       "    <tr>\n",
       "      <th>9</th>\n",
       "      <td>punto_tipo_Rulero</td>\n",
       "      <td>0.028655</td>\n",
       "    </tr>\n",
       "    <tr>\n",
       "      <th>3</th>\n",
       "      <td>65_mas</td>\n",
       "      <td>0.007101</td>\n",
       "    </tr>\n",
       "    <tr>\n",
       "      <th>1</th>\n",
       "      <td>desocupados</td>\n",
       "      <td>0.000000</td>\n",
       "    </tr>\n",
       "    <tr>\n",
       "      <th>4</th>\n",
       "      <td>hacinamiento</td>\n",
       "      <td>0.000000</td>\n",
       "    </tr>\n",
       "    <tr>\n",
       "      <th>5</th>\n",
       "      <td>densidad_comercios</td>\n",
       "      <td>0.000000</td>\n",
       "    </tr>\n",
       "    <tr>\n",
       "      <th>7</th>\n",
       "      <td>TipoResiduo_Plástico</td>\n",
       "      <td>0.000000</td>\n",
       "    </tr>\n",
       "  </tbody>\n",
       "</table>\n",
       "</div>"
      ],
      "text/plain": [
       "                           atributo  importancia\n",
       "0                       CantidadNum     0.726363\n",
       "2                              0-14     0.116721\n",
       "6                 TipoResiduo_Papel     0.070804\n",
       "8  TipoResiduo_Vidrio, Metal, Tetra     0.050357\n",
       "9                 punto_tipo_Rulero     0.028655\n",
       "3                            65_mas     0.007101\n",
       "1                       desocupados     0.000000\n",
       "4                      hacinamiento     0.000000\n",
       "5                densidad_comercios     0.000000\n",
       "7              TipoResiduo_Plástico     0.000000"
      ]
     },
     "execution_count": 55,
     "metadata": {},
     "output_type": "execute_result"
    }
   ],
   "source": [
    "pd.DataFrame({'atributo':X.columns, 'importancia':cv_clf.feature_importances_}).sort_values('importancia', ascending = False)"
   ]
  },
  {
   "cell_type": "code",
   "execution_count": 56,
   "id": "c5288c39",
   "metadata": {},
   "outputs": [
    {
     "data": {
      "text/plain": [
       "0.7128712871287128"
      ]
     },
     "execution_count": 56,
     "metadata": {},
     "output_type": "execute_result"
    }
   ],
   "source": [
    "#Score para el test\n",
    "accuracy_score(y_test, cv_clf.predict(X_test))"
   ]
  },
  {
   "cell_type": "code",
   "execution_count": 57,
   "id": "cf26a6f5",
   "metadata": {},
   "outputs": [
    {
     "data": {
      "image/png": "[encoded data removed]",
      "text/plain": [
       "<Figure size 432x288 with 2 Axes>"
      ]
     },
     "metadata": {
      "needs_background": "light"
     },
     "output_type": "display_data"
    }
   ],
   "source": [
    "#Matriz de confusion\n",
    "cf_matrix= confusion_matrix(y_test, cv_clf.predict(X_test))\n",
    "\n",
    "ax = sns.heatmap(cf_matrix, annot=True, cmap='Blues')\n",
    "\n",
    "ax.set_title('Seaborn Confusion Matrix with labels\\n\\n');\n",
    "ax.set_xlabel('\\nPredicted Values')\n",
    "ax.set_ylabel('Actual Values ');\n",
    "\n",
    "## Ticket labels - List must be in alphabetical order\n",
    "ax.xaxis.set_ticklabels(['False','True'])\n",
    "ax.yaxis.set_ticklabels(['False','True'])\n",
    "\n",
    "## Display the visualization of the Confusion Matrix.\n",
    "plt.show()"
   ]
  },
  {
   "cell_type": "code",
   "execution_count": 58,
   "id": "20191127",
   "metadata": {},
   "outputs": [
    {
     "data": {
      "image/png": "[encoded data removed]",
      "text/plain": [
       "<IPython.core.display.Image object>"
      ]
     },
     "execution_count": 58,
     "metadata": {},
     "output_type": "execute_result"
    }
   ],
   "source": [
    "#Visualizamos el árbol\n",
    "dot_data = tree.export_graphviz(cv_clf, out_file=None,feature_names= X.columns, filled = True)\n",
    "graph2 = pydotplus.graph_from_dot_data(dot_data)\n",
    "Image(graph2.create_png())"
   ]
  },
  {
   "cell_type": "markdown",
   "id": "a1b5102f",
   "metadata": {},
   "source": [
    "Oversampling con SMOTE"
   ]
  },
  {
   "cell_type": "code",
   "execution_count": 2,
   "id": "ae28335a",
   "metadata": {},
   "outputs": [],
   "source": [
    "#Traemos el DataFrame sin dummies\n",
    "data_sindummies = pd.read_csv('PVR_train_test_sindummies.csv')"
   ]
  },
  {
   "cell_type": "code",
   "execution_count": 3,
   "id": "a0bbc920",
   "metadata": {},
   "outputs": [
    {
     "data": {
      "text/html": [
       "<div>\n",
       "<style scoped>\n",
       "    .dataframe tbody tr th:only-of-type {\n",
       "        vertical-align: middle;\n",
       "    }\n",
       "\n",
       "    .dataframe tbody tr th {\n",
       "        vertical-align: top;\n",
       "    }\n",
       "\n",
       "    .dataframe thead th {\n",
       "        text-align: right;\n",
       "    }\n",
       "</style>\n",
       "<table border=\"1\" class=\"dataframe\">\n",
       "  <thead>\n",
       "    <tr style=\"text-align: right;\">\n",
       "      <th></th>\n",
       "      <th>Target</th>\n",
       "      <th>TipoResiduo</th>\n",
       "      <th>CantidadNum</th>\n",
       "      <th>punto_tipo</th>\n",
       "      <th>desocupados</th>\n",
       "      <th>0-14</th>\n",
       "      <th>65_mas</th>\n",
       "      <th>hacinamiento</th>\n",
       "      <th>densidad_comercios</th>\n",
       "    </tr>\n",
       "  </thead>\n",
       "  <tbody>\n",
       "    <tr>\n",
       "      <th>0</th>\n",
       "      <td>Apto</td>\n",
       "      <td>Papel</td>\n",
       "      <td>2.0</td>\n",
       "      <td>Punto verde</td>\n",
       "      <td>17.0</td>\n",
       "      <td>101.0</td>\n",
       "      <td>103.0</td>\n",
       "      <td>1.0</td>\n",
       "      <td>7.0</td>\n",
       "    </tr>\n",
       "    <tr>\n",
       "      <th>1</th>\n",
       "      <td>Apto</td>\n",
       "      <td>Vidrio, Metal, Tetra</td>\n",
       "      <td>2.0</td>\n",
       "      <td>Punto verde</td>\n",
       "      <td>17.0</td>\n",
       "      <td>101.0</td>\n",
       "      <td>103.0</td>\n",
       "      <td>1.0</td>\n",
       "      <td>7.0</td>\n",
       "    </tr>\n",
       "    <tr>\n",
       "      <th>2</th>\n",
       "      <td>Apto</td>\n",
       "      <td>Plástico</td>\n",
       "      <td>2.0</td>\n",
       "      <td>Punto verde</td>\n",
       "      <td>17.0</td>\n",
       "      <td>101.0</td>\n",
       "      <td>103.0</td>\n",
       "      <td>1.0</td>\n",
       "      <td>7.0</td>\n",
       "    </tr>\n",
       "    <tr>\n",
       "      <th>3</th>\n",
       "      <td>Apto</td>\n",
       "      <td>Papel</td>\n",
       "      <td>3.0</td>\n",
       "      <td>Punto verde</td>\n",
       "      <td>38.0</td>\n",
       "      <td>161.0</td>\n",
       "      <td>145.0</td>\n",
       "      <td>1.0</td>\n",
       "      <td>17.0</td>\n",
       "    </tr>\n",
       "    <tr>\n",
       "      <th>4</th>\n",
       "      <td>Apto</td>\n",
       "      <td>Vidrio, Metal, Tetra</td>\n",
       "      <td>3.0</td>\n",
       "      <td>Punto verde</td>\n",
       "      <td>38.0</td>\n",
       "      <td>161.0</td>\n",
       "      <td>145.0</td>\n",
       "      <td>1.0</td>\n",
       "      <td>17.0</td>\n",
       "    </tr>\n",
       "    <tr>\n",
       "      <th>...</th>\n",
       "      <td>...</td>\n",
       "      <td>...</td>\n",
       "      <td>...</td>\n",
       "      <td>...</td>\n",
       "      <td>...</td>\n",
       "      <td>...</td>\n",
       "      <td>...</td>\n",
       "      <td>...</td>\n",
       "      <td>...</td>\n",
       "    </tr>\n",
       "    <tr>\n",
       "      <th>800</th>\n",
       "      <td>NoApto</td>\n",
       "      <td>PET</td>\n",
       "      <td>1.0</td>\n",
       "      <td>Rulero</td>\n",
       "      <td>11.0</td>\n",
       "      <td>87.0</td>\n",
       "      <td>102.0</td>\n",
       "      <td>0.0</td>\n",
       "      <td>10.0</td>\n",
       "    </tr>\n",
       "    <tr>\n",
       "      <th>801</th>\n",
       "      <td>NoApto</td>\n",
       "      <td>PET</td>\n",
       "      <td>1.0</td>\n",
       "      <td>Rulero</td>\n",
       "      <td>11.0</td>\n",
       "      <td>87.0</td>\n",
       "      <td>102.0</td>\n",
       "      <td>0.0</td>\n",
       "      <td>10.0</td>\n",
       "    </tr>\n",
       "    <tr>\n",
       "      <th>802</th>\n",
       "      <td>NoApto</td>\n",
       "      <td>PET</td>\n",
       "      <td>1.0</td>\n",
       "      <td>Rulero</td>\n",
       "      <td>11.0</td>\n",
       "      <td>87.0</td>\n",
       "      <td>102.0</td>\n",
       "      <td>0.0</td>\n",
       "      <td>10.0</td>\n",
       "    </tr>\n",
       "    <tr>\n",
       "      <th>803</th>\n",
       "      <td>NoApto</td>\n",
       "      <td>PET</td>\n",
       "      <td>1.0</td>\n",
       "      <td>Rulero</td>\n",
       "      <td>11.0</td>\n",
       "      <td>87.0</td>\n",
       "      <td>102.0</td>\n",
       "      <td>0.0</td>\n",
       "      <td>10.0</td>\n",
       "    </tr>\n",
       "    <tr>\n",
       "      <th>804</th>\n",
       "      <td>NoApto</td>\n",
       "      <td>PET</td>\n",
       "      <td>1.0</td>\n",
       "      <td>Rulero</td>\n",
       "      <td>11.0</td>\n",
       "      <td>87.0</td>\n",
       "      <td>102.0</td>\n",
       "      <td>0.0</td>\n",
       "      <td>10.0</td>\n",
       "    </tr>\n",
       "  </tbody>\n",
       "</table>\n",
       "<p>805 rows × 9 columns</p>\n",
       "</div>"
      ],
      "text/plain": [
       "     Target           TipoResiduo  CantidadNum   punto_tipo  desocupados  \\\n",
       "0      Apto                 Papel          2.0  Punto verde         17.0   \n",
       "1      Apto  Vidrio, Metal, Tetra          2.0  Punto verde         17.0   \n",
       "2      Apto              Plástico          2.0  Punto verde         17.0   \n",
       "3      Apto                 Papel          3.0  Punto verde         38.0   \n",
       "4      Apto  Vidrio, Metal, Tetra          3.0  Punto verde         38.0   \n",
       "..      ...                   ...          ...          ...          ...   \n",
       "800  NoApto                   PET          1.0       Rulero         11.0   \n",
       "801  NoApto                   PET          1.0       Rulero         11.0   \n",
       "802  NoApto                   PET          1.0       Rulero         11.0   \n",
       "803  NoApto                   PET          1.0       Rulero         11.0   \n",
       "804  NoApto                   PET          1.0       Rulero         11.0   \n",
       "\n",
       "      0-14  65_mas  hacinamiento  densidad_comercios  \n",
       "0    101.0   103.0           1.0                 7.0  \n",
       "1    101.0   103.0           1.0                 7.0  \n",
       "2    101.0   103.0           1.0                 7.0  \n",
       "3    161.0   145.0           1.0                17.0  \n",
       "4    161.0   145.0           1.0                17.0  \n",
       "..     ...     ...           ...                 ...  \n",
       "800   87.0   102.0           0.0                10.0  \n",
       "801   87.0   102.0           0.0                10.0  \n",
       "802   87.0   102.0           0.0                10.0  \n",
       "803   87.0   102.0           0.0                10.0  \n",
       "804   87.0   102.0           0.0                10.0  \n",
       "\n",
       "[805 rows x 9 columns]"
      ]
     },
     "execution_count": 3,
     "metadata": {},
     "output_type": "execute_result"
    }
   ],
   "source": [
    "data_sindummies"
   ]
  },
  {
   "cell_type": "code",
   "execution_count": 24,
   "id": "e4fbdd23",
   "metadata": {},
   "outputs": [],
   "source": [
    "#Hacemos el train_test_split con las variables categóricas\n",
    "X_train_cat, X_test_cat, y_train, y_test = train_test_split(data_sindummies.drop('Target', axis=1), data_sindummies['Target'], stratify = data_sindummies['Target']\n",
    "                                                           ,random_state= 99)"
   ]
  },
  {
   "cell_type": "code",
   "execution_count": 5,
   "id": "80d1a3f8",
   "metadata": {},
   "outputs": [],
   "source": [
    "from imblearn.over_sampling import SMOTENC"
   ]
  },
  {
   "cell_type": "code",
   "execution_count": 25,
   "id": "15225226",
   "metadata": {},
   "outputs": [],
   "source": [
    "categorical_cols=(X_train_cat.dtypes=='object').values\n",
    "numerical_cols= ~categorical_cols\n",
    "\n",
    "sm=SMOTENC(categorical_features=categorical_cols,k_neighbors=5,random_state=0)\n",
    "X_train_sm,y_train_sm=sm.fit_resample(X_train_cat,y_train)"
   ]
  },
  {
   "cell_type": "code",
   "execution_count": 26,
   "id": "557f495c",
   "metadata": {},
   "outputs": [
    {
     "name": "stdout",
     "output_type": "stream",
     "text": [
      "Balance de clases:\n",
      "Apto      418\n",
      "NoApto    418\n",
      "Name: Target, dtype: int64\n"
     ]
    }
   ],
   "source": [
    "print('Balance de clases:')\n",
    "print(y_train_sm.value_counts(normalize=False))"
   ]
  },
  {
   "cell_type": "code",
   "execution_count": 27,
   "id": "8e7364ab",
   "metadata": {},
   "outputs": [
    {
     "name": "stdout",
     "output_type": "stream",
     "text": [
      "(836, 10)\n",
      "(202, 10)\n"
     ]
    }
   ],
   "source": [
    "enc=OneHotEncoder(drop='first',sparse=False)\n",
    "train_dummies=enc.fit_transform(X_train_sm.loc[:,categorical_cols])\n",
    "train_dummies=pd.DataFrame(train_dummies)\n",
    "train_dummies.columns=[x for cat_list in enc.categories_ for x in cat_list[1:]]\n",
    "\n",
    "X_train_final=X_train_sm.loc[:,numerical_cols].join(train_dummies)\n",
    "\n",
    "test_dummies=enc.transform(X_test_cat.loc[:,categorical_cols])\n",
    "test_dummies=pd.DataFrame(test_dummies)\n",
    "test_dummies.columns=[x for cat_list in enc.categories_ for x in cat_list[1:]]\n",
    "test_dummies.index=X_test.index\n",
    "\n",
    "X_test_final=X_test_cat.loc[:,numerical_cols].join(test_dummies)\n",
    "\n",
    "print(X_train_final.shape)\n",
    "print(X_test_final.shape)"
   ]
  },
  {
   "cell_type": "code",
   "execution_count": 28,
   "id": "7ced5c48",
   "metadata": {},
   "outputs": [
    {
     "data": {
      "text/plain": [
       "GridSearchCV(cv=10, estimator=DecisionTreeClassifier(), n_jobs=-1,\n",
       "             param_grid={'criterion': ['gini', 'entropy'],\n",
       "                         'max_depth': [1, 2, 3, 4, 5, 6, 8, 9, 10, 11, 12, 13,\n",
       "                                       14, None],\n",
       "                         'min_samples_leaf': [5, 10, 15, 20, None],\n",
       "                         'min_samples_split': [2, 3, 4, None]},\n",
       "             scoring='accuracy')"
      ]
     },
     "execution_count": 28,
     "metadata": {},
     "output_type": "execute_result"
    }
   ],
   "source": [
    "grid_search.fit(X_train_final, y_train_sm)"
   ]
  },
  {
   "cell_type": "code",
   "execution_count": 29,
   "id": "d7dc094e",
   "metadata": {},
   "outputs": [
    {
     "data": {
      "text/plain": [
       "DecisionTreeClassifier(max_depth=14, min_samples_leaf=5)"
      ]
     },
     "execution_count": 29,
     "metadata": {},
     "output_type": "execute_result"
    }
   ],
   "source": [
    "cv_clf_os = grid_search.best_estimator_\n",
    "cv_clf_os"
   ]
  },
  {
   "cell_type": "code",
   "execution_count": 31,
   "id": "3b729397",
   "metadata": {},
   "outputs": [
    {
     "data": {
      "text/plain": [
       "0.6237623762376238"
      ]
     },
     "execution_count": 31,
     "metadata": {},
     "output_type": "execute_result"
    }
   ],
   "source": [
    "#Score para el test\n",
    "accuracy_score(y_test, cv_clf_os.predict(X_test_final))"
   ]
  },
  {
   "cell_type": "code",
   "execution_count": 37,
   "id": "55f5832b",
   "metadata": {},
   "outputs": [
    {
     "data": {
      "image/png": "[encoded data removed]",
      "text/plain": [
       "<Figure size 432x288 with 2 Axes>"
      ]
     },
     "metadata": {
      "needs_background": "light"
     },
     "output_type": "display_data"
    }
   ],
   "source": [
    "#Matriz de confusion\n",
    "cf_matrix= confusion_matrix(y_test, cv_clf_os.predict(X_test_final))\n",
    "\n",
    "ax = sns.heatmap(cf_matrix, annot=True, cmap='Blues')\n",
    "\n",
    "ax.set_title('Seaborn Confusion Matrix with labels\\n\\n');\n",
    "ax.set_xlabel('\\nPredicted Values')\n",
    "ax.set_ylabel('Actual Values ');\n",
    "\n",
    "## Ticket labels - List must be in alphabetical order\n",
    "ax.xaxis.set_ticklabels(['False','True'])\n",
    "ax.yaxis.set_ticklabels(['False','True'])\n",
    "\n",
    "## Display the visualization of the Confusion Matrix.\n",
    "plt.show()"
   ]
  },
  {
   "cell_type": "markdown",
   "id": "193dd198",
   "metadata": {},
   "source": [
    "OVERSAMPLING DONT GIVE GOOD RESULTS!"
   ]
  },
  {
   "cell_type": "code",
   "execution_count": 70,
   "id": "e0da1696",
   "metadata": {},
   "outputs": [],
   "source": [
    "#Importamos\n",
    "from sklearn.ensemble import RandomForestClassifier, BaggingClassifier, AdaBoostClassifier, GradientBoostingClassifier"
   ]
  },
  {
   "cell_type": "markdown",
   "id": "9dd9b292",
   "metadata": {},
   "source": [
    "Random Forest"
   ]
  },
  {
   "cell_type": "code",
   "execution_count": 71,
   "id": "6d88ed15",
   "metadata": {},
   "outputs": [
    {
     "data": {
      "text/plain": [
       "RandomForestClassifier(n_estimators=1000, n_jobs=-1)"
      ]
     },
     "execution_count": 71,
     "metadata": {},
     "output_type": "execute_result"
    }
   ],
   "source": [
    "#Instanciamos el modelo y ajustamos los datos \n",
    "rf_clf = RandomForestClassifier(n_estimators=1000, n_jobs=-1)\n",
    "rf_clf.fit(X_train, y_train)"
   ]
  },
  {
   "cell_type": "code",
   "execution_count": 72,
   "id": "6797145f",
   "metadata": {},
   "outputs": [
    {
     "name": "stdout",
     "output_type": "stream",
     "text": [
      "[[ 21  41]\n",
      " [ 28 112]]\n",
      "\n",
      "The Random Forest score is:  0.6584158415841584\n"
     ]
    }
   ],
   "source": [
    "#Vemos accuracy y matriz de confusión\n",
    "print(confusion_matrix(y_test, rf_clf.predict(X_test)))\n",
    "print('')\n",
    "print('The Random Forest score is: ', accuracy_score(y_test, rf_clf.predict(X_test)))"
   ]
  },
  {
   "cell_type": "markdown",
   "id": "bcf9db99",
   "metadata": {},
   "source": [
    "Bagging "
   ]
  },
  {
   "cell_type": "code",
   "execution_count": 73,
   "id": "a171f58c",
   "metadata": {},
   "outputs": [
    {
     "data": {
      "text/plain": [
       "BaggingClassifier(base_estimator=DecisionTreeClassifier(), n_estimators=1000,\n",
       "                  n_jobs=-1, random_state=42)"
      ]
     },
     "execution_count": 73,
     "metadata": {},
     "output_type": "execute_result"
    }
   ],
   "source": [
    "bag_clf = BaggingClassifier(base_estimator=clftree, n_estimators=1000,\n",
    "                            bootstrap=True, n_jobs=-1,\n",
    "                            random_state=42)\n",
    "bag_clf.fit(X_train, y_train)"
   ]
  },
  {
   "cell_type": "code",
   "execution_count": 74,
   "id": "e8009fe5",
   "metadata": {},
   "outputs": [
    {
     "name": "stdout",
     "output_type": "stream",
     "text": [
      "[[ 21  41]\n",
      " [ 23 117]]\n",
      "\n",
      "The Bagging score is:  0.6831683168316832\n"
     ]
    }
   ],
   "source": [
    "print(confusion_matrix(y_test, bag_clf.predict(X_test)))\n",
    "print('')\n",
    "print('The Bagging score is: ', accuracy_score(y_test, bag_clf.predict(X_test)))"
   ]
  },
  {
   "cell_type": "markdown",
   "id": "61e7e219",
   "metadata": {},
   "source": [
    "AdaBoost"
   ]
  },
  {
   "cell_type": "code",
   "execution_count": 76,
   "id": "8cdea3bc",
   "metadata": {},
   "outputs": [
    {
     "data": {
      "text/plain": [
       "AdaBoostClassifier(base_estimator=DecisionTreeClassifier(max_depth=1),\n",
       "                   n_estimators=1000)"
      ]
     },
     "execution_count": 76,
     "metadata": {},
     "output_type": "execute_result"
    }
   ],
   "source": [
    "AdaBoost = AdaBoostClassifier (\n",
    "           tree.DecisionTreeClassifier(max_depth=1), n_estimators= 1000\n",
    ")\n",
    "\n",
    "AdaBoost.fit(X_train, y_train)"
   ]
  },
  {
   "cell_type": "code",
   "execution_count": 77,
   "id": "c25fb6da",
   "metadata": {},
   "outputs": [],
   "source": [
    "predictions = AdaBoost.predict(X_test)"
   ]
  },
  {
   "cell_type": "code",
   "execution_count": 78,
   "id": "9631bdf2",
   "metadata": {},
   "outputs": [
    {
     "name": "stdout",
     "output_type": "stream",
     "text": [
      "[[ 21  41]\n",
      " [ 11 129]]\n",
      "\n",
      "The AdaBoost score is:  0.7425742574257426\n"
     ]
    }
   ],
   "source": [
    "print(confusion_matrix(y_test, predictions))\n",
    "print('')\n",
    "print('The AdaBoost score is: ', accuracy_score(y_test, predictions))"
   ]
  },
  {
   "cell_type": "markdown",
   "id": "74f068a2",
   "metadata": {},
   "source": [
    "Gradient Boosting"
   ]
  },
  {
   "cell_type": "code",
   "execution_count": 79,
   "id": "81a856f3",
   "metadata": {},
   "outputs": [],
   "source": [
    "parameters = {'n_estimators':[500, 1000] , \n",
    "             'learning_rate':[0.001, 0.001, 0.1],\n",
    "            'max_depth' : [1, 2, 3, 4]}"
   ]
  },
  {
   "cell_type": "code",
   "execution_count": 80,
   "id": "7cfee01f",
   "metadata": {},
   "outputs": [],
   "source": [
    "GB_clf = GridSearchCV(GradientBoostingClassifier(), parameters, cv=10, n_jobs=-1)"
   ]
  },
  {
   "cell_type": "code",
   "execution_count": 81,
   "id": "d3f0c150",
   "metadata": {},
   "outputs": [
    {
     "data": {
      "text/plain": [
       "GridSearchCV(cv=10, estimator=GradientBoostingClassifier(), n_jobs=-1,\n",
       "             param_grid={'learning_rate': [0.001, 0.001, 0.1],\n",
       "                         'max_depth': [1, 2, 3, 4],\n",
       "                         'n_estimators': [500, 1000]})"
      ]
     },
     "execution_count": 81,
     "metadata": {},
     "output_type": "execute_result"
    }
   ],
   "source": [
    "GB_clf.fit(X_train, y_train)"
   ]
  },
  {
   "cell_type": "code",
   "execution_count": 82,
   "id": "a6f42460",
   "metadata": {},
   "outputs": [
    {
     "name": "stdout",
     "output_type": "stream",
     "text": [
      "{'learning_rate': 0.001, 'max_depth': 3, 'n_estimators': 1000}\n",
      "The Gradient Boosting score is:  0.7277227722772277\n"
     ]
    }
   ],
   "source": [
    "print(GB_clf.best_params_)\n",
    "print('The Gradient Boosting score is: ', accuracy_score(y_test, GB_clf.predict(X_test)))"
   ]
  }
 ],
 "metadata": {
  "kernelspec": {
   "display_name": "Python 3 (ipykernel)",
   "language": "python",
   "name": "python3"
  },
  "language_info": {
   "codemirror_mode": {
    "name": "ipython",
    "version": 3
   },
   "file_extension": ".py",
   "mimetype": "text/x-python",
   "name": "python",
   "nbconvert_exporter": "python",
   "pygments_lexer": "ipython3",
   "version": "3.8.13"
  }
 },
 "nbformat": 4,
 "nbformat_minor": 5
}
