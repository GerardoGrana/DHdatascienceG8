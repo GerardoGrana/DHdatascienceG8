{
 "cells": [
  {
   "cell_type": "code",
   "execution_count": 56,
   "id": "e1172192",
   "metadata": {},
   "outputs": [],
   "source": [
    "#Importamos librerias base\n",
    "import pandas as pd\n",
    "import numpy as np\n",
    "import seaborn as sns\n",
    "import matplotlib.pyplot as plt\n",
    "\n",
    "#Importamos el modelo de clasificación y las métricas\n",
    "from sklearn import tree\n",
    "from sklearn.metrics import accuracy_score, confusion_matrix\n",
    "from sklearn.model_selection import train_test_split, GridSearchCV, StratifiedKFold\n",
    "from sklearn.preprocessing import MinMaxScaler\n",
    "\n",
    "#Para la visualización\n",
    "import graphviz \n",
    "import pydotplus\n",
    "from IPython.display import Image"
   ]
  },
  {
   "cell_type": "code",
   "execution_count": 96,
   "id": "7986fd13",
   "metadata": {},
   "outputs": [],
   "source": [
    "#Traemos el DataFrame\n",
    "data = pd.read_csv('PVR_train_test.csv')"
   ]
  },
  {
   "cell_type": "code",
   "execution_count": 97,
   "id": "819fc4a0",
   "metadata": {},
   "outputs": [
    {
     "name": "stdout",
     "output_type": "stream",
     "text": [
      "<class 'pandas.core.frame.DataFrame'>\n",
      "RangeIndex: 805 entries, 0 to 804\n",
      "Data columns (total 11 columns):\n",
      " #   Column                            Non-Null Count  Dtype  \n",
      "---  ------                            --------------  -----  \n",
      " 0   CantidadNum                       805 non-null    float64\n",
      " 1   desocupados                       805 non-null    float64\n",
      " 2   0-14                              805 non-null    float64\n",
      " 3   65_mas                            805 non-null    float64\n",
      " 4   hacinamiento                      805 non-null    float64\n",
      " 5   densidad_comercios                805 non-null    float64\n",
      " 6   Target_NoApto                     805 non-null    int64  \n",
      " 7   TipoResiduo_Papel                 805 non-null    int64  \n",
      " 8   TipoResiduo_Plástico              805 non-null    int64  \n",
      " 9   TipoResiduo_Vidrio, Metal, Tetra  805 non-null    int64  \n",
      " 10  punto_tipo_Rulero                 805 non-null    int64  \n",
      "dtypes: float64(6), int64(5)\n",
      "memory usage: 69.3 KB\n"
     ]
    }
   ],
   "source": [
    "data.info()"
   ]
  },
  {
   "cell_type": "code",
   "execution_count": 85,
   "id": "1ab930ed",
   "metadata": {},
   "outputs": [],
   "source": [
    "#Generamos el x y el target\n",
    "\n",
    "X= data.drop(['Target_NoApto'], axis = 1)\n",
    "y= data['Target_NoApto']"
   ]
  },
  {
   "cell_type": "code",
   "execution_count": 86,
   "id": "544032ca",
   "metadata": {},
   "outputs": [
    {
     "name": "stdout",
     "output_type": "stream",
     "text": [
      "Chequeamos tamaños:\n",
      "\n",
      "Tamaño del train: (603, 11) (603,) En %:  0.7490683229813665\n",
      "Tamaño del test:  (202, 11) (202,) En %:  0.25093167701863356\n",
      "\n",
      "Chequeamos stratify:\n",
      "\n",
      "1    0.693201\n",
      "0    0.306799\n",
      "Name: Target_NoApto, dtype: float64\n",
      "1    0.693069\n",
      "0    0.306931\n",
      "Name: Target_NoApto, dtype: float64\n"
     ]
    }
   ],
   "source": [
    "#Hacemos el train_test_split\n",
    "X_train, X_test, y_train, y_test = train_test_split(X,y, test_size= 0.25, stratify=y, random_state= 99)\n",
    "\n",
    "#Resultados\n",
    "print('Chequeamos tamaños:')\n",
    "print('')\n",
    "print('Tamaño del train:', X_train.shape, y_train.shape, 'En %: ', X_train.shape[0]/X.shape[0])\n",
    "print('Tamaño del test: ', X_test.shape, y_test.shape, 'En %: ', X_test.shape[0]/X.shape[0] )\n",
    "print('')\n",
    "print('Chequeamos stratify:')\n",
    "print('')\n",
    "print(y_train.value_counts()/y_train.shape[0])\n",
    "print(y_test.value_counts()/y_test.shape[0])"
   ]
  },
  {
   "cell_type": "code",
   "execution_count": 7,
   "id": "0081611b",
   "metadata": {},
   "outputs": [],
   "source": [
    "#Reescalamos la variable X\n",
    "#Scaler = MinMaxScaler()\n",
    "#X_train = Scaler.fit_transform(X_train)\n",
    "#X_test = Scaler.fit_transform(X_test)"
   ]
  },
  {
   "cell_type": "markdown",
   "id": "7bbe4d4b",
   "metadata": {},
   "source": [
    "Quizás podemos utilizar las herramientas de undersampling / oversampling para homogeneizar las etiquetas"
   ]
  },
  {
   "cell_type": "code",
   "execution_count": 87,
   "id": "6a09e77f",
   "metadata": {},
   "outputs": [],
   "source": [
    "#Inicializamos el modelo\n",
    "clftree = tree.DecisionTreeClassifier()"
   ]
  },
  {
   "cell_type": "code",
   "execution_count": 88,
   "id": "d10d8ab3",
   "metadata": {},
   "outputs": [],
   "source": [
    "#Hagamos un GridSearch con esta grilla\n",
    "params_grid = { \"criterion\" : [\"gini\", \"entropy\"],\n",
    "                \"min_samples_leaf\": [5,10,15,20,None], \n",
    "                \"max_depth\" : [1,2,3,4,5,6,8,9,10,11,12,13,14,None],\n",
    "                \"min_samples_split\": [2, 3, 4,None]}"
   ]
  },
  {
   "cell_type": "code",
   "execution_count": 89,
   "id": "d54e1177",
   "metadata": {},
   "outputs": [],
   "source": [
    "grid_search = GridSearchCV(clftree, params_grid,\n",
    "                           n_jobs=-1, scoring='accuracy', cv= 10)"
   ]
  },
  {
   "cell_type": "code",
   "execution_count": 90,
   "id": "adf30c61",
   "metadata": {},
   "outputs": [
    {
     "data": {
      "text/plain": [
       "GridSearchCV(cv=10, estimator=DecisionTreeClassifier(), n_jobs=-1,\n",
       "             param_grid={'criterion': ['gini', 'entropy'],\n",
       "                         'max_depth': [1, 2, 3, 4, 5, 6, 8, 9, 10, 11, 12, 13,\n",
       "                                       14, None],\n",
       "                         'min_samples_leaf': [5, 10, 15, 20, None],\n",
       "                         'min_samples_split': [2, 3, 4, None]},\n",
       "             scoring='accuracy')"
      ]
     },
     "execution_count": 90,
     "metadata": {},
     "output_type": "execute_result"
    }
   ],
   "source": [
    "grid_search.fit(X_train, y_train)"
   ]
  },
  {
   "cell_type": "code",
   "execution_count": 91,
   "id": "8394e54d",
   "metadata": {},
   "outputs": [
    {
     "data": {
      "text/plain": [
       "{'criterion': 'gini',\n",
       " 'max_depth': 4,\n",
       " 'min_samples_leaf': 20,\n",
       " 'min_samples_split': 2}"
      ]
     },
     "execution_count": 91,
     "metadata": {},
     "output_type": "execute_result"
    }
   ],
   "source": [
    "grid_search.best_params_"
   ]
  },
  {
   "cell_type": "code",
   "execution_count": 92,
   "id": "87158b87",
   "metadata": {},
   "outputs": [
    {
     "data": {
      "text/plain": [
       "DecisionTreeClassifier(max_depth=4, min_samples_leaf=20)"
      ]
     },
     "execution_count": 92,
     "metadata": {},
     "output_type": "execute_result"
    }
   ],
   "source": [
    "cv_clf = grid_search.best_estimator_\n",
    "cv_clf"
   ]
  },
  {
   "cell_type": "code",
   "execution_count": 93,
   "id": "ef02ea76",
   "metadata": {},
   "outputs": [
    {
     "data": {
      "text/html": [
       "<div>\n",
       "<style scoped>\n",
       "    .dataframe tbody tr th:only-of-type {\n",
       "        vertical-align: middle;\n",
       "    }\n",
       "\n",
       "    .dataframe tbody tr th {\n",
       "        vertical-align: top;\n",
       "    }\n",
       "\n",
       "    .dataframe thead th {\n",
       "        text-align: right;\n",
       "    }\n",
       "</style>\n",
       "<table border=\"1\" class=\"dataframe\">\n",
       "  <thead>\n",
       "    <tr style=\"text-align: right;\">\n",
       "      <th></th>\n",
       "      <th>atributo</th>\n",
       "      <th>importancia</th>\n",
       "    </tr>\n",
       "  </thead>\n",
       "  <tbody>\n",
       "    <tr>\n",
       "      <th>0</th>\n",
       "      <td>CantidadNum</td>\n",
       "      <td>0.726363</td>\n",
       "    </tr>\n",
       "    <tr>\n",
       "      <th>3</th>\n",
       "      <td>0-14</td>\n",
       "      <td>0.116721</td>\n",
       "    </tr>\n",
       "    <tr>\n",
       "      <th>7</th>\n",
       "      <td>TipoResiduo_Papel</td>\n",
       "      <td>0.070804</td>\n",
       "    </tr>\n",
       "    <tr>\n",
       "      <th>9</th>\n",
       "      <td>TipoResiduo_Vidrio, Metal, Tetra</td>\n",
       "      <td>0.050357</td>\n",
       "    </tr>\n",
       "    <tr>\n",
       "      <th>10</th>\n",
       "      <td>punto_tipo_Rulero</td>\n",
       "      <td>0.028655</td>\n",
       "    </tr>\n",
       "    <tr>\n",
       "      <th>1</th>\n",
       "      <td>hogares</td>\n",
       "      <td>0.007101</td>\n",
       "    </tr>\n",
       "    <tr>\n",
       "      <th>2</th>\n",
       "      <td>desocupados</td>\n",
       "      <td>0.000000</td>\n",
       "    </tr>\n",
       "    <tr>\n",
       "      <th>4</th>\n",
       "      <td>65_mas</td>\n",
       "      <td>0.000000</td>\n",
       "    </tr>\n",
       "    <tr>\n",
       "      <th>5</th>\n",
       "      <td>hacinamiento</td>\n",
       "      <td>0.000000</td>\n",
       "    </tr>\n",
       "    <tr>\n",
       "      <th>6</th>\n",
       "      <td>densidad_comercios</td>\n",
       "      <td>0.000000</td>\n",
       "    </tr>\n",
       "    <tr>\n",
       "      <th>8</th>\n",
       "      <td>TipoResiduo_Plástico</td>\n",
       "      <td>0.000000</td>\n",
       "    </tr>\n",
       "  </tbody>\n",
       "</table>\n",
       "</div>"
      ],
      "text/plain": [
       "                            atributo  importancia\n",
       "0                        CantidadNum     0.726363\n",
       "3                               0-14     0.116721\n",
       "7                  TipoResiduo_Papel     0.070804\n",
       "9   TipoResiduo_Vidrio, Metal, Tetra     0.050357\n",
       "10                 punto_tipo_Rulero     0.028655\n",
       "1                            hogares     0.007101\n",
       "2                        desocupados     0.000000\n",
       "4                             65_mas     0.000000\n",
       "5                       hacinamiento     0.000000\n",
       "6                 densidad_comercios     0.000000\n",
       "8               TipoResiduo_Plástico     0.000000"
      ]
     },
     "execution_count": 93,
     "metadata": {},
     "output_type": "execute_result"
    }
   ],
   "source": [
    "pd.DataFrame({'atributo':X.columns, 'importancia':cv_clf.feature_importances_}).sort_values('importancia', ascending = False)"
   ]
  },
  {
   "cell_type": "code",
   "execution_count": 94,
   "id": "c5288c39",
   "metadata": {},
   "outputs": [
    {
     "data": {
      "text/plain": [
       "0.7128712871287128"
      ]
     },
     "execution_count": 94,
     "metadata": {},
     "output_type": "execute_result"
    }
   ],
   "source": [
    "#Score para el test\n",
    "accuracy_score(y_test, cv_clf.predict(X_test))"
   ]
  },
  {
   "cell_type": "code",
   "execution_count": 95,
   "id": "cf26a6f5",
   "metadata": {},
   "outputs": [
    {
     "data": {
      "text/plain": [
       "array([[ 14,  48],\n",
       "       [ 10, 130]], dtype=int64)"
      ]
     },
     "execution_count": 95,
     "metadata": {},
     "output_type": "execute_result"
    }
   ],
   "source": [
    "#Matriz de confusion\n",
    "confusion_matrix(y_test, cv_clf.predict(X_test))"
   ]
  },
  {
   "cell_type": "code",
   "execution_count": 69,
   "id": "20191127",
   "metadata": {},
   "outputs": [
    {
     "data": {
      "image/png": "[encoded data removed]",
      "text/plain": [
       "<IPython.core.display.Image object>"
      ]
     },
     "execution_count": 69,
     "metadata": {},
     "output_type": "execute_result"
    }
   ],
   "source": [
    "#Visualizamos el árbol\n",
    "dot_data = tree.export_graphviz(cv_clf, out_file=None,feature_names= X.columns, filled = True)\n",
    "graph2 = pydotplus.graph_from_dot_data(dot_data)\n",
    "Image(graph2.create_png())"
   ]
  },
  {
   "cell_type": "code",
   "execution_count": 70,
   "id": "e0da1696",
   "metadata": {},
   "outputs": [],
   "source": [
    "#Importamos\n",
    "from sklearn.ensemble import RandomForestClassifier, BaggingClassifier, AdaBoostClassifier, GradientBoostingClassifier"
   ]
  },
  {
   "cell_type": "markdown",
   "id": "9dd9b292",
   "metadata": {},
   "source": [
    "Random Forest"
   ]
  },
  {
   "cell_type": "code",
   "execution_count": 71,
   "id": "6d88ed15",
   "metadata": {},
   "outputs": [
    {
     "data": {
      "text/plain": [
       "RandomForestClassifier(n_estimators=1000, n_jobs=-1)"
      ]
     },
     "execution_count": 71,
     "metadata": {},
     "output_type": "execute_result"
    }
   ],
   "source": [
    "#Instanciamos el modelo y ajustamos los datos \n",
    "rf_clf = RandomForestClassifier(n_estimators=1000, n_jobs=-1)\n",
    "rf_clf.fit(X_train, y_train)"
   ]
  },
  {
   "cell_type": "code",
   "execution_count": 72,
   "id": "6797145f",
   "metadata": {},
   "outputs": [
    {
     "name": "stdout",
     "output_type": "stream",
     "text": [
      "[[ 21  41]\n",
      " [ 28 112]]\n",
      "\n",
      "The Random Forest score is:  0.6584158415841584\n"
     ]
    }
   ],
   "source": [
    "#Vemos accuracy y matriz de confusión\n",
    "print(confusion_matrix(y_test, rf_clf.predict(X_test)))\n",
    "print('')\n",
    "print('The Random Forest score is: ', accuracy_score(y_test, rf_clf.predict(X_test)))"
   ]
  },
  {
   "cell_type": "markdown",
   "id": "bcf9db99",
   "metadata": {},
   "source": [
    "Bagging "
   ]
  },
  {
   "cell_type": "code",
   "execution_count": 73,
   "id": "a171f58c",
   "metadata": {},
   "outputs": [
    {
     "data": {
      "text/plain": [
       "BaggingClassifier(base_estimator=DecisionTreeClassifier(), n_estimators=1000,\n",
       "                  n_jobs=-1, random_state=42)"
      ]
     },
     "execution_count": 73,
     "metadata": {},
     "output_type": "execute_result"
    }
   ],
   "source": [
    "bag_clf = BaggingClassifier(base_estimator=clftree, n_estimators=1000,\n",
    "                            bootstrap=True, n_jobs=-1,\n",
    "                            random_state=42)\n",
    "bag_clf.fit(X_train, y_train)"
   ]
  },
  {
   "cell_type": "code",
   "execution_count": 74,
   "id": "e8009fe5",
   "metadata": {},
   "outputs": [
    {
     "name": "stdout",
     "output_type": "stream",
     "text": [
      "[[ 21  41]\n",
      " [ 23 117]]\n",
      "\n",
      "The Bagging score is:  0.6831683168316832\n"
     ]
    }
   ],
   "source": [
    "print(confusion_matrix(y_test, bag_clf.predict(X_test)))\n",
    "print('')\n",
    "print('The Bagging score is: ', accuracy_score(y_test, bag_clf.predict(X_test)))"
   ]
  },
  {
   "cell_type": "markdown",
   "id": "61e7e219",
   "metadata": {},
   "source": [
    "AdaBoost"
   ]
  },
  {
   "cell_type": "code",
   "execution_count": 76,
   "id": "8cdea3bc",
   "metadata": {},
   "outputs": [
    {
     "data": {
      "text/plain": [
       "AdaBoostClassifier(base_estimator=DecisionTreeClassifier(max_depth=1),\n",
       "                   n_estimators=1000)"
      ]
     },
     "execution_count": 76,
     "metadata": {},
     "output_type": "execute_result"
    }
   ],
   "source": [
    "AdaBoost = AdaBoostClassifier (\n",
    "           tree.DecisionTreeClassifier(max_depth=1), n_estimators= 1000\n",
    ")\n",
    "\n",
    "AdaBoost.fit(X_train, y_train)"
   ]
  },
  {
   "cell_type": "code",
   "execution_count": 77,
   "id": "c25fb6da",
   "metadata": {},
   "outputs": [],
   "source": [
    "predictions = AdaBoost.predict(X_test)"
   ]
  },
  {
   "cell_type": "code",
   "execution_count": 78,
   "id": "9631bdf2",
   "metadata": {},
   "outputs": [
    {
     "name": "stdout",
     "output_type": "stream",
     "text": [
      "[[ 21  41]\n",
      " [ 11 129]]\n",
      "\n",
      "The AdaBoost score is:  0.7425742574257426\n"
     ]
    }
   ],
   "source": [
    "print(confusion_matrix(y_test, predictions))\n",
    "print('')\n",
    "print('The AdaBoost score is: ', accuracy_score(y_test, predictions))"
   ]
  },
  {
   "cell_type": "markdown",
   "id": "74f068a2",
   "metadata": {},
   "source": [
    "Gradient Boosting"
   ]
  },
  {
   "cell_type": "code",
   "execution_count": 79,
   "id": "81a856f3",
   "metadata": {},
   "outputs": [],
   "source": [
    "parameters = {'n_estimators':[500, 1000] , \n",
    "             'learning_rate':[0.001, 0.001, 0.1],\n",
    "            'max_depth' : [1, 2, 3, 4]}"
   ]
  },
  {
   "cell_type": "code",
   "execution_count": 80,
   "id": "7cfee01f",
   "metadata": {},
   "outputs": [],
   "source": [
    "GB_clf = GridSearchCV(GradientBoostingClassifier(), parameters, cv=10, n_jobs=-1)"
   ]
  },
  {
   "cell_type": "code",
   "execution_count": 81,
   "id": "d3f0c150",
   "metadata": {},
   "outputs": [
    {
     "data": {
      "text/plain": [
       "GridSearchCV(cv=10, estimator=GradientBoostingClassifier(), n_jobs=-1,\n",
       "             param_grid={'learning_rate': [0.001, 0.001, 0.1],\n",
       "                         'max_depth': [1, 2, 3, 4],\n",
       "                         'n_estimators': [500, 1000]})"
      ]
     },
     "execution_count": 81,
     "metadata": {},
     "output_type": "execute_result"
    }
   ],
   "source": [
    "GB_clf.fit(X_train, y_train)"
   ]
  },
  {
   "cell_type": "code",
   "execution_count": 82,
   "id": "a6f42460",
   "metadata": {},
   "outputs": [
    {
     "name": "stdout",
     "output_type": "stream",
     "text": [
      "{'learning_rate': 0.001, 'max_depth': 3, 'n_estimators': 1000}\n",
      "The Gradient Boosting score is:  0.7277227722772277\n"
     ]
    }
   ],
   "source": [
    "print(GB_clf.best_params_)\n",
    "print('The Gradient Boosting score is: ', accuracy_score(y_test, GB_clf.predict(X_test)))"
   ]
  }
 ],
 "metadata": {
  "kernelspec": {
   "display_name": "Python 3 (ipykernel)",
   "language": "python",
   "name": "python3"
  },
  "language_info": {
   "codemirror_mode": {
    "name": "ipython",
    "version": 3
   },
   "file_extension": ".py",
   "mimetype": "text/x-python",
   "name": "python",
   "nbconvert_exporter": "python",
   "pygments_lexer": "ipython3",
   "version": "3.8.13"
  }
 },
 "nbformat": 4,
 "nbformat_minor": 5
}
