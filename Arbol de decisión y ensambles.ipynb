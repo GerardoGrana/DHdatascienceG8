{
 "cells": [
  {
   "cell_type": "code",
   "execution_count": 1,
   "id": "e1172192",
   "metadata": {},
   "outputs": [],
   "source": [
    "#Importamos librerias base\n",
    "import pandas as pd\n",
    "import numpy as np\n",
    "import seaborn as sns\n",
    "import matplotlib.pyplot as plt\n",
    "\n",
    "#Importamos el modelo de clasificación y las métricas\n",
    "from sklearn import tree\n",
    "from sklearn.metrics import accuracy_score, confusion_matrix\n",
    "from sklearn.model_selection import train_test_split, GridSearchCV, StratifiedKFold\n",
    "from sklearn.preprocessing import MinMaxScaler\n",
    "\n",
    "#Para la visualización\n",
    "import graphviz \n",
    "import pydotplus\n",
    "from IPython.display import Image"
   ]
  },
  {
   "cell_type": "code",
   "execution_count": 2,
   "id": "860c5600",
   "metadata": {},
   "outputs": [],
   "source": [
    "#Levantamos el df_final_alternativo_2\n",
    "df_final_alternativo_2 = pd.read_csv('df_final_alternativo_2.csv')\n",
    "\n",
    "#Generamos el X y el target\n",
    "Xa = df_final_alternativo_2.drop(['ClasificacionNum2', 'ID', 'fid', 'Numero', 'lee_y _esc', 'NoLee_ni_e', 'totalpobl','Primario','Inicial (j','Secundario','EGB', 'Universita','Post unive', 'Superior n','Polimodal'], axis = 1)\n",
    "ya = df_final_alternativo_2['ClasificacionNum2']\n",
    "\n",
    "#Estandarizamos con MinMax todo el set de datos X\n",
    "scaler = MinMaxScaler()\n",
    "x_scaled = scaler.fit_transform(Xa)"
   ]
  },
  {
   "cell_type": "code",
   "execution_count": null,
   "id": "f639d4c1",
   "metadata": {},
   "outputs": [],
   "source": [
    "corr = df_final_alternativo_2.corr(method='pearson')\n",
    "\n",
    "plt.figure(figsize=(30, 30))\n",
    "sns.heatmap(corr, annot=True)\n",
    "plt.show()"
   ]
  },
  {
   "cell_type": "code",
   "execution_count": 3,
   "id": "f23572e8",
   "metadata": {},
   "outputs": [
    {
     "ename": "NameError",
     "evalue": "name 'ya_train' is not defined",
     "output_type": "error",
     "traceback": [
      "\u001b[1;31m---------------------------------------------------------------------------\u001b[0m",
      "\u001b[1;31mNameError\u001b[0m                                 Traceback (most recent call last)",
      "Input \u001b[1;32mIn [3]\u001b[0m, in \u001b[0;36m<cell line: 2>\u001b[1;34m()\u001b[0m\n\u001b[0;32m      1\u001b[0m \u001b[38;5;66;03m#Porcentaje de etiquetas en el train\u001b[39;00m\n\u001b[1;32m----> 2\u001b[0m \u001b[43mya_train\u001b[49m\u001b[38;5;241m.\u001b[39mvalue_counts() \u001b[38;5;241m/\u001b[39m ya_train\u001b[38;5;241m.\u001b[39mshape[\u001b[38;5;241m0\u001b[39m]\n",
      "\u001b[1;31mNameError\u001b[0m: name 'ya_train' is not defined"
     ]
    }
   ],
   "source": [
    "#Porcentaje de etiquetas en el train\n",
    "ya_train.value_counts() / ya_train.shape[0]"
   ]
  },
  {
   "cell_type": "code",
   "execution_count": null,
   "id": "6d634e66",
   "metadata": {},
   "outputs": [],
   "source": [
    "# Porcentaje de etiquetas en el test \n",
    "ya_test.value_counts() / ya_test.shape[0]"
   ]
  },
  {
   "cell_type": "markdown",
   "id": "7bbe4d4b",
   "metadata": {},
   "source": [
    "Quizás podemos utilizar las herramientas de undersampling / oversampling para homogeneizar las etiquetas"
   ]
  },
  {
   "cell_type": "code",
   "execution_count": 4,
   "id": "6a09e77f",
   "metadata": {},
   "outputs": [],
   "source": [
    "#Inicializamos el modelo\n",
    "clftree = tree.DecisionTreeClassifier()"
   ]
  },
  {
   "cell_type": "code",
   "execution_count": null,
   "id": "b148f4ca",
   "metadata": {},
   "outputs": [],
   "source": [
    "#Divimos en train y en test\n",
    "#Xa_train, Xa_test, ya_train, ya_test = train_test_split(Xa,ya, stratify=ya, test_size= 0.25)\n",
    "\n",
    "#Xa_train_std = scaler.fit_transform(Xa_train)\n",
    "#Xa_test_std = scaler.fit_transform(Xa_test)"
   ]
  },
  {
   "cell_type": "code",
   "execution_count": 5,
   "id": "d10d8ab3",
   "metadata": {},
   "outputs": [],
   "source": [
    "#Hagamos un GridSearch con esta grilla\n",
    "params_grid = { \"criterion\" : [\"gini\", \"entropy\"],\n",
    "                \"min_samples_leaf\": [5,10,15,20,None], \n",
    "                \"max_depth\" : [1,2,3,4,5,6,8,9,10,11,12,13,14,None],\n",
    "                \"min_samples_split\": [2, 3, 4,None]}"
   ]
  },
  {
   "cell_type": "code",
   "execution_count": 29,
   "id": "d54e1177",
   "metadata": {},
   "outputs": [],
   "source": [
    "grid_search = GridSearchCV(clftree, params_grid,\n",
    "                           n_jobs=-1, scoring='accuracy', cv= 10)"
   ]
  },
  {
   "cell_type": "code",
   "execution_count": null,
   "id": "adf30c61",
   "metadata": {},
   "outputs": [],
   "source": [
    "#grid_search.fit(Xa_train_std, ya_train)"
   ]
  },
  {
   "cell_type": "code",
   "execution_count": null,
   "id": "8394e54d",
   "metadata": {},
   "outputs": [],
   "source": [
    "#grid_search.best_params_"
   ]
  },
  {
   "cell_type": "code",
   "execution_count": 30,
   "id": "0308a23e",
   "metadata": {},
   "outputs": [],
   "source": [
    "#Hacemos Stratified K-folds para X\n",
    "skf = StratifiedKFold(n_splits=10, shuffle=True, random_state=1)\n",
    "lst_accu_stratified = []\n",
    "  \n",
    "for train_index, test_index in skf.split(Xa, ya):\n",
    "    x_train_fold, x_test_fold = x_scaled[train_index], x_scaled[test_index]\n",
    "    y_train_fold, y_test_fold = ya[train_index], ya[test_index]\n",
    "    grid_search.fit(x_train_fold, y_train_fold)\n",
    "    lst_accu_stratified.append(grid_search.score(x_test_fold, y_test_fold))"
   ]
  },
  {
   "cell_type": "code",
   "execution_count": 31,
   "id": "0fc598e3",
   "metadata": {},
   "outputs": [
    {
     "name": "stdout",
     "output_type": "stream",
     "text": [
      "List of possible accuracy: [0.7317073170731707, 0.7195121951219512, 0.7804878048780488, 0.7439024390243902, 0.8170731707317073, 0.7439024390243902, 0.7195121951219512, 0.7195121951219512, 0.7530864197530864, 0.7901234567901234]\n",
      "\n",
      "Maximum Accuracy That can be obtained from this model is: 81.70731707317073 %\n",
      "\n",
      "Minimum Accuracy: 71.95121951219512 %\n",
      "\n",
      "Overall Accuracy: 75.1881963264077 %\n",
      "\n",
      "Standard Deviation is: 0.03195280563566291\n"
     ]
    }
   ],
   "source": [
    "#Vemos los resultados\n",
    "print('List of possible accuracy:', lst_accu_stratified)\n",
    "print('\\nMaximum Accuracy That can be obtained from this model is:',\n",
    "      max(lst_accu_stratified)*100, '%')\n",
    "print('\\nMinimum Accuracy:',\n",
    "      min(lst_accu_stratified)*100, '%')\n",
    "print('\\nOverall Accuracy:',\n",
    "      np.mean(lst_accu_stratified)*100, '%')\n",
    "print('\\nStandard Deviation is:', np.std(lst_accu_stratified))"
   ]
  },
  {
   "cell_type": "code",
   "execution_count": 32,
   "id": "87158b87",
   "metadata": {},
   "outputs": [
    {
     "data": {
      "text/plain": [
       "DecisionTreeClassifier(max_depth=1, min_samples_leaf=5)"
      ]
     },
     "execution_count": 32,
     "metadata": {},
     "output_type": "execute_result"
    }
   ],
   "source": [
    "cv_clf = grid_search.best_estimator_\n",
    "cv_clf"
   ]
  },
  {
   "cell_type": "code",
   "execution_count": 10,
   "id": "ef02ea76",
   "metadata": {},
   "outputs": [
    {
     "data": {
      "text/html": [
       "<div>\n",
       "<style scoped>\n",
       "    .dataframe tbody tr th:only-of-type {\n",
       "        vertical-align: middle;\n",
       "    }\n",
       "\n",
       "    .dataframe tbody tr th {\n",
       "        vertical-align: top;\n",
       "    }\n",
       "\n",
       "    .dataframe thead th {\n",
       "        text-align: right;\n",
       "    }\n",
       "</style>\n",
       "<table border=\"1\" class=\"dataframe\">\n",
       "  <thead>\n",
       "    <tr style=\"text-align: right;\">\n",
       "      <th></th>\n",
       "      <th>atributo</th>\n",
       "      <th>importancia</th>\n",
       "    </tr>\n",
       "  </thead>\n",
       "  <tbody>\n",
       "    <tr>\n",
       "      <th>0</th>\n",
       "      <td>CantidadNum</td>\n",
       "      <td>1.0</td>\n",
       "    </tr>\n",
       "    <tr>\n",
       "      <th>11</th>\n",
       "      <td>Seccion</td>\n",
       "      <td>0.0</td>\n",
       "    </tr>\n",
       "    <tr>\n",
       "      <th>19</th>\n",
       "      <td>macroz_2_Residencial urbano</td>\n",
       "      <td>0.0</td>\n",
       "    </tr>\n",
       "    <tr>\n",
       "      <th>18</th>\n",
       "      <td>macroz_2_Residencial suburbano</td>\n",
       "      <td>0.0</td>\n",
       "    </tr>\n",
       "    <tr>\n",
       "      <th>17</th>\n",
       "      <td>macroz_2_Especial Parque Gral. San Marti?n</td>\n",
       "      <td>0.0</td>\n",
       "    </tr>\n",
       "    <tr>\n",
       "      <th>16</th>\n",
       "      <td>macroz_2_Comercial</td>\n",
       "      <td>0.0</td>\n",
       "    </tr>\n",
       "    <tr>\n",
       "      <th>15</th>\n",
       "      <td>TipoResiduo_Vidrio, Metal, Tetra</td>\n",
       "      <td>0.0</td>\n",
       "    </tr>\n",
       "    <tr>\n",
       "      <th>14</th>\n",
       "      <td>TipoResiduo_Plástico</td>\n",
       "      <td>0.0</td>\n",
       "    </tr>\n",
       "    <tr>\n",
       "      <th>13</th>\n",
       "      <td>TipoResiduo_Papel</td>\n",
       "      <td>0.0</td>\n",
       "    </tr>\n",
       "    <tr>\n",
       "      <th>12</th>\n",
       "      <td>Tipo de punto_Rulero</td>\n",
       "      <td>0.0</td>\n",
       "    </tr>\n",
       "    <tr>\n",
       "      <th>10</th>\n",
       "      <td>Area_Has</td>\n",
       "      <td>0.0</td>\n",
       "    </tr>\n",
       "    <tr>\n",
       "      <th>1</th>\n",
       "      <td>hogares</td>\n",
       "      <td>0.0</td>\n",
       "    </tr>\n",
       "    <tr>\n",
       "      <th>9</th>\n",
       "      <td>dens pob</td>\n",
       "      <td>0.0</td>\n",
       "    </tr>\n",
       "    <tr>\n",
       "      <th>8</th>\n",
       "      <td>toponimo_i</td>\n",
       "      <td>0.0</td>\n",
       "    </tr>\n",
       "    <tr>\n",
       "      <th>7</th>\n",
       "      <td>Sin cloaca</td>\n",
       "      <td>0.0</td>\n",
       "    </tr>\n",
       "    <tr>\n",
       "      <th>6</th>\n",
       "      <td>sin red ag</td>\n",
       "      <td>0.0</td>\n",
       "    </tr>\n",
       "    <tr>\n",
       "      <th>5</th>\n",
       "      <td>Hacinamien</td>\n",
       "      <td>0.0</td>\n",
       "    </tr>\n",
       "    <tr>\n",
       "      <th>4</th>\n",
       "      <td>65 y más</td>\n",
       "      <td>0.0</td>\n",
       "    </tr>\n",
       "    <tr>\n",
       "      <th>3</th>\n",
       "      <td>0 - 14</td>\n",
       "      <td>0.0</td>\n",
       "    </tr>\n",
       "    <tr>\n",
       "      <th>2</th>\n",
       "      <td>Desocupado</td>\n",
       "      <td>0.0</td>\n",
       "    </tr>\n",
       "    <tr>\n",
       "      <th>20</th>\n",
       "      <td>heatmap_co</td>\n",
       "      <td>0.0</td>\n",
       "    </tr>\n",
       "  </tbody>\n",
       "</table>\n",
       "</div>"
      ],
      "text/plain": [
       "                                      atributo  importancia\n",
       "0                                  CantidadNum          1.0\n",
       "11                                     Seccion          0.0\n",
       "19                 macroz_2_Residencial urbano          0.0\n",
       "18              macroz_2_Residencial suburbano          0.0\n",
       "17  macroz_2_Especial Parque Gral. San Marti?n          0.0\n",
       "16                          macroz_2_Comercial          0.0\n",
       "15            TipoResiduo_Vidrio, Metal, Tetra          0.0\n",
       "14                        TipoResiduo_Plástico          0.0\n",
       "13                           TipoResiduo_Papel          0.0\n",
       "12                        Tipo de punto_Rulero          0.0\n",
       "10                                    Area_Has          0.0\n",
       "1                                      hogares          0.0\n",
       "9                                     dens pob          0.0\n",
       "8                                   toponimo_i          0.0\n",
       "7                                   Sin cloaca          0.0\n",
       "6                                   sin red ag          0.0\n",
       "5                                   Hacinamien          0.0\n",
       "4                                     65 y más          0.0\n",
       "3                                       0 - 14          0.0\n",
       "2                                   Desocupado          0.0\n",
       "20                                  heatmap_co          0.0"
      ]
     },
     "execution_count": 10,
     "metadata": {},
     "output_type": "execute_result"
    }
   ],
   "source": [
    "pd.DataFrame({'atributo':Xa.columns, 'importancia':cv_clf.feature_importances_}).sort_values('importancia', ascending = False)"
   ]
  },
  {
   "cell_type": "code",
   "execution_count": 15,
   "id": "c5288c39",
   "metadata": {},
   "outputs": [
    {
     "data": {
      "text/plain": [
       "0.7901234567901234"
      ]
     },
     "execution_count": 15,
     "metadata": {},
     "output_type": "execute_result"
    }
   ],
   "source": [
    "#Score para el test\n",
    "accuracy_score(y_test_fold, cv_clf.predict(x_test_fold))"
   ]
  },
  {
   "cell_type": "code",
   "execution_count": 23,
   "id": "cf26a6f5",
   "metadata": {},
   "outputs": [
    {
     "data": {
      "text/plain": [
       "array([[57,  0],\n",
       "       [17,  7]], dtype=int64)"
      ]
     },
     "execution_count": 23,
     "metadata": {},
     "output_type": "execute_result"
    }
   ],
   "source": [
    "#Matriz de confusion\n",
    "confusion_matrix(y_test_fold, cv_clf.predict(x_test_fold))"
   ]
  },
  {
   "cell_type": "code",
   "execution_count": 26,
   "id": "20191127",
   "metadata": {},
   "outputs": [
    {
     "data": {
      "image/png": "[encoded data removed]",
      "text/plain": [
       "<IPython.core.display.Image object>"
      ]
     },
     "execution_count": 26,
     "metadata": {},
     "output_type": "execute_result"
    }
   ],
   "source": [
    "#Visualizamos el árbol\n",
    "dot_data = tree.export_graphviz(cv_clf, out_file=None,feature_names= Xa.columns, filled = True)\n",
    "graph2 = pydotplus.graph_from_dot_data(dot_data)\n",
    "Image(graph2.create_png())"
   ]
  },
  {
   "cell_type": "markdown",
   "id": "9dd9b292",
   "metadata": {},
   "source": [
    "Vamos a aplicar ahora la tecnica de random forest, para ello utilicemos el ultimo arbol simple creado."
   ]
  },
  {
   "cell_type": "code",
   "execution_count": 27,
   "id": "5e2d110e",
   "metadata": {},
   "outputs": [],
   "source": [
    "#Importamos el modelo \n",
    "from sklearn.ensemble import RandomForestClassifier"
   ]
  },
  {
   "cell_type": "code",
   "execution_count": 28,
   "id": "6d88ed15",
   "metadata": {},
   "outputs": [
    {
     "ename": "NameError",
     "evalue": "name 'Xa_train_std' is not defined",
     "output_type": "error",
     "traceback": [
      "\u001b[1;31m---------------------------------------------------------------------------\u001b[0m",
      "\u001b[1;31mNameError\u001b[0m                                 Traceback (most recent call last)",
      "Input \u001b[1;32mIn [28]\u001b[0m, in \u001b[0;36m<cell line: 3>\u001b[1;34m()\u001b[0m\n\u001b[0;32m      1\u001b[0m \u001b[38;5;66;03m#Instanciamos el modelo y ajustamos los datos \u001b[39;00m\n\u001b[0;32m      2\u001b[0m rf_clf \u001b[38;5;241m=\u001b[39m RandomForestClassifier(n_estimators\u001b[38;5;241m=\u001b[39m\u001b[38;5;241m1000\u001b[39m, n_jobs\u001b[38;5;241m=\u001b[39m\u001b[38;5;241m-\u001b[39m\u001b[38;5;241m1\u001b[39m)\n\u001b[1;32m----> 3\u001b[0m rf_clf\u001b[38;5;241m.\u001b[39mfit(\u001b[43mXa_train_std\u001b[49m, ya_train)\n",
      "\u001b[1;31mNameError\u001b[0m: name 'Xa_train_std' is not defined"
     ]
    }
   ],
   "source": [
    "#Instanciamos el modelo y ajustamos los datos \n",
    "rf_clf = RandomForestClassifier(n_estimators=1000, n_jobs=-1)\n",
    "rf_clf.fit(Xa_train_std, ya_train)"
   ]
  },
  {
   "cell_type": "code",
   "execution_count": null,
   "id": "6797145f",
   "metadata": {},
   "outputs": [],
   "source": [
    "#Vemos accuracy y matriz de confusión\n",
    "print('Accuracy :' ,accuracy_score(ya_test, rf_clf.predict(Xa_test_std)))\n",
    "print('')\n",
    "print('Y la matriz:')\n",
    "print('')\n",
    "print(confusion_matrix(ya_test, rf_clf.predict(Xa_test_std)))"
   ]
  },
  {
   "cell_type": "code",
   "execution_count": null,
   "id": "a171f58c",
   "metadata": {},
   "outputs": [],
   "source": [
    "from sklearn.ensemble import BaggingClassifier\n",
    "\n",
    "bag_clf = BaggingClassifier(base_estimator=clftree, n_estimators=1000,\n",
    "                            bootstrap=True, n_jobs=-1,\n",
    "                            random_state=42)\n",
    "bag_clf.fit(Xa_train_std, ya_train)"
   ]
  },
  {
   "cell_type": "code",
   "execution_count": null,
   "id": "e8009fe5",
   "metadata": {},
   "outputs": [],
   "source": [
    "accuracy_score(ya_test, bag_clf.predict(Xa_test_std))"
   ]
  }
 ],
 "metadata": {
  "kernelspec": {
   "display_name": "Python [conda env:dhdsblend2021] *",
   "language": "python",
   "name": "conda-env-dhdsblend2021-py"
  },
  "language_info": {
   "codemirror_mode": {
    "name": "ipython",
    "version": 3
   },
   "file_extension": ".py",
   "mimetype": "text/x-python",
   "name": "python",
   "nbconvert_exporter": "python",
   "pygments_lexer": "ipython3",
   "version": "3.8.13"
  }
 },
 "nbformat": 4,
 "nbformat_minor": 5
}
