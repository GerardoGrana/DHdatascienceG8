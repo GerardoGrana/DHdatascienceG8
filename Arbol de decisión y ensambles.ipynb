{
 "cells": [
  {
   "cell_type": "code",
   "execution_count": 1,
   "id": "e1172192",
   "metadata": {},
   "outputs": [],
   "source": [
    "#Importamos librerias base\n",
    "import pandas as pd\n",
    "import numpy as np\n",
    "import seaborn as sns\n",
    "import matplotlib.pyplot as plt\n",
    "import seaborn as sns\n",
    "\n",
    "#Importamos el modelo de clasificación y las métricas\n",
    "from sklearn import tree\n",
    "from sklearn.metrics import accuracy_score, confusion_matrix\n",
    "from sklearn.model_selection import train_test_split, GridSearchCV, StratifiedKFold\n",
    "from sklearn.preprocessing import MinMaxScaler, OneHotEncoder\n",
    "\n",
    "#Para la visualización\n",
    "import graphviz \n",
    "import pydotplus\n",
    "from IPython.display import Image"
   ]
  },
  {
   "cell_type": "code",
   "execution_count": 2,
   "id": "7986fd13",
   "metadata": {},
   "outputs": [],
   "source": [
    "#Traemos el DataFrame\n",
    "data = pd.read_csv('PVR_train_test.csv')"
   ]
  },
  {
   "cell_type": "code",
   "execution_count": 8,
   "id": "819fc4a0",
   "metadata": {},
   "outputs": [
    {
     "name": "stdout",
     "output_type": "stream",
     "text": [
      "<class 'pandas.core.frame.DataFrame'>\n",
      "RangeIndex: 798 entries, 0 to 797\n",
      "Data columns (total 34 columns):\n",
      " #   Column                                     Non-Null Count  Dtype  \n",
      "---  ------                                     --------------  -----  \n",
      " 0   CantidadNum                                798 non-null    float64\n",
      " 1   poblacion                                  798 non-null    float64\n",
      " 2   hogares                                    798 non-null    float64\n",
      " 3   desocupado                                 798 non-null    float64\n",
      " 4   0-14                                       798 non-null    float64\n",
      " 5   65_mas                                     798 non-null    float64\n",
      " 6   inicial                                    798 non-null    float64\n",
      " 7   primario                                   798 non-null    float64\n",
      " 8   egb                                        798 non-null    float64\n",
      " 9   secundario                                 798 non-null    float64\n",
      " 10  polimodal                                  798 non-null    float64\n",
      " 11  superior                                   798 non-null    float64\n",
      " 12  universitario                              798 non-null    float64\n",
      " 13  post_universitario                         798 non-null    float64\n",
      " 14  lee_y _esc                                 798 non-null    float64\n",
      " 15  NoLee_ni_e                                 798 non-null    float64\n",
      " 16  hacinamiento                               798 non-null    float64\n",
      " 17  sin_agua                                   798 non-null    float64\n",
      " 18  sin_cloaca                                 798 non-null    float64\n",
      " 19  densidad_comercial                         798 non-null    float64\n",
      " 20  x                                          798 non-null    float64\n",
      " 21  y                                          798 non-null    float64\n",
      " 22  index                                      798 non-null    float64\n",
      " 23  Tipo de punto_Rulero                       798 non-null    int64  \n",
      " 24  Target_NoApto                              798 non-null    int64  \n",
      " 25  TipoResiduo_Papel                          798 non-null    int64  \n",
      " 26  TipoResiduo_Plástico                       798 non-null    int64  \n",
      " 27  TipoResiduo_Vidrio, Metal, Tetra           798 non-null    int64  \n",
      " 28  ¿Se realiza recolección en el momento?_Sí  798 non-null    int64  \n",
      " 29  microzonificacion_Comercial                798 non-null    int64  \n",
      " 30  microzonificacion_Residencial suburbano    798 non-null    int64  \n",
      " 31  microzonificacion_Residencial urbano       798 non-null    int64  \n",
      " 32  macrozonificacion_Interfaz                 798 non-null    int64  \n",
      " 33  macrozonificacion_Urbano                   798 non-null    int64  \n",
      "dtypes: float64(23), int64(11)\n",
      "memory usage: 212.1 KB\n"
     ]
    }
   ],
   "source": [
    "data.info()"
   ]
  },
  {
   "cell_type": "markdown",
   "id": "62f3fddb",
   "metadata": {},
   "source": [
    "Reducción de la dimensionalidad\n",
    "\n",
    "Parte 1) Por varianza"
   ]
  },
  {
   "cell_type": "code",
   "execution_count": 9,
   "id": "2dc9c051",
   "metadata": {},
   "outputs": [
    {
     "data": {
      "text/plain": [
       "VarianceThreshold(threshold=0.5)"
      ]
     },
     "execution_count": 9,
     "metadata": {},
     "output_type": "execute_result"
    }
   ],
   "source": [
    "from sklearn.feature_selection import VarianceThreshold\n",
    "\n",
    "# Instanciamos la clase VarianceThreshold definiendo un threshold=0.5\n",
    "\n",
    "fet_sel = VarianceThreshold(threshold=0.5)\n",
    "\n",
    "# Fiteamos a fet_sel con nuestro df1:\n",
    "\n",
    "fet_sel.fit(data)"
   ]
  },
  {
   "cell_type": "code",
   "execution_count": 10,
   "id": "1a6de7a7",
   "metadata": {},
   "outputs": [
    {
     "data": {
      "text/plain": [
       "array([False,  True,  True,  True,  True,  True,  True,  True,  True,\n",
       "        True,  True,  True,  True,  True,  True,  True,  True,  True,\n",
       "        True,  True, False, False,  True, False, False, False, False,\n",
       "       False, False, False, False, False, False, False])"
      ]
     },
     "execution_count": 10,
     "metadata": {},
     "output_type": "execute_result"
    }
   ],
   "source": [
    "fet_sel.get_support()"
   ]
  },
  {
   "cell_type": "code",
   "execution_count": 12,
   "id": "f4f83ffb",
   "metadata": {},
   "outputs": [
    {
     "data": {
      "text/plain": [
       "Index(['poblacion', 'hogares', 'desocupado', '0-14', '65_mas', 'inicial',\n",
       "       'primario', 'egb', 'secundario', 'polimodal', 'superior',\n",
       "       'universitario', 'post_universitario', 'lee_y _esc', 'NoLee_ni_e',\n",
       "       'hacinamiento', 'sin_agua', 'sin_cloaca', 'densidad_comercial',\n",
       "       'index'],\n",
       "      dtype='object')"
      ]
     },
     "execution_count": 12,
     "metadata": {},
     "output_type": "execute_result"
    }
   ],
   "source": [
    "# Podemos filtrar las columnas que no superen el umbral de varianza:\n",
    "\n",
    "data.columns[fet_sel.get_support()]"
   ]
  },
  {
   "cell_type": "code",
   "execution_count": 14,
   "id": "893d2a1d",
   "metadata": {},
   "outputs": [
    {
     "data": {
      "text/html": [
       "<div>\n",
       "<style scoped>\n",
       "    .dataframe tbody tr th:only-of-type {\n",
       "        vertical-align: middle;\n",
       "    }\n",
       "\n",
       "    .dataframe tbody tr th {\n",
       "        vertical-align: top;\n",
       "    }\n",
       "\n",
       "    .dataframe thead th {\n",
       "        text-align: right;\n",
       "    }\n",
       "</style>\n",
       "<table border=\"1\" class=\"dataframe\">\n",
       "  <thead>\n",
       "    <tr style=\"text-align: right;\">\n",
       "      <th></th>\n",
       "      <th>poblacion</th>\n",
       "      <th>hogares</th>\n",
       "      <th>desocupado</th>\n",
       "      <th>0-14</th>\n",
       "      <th>65_mas</th>\n",
       "      <th>inicial</th>\n",
       "      <th>primario</th>\n",
       "      <th>egb</th>\n",
       "      <th>secundario</th>\n",
       "      <th>polimodal</th>\n",
       "      <th>superior</th>\n",
       "      <th>universitario</th>\n",
       "      <th>post_universitario</th>\n",
       "      <th>lee_y _esc</th>\n",
       "      <th>NoLee_ni_e</th>\n",
       "      <th>hacinamiento</th>\n",
       "      <th>sin_agua</th>\n",
       "      <th>sin_cloaca</th>\n",
       "      <th>densidad_comercial</th>\n",
       "      <th>index</th>\n",
       "    </tr>\n",
       "  </thead>\n",
       "  <tbody>\n",
       "    <tr>\n",
       "      <th>0</th>\n",
       "      <td>620.0</td>\n",
       "      <td>215.0</td>\n",
       "      <td>17.0</td>\n",
       "      <td>101.0</td>\n",
       "      <td>103.0</td>\n",
       "      <td>16.0</td>\n",
       "      <td>79.0</td>\n",
       "      <td>42.0</td>\n",
       "      <td>156.0</td>\n",
       "      <td>29.0</td>\n",
       "      <td>62.0</td>\n",
       "      <td>189.0</td>\n",
       "      <td>15.0</td>\n",
       "      <td>577.0</td>\n",
       "      <td>22.0</td>\n",
       "      <td>1.0</td>\n",
       "      <td>0.0</td>\n",
       "      <td>0.0</td>\n",
       "      <td>7.0</td>\n",
       "      <td>10.0</td>\n",
       "    </tr>\n",
       "    <tr>\n",
       "      <th>1</th>\n",
       "      <td>620.0</td>\n",
       "      <td>215.0</td>\n",
       "      <td>17.0</td>\n",
       "      <td>101.0</td>\n",
       "      <td>103.0</td>\n",
       "      <td>16.0</td>\n",
       "      <td>79.0</td>\n",
       "      <td>42.0</td>\n",
       "      <td>156.0</td>\n",
       "      <td>29.0</td>\n",
       "      <td>62.0</td>\n",
       "      <td>189.0</td>\n",
       "      <td>15.0</td>\n",
       "      <td>577.0</td>\n",
       "      <td>22.0</td>\n",
       "      <td>1.0</td>\n",
       "      <td>0.0</td>\n",
       "      <td>0.0</td>\n",
       "      <td>7.0</td>\n",
       "      <td>10.0</td>\n",
       "    </tr>\n",
       "    <tr>\n",
       "      <th>2</th>\n",
       "      <td>620.0</td>\n",
       "      <td>215.0</td>\n",
       "      <td>17.0</td>\n",
       "      <td>101.0</td>\n",
       "      <td>103.0</td>\n",
       "      <td>16.0</td>\n",
       "      <td>79.0</td>\n",
       "      <td>42.0</td>\n",
       "      <td>156.0</td>\n",
       "      <td>29.0</td>\n",
       "      <td>62.0</td>\n",
       "      <td>189.0</td>\n",
       "      <td>15.0</td>\n",
       "      <td>577.0</td>\n",
       "      <td>22.0</td>\n",
       "      <td>1.0</td>\n",
       "      <td>0.0</td>\n",
       "      <td>0.0</td>\n",
       "      <td>7.0</td>\n",
       "      <td>10.0</td>\n",
       "    </tr>\n",
       "    <tr>\n",
       "      <th>3</th>\n",
       "      <td>985.0</td>\n",
       "      <td>375.0</td>\n",
       "      <td>38.0</td>\n",
       "      <td>161.0</td>\n",
       "      <td>145.0</td>\n",
       "      <td>28.0</td>\n",
       "      <td>166.0</td>\n",
       "      <td>47.0</td>\n",
       "      <td>198.0</td>\n",
       "      <td>47.0</td>\n",
       "      <td>120.0</td>\n",
       "      <td>312.0</td>\n",
       "      <td>15.0</td>\n",
       "      <td>915.0</td>\n",
       "      <td>35.0</td>\n",
       "      <td>1.0</td>\n",
       "      <td>0.0</td>\n",
       "      <td>3.0</td>\n",
       "      <td>17.0</td>\n",
       "      <td>5.0</td>\n",
       "    </tr>\n",
       "    <tr>\n",
       "      <th>4</th>\n",
       "      <td>985.0</td>\n",
       "      <td>375.0</td>\n",
       "      <td>38.0</td>\n",
       "      <td>161.0</td>\n",
       "      <td>145.0</td>\n",
       "      <td>28.0</td>\n",
       "      <td>166.0</td>\n",
       "      <td>47.0</td>\n",
       "      <td>198.0</td>\n",
       "      <td>47.0</td>\n",
       "      <td>120.0</td>\n",
       "      <td>312.0</td>\n",
       "      <td>15.0</td>\n",
       "      <td>915.0</td>\n",
       "      <td>35.0</td>\n",
       "      <td>1.0</td>\n",
       "      <td>0.0</td>\n",
       "      <td>3.0</td>\n",
       "      <td>17.0</td>\n",
       "      <td>5.0</td>\n",
       "    </tr>\n",
       "  </tbody>\n",
       "</table>\n",
       "</div>"
      ],
      "text/plain": [
       "   poblacion  hogares  desocupado   0-14  65_mas  inicial  primario   egb  \\\n",
       "0      620.0    215.0        17.0  101.0   103.0     16.0      79.0  42.0   \n",
       "1      620.0    215.0        17.0  101.0   103.0     16.0      79.0  42.0   \n",
       "2      620.0    215.0        17.0  101.0   103.0     16.0      79.0  42.0   \n",
       "3      985.0    375.0        38.0  161.0   145.0     28.0     166.0  47.0   \n",
       "4      985.0    375.0        38.0  161.0   145.0     28.0     166.0  47.0   \n",
       "\n",
       "   secundario  polimodal  superior  universitario  post_universitario  \\\n",
       "0       156.0       29.0      62.0          189.0                15.0   \n",
       "1       156.0       29.0      62.0          189.0                15.0   \n",
       "2       156.0       29.0      62.0          189.0                15.0   \n",
       "3       198.0       47.0     120.0          312.0                15.0   \n",
       "4       198.0       47.0     120.0          312.0                15.0   \n",
       "\n",
       "   lee_y _esc  NoLee_ni_e  hacinamiento  sin_agua  sin_cloaca  \\\n",
       "0       577.0        22.0           1.0       0.0         0.0   \n",
       "1       577.0        22.0           1.0       0.0         0.0   \n",
       "2       577.0        22.0           1.0       0.0         0.0   \n",
       "3       915.0        35.0           1.0       0.0         3.0   \n",
       "4       915.0        35.0           1.0       0.0         3.0   \n",
       "\n",
       "   densidad_comercial  index  \n",
       "0                 7.0   10.0  \n",
       "1                 7.0   10.0  \n",
       "2                 7.0   10.0  \n",
       "3                17.0    5.0  \n",
       "4                17.0    5.0  "
      ]
     },
     "execution_count": 14,
     "metadata": {},
     "output_type": "execute_result"
    }
   ],
   "source": [
    "data_reduced = pd.DataFrame(fet_sel.transform(data), columns = data.columns[fet_sel.get_support()])\n",
    "data_reduced.head()"
   ]
  },
  {
   "cell_type": "code",
   "execution_count": 49,
   "id": "18cff29a",
   "metadata": {},
   "outputs": [
    {
     "data": {
      "text/html": [
       "<div>\n",
       "<style scoped>\n",
       "    .dataframe tbody tr th:only-of-type {\n",
       "        vertical-align: middle;\n",
       "    }\n",
       "\n",
       "    .dataframe tbody tr th {\n",
       "        vertical-align: top;\n",
       "    }\n",
       "\n",
       "    .dataframe thead th {\n",
       "        text-align: right;\n",
       "    }\n",
       "</style>\n",
       "<table border=\"1\" class=\"dataframe\">\n",
       "  <thead>\n",
       "    <tr style=\"text-align: right;\">\n",
       "      <th></th>\n",
       "      <th>F Score</th>\n",
       "      <th>P Value</th>\n",
       "      <th>Support</th>\n",
       "      <th>Attribute</th>\n",
       "    </tr>\n",
       "  </thead>\n",
       "  <tbody>\n",
       "    <tr>\n",
       "      <th>0</th>\n",
       "      <td>156.732990</td>\n",
       "      <td>5.934620e-33</td>\n",
       "      <td>True</td>\n",
       "      <td>CantidadNum</td>\n",
       "    </tr>\n",
       "    <tr>\n",
       "      <th>22</th>\n",
       "      <td>73.401047</td>\n",
       "      <td>5.447152e-17</td>\n",
       "      <td>True</td>\n",
       "      <td>index</td>\n",
       "    </tr>\n",
       "    <tr>\n",
       "      <th>7</th>\n",
       "      <td>58.089268</td>\n",
       "      <td>7.128363e-14</td>\n",
       "      <td>True</td>\n",
       "      <td>primario</td>\n",
       "    </tr>\n",
       "    <tr>\n",
       "      <th>9</th>\n",
       "      <td>48.068595</td>\n",
       "      <td>8.512895e-12</td>\n",
       "      <td>True</td>\n",
       "      <td>secundario</td>\n",
       "    </tr>\n",
       "    <tr>\n",
       "      <th>23</th>\n",
       "      <td>44.520215</td>\n",
       "      <td>4.713415e-11</td>\n",
       "      <td>True</td>\n",
       "      <td>Tipo de punto_Rulero</td>\n",
       "    </tr>\n",
       "    <tr>\n",
       "      <th>30</th>\n",
       "      <td>39.557552</td>\n",
       "      <td>5.250384e-10</td>\n",
       "      <td>True</td>\n",
       "      <td>microzonificacion_Residencial urbano</td>\n",
       "    </tr>\n",
       "    <tr>\n",
       "      <th>32</th>\n",
       "      <td>39.557552</td>\n",
       "      <td>5.250384e-10</td>\n",
       "      <td>True</td>\n",
       "      <td>macrozonificacion_Urbano</td>\n",
       "    </tr>\n",
       "    <tr>\n",
       "      <th>10</th>\n",
       "      <td>39.070934</td>\n",
       "      <td>6.657716e-10</td>\n",
       "      <td>True</td>\n",
       "      <td>polimodal</td>\n",
       "    </tr>\n",
       "    <tr>\n",
       "      <th>4</th>\n",
       "      <td>38.157761</td>\n",
       "      <td>1.040173e-09</td>\n",
       "      <td>True</td>\n",
       "      <td>0-14</td>\n",
       "    </tr>\n",
       "    <tr>\n",
       "      <th>3</th>\n",
       "      <td>37.479095</td>\n",
       "      <td>1.449870e-09</td>\n",
       "      <td>True</td>\n",
       "      <td>desocupado</td>\n",
       "    </tr>\n",
       "    <tr>\n",
       "      <th>15</th>\n",
       "      <td>35.237670</td>\n",
       "      <td>4.354552e-09</td>\n",
       "      <td>False</td>\n",
       "      <td>NoLee_ni_e</td>\n",
       "    </tr>\n",
       "    <tr>\n",
       "      <th>1</th>\n",
       "      <td>35.140031</td>\n",
       "      <td>4.568724e-09</td>\n",
       "      <td>False</td>\n",
       "      <td>poblacion</td>\n",
       "    </tr>\n",
       "    <tr>\n",
       "      <th>14</th>\n",
       "      <td>34.331387</td>\n",
       "      <td>6.801987e-09</td>\n",
       "      <td>False</td>\n",
       "      <td>lee_y _esc</td>\n",
       "    </tr>\n",
       "    <tr>\n",
       "      <th>6</th>\n",
       "      <td>24.919750</td>\n",
       "      <td>7.345611e-07</td>\n",
       "      <td>False</td>\n",
       "      <td>inicial</td>\n",
       "    </tr>\n",
       "    <tr>\n",
       "      <th>2</th>\n",
       "      <td>24.857493</td>\n",
       "      <td>7.579263e-07</td>\n",
       "      <td>False</td>\n",
       "      <td>hogares</td>\n",
       "    </tr>\n",
       "    <tr>\n",
       "      <th>21</th>\n",
       "      <td>22.999886</td>\n",
       "      <td>1.933851e-06</td>\n",
       "      <td>False</td>\n",
       "      <td>y</td>\n",
       "    </tr>\n",
       "    <tr>\n",
       "      <th>8</th>\n",
       "      <td>22.507347</td>\n",
       "      <td>2.481026e-06</td>\n",
       "      <td>False</td>\n",
       "      <td>egb</td>\n",
       "    </tr>\n",
       "    <tr>\n",
       "      <th>11</th>\n",
       "      <td>21.991212</td>\n",
       "      <td>3.222457e-06</td>\n",
       "      <td>False</td>\n",
       "      <td>superior</td>\n",
       "    </tr>\n",
       "    <tr>\n",
       "      <th>5</th>\n",
       "      <td>19.721663</td>\n",
       "      <td>1.022401e-05</td>\n",
       "      <td>False</td>\n",
       "      <td>65_mas</td>\n",
       "    </tr>\n",
       "    <tr>\n",
       "      <th>16</th>\n",
       "      <td>11.808842</td>\n",
       "      <td>6.200651e-04</td>\n",
       "      <td>False</td>\n",
       "      <td>hacinamiento</td>\n",
       "    </tr>\n",
       "    <tr>\n",
       "      <th>19</th>\n",
       "      <td>7.220581</td>\n",
       "      <td>7.357630e-03</td>\n",
       "      <td>False</td>\n",
       "      <td>densidad_comercial</td>\n",
       "    </tr>\n",
       "    <tr>\n",
       "      <th>24</th>\n",
       "      <td>5.948461</td>\n",
       "      <td>1.494767e-02</td>\n",
       "      <td>False</td>\n",
       "      <td>TipoResiduo_Papel</td>\n",
       "    </tr>\n",
       "    <tr>\n",
       "      <th>25</th>\n",
       "      <td>5.948461</td>\n",
       "      <td>1.494767e-02</td>\n",
       "      <td>False</td>\n",
       "      <td>TipoResiduo_Plástico</td>\n",
       "    </tr>\n",
       "    <tr>\n",
       "      <th>26</th>\n",
       "      <td>5.366125</td>\n",
       "      <td>2.078462e-02</td>\n",
       "      <td>False</td>\n",
       "      <td>TipoResiduo_Vidrio, Metal, Tetra</td>\n",
       "    </tr>\n",
       "    <tr>\n",
       "      <th>28</th>\n",
       "      <td>4.899315</td>\n",
       "      <td>2.715020e-02</td>\n",
       "      <td>False</td>\n",
       "      <td>microzonificacion_Comercial</td>\n",
       "    </tr>\n",
       "    <tr>\n",
       "      <th>27</th>\n",
       "      <td>3.170343</td>\n",
       "      <td>7.536802e-02</td>\n",
       "      <td>False</td>\n",
       "      <td>¿Se realiza recolección en el momento?_Sí</td>\n",
       "    </tr>\n",
       "    <tr>\n",
       "      <th>12</th>\n",
       "      <td>2.313558</td>\n",
       "      <td>1.286473e-01</td>\n",
       "      <td>False</td>\n",
       "      <td>universitario</td>\n",
       "    </tr>\n",
       "    <tr>\n",
       "      <th>18</th>\n",
       "      <td>1.725534</td>\n",
       "      <td>1.893608e-01</td>\n",
       "      <td>False</td>\n",
       "      <td>sin_cloaca</td>\n",
       "    </tr>\n",
       "    <tr>\n",
       "      <th>17</th>\n",
       "      <td>0.848290</td>\n",
       "      <td>3.573155e-01</td>\n",
       "      <td>False</td>\n",
       "      <td>sin_agua</td>\n",
       "    </tr>\n",
       "    <tr>\n",
       "      <th>29</th>\n",
       "      <td>0.281798</td>\n",
       "      <td>5.956732e-01</td>\n",
       "      <td>False</td>\n",
       "      <td>microzonificacion_Residencial suburbano</td>\n",
       "    </tr>\n",
       "    <tr>\n",
       "      <th>31</th>\n",
       "      <td>0.281798</td>\n",
       "      <td>5.956732e-01</td>\n",
       "      <td>False</td>\n",
       "      <td>macrozonificacion_Interfaz</td>\n",
       "    </tr>\n",
       "    <tr>\n",
       "      <th>13</th>\n",
       "      <td>0.195013</td>\n",
       "      <td>6.588964e-01</td>\n",
       "      <td>False</td>\n",
       "      <td>post_universitario</td>\n",
       "    </tr>\n",
       "    <tr>\n",
       "      <th>20</th>\n",
       "      <td>0.170440</td>\n",
       "      <td>6.798322e-01</td>\n",
       "      <td>False</td>\n",
       "      <td>x</td>\n",
       "    </tr>\n",
       "  </tbody>\n",
       "</table>\n",
       "</div>"
      ],
      "text/plain": [
       "       F Score       P Value  Support  \\\n",
       "0   156.732990  5.934620e-33     True   \n",
       "22   73.401047  5.447152e-17     True   \n",
       "7    58.089268  7.128363e-14     True   \n",
       "9    48.068595  8.512895e-12     True   \n",
       "23   44.520215  4.713415e-11     True   \n",
       "30   39.557552  5.250384e-10     True   \n",
       "32   39.557552  5.250384e-10     True   \n",
       "10   39.070934  6.657716e-10     True   \n",
       "4    38.157761  1.040173e-09     True   \n",
       "3    37.479095  1.449870e-09     True   \n",
       "15   35.237670  4.354552e-09    False   \n",
       "1    35.140031  4.568724e-09    False   \n",
       "14   34.331387  6.801987e-09    False   \n",
       "6    24.919750  7.345611e-07    False   \n",
       "2    24.857493  7.579263e-07    False   \n",
       "21   22.999886  1.933851e-06    False   \n",
       "8    22.507347  2.481026e-06    False   \n",
       "11   21.991212  3.222457e-06    False   \n",
       "5    19.721663  1.022401e-05    False   \n",
       "16   11.808842  6.200651e-04    False   \n",
       "19    7.220581  7.357630e-03    False   \n",
       "24    5.948461  1.494767e-02    False   \n",
       "25    5.948461  1.494767e-02    False   \n",
       "26    5.366125  2.078462e-02    False   \n",
       "28    4.899315  2.715020e-02    False   \n",
       "27    3.170343  7.536802e-02    False   \n",
       "12    2.313558  1.286473e-01    False   \n",
       "18    1.725534  1.893608e-01    False   \n",
       "17    0.848290  3.573155e-01    False   \n",
       "29    0.281798  5.956732e-01    False   \n",
       "31    0.281798  5.956732e-01    False   \n",
       "13    0.195013  6.588964e-01    False   \n",
       "20    0.170440  6.798322e-01    False   \n",
       "\n",
       "                                    Attribute  \n",
       "0                                 CantidadNum  \n",
       "22                                      index  \n",
       "7                                    primario  \n",
       "9                                  secundario  \n",
       "23                       Tipo de punto_Rulero  \n",
       "30       microzonificacion_Residencial urbano  \n",
       "32                   macrozonificacion_Urbano  \n",
       "10                                  polimodal  \n",
       "4                                        0-14  \n",
       "3                                  desocupado  \n",
       "15                                 NoLee_ni_e  \n",
       "1                                   poblacion  \n",
       "14                                 lee_y _esc  \n",
       "6                                     inicial  \n",
       "2                                     hogares  \n",
       "21                                          y  \n",
       "8                                         egb  \n",
       "11                                   superior  \n",
       "5                                      65_mas  \n",
       "16                               hacinamiento  \n",
       "19                         densidad_comercial  \n",
       "24                          TipoResiduo_Papel  \n",
       "25                       TipoResiduo_Plástico  \n",
       "26           TipoResiduo_Vidrio, Metal, Tetra  \n",
       "28                microzonificacion_Comercial  \n",
       "27  ¿Se realiza recolección en el momento?_Sí  \n",
       "12                              universitario  \n",
       "18                                 sin_cloaca  \n",
       "17                                   sin_agua  \n",
       "29    microzonificacion_Residencial suburbano  \n",
       "31                 macrozonificacion_Interfaz  \n",
       "13                         post_universitario  \n",
       "20                                          x  "
      ]
     },
     "execution_count": 49,
     "metadata": {},
     "output_type": "execute_result"
    }
   ],
   "source": [
    "from sklearn.feature_selection import SelectKBest, f_classif\n",
    "\n",
    "def select_kbest_reg(data_frame, target, k=2):\n",
    "    \"\"\"\n",
    "    Seleccionado K-Best features para regresión\n",
    "    :param data_frame: Un dataframe con datos\n",
    "    :param target: target en el dataframe\n",
    "    :param k: cantidad deseada de features\n",
    "    :devuelve un dataframe llamado feature_scores con los scores para cada feature\n",
    "    \"\"\"\n",
    "    feat_selector = SelectKBest(f_classif, k=k)    \n",
    "    _ = feat_selector.fit(data_frame.drop(target, axis=1), data_frame[target])\n",
    "    \n",
    "    feat_scores = pd.DataFrame()\n",
    "    feat_scores[\"F Score\"] = feat_selector.scores_\n",
    "    feat_scores[\"P Value\"] = feat_selector.pvalues_\n",
    "    feat_scores[\"Support\"] = feat_selector.get_support()\n",
    "    feat_scores[\"Attribute\"] = data_frame.drop(target, axis=1).columns\n",
    "    \n",
    "    return feat_scores\n",
    "\n",
    "kbest_feat = select_kbest_reg(data, \"Target_NoApto\", k=10)\n",
    "kbest_feat = kbest_feat.sort_values([\"F Score\", \"P Value\"], ascending=[False, False])\n",
    "kbest_feat"
   ]
  },
  {
   "cell_type": "code",
   "execution_count": 45,
   "id": "06a617f6",
   "metadata": {},
   "outputs": [
    {
     "name": "stdout",
     "output_type": "stream",
     "text": [
      "                               Attribute Name  Ranking  Support\n",
      "0                                 CantidadNum        1     True\n",
      "1                                   poblacion       19    False\n",
      "2                                     hogares       15    False\n",
      "3                                  desocupado       12    False\n",
      "4                                        0-14        1     True\n",
      "5                                      65_mas        1     True\n",
      "6                                     inicial        4    False\n",
      "7                                    primario       17    False\n",
      "8                                         egb        1     True\n",
      "9                                  secundario        1     True\n",
      "10                                  polimodal       10    False\n",
      "11                                   superior       11    False\n",
      "12                              universitario        9    False\n",
      "13                         post_universitario        1     True\n",
      "14                                 lee_y _esc       21    False\n",
      "15                                 NoLee_ni_e       13    False\n",
      "16                               hacinamiento        1     True\n",
      "17                                   sin_agua       14    False\n",
      "18                                 sin_cloaca        8    False\n",
      "19                         densidad_comercial        1     True\n",
      "20                                          x        6    False\n",
      "21                                          y        7    False\n",
      "22                                      index        1     True\n",
      "23                       Tipo de punto_Rulero       16    False\n",
      "24                          TipoResiduo_Papel        1     True\n",
      "25                       TipoResiduo_Plástico        5    False\n",
      "26           TipoResiduo_Vidrio, Metal, Tetra        2    False\n",
      "27  ¿Se realiza recolección en el momento?_Sí        3    False\n",
      "28                microzonificacion_Comercial       18    False\n",
      "29    microzonificacion_Residencial suburbano       20    False\n",
      "30       microzonificacion_Residencial urbano       22    False\n",
      "31                 macrozonificacion_Interfaz       23    False\n",
      "32                   macrozonificacion_Urbano       24    False\n"
     ]
    }
   ],
   "source": [
    "from sklearn.feature_selection import RFE\n",
    "\n",
    "X_train, X_test, y_train, y_test = train_test_split(data.drop('Target_NoApto',axis = 1),data['Target_NoApto'])\n",
    "\n",
    "estimator = tree.DecisionTreeClassifier()\n",
    "selector = RFE(estimator, n_features_to_select=10, step = 1)\n",
    "_ = selector.fit(X_train, y_train)\n",
    "\n",
    "scores = pd.DataFrame()\n",
    "scores[\"Attribute Name\"] = data.drop('Target_NoApto',axis = 1).columns\n",
    "scores[\"Ranking\"] = selector.ranking_\n",
    "scores[\"Support\"] = selector.support_\n",
    "\n",
    "print(scores)"
   ]
  },
  {
   "cell_type": "code",
   "execution_count": 5,
   "id": "1ab930ed",
   "metadata": {},
   "outputs": [],
   "source": [
    "#Generamos el x y el target\n",
    "\n",
    "X= data.drop('Target_NoApto', axis=1)\n",
    "y= data['Target_NoApto']"
   ]
  },
  {
   "cell_type": "code",
   "execution_count": 11,
   "id": "544032ca",
   "metadata": {},
   "outputs": [
    {
     "name": "stdout",
     "output_type": "stream",
     "text": [
      "Chequeamos tamaños:\n",
      "\n",
      "Tamaño del train: (598, 33) (598,) En %:  0.7493734335839599\n",
      "Tamaño del test:  (200, 33) (200,) En %:  0.2506265664160401\n",
      "\n",
      "Chequeamos stratify:\n",
      "\n",
      "1    0.690635\n",
      "0    0.309365\n",
      "Name: Target_NoApto, dtype: float64\n",
      "1    0.69\n",
      "0    0.31\n",
      "Name: Target_NoApto, dtype: float64\n"
     ]
    }
   ],
   "source": [
    "#Hacemos el train_test_split\n",
    "X_train, X_test, y_train, y_test = train_test_split(X,y, test_size= 0.25, stratify=y, random_state= 99)\n",
    "\n",
    "#Resultados\n",
    "print('Chequeamos tamaños:')\n",
    "print('')\n",
    "print('Tamaño del train:', X_train.shape, y_train.shape, 'En %: ', X_train.shape[0]/X.shape[0])\n",
    "print('Tamaño del test: ', X_test.shape, y_test.shape, 'En %: ', X_test.shape[0]/X.shape[0] )\n",
    "print('')\n",
    "print('Chequeamos stratify:')\n",
    "print('')\n",
    "print(y_train.value_counts()/y_train.shape[0])\n",
    "print(y_test.value_counts()/y_test.shape[0])"
   ]
  },
  {
   "cell_type": "code",
   "execution_count": 7,
   "id": "0081611b",
   "metadata": {},
   "outputs": [],
   "source": [
    "#Reescalamos la variable X\n",
    "#Scaler = MinMaxScaler()\n",
    "#X_train = Scaler.fit_transform(X_train)\n",
    "#X_test = Scaler.fit_transform(X_test)"
   ]
  },
  {
   "cell_type": "markdown",
   "id": "7bbe4d4b",
   "metadata": {},
   "source": [
    "Quizás podemos utilizar las herramientas de undersampling / oversampling para homogeneizar las etiquetas"
   ]
  },
  {
   "cell_type": "code",
   "execution_count": 14,
   "id": "6a09e77f",
   "metadata": {},
   "outputs": [],
   "source": [
    "#Inicializamos el modelo\n",
    "clftree = tree.DecisionTreeClassifier()"
   ]
  },
  {
   "cell_type": "code",
   "execution_count": 15,
   "id": "d10d8ab3",
   "metadata": {},
   "outputs": [],
   "source": [
    "#Hagamos un GridSearch con esta grilla\n",
    "params_grid = { \"criterion\" : [\"gini\", \"entropy\"],\n",
    "                \"min_samples_leaf\": [5,10,15,20,None], \n",
    "                \"max_depth\" : [1,2,3,4,5,6,8,9,10,11,12,13,14,None],\n",
    "                \"min_samples_split\": [2, 3, 4,None]}"
   ]
  },
  {
   "cell_type": "code",
   "execution_count": 16,
   "id": "d54e1177",
   "metadata": {},
   "outputs": [],
   "source": [
    "grid_search = GridSearchCV(clftree, params_grid,\n",
    "                           n_jobs=-1, scoring='accuracy', cv= 10)"
   ]
  },
  {
   "cell_type": "code",
   "execution_count": 30,
   "id": "adf30c61",
   "metadata": {},
   "outputs": [
    {
     "data": {
      "text/plain": [
       "GridSearchCV(cv=10, estimator=DecisionTreeClassifier(), n_jobs=-1,\n",
       "             param_grid={'criterion': ['gini', 'entropy'],\n",
       "                         'max_depth': [1, 2, 3, 4, 5, 6, 8, 9, 10, 11, 12, 13,\n",
       "                                       14, None],\n",
       "                         'min_samples_leaf': [5, 10, 15, 20, None],\n",
       "                         'min_samples_split': [2, 3, 4, None]},\n",
       "             scoring='accuracy')"
      ]
     },
     "execution_count": 30,
     "metadata": {},
     "output_type": "execute_result"
    }
   ],
   "source": [
    "grid_search.fit(X_train, y_train)"
   ]
  },
  {
   "cell_type": "code",
   "execution_count": 31,
   "id": "8394e54d",
   "metadata": {},
   "outputs": [
    {
     "data": {
      "text/plain": [
       "{'criterion': 'entropy',\n",
       " 'max_depth': 3,\n",
       " 'min_samples_leaf': 5,\n",
       " 'min_samples_split': 2}"
      ]
     },
     "execution_count": 31,
     "metadata": {},
     "output_type": "execute_result"
    }
   ],
   "source": [
    "grid_search.best_params_"
   ]
  },
  {
   "cell_type": "code",
   "execution_count": 32,
   "id": "87158b87",
   "metadata": {},
   "outputs": [
    {
     "data": {
      "text/plain": [
       "DecisionTreeClassifier(criterion='entropy', max_depth=3, min_samples_leaf=5)"
      ]
     },
     "execution_count": 32,
     "metadata": {},
     "output_type": "execute_result"
    }
   ],
   "source": [
    "cv_clf = grid_search.best_estimator_\n",
    "cv_clf"
   ]
  },
  {
   "cell_type": "code",
   "execution_count": 34,
   "id": "ef02ea76",
   "metadata": {},
   "outputs": [
    {
     "data": {
      "text/html": [
       "<div>\n",
       "<style scoped>\n",
       "    .dataframe tbody tr th:only-of-type {\n",
       "        vertical-align: middle;\n",
       "    }\n",
       "\n",
       "    .dataframe tbody tr th {\n",
       "        vertical-align: top;\n",
       "    }\n",
       "\n",
       "    .dataframe thead th {\n",
       "        text-align: right;\n",
       "    }\n",
       "</style>\n",
       "<table border=\"1\" class=\"dataframe\">\n",
       "  <thead>\n",
       "    <tr style=\"text-align: right;\">\n",
       "      <th></th>\n",
       "      <th>atributo</th>\n",
       "      <th>importancia</th>\n",
       "    </tr>\n",
       "  </thead>\n",
       "  <tbody>\n",
       "    <tr>\n",
       "      <th>0</th>\n",
       "      <td>CantidadNum</td>\n",
       "      <td>0.767567</td>\n",
       "    </tr>\n",
       "    <tr>\n",
       "      <th>15</th>\n",
       "      <td>index</td>\n",
       "      <td>0.116273</td>\n",
       "    </tr>\n",
       "    <tr>\n",
       "      <th>5</th>\n",
       "      <td>primario</td>\n",
       "      <td>0.116160</td>\n",
       "    </tr>\n",
       "    <tr>\n",
       "      <th>11</th>\n",
       "      <td>sin_cloaca</td>\n",
       "      <td>0.000000</td>\n",
       "    </tr>\n",
       "    <tr>\n",
       "      <th>18</th>\n",
       "      <td>TipoResiduo_Vidrio, Metal, Tetra</td>\n",
       "      <td>0.000000</td>\n",
       "    </tr>\n",
       "    <tr>\n",
       "      <th>17</th>\n",
       "      <td>TipoResiduo_Plástico</td>\n",
       "      <td>0.000000</td>\n",
       "    </tr>\n",
       "    <tr>\n",
       "      <th>16</th>\n",
       "      <td>TipoResiduo_Papel</td>\n",
       "      <td>0.000000</td>\n",
       "    </tr>\n",
       "    <tr>\n",
       "      <th>14</th>\n",
       "      <td>y</td>\n",
       "      <td>0.000000</td>\n",
       "    </tr>\n",
       "    <tr>\n",
       "      <th>13</th>\n",
       "      <td>x</td>\n",
       "      <td>0.000000</td>\n",
       "    </tr>\n",
       "    <tr>\n",
       "      <th>12</th>\n",
       "      <td>densidad_comercial</td>\n",
       "      <td>0.000000</td>\n",
       "    </tr>\n",
       "    <tr>\n",
       "      <th>10</th>\n",
       "      <td>hacinamiento</td>\n",
       "      <td>0.000000</td>\n",
       "    </tr>\n",
       "    <tr>\n",
       "      <th>1</th>\n",
       "      <td>desocupado</td>\n",
       "      <td>0.000000</td>\n",
       "    </tr>\n",
       "    <tr>\n",
       "      <th>9</th>\n",
       "      <td>lee_y _esc</td>\n",
       "      <td>0.000000</td>\n",
       "    </tr>\n",
       "    <tr>\n",
       "      <th>8</th>\n",
       "      <td>universitario</td>\n",
       "      <td>0.000000</td>\n",
       "    </tr>\n",
       "    <tr>\n",
       "      <th>7</th>\n",
       "      <td>polimodal</td>\n",
       "      <td>0.000000</td>\n",
       "    </tr>\n",
       "    <tr>\n",
       "      <th>6</th>\n",
       "      <td>egb</td>\n",
       "      <td>0.000000</td>\n",
       "    </tr>\n",
       "    <tr>\n",
       "      <th>4</th>\n",
       "      <td>inicial</td>\n",
       "      <td>0.000000</td>\n",
       "    </tr>\n",
       "    <tr>\n",
       "      <th>3</th>\n",
       "      <td>65_mas</td>\n",
       "      <td>0.000000</td>\n",
       "    </tr>\n",
       "    <tr>\n",
       "      <th>2</th>\n",
       "      <td>0-14</td>\n",
       "      <td>0.000000</td>\n",
       "    </tr>\n",
       "    <tr>\n",
       "      <th>19</th>\n",
       "      <td>¿Se realiza recolección en el momento?_Sí</td>\n",
       "      <td>0.000000</td>\n",
       "    </tr>\n",
       "  </tbody>\n",
       "</table>\n",
       "</div>"
      ],
      "text/plain": [
       "                                     atributo  importancia\n",
       "0                                 CantidadNum     0.767567\n",
       "15                                      index     0.116273\n",
       "5                                    primario     0.116160\n",
       "11                                 sin_cloaca     0.000000\n",
       "18           TipoResiduo_Vidrio, Metal, Tetra     0.000000\n",
       "17                       TipoResiduo_Plástico     0.000000\n",
       "16                          TipoResiduo_Papel     0.000000\n",
       "14                                          y     0.000000\n",
       "13                                          x     0.000000\n",
       "12                         densidad_comercial     0.000000\n",
       "10                               hacinamiento     0.000000\n",
       "1                                  desocupado     0.000000\n",
       "9                                  lee_y _esc     0.000000\n",
       "8                               universitario     0.000000\n",
       "7                                   polimodal     0.000000\n",
       "6                                         egb     0.000000\n",
       "4                                     inicial     0.000000\n",
       "3                                      65_mas     0.000000\n",
       "2                                        0-14     0.000000\n",
       "19  ¿Se realiza recolección en el momento?_Sí     0.000000"
      ]
     },
     "execution_count": 34,
     "metadata": {},
     "output_type": "execute_result"
    }
   ],
   "source": [
    "pd.DataFrame({'atributo':X.columns, 'importancia':cv_clf.feature_importances_}).sort_values('importancia', ascending = False)"
   ]
  },
  {
   "cell_type": "code",
   "execution_count": 33,
   "id": "c5288c39",
   "metadata": {},
   "outputs": [
    {
     "data": {
      "text/plain": [
       "0.72"
      ]
     },
     "execution_count": 33,
     "metadata": {},
     "output_type": "execute_result"
    }
   ],
   "source": [
    "#Score para el test\n",
    "accuracy_score(y_test, cv_clf.predict(X_test))"
   ]
  },
  {
   "cell_type": "code",
   "execution_count": 35,
   "id": "cf26a6f5",
   "metadata": {},
   "outputs": [
    {
     "data": {
      "image/png": "[encoded data removed]",
      "text/plain": [
       "<Figure size 432x288 with 2 Axes>"
      ]
     },
     "metadata": {
      "needs_background": "light"
     },
     "output_type": "display_data"
    }
   ],
   "source": [
    "#Matriz de confusion\n",
    "cf_matrix= confusion_matrix(y_test, cv_clf.predict(X_test))\n",
    "\n",
    "ax = sns.heatmap(cf_matrix, annot=True, cmap='Blues')\n",
    "\n",
    "ax.set_title('Seaborn Confusion Matrix with labels\\n\\n');\n",
    "ax.set_xlabel('\\nPredicted Values')\n",
    "ax.set_ylabel('Actual Values ');\n",
    "\n",
    "## Ticket labels - List must be in alphabetical order\n",
    "ax.xaxis.set_ticklabels(['False','True'])\n",
    "ax.yaxis.set_ticklabels(['False','True'])\n",
    "\n",
    "## Display the visualization of the Confusion Matrix.\n",
    "plt.show()"
   ]
  },
  {
   "cell_type": "code",
   "execution_count": 38,
   "id": "20191127",
   "metadata": {},
   "outputs": [
    {
     "data": {
      "image/png": "[encoded data removed]",
      "text/plain": [
       "<IPython.core.display.Image object>"
      ]
     },
     "execution_count": 38,
     "metadata": {},
     "output_type": "execute_result"
    }
   ],
   "source": [
    "#Visualizamos el árbol\n",
    "dot_data = tree.export_graphviz(cv_clf, out_file=None,feature_names= X.columns, filled = True)\n",
    "graph2 = pydotplus.graph_from_dot_data(dot_data)\n",
    "Image(graph2.create_png())"
   ]
  },
  {
   "cell_type": "markdown",
   "id": "a1b5102f",
   "metadata": {},
   "source": [
    "Oversampling con SMOTE"
   ]
  },
  {
   "cell_type": "code",
   "execution_count": 3,
   "id": "ae28335a",
   "metadata": {},
   "outputs": [],
   "source": [
    "#Traemos el DataFrame sin dummies\n",
    "data_sindummies = pd.read_csv('PVR_train_test_sindummies.csv')"
   ]
  },
  {
   "cell_type": "code",
   "execution_count": 4,
   "id": "a0bbc920",
   "metadata": {},
   "outputs": [
    {
     "data": {
      "text/html": [
       "<div>\n",
       "<style scoped>\n",
       "    .dataframe tbody tr th:only-of-type {\n",
       "        vertical-align: middle;\n",
       "    }\n",
       "\n",
       "    .dataframe tbody tr th {\n",
       "        vertical-align: top;\n",
       "    }\n",
       "\n",
       "    .dataframe thead th {\n",
       "        text-align: right;\n",
       "    }\n",
       "</style>\n",
       "<table border=\"1\" class=\"dataframe\">\n",
       "  <thead>\n",
       "    <tr style=\"text-align: right;\">\n",
       "      <th></th>\n",
       "      <th>Tipo de punto</th>\n",
       "      <th>Target</th>\n",
       "      <th>TipoResiduo</th>\n",
       "      <th>CantidadNum</th>\n",
       "      <th>¿Se realiza recolección en el momento?</th>\n",
       "      <th>poblacion</th>\n",
       "      <th>hogares</th>\n",
       "      <th>desocupado</th>\n",
       "      <th>0-14</th>\n",
       "      <th>65_mas</th>\n",
       "      <th>...</th>\n",
       "      <th>NoLee_ni_e</th>\n",
       "      <th>hacinamiento</th>\n",
       "      <th>sin_agua</th>\n",
       "      <th>sin_cloaca</th>\n",
       "      <th>densidad_comercial</th>\n",
       "      <th>microzonificacion</th>\n",
       "      <th>macrozonificacion</th>\n",
       "      <th>x</th>\n",
       "      <th>y</th>\n",
       "      <th>index</th>\n",
       "    </tr>\n",
       "  </thead>\n",
       "  <tbody>\n",
       "    <tr>\n",
       "      <th>0</th>\n",
       "      <td>Punto Verde</td>\n",
       "      <td>Apto</td>\n",
       "      <td>Papel</td>\n",
       "      <td>2.0</td>\n",
       "      <td>Sí</td>\n",
       "      <td>620.0</td>\n",
       "      <td>215.0</td>\n",
       "      <td>17.0</td>\n",
       "      <td>101.0</td>\n",
       "      <td>103.0</td>\n",
       "      <td>...</td>\n",
       "      <td>22.0</td>\n",
       "      <td>1.0</td>\n",
       "      <td>0.0</td>\n",
       "      <td>0.0</td>\n",
       "      <td>7.0</td>\n",
       "      <td>Residencial urbano</td>\n",
       "      <td>Urbano</td>\n",
       "      <td>-68.85207</td>\n",
       "      <td>-32.87347</td>\n",
       "      <td>10.0</td>\n",
       "    </tr>\n",
       "    <tr>\n",
       "      <th>1</th>\n",
       "      <td>Punto Verde</td>\n",
       "      <td>Apto</td>\n",
       "      <td>Vidrio, Metal, Tetra</td>\n",
       "      <td>2.0</td>\n",
       "      <td>Sí</td>\n",
       "      <td>620.0</td>\n",
       "      <td>215.0</td>\n",
       "      <td>17.0</td>\n",
       "      <td>101.0</td>\n",
       "      <td>103.0</td>\n",
       "      <td>...</td>\n",
       "      <td>22.0</td>\n",
       "      <td>1.0</td>\n",
       "      <td>0.0</td>\n",
       "      <td>0.0</td>\n",
       "      <td>7.0</td>\n",
       "      <td>Residencial urbano</td>\n",
       "      <td>Urbano</td>\n",
       "      <td>-68.85207</td>\n",
       "      <td>-32.87347</td>\n",
       "      <td>10.0</td>\n",
       "    </tr>\n",
       "    <tr>\n",
       "      <th>2</th>\n",
       "      <td>Punto Verde</td>\n",
       "      <td>Apto</td>\n",
       "      <td>Plástico</td>\n",
       "      <td>2.0</td>\n",
       "      <td>Sí</td>\n",
       "      <td>620.0</td>\n",
       "      <td>215.0</td>\n",
       "      <td>17.0</td>\n",
       "      <td>101.0</td>\n",
       "      <td>103.0</td>\n",
       "      <td>...</td>\n",
       "      <td>22.0</td>\n",
       "      <td>1.0</td>\n",
       "      <td>0.0</td>\n",
       "      <td>0.0</td>\n",
       "      <td>7.0</td>\n",
       "      <td>Residencial urbano</td>\n",
       "      <td>Urbano</td>\n",
       "      <td>-68.85207</td>\n",
       "      <td>-32.87347</td>\n",
       "      <td>10.0</td>\n",
       "    </tr>\n",
       "    <tr>\n",
       "      <th>3</th>\n",
       "      <td>Punto Verde</td>\n",
       "      <td>Apto</td>\n",
       "      <td>Papel</td>\n",
       "      <td>3.0</td>\n",
       "      <td>Sí</td>\n",
       "      <td>985.0</td>\n",
       "      <td>375.0</td>\n",
       "      <td>38.0</td>\n",
       "      <td>161.0</td>\n",
       "      <td>145.0</td>\n",
       "      <td>...</td>\n",
       "      <td>35.0</td>\n",
       "      <td>1.0</td>\n",
       "      <td>0.0</td>\n",
       "      <td>3.0</td>\n",
       "      <td>17.0</td>\n",
       "      <td>Residencial urbano</td>\n",
       "      <td>Urbano</td>\n",
       "      <td>-68.84756</td>\n",
       "      <td>-32.87072</td>\n",
       "      <td>5.0</td>\n",
       "    </tr>\n",
       "    <tr>\n",
       "      <th>4</th>\n",
       "      <td>Punto Verde</td>\n",
       "      <td>Apto</td>\n",
       "      <td>Vidrio, Metal, Tetra</td>\n",
       "      <td>3.0</td>\n",
       "      <td>Sí</td>\n",
       "      <td>985.0</td>\n",
       "      <td>375.0</td>\n",
       "      <td>38.0</td>\n",
       "      <td>161.0</td>\n",
       "      <td>145.0</td>\n",
       "      <td>...</td>\n",
       "      <td>35.0</td>\n",
       "      <td>1.0</td>\n",
       "      <td>0.0</td>\n",
       "      <td>3.0</td>\n",
       "      <td>17.0</td>\n",
       "      <td>Residencial urbano</td>\n",
       "      <td>Urbano</td>\n",
       "      <td>-68.84756</td>\n",
       "      <td>-32.87072</td>\n",
       "      <td>5.0</td>\n",
       "    </tr>\n",
       "    <tr>\n",
       "      <th>...</th>\n",
       "      <td>...</td>\n",
       "      <td>...</td>\n",
       "      <td>...</td>\n",
       "      <td>...</td>\n",
       "      <td>...</td>\n",
       "      <td>...</td>\n",
       "      <td>...</td>\n",
       "      <td>...</td>\n",
       "      <td>...</td>\n",
       "      <td>...</td>\n",
       "      <td>...</td>\n",
       "      <td>...</td>\n",
       "      <td>...</td>\n",
       "      <td>...</td>\n",
       "      <td>...</td>\n",
       "      <td>...</td>\n",
       "      <td>...</td>\n",
       "      <td>...</td>\n",
       "      <td>...</td>\n",
       "      <td>...</td>\n",
       "      <td>...</td>\n",
       "    </tr>\n",
       "    <tr>\n",
       "      <th>793</th>\n",
       "      <td>Rulero</td>\n",
       "      <td>NoApto</td>\n",
       "      <td>PET</td>\n",
       "      <td>1.0</td>\n",
       "      <td>Sí</td>\n",
       "      <td>528.0</td>\n",
       "      <td>188.0</td>\n",
       "      <td>11.0</td>\n",
       "      <td>87.0</td>\n",
       "      <td>102.0</td>\n",
       "      <td>...</td>\n",
       "      <td>16.0</td>\n",
       "      <td>0.0</td>\n",
       "      <td>0.0</td>\n",
       "      <td>0.0</td>\n",
       "      <td>10.0</td>\n",
       "      <td>Residencial urbano</td>\n",
       "      <td>Urbano</td>\n",
       "      <td>-68.84837</td>\n",
       "      <td>-32.90143</td>\n",
       "      <td>70.0</td>\n",
       "    </tr>\n",
       "    <tr>\n",
       "      <th>794</th>\n",
       "      <td>Rulero</td>\n",
       "      <td>NoApto</td>\n",
       "      <td>PET</td>\n",
       "      <td>1.0</td>\n",
       "      <td>Sí</td>\n",
       "      <td>528.0</td>\n",
       "      <td>188.0</td>\n",
       "      <td>11.0</td>\n",
       "      <td>87.0</td>\n",
       "      <td>102.0</td>\n",
       "      <td>...</td>\n",
       "      <td>16.0</td>\n",
       "      <td>0.0</td>\n",
       "      <td>0.0</td>\n",
       "      <td>0.0</td>\n",
       "      <td>10.0</td>\n",
       "      <td>Residencial urbano</td>\n",
       "      <td>Urbano</td>\n",
       "      <td>-68.84837</td>\n",
       "      <td>-32.90143</td>\n",
       "      <td>70.0</td>\n",
       "    </tr>\n",
       "    <tr>\n",
       "      <th>795</th>\n",
       "      <td>Rulero</td>\n",
       "      <td>NoApto</td>\n",
       "      <td>PET</td>\n",
       "      <td>1.0</td>\n",
       "      <td>Sí</td>\n",
       "      <td>528.0</td>\n",
       "      <td>188.0</td>\n",
       "      <td>11.0</td>\n",
       "      <td>87.0</td>\n",
       "      <td>102.0</td>\n",
       "      <td>...</td>\n",
       "      <td>16.0</td>\n",
       "      <td>0.0</td>\n",
       "      <td>0.0</td>\n",
       "      <td>0.0</td>\n",
       "      <td>10.0</td>\n",
       "      <td>Residencial urbano</td>\n",
       "      <td>Urbano</td>\n",
       "      <td>-68.84837</td>\n",
       "      <td>-32.90143</td>\n",
       "      <td>70.0</td>\n",
       "    </tr>\n",
       "    <tr>\n",
       "      <th>796</th>\n",
       "      <td>Rulero</td>\n",
       "      <td>NoApto</td>\n",
       "      <td>PET</td>\n",
       "      <td>1.0</td>\n",
       "      <td>Sí</td>\n",
       "      <td>528.0</td>\n",
       "      <td>188.0</td>\n",
       "      <td>11.0</td>\n",
       "      <td>87.0</td>\n",
       "      <td>102.0</td>\n",
       "      <td>...</td>\n",
       "      <td>16.0</td>\n",
       "      <td>0.0</td>\n",
       "      <td>0.0</td>\n",
       "      <td>0.0</td>\n",
       "      <td>10.0</td>\n",
       "      <td>Residencial urbano</td>\n",
       "      <td>Urbano</td>\n",
       "      <td>-68.84837</td>\n",
       "      <td>-32.90143</td>\n",
       "      <td>70.0</td>\n",
       "    </tr>\n",
       "    <tr>\n",
       "      <th>797</th>\n",
       "      <td>Rulero</td>\n",
       "      <td>NoApto</td>\n",
       "      <td>PET</td>\n",
       "      <td>1.0</td>\n",
       "      <td>Sí</td>\n",
       "      <td>528.0</td>\n",
       "      <td>188.0</td>\n",
       "      <td>11.0</td>\n",
       "      <td>87.0</td>\n",
       "      <td>102.0</td>\n",
       "      <td>...</td>\n",
       "      <td>16.0</td>\n",
       "      <td>0.0</td>\n",
       "      <td>0.0</td>\n",
       "      <td>0.0</td>\n",
       "      <td>10.0</td>\n",
       "      <td>Residencial urbano</td>\n",
       "      <td>Urbano</td>\n",
       "      <td>-68.84837</td>\n",
       "      <td>-32.90143</td>\n",
       "      <td>70.0</td>\n",
       "    </tr>\n",
       "  </tbody>\n",
       "</table>\n",
       "<p>798 rows × 29 columns</p>\n",
       "</div>"
      ],
      "text/plain": [
       "    Tipo de punto  Target           TipoResiduo  CantidadNum  \\\n",
       "0     Punto Verde    Apto                 Papel          2.0   \n",
       "1     Punto Verde    Apto  Vidrio, Metal, Tetra          2.0   \n",
       "2     Punto Verde    Apto              Plástico          2.0   \n",
       "3     Punto Verde    Apto                 Papel          3.0   \n",
       "4     Punto Verde    Apto  Vidrio, Metal, Tetra          3.0   \n",
       "..            ...     ...                   ...          ...   \n",
       "793        Rulero  NoApto                   PET          1.0   \n",
       "794        Rulero  NoApto                   PET          1.0   \n",
       "795        Rulero  NoApto                   PET          1.0   \n",
       "796        Rulero  NoApto                   PET          1.0   \n",
       "797        Rulero  NoApto                   PET          1.0   \n",
       "\n",
       "    ¿Se realiza recolección en el momento?  poblacion  hogares  desocupado  \\\n",
       "0                                       Sí      620.0    215.0        17.0   \n",
       "1                                       Sí      620.0    215.0        17.0   \n",
       "2                                       Sí      620.0    215.0        17.0   \n",
       "3                                       Sí      985.0    375.0        38.0   \n",
       "4                                       Sí      985.0    375.0        38.0   \n",
       "..                                     ...        ...      ...         ...   \n",
       "793                                     Sí      528.0    188.0        11.0   \n",
       "794                                     Sí      528.0    188.0        11.0   \n",
       "795                                     Sí      528.0    188.0        11.0   \n",
       "796                                     Sí      528.0    188.0        11.0   \n",
       "797                                     Sí      528.0    188.0        11.0   \n",
       "\n",
       "      0-14  65_mas  ...  NoLee_ni_e  hacinamiento  sin_agua  sin_cloaca  \\\n",
       "0    101.0   103.0  ...        22.0           1.0       0.0         0.0   \n",
       "1    101.0   103.0  ...        22.0           1.0       0.0         0.0   \n",
       "2    101.0   103.0  ...        22.0           1.0       0.0         0.0   \n",
       "3    161.0   145.0  ...        35.0           1.0       0.0         3.0   \n",
       "4    161.0   145.0  ...        35.0           1.0       0.0         3.0   \n",
       "..     ...     ...  ...         ...           ...       ...         ...   \n",
       "793   87.0   102.0  ...        16.0           0.0       0.0         0.0   \n",
       "794   87.0   102.0  ...        16.0           0.0       0.0         0.0   \n",
       "795   87.0   102.0  ...        16.0           0.0       0.0         0.0   \n",
       "796   87.0   102.0  ...        16.0           0.0       0.0         0.0   \n",
       "797   87.0   102.0  ...        16.0           0.0       0.0         0.0   \n",
       "\n",
       "     densidad_comercial   microzonificacion  macrozonificacion         x  \\\n",
       "0                   7.0  Residencial urbano             Urbano -68.85207   \n",
       "1                   7.0  Residencial urbano             Urbano -68.85207   \n",
       "2                   7.0  Residencial urbano             Urbano -68.85207   \n",
       "3                  17.0  Residencial urbano             Urbano -68.84756   \n",
       "4                  17.0  Residencial urbano             Urbano -68.84756   \n",
       "..                  ...                 ...                ...       ...   \n",
       "793                10.0  Residencial urbano             Urbano -68.84837   \n",
       "794                10.0  Residencial urbano             Urbano -68.84837   \n",
       "795                10.0  Residencial urbano             Urbano -68.84837   \n",
       "796                10.0  Residencial urbano             Urbano -68.84837   \n",
       "797                10.0  Residencial urbano             Urbano -68.84837   \n",
       "\n",
       "            y  index  \n",
       "0   -32.87347   10.0  \n",
       "1   -32.87347   10.0  \n",
       "2   -32.87347   10.0  \n",
       "3   -32.87072    5.0  \n",
       "4   -32.87072    5.0  \n",
       "..        ...    ...  \n",
       "793 -32.90143   70.0  \n",
       "794 -32.90143   70.0  \n",
       "795 -32.90143   70.0  \n",
       "796 -32.90143   70.0  \n",
       "797 -32.90143   70.0  \n",
       "\n",
       "[798 rows x 29 columns]"
      ]
     },
     "execution_count": 4,
     "metadata": {},
     "output_type": "execute_result"
    }
   ],
   "source": [
    "data_sindummies"
   ]
  },
  {
   "cell_type": "code",
   "execution_count": 6,
   "id": "e4fbdd23",
   "metadata": {},
   "outputs": [],
   "source": [
    "#Hacemos el train_test_split con las variables categóricas\n",
    "X_train_cat, X_test_cat, y_train, y_test = train_test_split(data_sindummies.drop('Target', axis=1), data_sindummies['Target'], stratify = data_sindummies['Target']\n",
    "                                                           ,random_state= 99)"
   ]
  },
  {
   "cell_type": "code",
   "execution_count": 7,
   "id": "80d1a3f8",
   "metadata": {},
   "outputs": [],
   "source": [
    "from imblearn.over_sampling import SMOTENC"
   ]
  },
  {
   "cell_type": "code",
   "execution_count": 8,
   "id": "15225226",
   "metadata": {},
   "outputs": [],
   "source": [
    "categorical_cols=(X_train_cat.dtypes=='object').values\n",
    "numerical_cols= ~categorical_cols\n",
    "\n",
    "sm=SMOTENC(categorical_features=categorical_cols,k_neighbors=5,random_state=0)\n",
    "X_train_sm,y_train_sm=sm.fit_resample(X_train_cat,y_train)"
   ]
  },
  {
   "cell_type": "code",
   "execution_count": 9,
   "id": "557f495c",
   "metadata": {},
   "outputs": [
    {
     "name": "stdout",
     "output_type": "stream",
     "text": [
      "Balance de clases:\n",
      "Apto      413\n",
      "NoApto    413\n",
      "Name: Target, dtype: int64\n"
     ]
    }
   ],
   "source": [
    "print('Balance de clases:')\n",
    "print(y_train_sm.value_counts(normalize=False))"
   ]
  },
  {
   "cell_type": "code",
   "execution_count": 12,
   "id": "8e7364ab",
   "metadata": {},
   "outputs": [
    {
     "name": "stdout",
     "output_type": "stream",
     "text": [
      "(826, 33)\n",
      "(200, 33)\n"
     ]
    }
   ],
   "source": [
    "enc=OneHotEncoder(drop='first',sparse=False)\n",
    "train_dummies=enc.fit_transform(X_train_sm.loc[:,categorical_cols])\n",
    "train_dummies=pd.DataFrame(train_dummies)\n",
    "train_dummies.columns=[x for cat_list in enc.categories_ for x in cat_list[1:]]\n",
    "\n",
    "X_train_final=X_train_sm.loc[:,numerical_cols].join(train_dummies)\n",
    "\n",
    "test_dummies=enc.transform(X_test_cat.loc[:,categorical_cols])\n",
    "test_dummies=pd.DataFrame(test_dummies)\n",
    "test_dummies.columns=[x for cat_list in enc.categories_ for x in cat_list[1:]]\n",
    "test_dummies.index=X_test.index\n",
    "\n",
    "X_test_final=X_test_cat.loc[:,numerical_cols].join(test_dummies)\n",
    "\n",
    "print(X_train_final.shape)\n",
    "print(X_test_final.shape)"
   ]
  },
  {
   "cell_type": "code",
   "execution_count": 17,
   "id": "7ced5c48",
   "metadata": {},
   "outputs": [
    {
     "data": {
      "text/plain": [
       "GridSearchCV(cv=10, estimator=DecisionTreeClassifier(), n_jobs=-1,\n",
       "             param_grid={'criterion': ['gini', 'entropy'],\n",
       "                         'max_depth': [1, 2, 3, 4, 5, 6, 8, 9, 10, 11, 12, 13,\n",
       "                                       14, None],\n",
       "                         'min_samples_leaf': [5, 10, 15, 20, None],\n",
       "                         'min_samples_split': [2, 3, 4, None]},\n",
       "             scoring='accuracy')"
      ]
     },
     "execution_count": 17,
     "metadata": {},
     "output_type": "execute_result"
    }
   ],
   "source": [
    "grid_search.fit(X_train_final, y_train_sm)"
   ]
  },
  {
   "cell_type": "code",
   "execution_count": 18,
   "id": "d7dc094e",
   "metadata": {},
   "outputs": [
    {
     "data": {
      "text/plain": [
       "DecisionTreeClassifier(criterion='entropy', max_depth=9, min_samples_leaf=10,\n",
       "                       min_samples_split=3)"
      ]
     },
     "execution_count": 18,
     "metadata": {},
     "output_type": "execute_result"
    }
   ],
   "source": [
    "cv_clf_os = grid_search.best_estimator_\n",
    "cv_clf_os"
   ]
  },
  {
   "cell_type": "code",
   "execution_count": 19,
   "id": "3b729397",
   "metadata": {},
   "outputs": [
    {
     "ename": "TypeError",
     "evalue": "'<' not supported between instances of 'str' and 'int'",
     "output_type": "error",
     "traceback": [
      "\u001b[1;31m---------------------------------------------------------------------------\u001b[0m",
      "\u001b[1;31mTypeError\u001b[0m                                 Traceback (most recent call last)",
      "Input \u001b[1;32mIn [19]\u001b[0m, in \u001b[0;36m<cell line: 2>\u001b[1;34m()\u001b[0m\n\u001b[0;32m      1\u001b[0m \u001b[38;5;66;03m#Score para el test\u001b[39;00m\n\u001b[1;32m----> 2\u001b[0m \u001b[43maccuracy_score\u001b[49m\u001b[43m(\u001b[49m\u001b[43my_test\u001b[49m\u001b[43m,\u001b[49m\u001b[43m \u001b[49m\u001b[43mcv_clf_os\u001b[49m\u001b[38;5;241;43m.\u001b[39;49m\u001b[43mpredict\u001b[49m\u001b[43m(\u001b[49m\u001b[43mX_test_final\u001b[49m\u001b[43m)\u001b[49m\u001b[43m)\u001b[49m\n",
      "File \u001b[1;32m~\\anaconda3\\envs\\dhdsblend2021\\lib\\site-packages\\sklearn\\utils\\validation.py:72\u001b[0m, in \u001b[0;36m_deprecate_positional_args.<locals>.inner_f\u001b[1;34m(*args, **kwargs)\u001b[0m\n\u001b[0;32m     67\u001b[0m     warnings\u001b[38;5;241m.\u001b[39mwarn(\u001b[38;5;124m\"\u001b[39m\u001b[38;5;124mPass \u001b[39m\u001b[38;5;132;01m{}\u001b[39;00m\u001b[38;5;124m as keyword args. From version 0.25 \u001b[39m\u001b[38;5;124m\"\u001b[39m\n\u001b[0;32m     68\u001b[0m                   \u001b[38;5;124m\"\u001b[39m\u001b[38;5;124mpassing these as positional arguments will \u001b[39m\u001b[38;5;124m\"\u001b[39m\n\u001b[0;32m     69\u001b[0m                   \u001b[38;5;124m\"\u001b[39m\u001b[38;5;124mresult in an error\u001b[39m\u001b[38;5;124m\"\u001b[39m\u001b[38;5;241m.\u001b[39mformat(\u001b[38;5;124m\"\u001b[39m\u001b[38;5;124m, \u001b[39m\u001b[38;5;124m\"\u001b[39m\u001b[38;5;241m.\u001b[39mjoin(args_msg)),\n\u001b[0;32m     70\u001b[0m                   \u001b[38;5;167;01mFutureWarning\u001b[39;00m)\n\u001b[0;32m     71\u001b[0m kwargs\u001b[38;5;241m.\u001b[39mupdate({k: arg \u001b[38;5;28;01mfor\u001b[39;00m k, arg \u001b[38;5;129;01min\u001b[39;00m \u001b[38;5;28mzip\u001b[39m(sig\u001b[38;5;241m.\u001b[39mparameters, args)})\n\u001b[1;32m---> 72\u001b[0m \u001b[38;5;28;01mreturn\u001b[39;00m \u001b[43mf\u001b[49m\u001b[43m(\u001b[49m\u001b[38;5;241;43m*\u001b[39;49m\u001b[38;5;241;43m*\u001b[39;49m\u001b[43mkwargs\u001b[49m\u001b[43m)\u001b[49m\n",
      "File \u001b[1;32m~\\anaconda3\\envs\\dhdsblend2021\\lib\\site-packages\\sklearn\\metrics\\_classification.py:187\u001b[0m, in \u001b[0;36maccuracy_score\u001b[1;34m(y_true, y_pred, normalize, sample_weight)\u001b[0m\n\u001b[0;32m    127\u001b[0m \u001b[38;5;124;03m\"\"\"Accuracy classification score.\u001b[39;00m\n\u001b[0;32m    128\u001b[0m \n\u001b[0;32m    129\u001b[0m \u001b[38;5;124;03mIn multilabel classification, this function computes subset accuracy:\u001b[39;00m\n\u001b[1;32m   (...)\u001b[0m\n\u001b[0;32m    183\u001b[0m \u001b[38;5;124;03m0.5\u001b[39;00m\n\u001b[0;32m    184\u001b[0m \u001b[38;5;124;03m\"\"\"\u001b[39;00m\n\u001b[0;32m    186\u001b[0m \u001b[38;5;66;03m# Compute accuracy for each possible representation\u001b[39;00m\n\u001b[1;32m--> 187\u001b[0m y_type, y_true, y_pred \u001b[38;5;241m=\u001b[39m \u001b[43m_check_targets\u001b[49m\u001b[43m(\u001b[49m\u001b[43my_true\u001b[49m\u001b[43m,\u001b[49m\u001b[43m \u001b[49m\u001b[43my_pred\u001b[49m\u001b[43m)\u001b[49m\n\u001b[0;32m    188\u001b[0m check_consistent_length(y_true, y_pred, sample_weight)\n\u001b[0;32m    189\u001b[0m \u001b[38;5;28;01mif\u001b[39;00m y_type\u001b[38;5;241m.\u001b[39mstartswith(\u001b[38;5;124m'\u001b[39m\u001b[38;5;124mmultilabel\u001b[39m\u001b[38;5;124m'\u001b[39m):\n",
      "File \u001b[1;32m~\\anaconda3\\envs\\dhdsblend2021\\lib\\site-packages\\sklearn\\metrics\\_classification.py:104\u001b[0m, in \u001b[0;36m_check_targets\u001b[1;34m(y_true, y_pred)\u001b[0m\n\u001b[0;32m    102\u001b[0m y_pred \u001b[38;5;241m=\u001b[39m column_or_1d(y_pred)\n\u001b[0;32m    103\u001b[0m \u001b[38;5;28;01mif\u001b[39;00m y_type \u001b[38;5;241m==\u001b[39m \u001b[38;5;124m\"\u001b[39m\u001b[38;5;124mbinary\u001b[39m\u001b[38;5;124m\"\u001b[39m:\n\u001b[1;32m--> 104\u001b[0m     unique_values \u001b[38;5;241m=\u001b[39m \u001b[43mnp\u001b[49m\u001b[38;5;241;43m.\u001b[39;49m\u001b[43munion1d\u001b[49m\u001b[43m(\u001b[49m\u001b[43my_true\u001b[49m\u001b[43m,\u001b[49m\u001b[43m \u001b[49m\u001b[43my_pred\u001b[49m\u001b[43m)\u001b[49m\n\u001b[0;32m    105\u001b[0m     \u001b[38;5;28;01mif\u001b[39;00m \u001b[38;5;28mlen\u001b[39m(unique_values) \u001b[38;5;241m>\u001b[39m \u001b[38;5;241m2\u001b[39m:\n\u001b[0;32m    106\u001b[0m         y_type \u001b[38;5;241m=\u001b[39m \u001b[38;5;124m\"\u001b[39m\u001b[38;5;124mmulticlass\u001b[39m\u001b[38;5;124m\"\u001b[39m\n",
      "File \u001b[1;32m<__array_function__ internals>:5\u001b[0m, in \u001b[0;36munion1d\u001b[1;34m(*args, **kwargs)\u001b[0m\n",
      "File \u001b[1;32m~\\anaconda3\\envs\\dhdsblend2021\\lib\\site-packages\\numpy\\lib\\arraysetops.py:749\u001b[0m, in \u001b[0;36munion1d\u001b[1;34m(ar1, ar2)\u001b[0m\n\u001b[0;32m    715\u001b[0m \u001b[38;5;129m@array_function_dispatch\u001b[39m(_union1d_dispatcher)\n\u001b[0;32m    716\u001b[0m \u001b[38;5;28;01mdef\u001b[39;00m \u001b[38;5;21munion1d\u001b[39m(ar1, ar2):\n\u001b[0;32m    717\u001b[0m     \u001b[38;5;124;03m\"\"\"\u001b[39;00m\n\u001b[0;32m    718\u001b[0m \u001b[38;5;124;03m    Find the union of two arrays.\u001b[39;00m\n\u001b[0;32m    719\u001b[0m \n\u001b[1;32m   (...)\u001b[0m\n\u001b[0;32m    747\u001b[0m \u001b[38;5;124;03m    array([1, 2, 3, 4, 6])\u001b[39;00m\n\u001b[0;32m    748\u001b[0m \u001b[38;5;124;03m    \"\"\"\u001b[39;00m\n\u001b[1;32m--> 749\u001b[0m     \u001b[38;5;28;01mreturn\u001b[39;00m \u001b[43munique\u001b[49m\u001b[43m(\u001b[49m\u001b[43mnp\u001b[49m\u001b[38;5;241;43m.\u001b[39;49m\u001b[43mconcatenate\u001b[49m\u001b[43m(\u001b[49m\u001b[43m(\u001b[49m\u001b[43mar1\u001b[49m\u001b[43m,\u001b[49m\u001b[43m \u001b[49m\u001b[43mar2\u001b[49m\u001b[43m)\u001b[49m\u001b[43m,\u001b[49m\u001b[43m \u001b[49m\u001b[43maxis\u001b[49m\u001b[38;5;241;43m=\u001b[39;49m\u001b[38;5;28;43;01mNone\u001b[39;49;00m\u001b[43m)\u001b[49m\u001b[43m)\u001b[49m\n",
      "File \u001b[1;32m<__array_function__ internals>:5\u001b[0m, in \u001b[0;36munique\u001b[1;34m(*args, **kwargs)\u001b[0m\n",
      "File \u001b[1;32m~\\anaconda3\\envs\\dhdsblend2021\\lib\\site-packages\\numpy\\lib\\arraysetops.py:261\u001b[0m, in \u001b[0;36munique\u001b[1;34m(ar, return_index, return_inverse, return_counts, axis)\u001b[0m\n\u001b[0;32m    259\u001b[0m ar \u001b[38;5;241m=\u001b[39m np\u001b[38;5;241m.\u001b[39masanyarray(ar)\n\u001b[0;32m    260\u001b[0m \u001b[38;5;28;01mif\u001b[39;00m axis \u001b[38;5;129;01mis\u001b[39;00m \u001b[38;5;28;01mNone\u001b[39;00m:\n\u001b[1;32m--> 261\u001b[0m     ret \u001b[38;5;241m=\u001b[39m \u001b[43m_unique1d\u001b[49m\u001b[43m(\u001b[49m\u001b[43mar\u001b[49m\u001b[43m,\u001b[49m\u001b[43m \u001b[49m\u001b[43mreturn_index\u001b[49m\u001b[43m,\u001b[49m\u001b[43m \u001b[49m\u001b[43mreturn_inverse\u001b[49m\u001b[43m,\u001b[49m\u001b[43m \u001b[49m\u001b[43mreturn_counts\u001b[49m\u001b[43m)\u001b[49m\n\u001b[0;32m    262\u001b[0m     \u001b[38;5;28;01mreturn\u001b[39;00m _unpack_tuple(ret)\n\u001b[0;32m    264\u001b[0m \u001b[38;5;66;03m# axis was specified and not None\u001b[39;00m\n",
      "File \u001b[1;32m~\\anaconda3\\envs\\dhdsblend2021\\lib\\site-packages\\numpy\\lib\\arraysetops.py:322\u001b[0m, in \u001b[0;36m_unique1d\u001b[1;34m(ar, return_index, return_inverse, return_counts)\u001b[0m\n\u001b[0;32m    320\u001b[0m     aux \u001b[38;5;241m=\u001b[39m ar[perm]\n\u001b[0;32m    321\u001b[0m \u001b[38;5;28;01melse\u001b[39;00m:\n\u001b[1;32m--> 322\u001b[0m     \u001b[43mar\u001b[49m\u001b[38;5;241;43m.\u001b[39;49m\u001b[43msort\u001b[49m\u001b[43m(\u001b[49m\u001b[43m)\u001b[49m\n\u001b[0;32m    323\u001b[0m     aux \u001b[38;5;241m=\u001b[39m ar\n\u001b[0;32m    324\u001b[0m mask \u001b[38;5;241m=\u001b[39m np\u001b[38;5;241m.\u001b[39mempty(aux\u001b[38;5;241m.\u001b[39mshape, dtype\u001b[38;5;241m=\u001b[39mnp\u001b[38;5;241m.\u001b[39mbool_)\n",
      "\u001b[1;31mTypeError\u001b[0m: '<' not supported between instances of 'str' and 'int'"
     ]
    }
   ],
   "source": [
    "#Score para el test\n",
    "accuracy_score(y_test, cv_clf_os.predict(X_test_final))"
   ]
  },
  {
   "cell_type": "code",
   "execution_count": 37,
   "id": "55f5832b",
   "metadata": {},
   "outputs": [
    {
     "data": {
      "image/png": "[encoded data removed]",
      "text/plain": [
       "<Figure size 432x288 with 2 Axes>"
      ]
     },
     "metadata": {
      "needs_background": "light"
     },
     "output_type": "display_data"
    }
   ],
   "source": [
    "#Matriz de confusion\n",
    "cf_matrix= confusion_matrix(y_test, cv_clf_os.predict(X_test_final))\n",
    "\n",
    "ax = sns.heatmap(cf_matrix, annot=True, cmap='Blues')\n",
    "\n",
    "ax.set_title('Seaborn Confusion Matrix with labels\\n\\n');\n",
    "ax.set_xlabel('\\nPredicted Values')\n",
    "ax.set_ylabel('Actual Values ');\n",
    "\n",
    "## Ticket labels - List must be in alphabetical order\n",
    "ax.xaxis.set_ticklabels(['False','True'])\n",
    "ax.yaxis.set_ticklabels(['False','True'])\n",
    "\n",
    "## Display the visualization of the Confusion Matrix.\n",
    "plt.show()"
   ]
  },
  {
   "cell_type": "markdown",
   "id": "193dd198",
   "metadata": {},
   "source": [
    "OVERSAMPLING DONT GIVE GOOD RESULTS!"
   ]
  },
  {
   "cell_type": "code",
   "execution_count": 37,
   "id": "e0da1696",
   "metadata": {},
   "outputs": [],
   "source": [
    "#Importamos\n",
    "from sklearn.ensemble import RandomForestClassifier, BaggingClassifier, AdaBoostClassifier, GradientBoostingClassifier"
   ]
  },
  {
   "cell_type": "markdown",
   "id": "9dd9b292",
   "metadata": {},
   "source": [
    "Random Forest"
   ]
  },
  {
   "cell_type": "code",
   "execution_count": 71,
   "id": "6d88ed15",
   "metadata": {},
   "outputs": [
    {
     "data": {
      "text/plain": [
       "RandomForestClassifier(n_estimators=1000, n_jobs=-1)"
      ]
     },
     "execution_count": 71,
     "metadata": {},
     "output_type": "execute_result"
    }
   ],
   "source": [
    "#Instanciamos el modelo y ajustamos los datos \n",
    "rf_clf = RandomForestClassifier(n_estimators=1000, n_jobs=-1)\n",
    "rf_clf.fit(X_train, y_train)"
   ]
  },
  {
   "cell_type": "code",
   "execution_count": 72,
   "id": "6797145f",
   "metadata": {},
   "outputs": [
    {
     "name": "stdout",
     "output_type": "stream",
     "text": [
      "[[ 21  41]\n",
      " [ 28 112]]\n",
      "\n",
      "The Random Forest score is:  0.6584158415841584\n"
     ]
    }
   ],
   "source": [
    "#Vemos accuracy y matriz de confusión\n",
    "print(confusion_matrix(y_test, rf_clf.predict(X_test)))\n",
    "print('')\n",
    "print('The Random Forest score is: ', accuracy_score(y_test, rf_clf.predict(X_test)))"
   ]
  },
  {
   "cell_type": "markdown",
   "id": "bcf9db99",
   "metadata": {},
   "source": [
    "Bagging "
   ]
  },
  {
   "cell_type": "code",
   "execution_count": 73,
   "id": "a171f58c",
   "metadata": {},
   "outputs": [
    {
     "data": {
      "text/plain": [
       "BaggingClassifier(base_estimator=DecisionTreeClassifier(), n_estimators=1000,\n",
       "                  n_jobs=-1, random_state=42)"
      ]
     },
     "execution_count": 73,
     "metadata": {},
     "output_type": "execute_result"
    }
   ],
   "source": [
    "bag_clf = BaggingClassifier(base_estimator=clftree, n_estimators=1000,\n",
    "                            bootstrap=True, n_jobs=-1,\n",
    "                            random_state=42)\n",
    "bag_clf.fit(X_train, y_train)"
   ]
  },
  {
   "cell_type": "code",
   "execution_count": 74,
   "id": "e8009fe5",
   "metadata": {},
   "outputs": [
    {
     "name": "stdout",
     "output_type": "stream",
     "text": [
      "[[ 21  41]\n",
      " [ 23 117]]\n",
      "\n",
      "The Bagging score is:  0.6831683168316832\n"
     ]
    }
   ],
   "source": [
    "print(confusion_matrix(y_test, bag_clf.predict(X_test)))\n",
    "print('')\n",
    "print('The Bagging score is: ', accuracy_score(y_test, bag_clf.predict(X_test)))"
   ]
  },
  {
   "cell_type": "markdown",
   "id": "61e7e219",
   "metadata": {},
   "source": [
    "AdaBoost"
   ]
  },
  {
   "cell_type": "code",
   "execution_count": 38,
   "id": "8cdea3bc",
   "metadata": {},
   "outputs": [
    {
     "data": {
      "text/plain": [
       "AdaBoostClassifier(base_estimator=DecisionTreeClassifier(max_depth=1),\n",
       "                   n_estimators=1000)"
      ]
     },
     "execution_count": 38,
     "metadata": {},
     "output_type": "execute_result"
    }
   ],
   "source": [
    "AdaBoost = AdaBoostClassifier (\n",
    "           tree.DecisionTreeClassifier(max_depth=1), n_estimators= 1000\n",
    ")\n",
    "\n",
    "AdaBoost.fit(X_train, y_train)"
   ]
  },
  {
   "cell_type": "code",
   "execution_count": 39,
   "id": "c25fb6da",
   "metadata": {},
   "outputs": [],
   "source": [
    "predictions = AdaBoost.predict(X_test)"
   ]
  },
  {
   "cell_type": "code",
   "execution_count": 40,
   "id": "9631bdf2",
   "metadata": {},
   "outputs": [
    {
     "name": "stdout",
     "output_type": "stream",
     "text": [
      "[[ 22  40]\n",
      " [ 18 120]]\n",
      "\n",
      "The AdaBoost score is:  0.71\n"
     ]
    }
   ],
   "source": [
    "print(confusion_matrix(y_test, predictions))\n",
    "print('')\n",
    "print('The AdaBoost score is: ', accuracy_score(y_test, predictions))"
   ]
  },
  {
   "cell_type": "markdown",
   "id": "74f068a2",
   "metadata": {},
   "source": [
    "Gradient Boosting"
   ]
  },
  {
   "cell_type": "code",
   "execution_count": 41,
   "id": "81a856f3",
   "metadata": {},
   "outputs": [],
   "source": [
    "parameters = {'n_estimators':[500, 1000] , \n",
    "             'learning_rate':[0.001, 0.001, 0.1],\n",
    "            'max_depth' : [1, 2, 3, 4]}"
   ]
  },
  {
   "cell_type": "code",
   "execution_count": 42,
   "id": "7cfee01f",
   "metadata": {},
   "outputs": [],
   "source": [
    "GB_clf = GridSearchCV(GradientBoostingClassifier(), parameters, cv=10, n_jobs=-1)"
   ]
  },
  {
   "cell_type": "code",
   "execution_count": 43,
   "id": "d3f0c150",
   "metadata": {},
   "outputs": [
    {
     "data": {
      "text/plain": [
       "GridSearchCV(cv=10, estimator=GradientBoostingClassifier(), n_jobs=-1,\n",
       "             param_grid={'learning_rate': [0.001, 0.001, 0.1],\n",
       "                         'max_depth': [1, 2, 3, 4],\n",
       "                         'n_estimators': [500, 1000]})"
      ]
     },
     "execution_count": 43,
     "metadata": {},
     "output_type": "execute_result"
    }
   ],
   "source": [
    "GB_clf.fit(X_train, y_train)"
   ]
  },
  {
   "cell_type": "code",
   "execution_count": 44,
   "id": "a6f42460",
   "metadata": {},
   "outputs": [
    {
     "name": "stdout",
     "output_type": "stream",
     "text": [
      "{'learning_rate': 0.001, 'max_depth': 3, 'n_estimators': 1000}\n",
      "The Gradient Boosting score is:  0.73\n"
     ]
    }
   ],
   "source": [
    "print(GB_clf.best_params_)\n",
    "print('The Gradient Boosting score is: ', accuracy_score(y_test, GB_clf.predict(X_test)))"
   ]
  }
 ],
 "metadata": {
  "kernelspec": {
   "display_name": "Python 3 (ipykernel)",
   "language": "python",
   "name": "python3"
  },
  "language_info": {
   "codemirror_mode": {
    "name": "ipython",
    "version": 3
   },
   "file_extension": ".py",
   "mimetype": "text/x-python",
   "name": "python",
   "nbconvert_exporter": "python",
   "pygments_lexer": "ipython3",
   "version": "3.8.13"
  }
 },
 "nbformat": 4,
 "nbformat_minor": 5
}
