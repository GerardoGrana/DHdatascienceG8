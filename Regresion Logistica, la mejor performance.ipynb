{
 "cells": [
  {
   "cell_type": "code",
   "execution_count": 1,
   "id": "9464366e",
   "metadata": {},
   "outputs": [],
   "source": [
    "#Librerias\n",
    "import numpy as np\n",
    "import pandas as pd\n",
    "import matplotlib.pyplot as plt\n",
    "import pickle\n",
    "from sklearn.model_selection import RepeatedStratifiedKFold, StratifiedKFold\n",
    "from sklearn.model_selection import GridSearchCV\n",
    "from sklearn.linear_model import LogisticRegression\n",
    "from sklearn.model_selection import train_test_split, KFold, cross_val_score\n",
    "from sklearn.preprocessing import MinMaxScaler, OneHotEncoder\n",
    "from sklearn.metrics import accuracy_score, confusion_matrix\n",
    "import seaborn as sns\n",
    "import sklearn.feature_selection as fs\n",
    "import sklearn.metrics as metrics\n",
    "from sklearn.feature_selection import SelectKBest, f_classif, RFE"
   ]
  },
  {
   "cell_type": "code",
   "execution_count": 4,
   "id": "1afd3ff7",
   "metadata": {},
   "outputs": [],
   "source": [
    "#Hagamos regresion logística con el data set FINAL\n",
    "\n",
    "#Levantamos la data\n",
    "data = pd.read_csv('PVR_train_test.csv')\n",
    "\n",
    "#Generamos el X y el target\n",
    "X= data.drop(['microzonificacion_Comercial',                   \n",
    "'microzonificacion_Residencial suburbano',        \n",
    "'microzonificacion_Residencial urbano',           \n",
    "'macrozonificacion_Interfaz',                     \n",
    "'macrozonificacion_Urbano', 'Target_NoApto'], axis=1)  \n",
    "y= data['Target_NoApto']\n",
    "\n",
    "#Divimos en train y en test\n",
    "X_train, X_test, y_train, y_test = train_test_split(X,y, stratify=y, test_size= 0.25, random_state= 42)\n",
    "\n",
    "#Estandarizamos con MinMax\n",
    "scaler = MinMaxScaler()\n",
    "\n",
    "with open('./Models/logist-regresion-scaler.pkl', 'wb') as s:\n",
    "    pickle.dump(scaler, s)\n",
    "\n",
    "X_train_std = scaler.fit_transform(X_train)\n",
    "X_test_std = scaler.fit_transform(X_test)"
   ]
  },
  {
   "cell_type": "markdown",
   "id": "a174da8e",
   "metadata": {},
   "source": [
    "Lets select the best features"
   ]
  },
  {
   "cell_type": "markdown",
   "id": "3177e0a6",
   "metadata": {},
   "source": [
    "1) Por la varianza"
   ]
  },
  {
   "cell_type": "code",
   "execution_count": 5,
   "id": "de93d572",
   "metadata": {},
   "outputs": [
    {
     "data": {
      "text/plain": [
       "VarianceThreshold(threshold=0.5)"
      ]
     },
     "execution_count": 5,
     "metadata": {},
     "output_type": "execute_result"
    }
   ],
   "source": [
    "from sklearn.feature_selection import VarianceThreshold\n",
    "\n",
    "# Instanciamos la clase VarianceThreshold definiendo un threshold=0.5\n",
    "\n",
    "fet_sel = VarianceThreshold(threshold=0.5)\n",
    "\n",
    "# Fiteamos a fet_sel con nuestro df1:\n",
    "\n",
    "fet_sel.fit(data)"
   ]
  },
  {
   "cell_type": "code",
   "execution_count": 6,
   "id": "6ec78ab3",
   "metadata": {},
   "outputs": [
    {
     "data": {
      "text/plain": [
       "array([ True,  True,  True,  True,  True,  True,  True,  True,  True,\n",
       "        True,  True,  True,  True,  True,  True,  True,  True,  True,\n",
       "        True, False, False, False, False, False, False])"
      ]
     },
     "execution_count": 6,
     "metadata": {},
     "output_type": "execute_result"
    }
   ],
   "source": [
    "fet_sel.get_support()"
   ]
  },
  {
   "cell_type": "code",
   "execution_count": 7,
   "id": "ffce936d",
   "metadata": {},
   "outputs": [
    {
     "data": {
      "text/plain": [
       "Index(['poblacion', 'hogares', 'desocupado', '0-14', '65_mas', 'inicial',\n",
       "       'primario', 'egb', 'secundario', 'polimodal', 'superior',\n",
       "       'universitario', 'post_universitario', 'lee_y _esc', 'NoLee_ni_e',\n",
       "       'hacinamiento', 'sin_agua', 'sin_cloaca', 'densidad_comercial'],\n",
       "      dtype='object')"
      ]
     },
     "execution_count": 7,
     "metadata": {},
     "output_type": "execute_result"
    }
   ],
   "source": [
    "# Podemos filtrar las columnas que no superen el umbral de varianza:\n",
    "\n",
    "data.columns[fet_sel.get_support()]"
   ]
  },
  {
   "cell_type": "code",
   "execution_count": 8,
   "id": "bfade518",
   "metadata": {},
   "outputs": [
    {
     "data": {
      "text/plain": [
       "(799, 19)"
      ]
     },
     "execution_count": 8,
     "metadata": {},
     "output_type": "execute_result"
    }
   ],
   "source": [
    "data_reduced = pd.DataFrame(fet_sel.transform(data), columns = data.columns[fet_sel.get_support()])\n",
    "data_reduced.shape"
   ]
  },
  {
   "cell_type": "markdown",
   "id": "ff53dab0",
   "metadata": {},
   "source": [
    "2) Select K best"
   ]
  },
  {
   "cell_type": "code",
   "execution_count": 9,
   "id": "e13887a1",
   "metadata": {},
   "outputs": [
    {
     "name": "stderr",
     "output_type": "stream",
     "text": [
      "/Users/benjamin/anaconda3/envs/dhdsblend2021/lib/python3.8/site-packages/sklearn/utils/validation.py:67: FutureWarning: Pass k=1 as keyword args. From version 0.25 passing these as positional arguments will result in an error\n",
      "  warnings.warn(\"Pass {} as keyword args. From version 0.25 \"\n",
      "/Users/benjamin/anaconda3/envs/dhdsblend2021/lib/python3.8/site-packages/sklearn/utils/validation.py:67: FutureWarning: Pass k=2 as keyword args. From version 0.25 passing these as positional arguments will result in an error\n",
      "  warnings.warn(\"Pass {} as keyword args. From version 0.25 \"\n",
      "/Users/benjamin/anaconda3/envs/dhdsblend2021/lib/python3.8/site-packages/sklearn/utils/validation.py:67: FutureWarning: Pass k=3 as keyword args. From version 0.25 passing these as positional arguments will result in an error\n",
      "  warnings.warn(\"Pass {} as keyword args. From version 0.25 \"\n",
      "/Users/benjamin/anaconda3/envs/dhdsblend2021/lib/python3.8/site-packages/sklearn/utils/validation.py:67: FutureWarning: Pass k=4 as keyword args. From version 0.25 passing these as positional arguments will result in an error\n",
      "  warnings.warn(\"Pass {} as keyword args. From version 0.25 \"\n",
      "/Users/benjamin/anaconda3/envs/dhdsblend2021/lib/python3.8/site-packages/sklearn/utils/validation.py:67: FutureWarning: Pass k=5 as keyword args. From version 0.25 passing these as positional arguments will result in an error\n",
      "  warnings.warn(\"Pass {} as keyword args. From version 0.25 \"\n",
      "/Users/benjamin/anaconda3/envs/dhdsblend2021/lib/python3.8/site-packages/sklearn/utils/validation.py:67: FutureWarning: Pass k=6 as keyword args. From version 0.25 passing these as positional arguments will result in an error\n",
      "  warnings.warn(\"Pass {} as keyword args. From version 0.25 \"\n",
      "/Users/benjamin/anaconda3/envs/dhdsblend2021/lib/python3.8/site-packages/sklearn/linear_model/_logistic.py:762: ConvergenceWarning: lbfgs failed to converge (status=1):\n",
      "STOP: TOTAL NO. of ITERATIONS REACHED LIMIT.\n",
      "\n",
      "Increase the number of iterations (max_iter) or scale the data as shown in:\n",
      "    https://scikit-learn.org/stable/modules/preprocessing.html\n",
      "Please also refer to the documentation for alternative solver options:\n",
      "    https://scikit-learn.org/stable/modules/linear_model.html#logistic-regression\n",
      "  n_iter_i = _check_optimize_result(\n",
      "/Users/benjamin/anaconda3/envs/dhdsblend2021/lib/python3.8/site-packages/sklearn/utils/validation.py:67: FutureWarning: Pass k=7 as keyword args. From version 0.25 passing these as positional arguments will result in an error\n",
      "  warnings.warn(\"Pass {} as keyword args. From version 0.25 \"\n",
      "/Users/benjamin/anaconda3/envs/dhdsblend2021/lib/python3.8/site-packages/sklearn/linear_model/_logistic.py:762: ConvergenceWarning: lbfgs failed to converge (status=1):\n",
      "STOP: TOTAL NO. of ITERATIONS REACHED LIMIT.\n",
      "\n",
      "Increase the number of iterations (max_iter) or scale the data as shown in:\n",
      "    https://scikit-learn.org/stable/modules/preprocessing.html\n",
      "Please also refer to the documentation for alternative solver options:\n",
      "    https://scikit-learn.org/stable/modules/linear_model.html#logistic-regression\n",
      "  n_iter_i = _check_optimize_result(\n",
      "/Users/benjamin/anaconda3/envs/dhdsblend2021/lib/python3.8/site-packages/sklearn/utils/validation.py:67: FutureWarning: Pass k=8 as keyword args. From version 0.25 passing these as positional arguments will result in an error\n",
      "  warnings.warn(\"Pass {} as keyword args. From version 0.25 \"\n",
      "/Users/benjamin/anaconda3/envs/dhdsblend2021/lib/python3.8/site-packages/sklearn/linear_model/_logistic.py:762: ConvergenceWarning: lbfgs failed to converge (status=1):\n",
      "STOP: TOTAL NO. of ITERATIONS REACHED LIMIT.\n",
      "\n",
      "Increase the number of iterations (max_iter) or scale the data as shown in:\n",
      "    https://scikit-learn.org/stable/modules/preprocessing.html\n",
      "Please also refer to the documentation for alternative solver options:\n",
      "    https://scikit-learn.org/stable/modules/linear_model.html#logistic-regression\n",
      "  n_iter_i = _check_optimize_result(\n",
      "/Users/benjamin/anaconda3/envs/dhdsblend2021/lib/python3.8/site-packages/sklearn/utils/validation.py:67: FutureWarning: Pass k=9 as keyword args. From version 0.25 passing these as positional arguments will result in an error\n",
      "  warnings.warn(\"Pass {} as keyword args. From version 0.25 \"\n",
      "/Users/benjamin/anaconda3/envs/dhdsblend2021/lib/python3.8/site-packages/sklearn/linear_model/_logistic.py:762: ConvergenceWarning: lbfgs failed to converge (status=1):\n",
      "STOP: TOTAL NO. of ITERATIONS REACHED LIMIT.\n",
      "\n",
      "Increase the number of iterations (max_iter) or scale the data as shown in:\n",
      "    https://scikit-learn.org/stable/modules/preprocessing.html\n",
      "Please also refer to the documentation for alternative solver options:\n",
      "    https://scikit-learn.org/stable/modules/linear_model.html#logistic-regression\n",
      "  n_iter_i = _check_optimize_result(\n",
      "/Users/benjamin/anaconda3/envs/dhdsblend2021/lib/python3.8/site-packages/sklearn/utils/validation.py:67: FutureWarning: Pass k=10 as keyword args. From version 0.25 passing these as positional arguments will result in an error\n",
      "  warnings.warn(\"Pass {} as keyword args. From version 0.25 \"\n",
      "/Users/benjamin/anaconda3/envs/dhdsblend2021/lib/python3.8/site-packages/sklearn/linear_model/_logistic.py:762: ConvergenceWarning: lbfgs failed to converge (status=1):\n",
      "STOP: TOTAL NO. of ITERATIONS REACHED LIMIT.\n",
      "\n",
      "Increase the number of iterations (max_iter) or scale the data as shown in:\n",
      "    https://scikit-learn.org/stable/modules/preprocessing.html\n",
      "Please also refer to the documentation for alternative solver options:\n",
      "    https://scikit-learn.org/stable/modules/linear_model.html#logistic-regression\n",
      "  n_iter_i = _check_optimize_result(\n",
      "/Users/benjamin/anaconda3/envs/dhdsblend2021/lib/python3.8/site-packages/sklearn/utils/validation.py:67: FutureWarning: Pass k=11 as keyword args. From version 0.25 passing these as positional arguments will result in an error\n",
      "  warnings.warn(\"Pass {} as keyword args. From version 0.25 \"\n",
      "/Users/benjamin/anaconda3/envs/dhdsblend2021/lib/python3.8/site-packages/sklearn/linear_model/_logistic.py:762: ConvergenceWarning: lbfgs failed to converge (status=1):\n",
      "STOP: TOTAL NO. of ITERATIONS REACHED LIMIT.\n",
      "\n",
      "Increase the number of iterations (max_iter) or scale the data as shown in:\n",
      "    https://scikit-learn.org/stable/modules/preprocessing.html\n",
      "Please also refer to the documentation for alternative solver options:\n",
      "    https://scikit-learn.org/stable/modules/linear_model.html#logistic-regression\n",
      "  n_iter_i = _check_optimize_result(\n",
      "/Users/benjamin/anaconda3/envs/dhdsblend2021/lib/python3.8/site-packages/sklearn/utils/validation.py:67: FutureWarning: Pass k=12 as keyword args. From version 0.25 passing these as positional arguments will result in an error\n",
      "  warnings.warn(\"Pass {} as keyword args. From version 0.25 \"\n",
      "/Users/benjamin/anaconda3/envs/dhdsblend2021/lib/python3.8/site-packages/sklearn/linear_model/_logistic.py:762: ConvergenceWarning: lbfgs failed to converge (status=1):\n",
      "STOP: TOTAL NO. of ITERATIONS REACHED LIMIT.\n",
      "\n",
      "Increase the number of iterations (max_iter) or scale the data as shown in:\n",
      "    https://scikit-learn.org/stable/modules/preprocessing.html\n",
      "Please also refer to the documentation for alternative solver options:\n",
      "    https://scikit-learn.org/stable/modules/linear_model.html#logistic-regression\n",
      "  n_iter_i = _check_optimize_result(\n",
      "/Users/benjamin/anaconda3/envs/dhdsblend2021/lib/python3.8/site-packages/sklearn/utils/validation.py:67: FutureWarning: Pass k=13 as keyword args. From version 0.25 passing these as positional arguments will result in an error\n",
      "  warnings.warn(\"Pass {} as keyword args. From version 0.25 \"\n",
      "/Users/benjamin/anaconda3/envs/dhdsblend2021/lib/python3.8/site-packages/sklearn/linear_model/_logistic.py:762: ConvergenceWarning: lbfgs failed to converge (status=1):\n",
      "STOP: TOTAL NO. of ITERATIONS REACHED LIMIT.\n",
      "\n",
      "Increase the number of iterations (max_iter) or scale the data as shown in:\n",
      "    https://scikit-learn.org/stable/modules/preprocessing.html\n",
      "Please also refer to the documentation for alternative solver options:\n",
      "    https://scikit-learn.org/stable/modules/linear_model.html#logistic-regression\n",
      "  n_iter_i = _check_optimize_result(\n",
      "/Users/benjamin/anaconda3/envs/dhdsblend2021/lib/python3.8/site-packages/sklearn/utils/validation.py:67: FutureWarning: Pass k=14 as keyword args. From version 0.25 passing these as positional arguments will result in an error\n",
      "  warnings.warn(\"Pass {} as keyword args. From version 0.25 \"\n",
      "/Users/benjamin/anaconda3/envs/dhdsblend2021/lib/python3.8/site-packages/sklearn/linear_model/_logistic.py:762: ConvergenceWarning: lbfgs failed to converge (status=1):\n",
      "STOP: TOTAL NO. of ITERATIONS REACHED LIMIT.\n",
      "\n",
      "Increase the number of iterations (max_iter) or scale the data as shown in:\n",
      "    https://scikit-learn.org/stable/modules/preprocessing.html\n",
      "Please also refer to the documentation for alternative solver options:\n",
      "    https://scikit-learn.org/stable/modules/linear_model.html#logistic-regression\n",
      "  n_iter_i = _check_optimize_result(\n"
     ]
    },
    {
     "data": {
      "image/png": "[encoded data removed]",
      "text/plain": [
       "<Figure size 600x400 with 1 Axes>"
      ]
     },
     "metadata": {
      "needs_background": "light"
     },
     "output_type": "display_data"
    }
   ],
   "source": [
    "precision_list = []\n",
    "\n",
    "for k in range(1, 15):\n",
    "    \n",
    "    bk = fs.SelectKBest(fs.f_classif, k)\n",
    "    bk.fit(X_train, y_train)\n",
    "    X_trans = bk.transform(X_train)\n",
    "    train_x, test_x, train_y, test_y = train_test_split(X_trans,\n",
    "                                                        y_train,\n",
    "                                                        test_size=0.25,\n",
    "                                                        random_state=42)\n",
    "    \n",
    "    lr = LogisticRegression()\n",
    "    lr.fit(train_x, train_y)\n",
    "    y_pred = lr.predict(test_x)\n",
    "    precision = metrics.precision_score(test_y, y_pred)\n",
    "    precision_list.append(precision)\n",
    "\n",
    "fig, axe = plt.subplots(dpi = 100)\n",
    "axe.plot(range(1, 15), precision_list)\n",
    "axe.set_xlabel(\"best k features\")\n",
    "axe.set_ylabel(\"Precision\")\n",
    "plt.show(fig)"
   ]
  },
  {
   "cell_type": "code",
   "execution_count": 10,
   "id": "e5467b69",
   "metadata": {},
   "outputs": [
    {
     "name": "stdout",
     "output_type": "stream",
     "text": [
      "Index(['poblacion', '0-14', 'primario', 'secundario', 'polimodal',\n",
      "       'lee_y _esc', 'NoLee_ni_e'],\n",
      "      dtype='object')\n"
     ]
    }
   ],
   "source": [
    "sel_f = SelectKBest(f_classif, k=7)\n",
    "X_train_f = sel_f.fit_transform(X_train, y_train)\n",
    "Boolean= sel_f.get_support()\n",
    "print(X_train.loc[:,Boolean].columns)"
   ]
  },
  {
   "cell_type": "markdown",
   "id": "de1b41c7",
   "metadata": {},
   "source": [
    "3) Recursive features elimination (RFE)"
   ]
  },
  {
   "cell_type": "code",
   "execution_count": 11,
   "id": "95766a71",
   "metadata": {},
   "outputs": [
    {
     "name": "stderr",
     "output_type": "stream",
     "text": [
      "/Users/benjamin/anaconda3/envs/dhdsblend2021/lib/python3.8/site-packages/sklearn/linear_model/_logistic.py:762: ConvergenceWarning: lbfgs failed to converge (status=1):\n",
      "STOP: TOTAL NO. of ITERATIONS REACHED LIMIT.\n",
      "\n",
      "Increase the number of iterations (max_iter) or scale the data as shown in:\n",
      "    https://scikit-learn.org/stable/modules/preprocessing.html\n",
      "Please also refer to the documentation for alternative solver options:\n",
      "    https://scikit-learn.org/stable/modules/linear_model.html#logistic-regression\n",
      "  n_iter_i = _check_optimize_result(\n",
      "/Users/benjamin/anaconda3/envs/dhdsblend2021/lib/python3.8/site-packages/sklearn/linear_model/_logistic.py:762: ConvergenceWarning: lbfgs failed to converge (status=1):\n",
      "STOP: TOTAL NO. of ITERATIONS REACHED LIMIT.\n",
      "\n",
      "Increase the number of iterations (max_iter) or scale the data as shown in:\n",
      "    https://scikit-learn.org/stable/modules/preprocessing.html\n",
      "Please also refer to the documentation for alternative solver options:\n",
      "    https://scikit-learn.org/stable/modules/linear_model.html#logistic-regression\n",
      "  n_iter_i = _check_optimize_result(\n",
      "/Users/benjamin/anaconda3/envs/dhdsblend2021/lib/python3.8/site-packages/sklearn/linear_model/_logistic.py:762: ConvergenceWarning: lbfgs failed to converge (status=1):\n",
      "STOP: TOTAL NO. of ITERATIONS REACHED LIMIT.\n",
      "\n",
      "Increase the number of iterations (max_iter) or scale the data as shown in:\n",
      "    https://scikit-learn.org/stable/modules/preprocessing.html\n",
      "Please also refer to the documentation for alternative solver options:\n",
      "    https://scikit-learn.org/stable/modules/linear_model.html#logistic-regression\n",
      "  n_iter_i = _check_optimize_result(\n",
      "/Users/benjamin/anaconda3/envs/dhdsblend2021/lib/python3.8/site-packages/sklearn/linear_model/_logistic.py:762: ConvergenceWarning: lbfgs failed to converge (status=1):\n",
      "STOP: TOTAL NO. of ITERATIONS REACHED LIMIT.\n",
      "\n",
      "Increase the number of iterations (max_iter) or scale the data as shown in:\n",
      "    https://scikit-learn.org/stable/modules/preprocessing.html\n",
      "Please also refer to the documentation for alternative solver options:\n",
      "    https://scikit-learn.org/stable/modules/linear_model.html#logistic-regression\n",
      "  n_iter_i = _check_optimize_result(\n",
      "/Users/benjamin/anaconda3/envs/dhdsblend2021/lib/python3.8/site-packages/sklearn/linear_model/_logistic.py:762: ConvergenceWarning: lbfgs failed to converge (status=1):\n",
      "STOP: TOTAL NO. of ITERATIONS REACHED LIMIT.\n",
      "\n",
      "Increase the number of iterations (max_iter) or scale the data as shown in:\n",
      "    https://scikit-learn.org/stable/modules/preprocessing.html\n",
      "Please also refer to the documentation for alternative solver options:\n",
      "    https://scikit-learn.org/stable/modules/linear_model.html#logistic-regression\n",
      "  n_iter_i = _check_optimize_result(\n",
      "/Users/benjamin/anaconda3/envs/dhdsblend2021/lib/python3.8/site-packages/sklearn/linear_model/_logistic.py:762: ConvergenceWarning: lbfgs failed to converge (status=1):\n",
      "STOP: TOTAL NO. of ITERATIONS REACHED LIMIT.\n",
      "\n",
      "Increase the number of iterations (max_iter) or scale the data as shown in:\n",
      "    https://scikit-learn.org/stable/modules/preprocessing.html\n",
      "Please also refer to the documentation for alternative solver options:\n",
      "    https://scikit-learn.org/stable/modules/linear_model.html#logistic-regression\n",
      "  n_iter_i = _check_optimize_result(\n",
      "/Users/benjamin/anaconda3/envs/dhdsblend2021/lib/python3.8/site-packages/sklearn/linear_model/_logistic.py:762: ConvergenceWarning: lbfgs failed to converge (status=1):\n",
      "STOP: TOTAL NO. of ITERATIONS REACHED LIMIT.\n",
      "\n",
      "Increase the number of iterations (max_iter) or scale the data as shown in:\n",
      "    https://scikit-learn.org/stable/modules/preprocessing.html\n",
      "Please also refer to the documentation for alternative solver options:\n",
      "    https://scikit-learn.org/stable/modules/linear_model.html#logistic-regression\n",
      "  n_iter_i = _check_optimize_result(\n"
     ]
    },
    {
     "name": "stdout",
     "output_type": "stream",
     "text": [
      "Index(['poblacion', '0-14', 'inicial', 'egb', 'secundario', 'superior',\n",
      "       'universitario', 'post_universitario', 'lee_y _esc', 'NoLee_ni_e',\n",
      "       'hacinamiento', 'sin_cloaca'],\n",
      "      dtype='object')\n"
     ]
    }
   ],
   "source": [
    "model_logistic = LogisticRegression(solver='lbfgs', multi_class='multinomial', max_iter=1000)\n",
    "sel_rfe_logistic = RFE(estimator=model_logistic, n_features_to_select=12, step=1)\n",
    "X_train_rfe_logistic = sel_rfe_logistic.fit_transform(X_train, y_train)\n",
    "Boolean_RFE = sel_rfe_logistic.get_support()\n",
    "print(X_train.loc[:,Boolean_RFE].columns)"
   ]
  },
  {
   "cell_type": "markdown",
   "id": "cf262329",
   "metadata": {},
   "source": [
    "GridSearchCV"
   ]
  },
  {
   "cell_type": "code",
   "execution_count": 12,
   "id": "84bb0f8a",
   "metadata": {},
   "outputs": [
    {
     "name": "stdout",
     "output_type": "stream",
     "text": [
      "Best: 0.709559 using {'C': 1.0, 'penalty': 'l2', 'solver': 'liblinear'}\n",
      "0.704540 (0.054850) with: {'C': 100, 'penalty': 'l2', 'solver': 'newton-cg'}\n",
      "0.704540 (0.054850) with: {'C': 100, 'penalty': 'l2', 'solver': 'lbfgs'}\n",
      "0.704540 (0.054850) with: {'C': 100, 'penalty': 'l2', 'solver': 'liblinear'}\n",
      "0.702318 (0.054311) with: {'C': 10, 'penalty': 'l2', 'solver': 'newton-cg'}\n",
      "0.702318 (0.054311) with: {'C': 10, 'penalty': 'l2', 'solver': 'lbfgs'}\n",
      "0.702318 (0.054311) with: {'C': 10, 'penalty': 'l2', 'solver': 'liblinear'}\n",
      "0.706782 (0.055554) with: {'C': 1.0, 'penalty': 'l2', 'solver': 'newton-cg'}\n",
      "0.706782 (0.055554) with: {'C': 1.0, 'penalty': 'l2', 'solver': 'lbfgs'}\n",
      "0.709559 (0.053265) with: {'C': 1.0, 'penalty': 'l2', 'solver': 'liblinear'}\n",
      "0.699521 (0.037301) with: {'C': 0.1, 'penalty': 'l2', 'solver': 'newton-cg'}\n",
      "0.699521 (0.037301) with: {'C': 0.1, 'penalty': 'l2', 'solver': 'lbfgs'}\n",
      "0.694502 (0.033078) with: {'C': 0.1, 'penalty': 'l2', 'solver': 'liblinear'}\n",
      "0.689483 (0.015102) with: {'C': 0.01, 'penalty': 'l2', 'solver': 'newton-cg'}\n",
      "0.689483 (0.015102) with: {'C': 0.01, 'penalty': 'l2', 'solver': 'lbfgs'}\n",
      "0.689483 (0.015102) with: {'C': 0.01, 'penalty': 'l2', 'solver': 'liblinear'}\n"
     ]
    }
   ],
   "source": [
    "# Buscamos los mejores hiperparametros\n",
    "\n",
    "X_best = data[['poblacion', '0-14', 'primario', 'secundario', 'polimodal',\n",
    "       'lee_y _esc', 'NoLee_ni_e']]                      \n",
    "\n",
    "X_best_std = scaler.fit_transform(X_best)\n",
    "\n",
    "X_train_best, X_test_best, y_train, y_test = train_test_split(X_best_std,y, stratify=y, test_size= 0.25, random_state= 99)\n",
    "\n",
    "modelo = LogisticRegression()\n",
    "solvers = ['newton-cg', 'lbfgs', 'liblinear']\n",
    "penalty = ['l2']\n",
    "c_values = [100, 10, 1.0, 0.1, 0.01]\n",
    "\n",
    "# Defnimos una grilla con GridSearch\n",
    "\n",
    "grid = dict(solver=solvers,penalty=penalty,C=c_values)\n",
    "cv = RepeatedStratifiedKFold(n_splits=20, n_repeats=3)\n",
    "grid_search = GridSearchCV(estimator=modelo, param_grid=grid, n_jobs=-1, cv=cv, scoring='accuracy',error_score=0)\n",
    "grid_result = grid_search.fit(X_train_best, y_train)\n",
    "\n",
    "# Vemos los resultados\n",
    "\n",
    "print(\"Best: %f using %s\" % (grid_result.best_score_, grid_result.best_params_))\n",
    "means = grid_result.cv_results_['mean_test_score']\n",
    "stds = grid_result.cv_results_['std_test_score']\n",
    "params = grid_result.cv_results_['params']\n",
    "for mean, stdev, param in zip(means, stds, params):\n",
    "    print(\"%f (%f) with: %r\" % (mean, stdev, param))"
   ]
  },
  {
   "cell_type": "code",
   "execution_count": 13,
   "id": "b3d378e2",
   "metadata": {},
   "outputs": [],
   "source": [
    "def make_confusion_matrix(cf,\n",
    "                          group_names=None,\n",
    "                          categories='auto',\n",
    "                          count=True,\n",
    "                          percent=True,\n",
    "                          cbar=True,\n",
    "                          xyticks=True,\n",
    "                          xyplotlabels=True,\n",
    "                          sum_stats=True,\n",
    "                          figsize=None,\n",
    "                          cmap='Oranges',\n",
    "                          title=None):\n",
    "\n",
    "    # CODE TO GENERATE TEXT INSIDE EACH SQUARE\n",
    "    blanks = ['' for i in range(cf.size)]\n",
    "\n",
    "    if group_names and len(group_names)==cf.size:\n",
    "        group_labels = [\"{}\\n\".format(value) for value in group_names]\n",
    "    else:\n",
    "        group_labels = blanks\n",
    "\n",
    "    if count:\n",
    "        group_counts = [\"{0:0.0f}\\n\".format(value) for value in cf.flatten()]\n",
    "    else:\n",
    "        group_counts = blanks\n",
    "\n",
    "    if percent:\n",
    "        group_percentages = [\"{0:.2%}\".format(value) for value in cf.flatten()/np.sum(cf)]\n",
    "    else:\n",
    "        group_percentages = blanks\n",
    "\n",
    "    box_labels = [f\"{v1}{v2}{v3}\".strip() for v1, v2, v3 in zip(group_labels,group_counts,group_percentages)]\n",
    "    box_labels = np.asarray(box_labels).reshape(cf.shape[0],cf.shape[1])\n",
    "\n",
    "\n",
    "    # CODE TO GENERATE SUMMARY STATISTICS & TEXT FOR SUMMARY STATS\n",
    "    if sum_stats:\n",
    "        #Accuracy is sum of diagonal divided by total observations\n",
    "        accuracy  = np.trace(cf) / float(np.sum(cf))\n",
    "\n",
    "        #if it is a binary confusion matrix, show some more stats\n",
    "        if len(cf)==2:\n",
    "            #Metrics for Binary Confusion Matrices\n",
    "            precision = cf[1,1] / sum(cf[:,1])\n",
    "            recall    = cf[1,1] / sum(cf[1,:])\n",
    "            f1_score  = 2*precision*recall / (precision + recall)\n",
    "            stats_text = \"\\n\\nAccuracy={:0.3f}\\nPrecision={:0.3f}\\nRecall={:0.3f}\\nF1 Score={:0.3f}\".format(\n",
    "                accuracy,precision,recall,f1_score)\n",
    "        else:\n",
    "            stats_text = \"\\n\\nAccuracy={:0.3f}\".format(accuracy)\n",
    "    else:\n",
    "        stats_text = \"\"\n",
    "\n",
    "\n",
    "    # SET FIGURE PARAMETERS ACCORDING TO OTHER ARGUMENTS\n",
    "    if figsize==None:\n",
    "        #Get default figure size if not set\n",
    "        figsize = plt.rcParams.get('figure.figsize')\n",
    "\n",
    "    if xyticks==False:\n",
    "        #Do not show categories if xyticks is False\n",
    "        categories=False\n",
    "\n",
    "\n",
    "    # MAKE THE HEATMAP VISUALIZATION\n",
    "    plt.figure(figsize=figsize)\n",
    "    sns.heatmap(cf,annot=box_labels,fmt=\"\",cmap=cmap,cbar=cbar,xticklabels=categories,yticklabels=categories)\n",
    "\n",
    "    if xyplotlabels:\n",
    "        plt.ylabel('True label')\n",
    "        plt.xlabel('Predicted label' + stats_text)\n",
    "    else:\n",
    "        plt.xlabel(stats_text)\n",
    "    \n",
    "    if title:\n",
    "        plt.title(title)"
   ]
  },
  {
   "cell_type": "code",
   "execution_count": 15,
   "id": "2559c7f1",
   "metadata": {},
   "outputs": [],
   "source": [
    "#Instanciamos el modelo y los ajustamos a los datos de entrenamiento\n",
    "modelo = LogisticRegression(C=100, penalty = 'l2', solver= 'newton-cg')\n",
    "modelo.fit(X_train_best, y_train)\n",
    "\n",
    "with open('./Models/logist-regresion.pkl', 'wb') as model_pk:\n",
    "    pickle.dump(modelo, model_pk)\n"
   ]
  },
  {
   "cell_type": "code",
   "execution_count": 1,
   "id": "7acd36c3",
   "metadata": {},
   "outputs": [
    {
     "ename": "NameError",
     "evalue": "name 'modelo' is not defined",
     "output_type": "error",
     "traceback": [
      "\u001b[0;31m---------------------------------------------------------------------------\u001b[0m",
      "\u001b[0;31mNameError\u001b[0m                                 Traceback (most recent call last)",
      "\u001b[1;32m/Users/benjamin/Documents/dev/github.com/GerardoGrana/DHdatascienceG8/Regresion Logistica, la mejor performance.ipynb Cell 18\u001b[0m in \u001b[0;36m<cell line: 3>\u001b[0;34m()\u001b[0m\n\u001b[1;32m      <a href='vscode-notebook-cell:/Users/benjamin/Documents/dev/github.com/GerardoGrana/DHdatascienceG8/Regresion%20Logistica%2C%20la%20mejor%20performance.ipynb#X23sZmlsZQ%3D%3D?line=0'>1</a>\u001b[0m \u001b[39m#Para UN solo fold\u001b[39;00m\n\u001b[1;32m      <a href='vscode-notebook-cell:/Users/benjamin/Documents/dev/github.com/GerardoGrana/DHdatascienceG8/Regresion%20Logistica%2C%20la%20mejor%20performance.ipynb#X23sZmlsZQ%3D%3D?line=1'>2</a>\u001b[0m \u001b[39m#Hacemos las predicciones necesarias\u001b[39;00m\n\u001b[0;32m----> <a href='vscode-notebook-cell:/Users/benjamin/Documents/dev/github.com/GerardoGrana/DHdatascienceG8/Regresion%20Logistica%2C%20la%20mejor%20performance.ipynb#X23sZmlsZQ%3D%3D?line=2'>3</a>\u001b[0m y_pred \u001b[39m=\u001b[39m modelo\u001b[39m.\u001b[39mpredict(X_test_best)\n\u001b[1;32m      <a href='vscode-notebook-cell:/Users/benjamin/Documents/dev/github.com/GerardoGrana/DHdatascienceG8/Regresion%20Logistica%2C%20la%20mejor%20performance.ipynb#X23sZmlsZQ%3D%3D?line=3'>4</a>\u001b[0m \u001b[39mprint\u001b[39m(y_pred)\n\u001b[1;32m      <a href='vscode-notebook-cell:/Users/benjamin/Documents/dev/github.com/GerardoGrana/DHdatascienceG8/Regresion%20Logistica%2C%20la%20mejor%20performance.ipynb#X23sZmlsZQ%3D%3D?line=4'>5</a>\u001b[0m \u001b[39m#Evaluamos el score\u001b[39;00m\n",
      "\u001b[0;31mNameError\u001b[0m: name 'modelo' is not defined"
     ]
    }
   ],
   "source": [
    "#Para UN solo fold\n",
    "#Hacemos las predicciones necesarias\n",
    "y_pred = modelo.predict(X_test_best)\n",
    "print(y_pred)\n",
    "#Evaluamos el score\n",
    "print('')\n",
    "print('Score: ', accuracy_score(y_test, y_pred))"
   ]
  },
  {
   "cell_type": "code",
   "execution_count": null,
   "id": "6ac98a38",
   "metadata": {},
   "outputs": [],
   "source": [
    "cf_matrix_a = confusion_matrix(y_pred,y_test)"
   ]
  },
  {
   "cell_type": "code",
   "execution_count": null,
   "id": "f94d0f3c",
   "metadata": {},
   "outputs": [
    {
     "data": {
      "image/png": "[encoded data removed]",
      "text/plain": [
       "<Figure size 576x432 with 1 Axes>"
      ]
     },
     "metadata": {
      "needs_background": "light"
     },
     "output_type": "display_data"
    }
   ],
   "source": [
    "make_confusion_matrix(cf_matrix_a, categories= ['No_Apto', 'Apto'] , figsize=(8,6), cbar=False)"
   ]
  },
  {
   "cell_type": "code",
   "execution_count": null,
   "id": "0e438797",
   "metadata": {},
   "outputs": [],
   "source": [
    "y_pred_proba = modelo.predict_proba(X_test_best)"
   ]
  },
  {
   "cell_type": "code",
   "execution_count": null,
   "id": "ba27e751",
   "metadata": {},
   "outputs": [],
   "source": [
    "# Nos quedamos con la columna que tiene la probabilidad positiva de cada caso\n",
    "y_probs_logit_left = y_pred_proba[:,1]\n",
    "\n",
    "#Cambiamos el umbral\n",
    "y_pred_logit = (y_probs_logit_left > 0.3).astype(int)\n",
    "cf_matrix_a_logit = confusion_matrix(y_pred_logit,y_test)"
   ]
  },
  {
   "cell_type": "code",
   "execution_count": null,
   "id": "7cab321a",
   "metadata": {},
   "outputs": [
    {
     "name": "stdout",
     "output_type": "stream",
     "text": [
      "Matrix Original\n"
     ]
    },
    {
     "data": {
      "text/plain": [
       "array([[ 14,  11],\n",
       "       [ 48, 127]], dtype=int64)"
      ]
     },
     "metadata": {},
     "output_type": "display_data"
    },
    {
     "name": "stdout",
     "output_type": "stream",
     "text": [
      "\n",
      "Nueva Matrix\n"
     ]
    },
    {
     "data": {
      "text/plain": [
       "array([[  4,   2],\n",
       "       [ 58, 136]], dtype=int64)"
      ]
     },
     "metadata": {},
     "output_type": "display_data"
    }
   ],
   "source": [
    "print('Matrix Original')\n",
    "display(confusion_matrix(y_pred,y_test))\n",
    "print('')\n",
    "print('Nueva Matrix')\n",
    "display(confusion_matrix(y_pred_logit,y_test))"
   ]
  },
  {
   "cell_type": "code",
   "execution_count": null,
   "id": "3590d0f2",
   "metadata": {},
   "outputs": [
    {
     "data": {
      "image/png": "[encoded data removed]",
      "text/plain": [
       "<Figure size 576x432 with 1 Axes>"
      ]
     },
     "metadata": {
      "needs_background": "light"
     },
     "output_type": "display_data"
    }
   ],
   "source": [
    "make_confusion_matrix(cf_matrix_a_logit, categories= ['No_Apto','Apto'] , figsize=(8,6), cbar=False)"
   ]
  },
  {
   "cell_type": "code",
   "execution_count": null,
   "id": "28256801",
   "metadata": {},
   "outputs": [],
   "source": [
    "from sklearn.metrics import roc_curve\n",
    "fpr_log,tpr_log,thr_log = roc_curve(y_test, y_pred_proba[:,1])"
   ]
  },
  {
   "cell_type": "code",
   "execution_count": null,
   "id": "e59bcc91",
   "metadata": {},
   "outputs": [
    {
     "data": {
      "image/png": "[encoded data removed]",
      "text/plain": [
       "<Figure size 432x288 with 1 Axes>"
      ]
     },
     "metadata": {
      "needs_background": "light"
     },
     "output_type": "display_data"
    }
   ],
   "source": [
    "df = pd.DataFrame(dict(fpr=fpr_log, tpr=tpr_log, thr = thr_log))\n",
    "\n",
    "plt.axis([0, 1.01, 0, 1.01])\n",
    "plt.xlabel('1 - Specificty')\n",
    "plt.ylabel('TPR / Sensitivity')\n",
    "plt.title('ROC Curve')\n",
    "plt.plot(df['fpr'],df['tpr'])\n",
    "plt.plot(np.arange(0,1, step =0.01), np.arange(0,1, step =0.01))\n",
    "plt.show()"
   ]
  },
  {
   "cell_type": "code",
   "execution_count": null,
   "id": "1d7f0dec",
   "metadata": {},
   "outputs": [
    {
     "name": "stdout",
     "output_type": "stream",
     "text": [
      "AUC= 0.7193197755960729\n"
     ]
    }
   ],
   "source": [
    "from sklearn.metrics import auc\n",
    "print('AUC=', auc(fpr_log, tpr_log))"
   ]
  },
  {
   "cell_type": "markdown",
   "id": "1e620a20",
   "metadata": {},
   "source": [
    "Hacemos las predicciones sobre todas las esquinas"
   ]
  },
  {
   "cell_type": "code",
   "execution_count": null,
   "id": "5d7fbb46",
   "metadata": {},
   "outputs": [],
   "source": [
    "#Traemos los datos sobre las predicciones\n",
    "PV = pd.read_csv('DAM_to_predict_PV.csv')\n",
    "R = pd.read_csv('DAM_to_predict_R.csv')"
   ]
  },
  {
   "cell_type": "code",
   "execution_count": null,
   "id": "cbc5b3ec",
   "metadata": {},
   "outputs": [],
   "source": [
    "Prediciones_R = modelo.predict(R)\n",
    "Predicciones_PV = modelo.predict(PV)"
   ]
  },
  {
   "cell_type": "code",
   "execution_count": null,
   "id": "f5d791ef",
   "metadata": {},
   "outputs": [
    {
     "data": {
      "text/plain": [
       "array([1, 1, 1, ..., 0, 0, 1], dtype=int64)"
      ]
     },
     "execution_count": 46,
     "metadata": {},
     "output_type": "execute_result"
    }
   ],
   "source": [
    "Predicciones_PV"
   ]
  },
  {
   "cell_type": "code",
   "execution_count": null,
   "id": "119557fe",
   "metadata": {},
   "outputs": [
    {
     "data": {
      "text/plain": [
       "array([1, 1, 1, ..., 1, 1, 1], dtype=int64)"
      ]
     },
     "execution_count": 47,
     "metadata": {},
     "output_type": "execute_result"
    }
   ],
   "source": [
    "Prediciones_R"
   ]
  },
  {
   "cell_type": "code",
   "execution_count": null,
   "id": "2759e683",
   "metadata": {},
   "outputs": [],
   "source": [
    "PV['predicciones'] = Predicciones_PV\n",
    "R['predicciones'] = Prediciones_R"
   ]
  },
  {
   "cell_type": "code",
   "execution_count": null,
   "id": "2712e4e8",
   "metadata": {},
   "outputs": [
    {
     "data": {
      "text/plain": [
       "1    2284\n",
       "0      91\n",
       "Name: predicciones, dtype: int64"
      ]
     },
     "execution_count": 61,
     "metadata": {},
     "output_type": "execute_result"
    }
   ],
   "source": [
    "PV['predicciones'].value_counts()"
   ]
  }
 ],
 "metadata": {
  "kernelspec": {
   "display_name": "Python 3.8.12 ('dhdsblend2021')",
   "language": "python",
   "name": "python3"
  },
  "language_info": {
   "codemirror_mode": {
    "name": "ipython",
    "version": 3
   },
   "file_extension": ".py",
   "mimetype": "text/x-python",
   "name": "python",
   "nbconvert_exporter": "python",
   "pygments_lexer": "ipython3",
   "version": "3.8.12"
  },
  "vscode": {
   "interpreter": {
    "hash": "5cac649d55c518045b8abef44fc10842f54363cf20fcd57b8c5b62a0494a5550"
   }
  }
 },
 "nbformat": 4,
 "nbformat_minor": 5
}
