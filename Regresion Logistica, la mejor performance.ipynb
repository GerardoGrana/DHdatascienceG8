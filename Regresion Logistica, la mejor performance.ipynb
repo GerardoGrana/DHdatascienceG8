{
 "cells": [
  {
   "cell_type": "code",
   "execution_count": 2,
   "id": "9464366e",
   "metadata": {},
   "outputs": [],
   "source": [
    "#Librerias\n",
    "import numpy as np\n",
    "import pandas as pd\n",
    "import matplotlib.pyplot as plt\n",
    "from sklearn.model_selection import RepeatedStratifiedKFold, StratifiedKFold\n",
    "from sklearn.model_selection import GridSearchCV\n",
    "from sklearn.linear_model import LogisticRegression\n",
    "from sklearn.model_selection import train_test_split, KFold, cross_val_score\n",
    "from sklearn.preprocessing import MinMaxScaler\n",
    "from sklearn.metrics import accuracy_score, confusion_matrix\n",
    "import seaborn as sns"
   ]
  },
  {
   "cell_type": "code",
   "execution_count": 6,
   "id": "dc13f62b",
   "metadata": {},
   "outputs": [],
   "source": [
    "#Hagamos regresion logística con el data set FINAL\n",
    "\n",
    "#Levantamos el df_final_alternativo_2\n",
    "data = pd.read_csv('PVR_train_test.csv')\n",
    "\n",
    "#Generamos el X y el target\n",
    "X= data.drop(['Target_NoApto'], axis = 1)\n",
    "y= data['Target_NoApto']\n",
    "\n",
    "#Divimos en train y en test\n",
    "X_train, X_test, y_train, y_test = train_test_split(X,y, stratify=y, test_size= 0.25)\n",
    "\n",
    "#Estandarizamos con MinMax\n",
    "scaler = MinMaxScaler()\n",
    "\n",
    "X_train_std = scaler.fit_transform(X_train)\n",
    "X_test_std = scaler.fit_transform(X_test)"
   ]
  },
  {
   "cell_type": "code",
   "execution_count": 7,
   "id": "84bb0f8a",
   "metadata": {},
   "outputs": [
    {
     "name": "stdout",
     "output_type": "stream",
     "text": [
      "Best: 0.754211 using {'C': 0.1, 'penalty': 'l2', 'solver': 'lbfgs'}\n",
      "0.737545 (0.067766) with: {'C': 100, 'penalty': 'l2', 'solver': 'newton-cg'}\n",
      "0.741416 (0.068847) with: {'C': 100, 'penalty': 'l2', 'solver': 'lbfgs'}\n",
      "0.737007 (0.067857) with: {'C': 100, 'penalty': 'l2', 'solver': 'liblinear'}\n",
      "0.738100 (0.067042) with: {'C': 10, 'penalty': 'l2', 'solver': 'newton-cg'}\n",
      "0.737563 (0.066844) with: {'C': 10, 'penalty': 'l2', 'solver': 'lbfgs'}\n",
      "0.736452 (0.068172) with: {'C': 10, 'penalty': 'l2', 'solver': 'liblinear'}\n",
      "0.741398 (0.064951) with: {'C': 1.0, 'penalty': 'l2', 'solver': 'newton-cg'}\n",
      "0.743638 (0.063376) with: {'C': 1.0, 'penalty': 'l2', 'solver': 'lbfgs'}\n",
      "0.744211 (0.062088) with: {'C': 1.0, 'penalty': 'l2', 'solver': 'liblinear'}\n",
      "0.746953 (0.054422) with: {'C': 0.1, 'penalty': 'l2', 'solver': 'newton-cg'}\n",
      "0.754211 (0.051691) with: {'C': 0.1, 'penalty': 'l2', 'solver': 'lbfgs'}\n",
      "0.739857 (0.055373) with: {'C': 0.1, 'penalty': 'l2', 'solver': 'liblinear'}\n",
      "0.717061 (0.053081) with: {'C': 0.01, 'penalty': 'l2', 'solver': 'newton-cg'}\n",
      "0.718172 (0.052711) with: {'C': 0.01, 'penalty': 'l2', 'solver': 'lbfgs'}\n",
      "0.695556 (0.038592) with: {'C': 0.01, 'penalty': 'l2', 'solver': 'liblinear'}\n"
     ]
    },
    {
     "name": "stderr",
     "output_type": "stream",
     "text": [
      "C:\\Users\\DataScience\\anaconda3\\envs\\dhdsblend2021\\lib\\site-packages\\sklearn\\linear_model\\_logistic.py:762: ConvergenceWarning: lbfgs failed to converge (status=1):\n",
      "STOP: TOTAL NO. of ITERATIONS REACHED LIMIT.\n",
      "\n",
      "Increase the number of iterations (max_iter) or scale the data as shown in:\n",
      "    https://scikit-learn.org/stable/modules/preprocessing.html\n",
      "Please also refer to the documentation for alternative solver options:\n",
      "    https://scikit-learn.org/stable/modules/linear_model.html#logistic-regression\n",
      "  n_iter_i = _check_optimize_result(\n"
     ]
    }
   ],
   "source": [
    "# Buscamos los mejores hiperparametros\n",
    "\n",
    "modelo = LogisticRegression()\n",
    "solvers = ['newton-cg', 'lbfgs', 'liblinear']\n",
    "penalty = ['l2']\n",
    "c_values = [100, 10, 1.0, 0.1, 0.01]\n",
    "\n",
    "# Defnimos una grilla con GridSearch\n",
    "\n",
    "grid = dict(solver=solvers,penalty=penalty,C=c_values)\n",
    "cv = RepeatedStratifiedKFold(n_splits=20, n_repeats=3, random_state=999)\n",
    "grid_search = GridSearchCV(estimator=modelo, param_grid=grid, n_jobs=-1, cv=cv, scoring='accuracy',error_score=0)\n",
    "grid_result = grid_search.fit(X_train, y_train)\n",
    "\n",
    "# Vemos los resultados\n",
    "\n",
    "print(\"Best: %f using %s\" % (grid_result.best_score_, grid_result.best_params_))\n",
    "means = grid_result.cv_results_['mean_test_score']\n",
    "stds = grid_result.cv_results_['std_test_score']\n",
    "params = grid_result.cv_results_['params']\n",
    "for mean, stdev, param in zip(means, stds, params):\n",
    "    print(\"%f (%f) with: %r\" % (mean, stdev, param))"
   ]
  },
  {
   "cell_type": "code",
   "execution_count": 14,
   "id": "b3d378e2",
   "metadata": {},
   "outputs": [],
   "source": [
    "def make_confusion_matrix(cf,\n",
    "                          group_names=None,\n",
    "                          categories='auto',\n",
    "                          count=True,\n",
    "                          percent=True,\n",
    "                          cbar=True,\n",
    "                          xyticks=True,\n",
    "                          xyplotlabels=True,\n",
    "                          sum_stats=True,\n",
    "                          figsize=None,\n",
    "                          cmap='Oranges',\n",
    "                          title=None):\n",
    "    '''\n",
    "    This function will make a pretty plot of an sklearn Confusion Matrix cm using a Seaborn heatmap visualization.\n",
    "    Arguments\n",
    "    ---------\n",
    "    cf:            confusion matrix to be passed in\n",
    "    group_names:   List of strings that represent the labels row by row to be shown in each square.\n",
    "    categories:    List of strings containing the categories to be displayed on the x,y axis. Default is 'auto'\n",
    "    count:         If True, show the raw number in the confusion matrix. Default is True.\n",
    "    normalize:     If True, show the proportions for each category. Default is True.\n",
    "    cbar:          If True, show the color bar. The cbar values are based off the values in the confusion matrix.\n",
    "                   Default is True.\n",
    "    xyticks:       If True, show x and y ticks. Default is True.\n",
    "    xyplotlabels:  If True, show 'True Label' and 'Predicted Label' on the figure. Default is True.\n",
    "    sum_stats:     If True, display summary statistics below the figure. Default is True.\n",
    "    figsize:       Tuple representing the figure size. Default will be the matplotlib rcParams value.\n",
    "    cmap:          Colormap of the values displayed from matplotlib.pyplot.cm. Default is 'Blues'\n",
    "                   See http://matplotlib.org/examples/color/colormaps_reference.html\n",
    "                   \n",
    "    title:         Title for the heatmap. Default is None.\n",
    "    '''\n",
    "\n",
    "\n",
    "    # CODE TO GENERATE TEXT INSIDE EACH SQUARE\n",
    "    blanks = ['' for i in range(cf.size)]\n",
    "\n",
    "    if group_names and len(group_names)==cf.size:\n",
    "        group_labels = [\"{}\\n\".format(value) for value in group_names]\n",
    "    else:\n",
    "        group_labels = blanks\n",
    "\n",
    "    if count:\n",
    "        group_counts = [\"{0:0.0f}\\n\".format(value) for value in cf.flatten()]\n",
    "    else:\n",
    "        group_counts = blanks\n",
    "\n",
    "    if percent:\n",
    "        group_percentages = [\"{0:.2%}\".format(value) for value in cf.flatten()/np.sum(cf)]\n",
    "    else:\n",
    "        group_percentages = blanks\n",
    "\n",
    "    box_labels = [f\"{v1}{v2}{v3}\".strip() for v1, v2, v3 in zip(group_labels,group_counts,group_percentages)]\n",
    "    box_labels = np.asarray(box_labels).reshape(cf.shape[0],cf.shape[1])\n",
    "\n",
    "\n",
    "    # CODE TO GENERATE SUMMARY STATISTICS & TEXT FOR SUMMARY STATS\n",
    "    if sum_stats:\n",
    "        #Accuracy is sum of diagonal divided by total observations\n",
    "        accuracy  = np.trace(cf) / float(np.sum(cf))\n",
    "\n",
    "        #if it is a binary confusion matrix, show some more stats\n",
    "        if len(cf)==2:\n",
    "            #Metrics for Binary Confusion Matrices\n",
    "            precision = cf[1,1] / sum(cf[:,1])\n",
    "            recall    = cf[1,1] / sum(cf[1,:])\n",
    "            f1_score  = 2*precision*recall / (precision + recall)\n",
    "            stats_text = \"\\n\\nAccuracy={:0.3f}\\nPrecision={:0.3f}\\nRecall={:0.3f}\\nF1 Score={:0.3f}\".format(\n",
    "                accuracy,precision,recall,f1_score)\n",
    "        else:\n",
    "            stats_text = \"\\n\\nAccuracy={:0.3f}\".format(accuracy)\n",
    "    else:\n",
    "        stats_text = \"\"\n",
    "\n",
    "\n",
    "    # SET FIGURE PARAMETERS ACCORDING TO OTHER ARGUMENTS\n",
    "    if figsize==None:\n",
    "        #Get default figure size if not set\n",
    "        figsize = plt.rcParams.get('figure.figsize')\n",
    "\n",
    "    if xyticks==False:\n",
    "        #Do not show categories if xyticks is False\n",
    "        categories=False\n",
    "\n",
    "\n",
    "    # MAKE THE HEATMAP VISUALIZATION\n",
    "    plt.figure(figsize=figsize)\n",
    "    sns.heatmap(cf,annot=box_labels,fmt=\"\",cmap=cmap,cbar=cbar,xticklabels=categories,yticklabels=categories)\n",
    "\n",
    "    if xyplotlabels:\n",
    "        plt.ylabel('True label')\n",
    "        plt.xlabel('Predicted label' + stats_text)\n",
    "    else:\n",
    "        plt.xlabel(stats_text)\n",
    "    \n",
    "    if title:\n",
    "        plt.title(title)"
   ]
  },
  {
   "cell_type": "code",
   "execution_count": 9,
   "id": "2559c7f1",
   "metadata": {},
   "outputs": [
    {
     "data": {
      "text/plain": [
       "LogisticRegression(C=0.1)"
      ]
     },
     "execution_count": 9,
     "metadata": {},
     "output_type": "execute_result"
    }
   ],
   "source": [
    "#Instanciamos el modelo y los ajustamos a los datos de entrenamiento\n",
    "modelo = LogisticRegression(C=0.1, penalty = 'l2', solver= 'lbfgs')\n",
    "modelo.fit(X_train_std, y_train)"
   ]
  },
  {
   "cell_type": "code",
   "execution_count": 10,
   "id": "7acd36c3",
   "metadata": {},
   "outputs": [
    {
     "name": "stdout",
     "output_type": "stream",
     "text": [
      "[1 1 1 1 1 1 1 1 1 1 1 1 1 0 1 1 1 1 0 1 1 1 1 1 1 1 1 1 1 1 1 1 1 1 1 1 1\n",
      " 0 1 1 1 1 1 1 1 1 1 1 1 1 1 1 1 1 1 1 1 1 1 1 1 1 1 1 1 0 1 1 1 1 1 1 1 1\n",
      " 1 1 1 1 1 1 1 1 1 0 1 1 1 1 1 1 1 1 1 1 1 1 1 1 1 1 1 1 1 1 1 1 1 1 1 1 1\n",
      " 1 1 1 1 1 1 1 1 1 1 1 1 1 1 1 1 1 1 1 1 1 1 1 1 1 0 1 1 1 1 1 1 1 1 1 1 1\n",
      " 1 1 1 1 1 1 1 1 1 1 1 1 1 1 0 1 1 1 0 1 1 1 1 1 1 1 1 1 1 1 1 0 1 1 1 1 1\n",
      " 1 1 1 1 1 1 1 1 1 1 1 1 1 0 1 1 1]\n",
      "\n",
      "Score:  0.7326732673267327\n"
     ]
    }
   ],
   "source": [
    "#Para UN solo fold\n",
    "#Hacemos las predicciones necesarias\n",
    "y_pred = modelo.predict(X_test_std)\n",
    "print(y_pred)\n",
    "#Evaluamos el score\n",
    "print('')\n",
    "print('Score: ', accuracy_score(y_test, y_pred))"
   ]
  },
  {
   "cell_type": "code",
   "execution_count": 11,
   "id": "76d1d596",
   "metadata": {},
   "outputs": [
    {
     "name": "stderr",
     "output_type": "stream",
     "text": [
      "C:\\Users\\DataScience\\anaconda3\\envs\\dhdsblend2021\\lib\\site-packages\\sklearn\\linear_model\\_logistic.py:762: ConvergenceWarning: lbfgs failed to converge (status=1):\n",
      "STOP: TOTAL NO. of ITERATIONS REACHED LIMIT.\n",
      "\n",
      "Increase the number of iterations (max_iter) or scale the data as shown in:\n",
      "    https://scikit-learn.org/stable/modules/preprocessing.html\n",
      "Please also refer to the documentation for alternative solver options:\n",
      "    https://scikit-learn.org/stable/modules/linear_model.html#logistic-regression\n",
      "  n_iter_i = _check_optimize_result(\n",
      "C:\\Users\\DataScience\\anaconda3\\envs\\dhdsblend2021\\lib\\site-packages\\sklearn\\linear_model\\_logistic.py:762: ConvergenceWarning: lbfgs failed to converge (status=1):\n",
      "STOP: TOTAL NO. of ITERATIONS REACHED LIMIT.\n",
      "\n",
      "Increase the number of iterations (max_iter) or scale the data as shown in:\n",
      "    https://scikit-learn.org/stable/modules/preprocessing.html\n",
      "Please also refer to the documentation for alternative solver options:\n",
      "    https://scikit-learn.org/stable/modules/linear_model.html#logistic-regression\n",
      "  n_iter_i = _check_optimize_result(\n",
      "C:\\Users\\DataScience\\anaconda3\\envs\\dhdsblend2021\\lib\\site-packages\\sklearn\\linear_model\\_logistic.py:762: ConvergenceWarning: lbfgs failed to converge (status=1):\n",
      "STOP: TOTAL NO. of ITERATIONS REACHED LIMIT.\n",
      "\n",
      "Increase the number of iterations (max_iter) or scale the data as shown in:\n",
      "    https://scikit-learn.org/stable/modules/preprocessing.html\n",
      "Please also refer to the documentation for alternative solver options:\n",
      "    https://scikit-learn.org/stable/modules/linear_model.html#logistic-regression\n",
      "  n_iter_i = _check_optimize_result(\n",
      "C:\\Users\\DataScience\\anaconda3\\envs\\dhdsblend2021\\lib\\site-packages\\sklearn\\linear_model\\_logistic.py:762: ConvergenceWarning: lbfgs failed to converge (status=1):\n",
      "STOP: TOTAL NO. of ITERATIONS REACHED LIMIT.\n",
      "\n",
      "Increase the number of iterations (max_iter) or scale the data as shown in:\n",
      "    https://scikit-learn.org/stable/modules/preprocessing.html\n",
      "Please also refer to the documentation for alternative solver options:\n",
      "    https://scikit-learn.org/stable/modules/linear_model.html#logistic-regression\n",
      "  n_iter_i = _check_optimize_result(\n",
      "C:\\Users\\DataScience\\anaconda3\\envs\\dhdsblend2021\\lib\\site-packages\\sklearn\\linear_model\\_logistic.py:762: ConvergenceWarning: lbfgs failed to converge (status=1):\n",
      "STOP: TOTAL NO. of ITERATIONS REACHED LIMIT.\n",
      "\n",
      "Increase the number of iterations (max_iter) or scale the data as shown in:\n",
      "    https://scikit-learn.org/stable/modules/preprocessing.html\n",
      "Please also refer to the documentation for alternative solver options:\n",
      "    https://scikit-learn.org/stable/modules/linear_model.html#logistic-regression\n",
      "  n_iter_i = _check_optimize_result(\n",
      "C:\\Users\\DataScience\\anaconda3\\envs\\dhdsblend2021\\lib\\site-packages\\sklearn\\linear_model\\_logistic.py:762: ConvergenceWarning: lbfgs failed to converge (status=1):\n",
      "STOP: TOTAL NO. of ITERATIONS REACHED LIMIT.\n",
      "\n",
      "Increase the number of iterations (max_iter) or scale the data as shown in:\n",
      "    https://scikit-learn.org/stable/modules/preprocessing.html\n",
      "Please also refer to the documentation for alternative solver options:\n",
      "    https://scikit-learn.org/stable/modules/linear_model.html#logistic-regression\n",
      "  n_iter_i = _check_optimize_result(\n"
     ]
    },
    {
     "name": "stdout",
     "output_type": "stream",
     "text": [
      "Los scores obtenidos son [0.86885246 0.70491803 0.72131148 0.76666667 0.73333333 0.73333333\n",
      " 0.75       0.75       0.75       0.73333333]\n",
      "El promedio es :0.7511748633879781\n"
     ]
    },
    {
     "name": "stderr",
     "output_type": "stream",
     "text": [
      "C:\\Users\\DataScience\\anaconda3\\envs\\dhdsblend2021\\lib\\site-packages\\sklearn\\linear_model\\_logistic.py:762: ConvergenceWarning: lbfgs failed to converge (status=1):\n",
      "STOP: TOTAL NO. of ITERATIONS REACHED LIMIT.\n",
      "\n",
      "Increase the number of iterations (max_iter) or scale the data as shown in:\n",
      "    https://scikit-learn.org/stable/modules/preprocessing.html\n",
      "Please also refer to the documentation for alternative solver options:\n",
      "    https://scikit-learn.org/stable/modules/linear_model.html#logistic-regression\n",
      "  n_iter_i = _check_optimize_result(\n",
      "C:\\Users\\DataScience\\anaconda3\\envs\\dhdsblend2021\\lib\\site-packages\\sklearn\\linear_model\\_logistic.py:762: ConvergenceWarning: lbfgs failed to converge (status=1):\n",
      "STOP: TOTAL NO. of ITERATIONS REACHED LIMIT.\n",
      "\n",
      "Increase the number of iterations (max_iter) or scale the data as shown in:\n",
      "    https://scikit-learn.org/stable/modules/preprocessing.html\n",
      "Please also refer to the documentation for alternative solver options:\n",
      "    https://scikit-learn.org/stable/modules/linear_model.html#logistic-regression\n",
      "  n_iter_i = _check_optimize_result(\n",
      "C:\\Users\\DataScience\\anaconda3\\envs\\dhdsblend2021\\lib\\site-packages\\sklearn\\linear_model\\_logistic.py:762: ConvergenceWarning: lbfgs failed to converge (status=1):\n",
      "STOP: TOTAL NO. of ITERATIONS REACHED LIMIT.\n",
      "\n",
      "Increase the number of iterations (max_iter) or scale the data as shown in:\n",
      "    https://scikit-learn.org/stable/modules/preprocessing.html\n",
      "Please also refer to the documentation for alternative solver options:\n",
      "    https://scikit-learn.org/stable/modules/linear_model.html#logistic-regression\n",
      "  n_iter_i = _check_optimize_result(\n",
      "C:\\Users\\DataScience\\anaconda3\\envs\\dhdsblend2021\\lib\\site-packages\\sklearn\\linear_model\\_logistic.py:762: ConvergenceWarning: lbfgs failed to converge (status=1):\n",
      "STOP: TOTAL NO. of ITERATIONS REACHED LIMIT.\n",
      "\n",
      "Increase the number of iterations (max_iter) or scale the data as shown in:\n",
      "    https://scikit-learn.org/stable/modules/preprocessing.html\n",
      "Please also refer to the documentation for alternative solver options:\n",
      "    https://scikit-learn.org/stable/modules/linear_model.html#logistic-regression\n",
      "  n_iter_i = _check_optimize_result(\n"
     ]
    }
   ],
   "source": [
    "#Generalizamos para 20 folds\n",
    "stratifiedkf=StratifiedKFold(n_splits=10)\n",
    "score=cross_val_score(modelo,X_train,y_train,cv=stratifiedkf)\n",
    "print(\"Los scores obtenidos son {}\".format(score))\n",
    "print(\"El promedio es :{}\".format(score.mean()))"
   ]
  },
  {
   "cell_type": "code",
   "execution_count": 12,
   "id": "6ac98a38",
   "metadata": {},
   "outputs": [],
   "source": [
    "cf_matrix_a = confusion_matrix(y_pred,y_test)"
   ]
  },
  {
   "cell_type": "code",
   "execution_count": 15,
   "id": "f94d0f3c",
   "metadata": {},
   "outputs": [
    {
     "data": {
      "image/png": "[encoded data removed]",
      "text/plain": [
       "<Figure size 576x432 with 1 Axes>"
      ]
     },
     "metadata": {
      "needs_background": "light"
     },
     "output_type": "display_data"
    }
   ],
   "source": [
    "make_confusion_matrix(cf_matrix_a, categories= ['No_Apto', 'Apto'] , figsize=(8,6), cbar=False)"
   ]
  },
  {
   "cell_type": "code",
   "execution_count": 16,
   "id": "0e438797",
   "metadata": {},
   "outputs": [],
   "source": [
    "y_pred_proba = modelo.predict_proba(X_test_std)"
   ]
  },
  {
   "cell_type": "code",
   "execution_count": 17,
   "id": "3fc1437d",
   "metadata": {},
   "outputs": [
    {
     "data": {
      "text/plain": [
       "(202, 2)"
      ]
     },
     "metadata": {},
     "output_type": "display_data"
    },
    {
     "data": {
      "text/plain": [
       "array([[0.09870756, 0.90129244],\n",
       "       [0.29619321, 0.70380679],\n",
       "       [0.31224336, 0.68775664],\n",
       "       [0.36204678, 0.63795322],\n",
       "       [0.14907911, 0.85092089],\n",
       "       [0.38125675, 0.61874325],\n",
       "       [0.39787066, 0.60212934],\n",
       "       [0.17371151, 0.82628849],\n",
       "       [0.31224336, 0.68775664],\n",
       "       [0.17904298, 0.82095702],\n",
       "       [0.09323656, 0.90676344],\n",
       "       [0.22725985, 0.77274015],\n",
       "       [0.32715407, 0.67284593],\n",
       "       [0.50802043, 0.49197957],\n",
       "       [0.31364216, 0.68635784],\n",
       "       [0.16740701, 0.83259299],\n",
       "       [0.36759018, 0.63240982],\n",
       "       [0.09091551, 0.90908449],\n",
       "       [0.56915428, 0.43084572],\n",
       "       [0.40030167, 0.59969833],\n",
       "       [0.40030167, 0.59969833],\n",
       "       [0.41492416, 0.58507584],\n",
       "       [0.3027533 , 0.6972467 ],\n",
       "       [0.26368545, 0.73631455],\n",
       "       [0.25389857, 0.74610143],\n",
       "       [0.20637192, 0.79362808],\n",
       "       [0.38769665, 0.61230335],\n",
       "       [0.17904298, 0.82095702],\n",
       "       [0.25389857, 0.74610143],\n",
       "       [0.20107776, 0.79892224],\n",
       "       [0.27242938, 0.72757062],\n",
       "       [0.18108777, 0.81891223],\n",
       "       [0.20286133, 0.79713867],\n",
       "       [0.39182472, 0.60817528],\n",
       "       [0.49538301, 0.50461699],\n",
       "       [0.31112393, 0.68887607],\n",
       "       [0.25389857, 0.74610143],\n",
       "       [0.55812375, 0.44187625],\n",
       "       [0.28637682, 0.71362318],\n",
       "       [0.08658721, 0.91341279],\n",
       "       [0.18012501, 0.81987499],\n",
       "       [0.07458909, 0.92541091],\n",
       "       [0.30412838, 0.69587162],\n",
       "       [0.31224336, 0.68775664],\n",
       "       [0.10406425, 0.89593575],\n",
       "       [0.49251844, 0.50748156],\n",
       "       [0.40414718, 0.59585282],\n",
       "       [0.26368545, 0.73631455],\n",
       "       [0.28698741, 0.71301259],\n",
       "       [0.3255725 , 0.6744275 ],\n",
       "       [0.42333773, 0.57666227],\n",
       "       [0.3899679 , 0.6100321 ],\n",
       "       [0.40414718, 0.59585282],\n",
       "       [0.18267323, 0.81732677],\n",
       "       [0.11403496, 0.88596504],\n",
       "       [0.10406425, 0.89593575],\n",
       "       [0.22308617, 0.77691383],\n",
       "       [0.27958111, 0.72041889],\n",
       "       [0.22843096, 0.77156904],\n",
       "       [0.47013913, 0.52986087],\n",
       "       [0.15339989, 0.84660011],\n",
       "       [0.1751947 , 0.8248053 ],\n",
       "       [0.22229668, 0.77770332],\n",
       "       [0.21049121, 0.78950879],\n",
       "       [0.10925548, 0.89074452],\n",
       "       [0.58143638, 0.41856362],\n",
       "       [0.27242938, 0.72757062],\n",
       "       [0.42333773, 0.57666227],\n",
       "       [0.36099402, 0.63900598],\n",
       "       [0.30848025, 0.69151975],\n",
       "       [0.18414492, 0.81585508],\n",
       "       [0.20711992, 0.79288008],\n",
       "       [0.31806794, 0.68193206],\n",
       "       [0.39155261, 0.60844739],\n",
       "       [0.09091551, 0.90908449],\n",
       "       [0.38990087, 0.61009913],\n",
       "       [0.26059741, 0.73940259],\n",
       "       [0.11001632, 0.88998368],\n",
       "       [0.31806794, 0.68193206],\n",
       "       [0.3899679 , 0.6100321 ],\n",
       "       [0.40414718, 0.59585282],\n",
       "       [0.17856416, 0.82143584],\n",
       "       [0.17868926, 0.82131074],\n",
       "       [0.72212254, 0.27787746],\n",
       "       [0.17856416, 0.82143584],\n",
       "       [0.09870756, 0.90129244],\n",
       "       [0.11001632, 0.88998368],\n",
       "       [0.36099402, 0.63900598],\n",
       "       [0.10480805, 0.89519195],\n",
       "       [0.3027533 , 0.6972467 ],\n",
       "       [0.21861243, 0.78138757],\n",
       "       [0.47013913, 0.52986087],\n",
       "       [0.40393504, 0.59606496],\n",
       "       [0.37133741, 0.62866259],\n",
       "       [0.35361871, 0.64638129],\n",
       "       [0.31806794, 0.68193206],\n",
       "       [0.40366011, 0.59633989],\n",
       "       [0.31612485, 0.68387515],\n",
       "       [0.44130032, 0.55869968],\n",
       "       [0.10925548, 0.89074452],\n",
       "       [0.21679367, 0.78320633],\n",
       "       [0.20673529, 0.79326471],\n",
       "       [0.36752468, 0.63247532],\n",
       "       [0.39907802, 0.60092198],\n",
       "       [0.21098962, 0.78901038],\n",
       "       [0.44652836, 0.55347164],\n",
       "       [0.09249601, 0.90750399],\n",
       "       [0.18136439, 0.81863561],\n",
       "       [0.30848025, 0.69151975],\n",
       "       [0.18136439, 0.81863561],\n",
       "       [0.3027533 , 0.6972467 ],\n",
       "       [0.26368545, 0.73631455],\n",
       "       [0.36387112, 0.63612888],\n",
       "       [0.38724345, 0.61275655],\n",
       "       [0.39155261, 0.60844739],\n",
       "       [0.17371151, 0.82628849],\n",
       "       [0.1758179 , 0.8241821 ],\n",
       "       [0.48424589, 0.51575411],\n",
       "       [0.21098962, 0.78901038],\n",
       "       [0.26059741, 0.73940259],\n",
       "       [0.20385113, 0.79614887],\n",
       "       [0.17536957, 0.82463043],\n",
       "       [0.20286133, 0.79713867],\n",
       "       [0.30683904, 0.69316096],\n",
       "       [0.17856416, 0.82143584],\n",
       "       [0.09118538, 0.90881462],\n",
       "       [0.10538267, 0.89461733],\n",
       "       [0.45756762, 0.54243238],\n",
       "       [0.32715407, 0.67284593],\n",
       "       [0.208333  , 0.791667  ],\n",
       "       [0.39182472, 0.60817528],\n",
       "       [0.38125675, 0.61874325],\n",
       "       [0.45756762, 0.54243238],\n",
       "       [0.31364216, 0.68635784],\n",
       "       [0.21861243, 0.78138757],\n",
       "       [0.08658721, 0.91341279],\n",
       "       [0.55556502, 0.44443498],\n",
       "       [0.37133741, 0.62866259],\n",
       "       [0.24768136, 0.75231864],\n",
       "       [0.14694906, 0.85305094],\n",
       "       [0.44652836, 0.55347164],\n",
       "       [0.49251844, 0.50748156],\n",
       "       [0.20157836, 0.79842164],\n",
       "       [0.37133741, 0.62866259],\n",
       "       [0.10925548, 0.89074452],\n",
       "       [0.26368545, 0.73631455],\n",
       "       [0.17536957, 0.82463043],\n",
       "       [0.31806794, 0.68193206],\n",
       "       [0.46663488, 0.53336512],\n",
       "       [0.30848025, 0.69151975],\n",
       "       [0.11518437, 0.88481563],\n",
       "       [0.3899679 , 0.6100321 ],\n",
       "       [0.40393504, 0.59606496],\n",
       "       [0.3842921 , 0.6157079 ],\n",
       "       [0.22055352, 0.77944648],\n",
       "       [0.20157836, 0.79842164],\n",
       "       [0.40030167, 0.59969833],\n",
       "       [0.27653094, 0.72346906],\n",
       "       [0.09249601, 0.90750399],\n",
       "       [0.17371151, 0.82628849],\n",
       "       [0.38098738, 0.61901262],\n",
       "       [0.30848025, 0.69151975],\n",
       "       [0.59198885, 0.40801115],\n",
       "       [0.38098738, 0.61901262],\n",
       "       [0.10538267, 0.89461733],\n",
       "       [0.13153909, 0.86846091],\n",
       "       [0.63684441, 0.36315559],\n",
       "       [0.32715407, 0.67284593],\n",
       "       [0.26368545, 0.73631455],\n",
       "       [0.42209322, 0.57790678],\n",
       "       [0.21679367, 0.78320633],\n",
       "       [0.32206083, 0.67793917],\n",
       "       [0.33676901, 0.66323099],\n",
       "       [0.2206709 , 0.7793291 ],\n",
       "       [0.38125675, 0.61874325],\n",
       "       [0.18075299, 0.81924701],\n",
       "       [0.14907911, 0.85092089],\n",
       "       [0.47013913, 0.52986087],\n",
       "       [0.10406425, 0.89593575],\n",
       "       [0.55115765, 0.44884235],\n",
       "       [0.21178943, 0.78821057],\n",
       "       [0.31364216, 0.68635784],\n",
       "       [0.3255725 , 0.6744275 ],\n",
       "       [0.11518437, 0.88481563],\n",
       "       [0.31806794, 0.68193206],\n",
       "       [0.39155261, 0.60844739],\n",
       "       [0.33669745, 0.66330255],\n",
       "       [0.21861243, 0.78138757],\n",
       "       [0.42724688, 0.57275312],\n",
       "       [0.3027533 , 0.6972467 ],\n",
       "       [0.18075299, 0.81924701],\n",
       "       [0.31806794, 0.68193206],\n",
       "       [0.3899679 , 0.6100321 ],\n",
       "       [0.09323656, 0.90676344],\n",
       "       [0.15339989, 0.84660011],\n",
       "       [0.3027533 , 0.6972467 ],\n",
       "       [0.48424589, 0.51575411],\n",
       "       [0.32320116, 0.67679884],\n",
       "       [0.68090483, 0.31909517],\n",
       "       [0.18172846, 0.81827154],\n",
       "       [0.17868926, 0.82131074],\n",
       "       [0.21679367, 0.78320633]])"
      ]
     },
     "metadata": {},
     "output_type": "display_data"
    }
   ],
   "source": [
    "display(y_pred_proba.shape, y_pred_proba)"
   ]
  },
  {
   "cell_type": "code",
   "execution_count": 55,
   "id": "ba27e751",
   "metadata": {},
   "outputs": [],
   "source": [
    "# Nos quedamos con la columna que tiene la probabilidad positiva de cada caso\n",
    "y_probs_logit_left = y_pred_proba[:,1]\n",
    "\n",
    "#Cambiamos el umbral\n",
    "ya_pred_logit = (y_probs_logit_left > 0.25).astype(int)\n",
    "cf_matrix_a_logit = confusion_matrix(ya_pred_logit,ya_test)"
   ]
  },
  {
   "cell_type": "code",
   "execution_count": 56,
   "id": "7cab321a",
   "metadata": {},
   "outputs": [
    {
     "name": "stdout",
     "output_type": "stream",
     "text": [
      "Matrix Original\n"
     ]
    },
    {
     "data": {
      "text/plain": [
       "array([[136,  35],\n",
       "       [  8,  26]], dtype=int64)"
      ]
     },
     "metadata": {},
     "output_type": "display_data"
    },
    {
     "name": "stdout",
     "output_type": "stream",
     "text": [
      "\n",
      "Nueva Matrix\n"
     ]
    },
    {
     "data": {
      "text/plain": [
       "array([[95, 15],\n",
       "       [49, 46]], dtype=int64)"
      ]
     },
     "metadata": {},
     "output_type": "display_data"
    }
   ],
   "source": [
    "print('Matrix Original')\n",
    "display(confusion_matrix(ya_pred,ya_test))\n",
    "print('')\n",
    "print('Nueva Matrix')\n",
    "display(confusion_matrix(ya_pred_logit,ya_test))"
   ]
  },
  {
   "cell_type": "code",
   "execution_count": 57,
   "id": "3590d0f2",
   "metadata": {},
   "outputs": [
    {
     "data": {
      "image/png": "[encoded data removed]",
      "text/plain": [
       "<Figure size 576x432 with 1 Axes>"
      ]
     },
     "metadata": {
      "needs_background": "light"
     },
     "output_type": "display_data"
    }
   ],
   "source": [
    "make_confusion_matrix(cf_matrix_a_logit, categories= ['No_Apto','Apto'] , figsize=(8,6), cbar=False)"
   ]
  },
  {
   "cell_type": "code",
   "execution_count": 46,
   "id": "28256801",
   "metadata": {},
   "outputs": [],
   "source": [
    "from sklearn.metrics import roc_curve\n",
    "fpr_log,tpr_log,thr_log = roc_curve(ya_test, y_pred_proba[:,1])"
   ]
  },
  {
   "cell_type": "code",
   "execution_count": 47,
   "id": "e59bcc91",
   "metadata": {},
   "outputs": [
    {
     "data": {
      "image/png": "[encoded data removed]",
      "text/plain": [
       "<Figure size 432x288 with 1 Axes>"
      ]
     },
     "metadata": {
      "needs_background": "light"
     },
     "output_type": "display_data"
    }
   ],
   "source": [
    "df = pd.DataFrame(dict(fpr=fpr_log, tpr=tpr_log, thr = thr_log))\n",
    "\n",
    "plt.axis([0, 1.01, 0, 1.01])\n",
    "plt.xlabel('1 - Specificty')\n",
    "plt.ylabel('TPR / Sensitivity')\n",
    "plt.title('ROC Curve')\n",
    "plt.plot(df['fpr'],df['tpr'])\n",
    "plt.plot(np.arange(0,1, step =0.01), np.arange(0,1, step =0.01))\n",
    "plt.show()"
   ]
  },
  {
   "cell_type": "code",
   "execution_count": 48,
   "id": "1d7f0dec",
   "metadata": {},
   "outputs": [
    {
     "name": "stdout",
     "output_type": "stream",
     "text": [
      "AUC= 0.8052140255009107\n"
     ]
    }
   ],
   "source": [
    "from sklearn.metrics import auc\n",
    "print('AUC=', auc(fpr_log, tpr_log))"
   ]
  }
 ],
 "metadata": {
  "kernelspec": {
   "display_name": "Python 3 (ipykernel)",
   "language": "python",
   "name": "python3"
  },
  "language_info": {
   "codemirror_mode": {
    "name": "ipython",
    "version": 3
   },
   "file_extension": ".py",
   "mimetype": "text/x-python",
   "name": "python",
   "nbconvert_exporter": "python",
   "pygments_lexer": "ipython3",
   "version": "3.8.13"
  }
 },
 "nbformat": 4,
 "nbformat_minor": 5
}
